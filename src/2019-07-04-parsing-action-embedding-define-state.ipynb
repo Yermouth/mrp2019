{
 "cells": [
  {
   "cell_type": "code",
   "execution_count": 1,
   "metadata": {},
   "outputs": [],
   "source": [
    "try:\n",
    "    __IPYTHON__\n",
    "    USING_IPYTHON = True\n",
    "    %load_ext autoreload\n",
    "    %autoreload 2\n",
    "except NameError:\n",
    "    USING_IPYTHON = False"
   ]
  },
  {
   "cell_type": "markdown",
   "metadata": {},
   "source": [
    "#### Argparse"
   ]
  },
  {
   "cell_type": "code",
   "execution_count": 2,
   "metadata": {},
   "outputs": [],
   "source": [
    "import argparse\n",
    "ap = argparse.ArgumentParser()\n",
    "ap.add_argument('project_root', help='')\n",
    "ap.add_argument('--mrp-data-dir', default='data', help='')\n",
    "ap.add_argument('--graphviz-sub-dir', default='visualization/graphviz', help='')\n",
    "ap.add_argument('--train-sub-dir', default='training', help='')\n",
    "ap.add_argument('--companion-sub-dir', default='companion')\n",
    "ap.add_argument('--jamr-alignment-file', default='jamr.mrp')\n",
    "\n",
    "\n",
    "ap.add_argument('--mrp-file-extension', default='.mrp')\n",
    "ap.add_argument('--companion-file-extension', default='.conllu')\n",
    "ap.add_argument('--graphviz-file-template', default='http://localhost:8000/files/proj29_ds1/home/slai/mrp2019/visualization/graphviz/{}/{}.mrp/{}.png')\n",
    "arg_string = \"\"\"\n",
    "    /data/proj29_ds1/home/slai/mrp2019\n",
    "\"\"\"\n",
    "arguments = [arg for arg_line in arg_string.split(r'\\\\n') for arg in arg_line.split()]"
   ]
  },
  {
   "cell_type": "code",
   "execution_count": 3,
   "metadata": {},
   "outputs": [],
   "source": [
    "if USING_IPYTHON:\n",
    "    args = ap.parse_args(arguments)\n",
    "else:\n",
    "    args = ap.parse_args()"
   ]
  },
  {
   "cell_type": "code",
   "execution_count": 4,
   "metadata": {},
   "outputs": [
    {
     "data": {
      "text/plain": [
       "Namespace(companion_file_extension='.conllu', companion_sub_dir='companion', graphviz_file_template='http://localhost:8000/files/proj29_ds1/home/slai/mrp2019/visualization/graphviz/{}/{}.mrp/{}.png', graphviz_sub_dir='visualization/graphviz', jamr_alignment_file='jamr.mrp', mrp_data_dir='data', mrp_file_extension='.mrp', project_root='/data/proj29_ds1/home/slai/mrp2019', train_sub_dir='training')"
      ]
     },
     "execution_count": 4,
     "metadata": {},
     "output_type": "execute_result"
    }
   ],
   "source": [
    "args"
   ]
  },
  {
   "cell_type": "markdown",
   "metadata": {},
   "source": [
    "#### Library imports"
   ]
  },
  {
   "cell_type": "code",
   "execution_count": 6,
   "metadata": {},
   "outputs": [],
   "source": [
    "import json\n",
    "import logging\n",
    "import os\n",
    "import pprint\n",
    "import string\n",
    "from collections import Counter, defaultdict, deque\n",
    "\n",
    "import matplotlib.pyplot as plt\n",
    "import networkx as nx\n",
    "import numpy as np\n",
    "import plot_util\n",
    "from preprocessing import CompanionParseDataset, MrpDataset, JamrAlignmentDataset\n",
    "from action_state import mrp_json2parser_states\n",
    "                           \n",
    "from tqdm import tqdm"
   ]
  },
  {
   "cell_type": "markdown",
   "metadata": {},
   "source": [
    "#### ipython notebook specific imports"
   ]
  },
  {
   "cell_type": "code",
   "execution_count": 7,
   "metadata": {},
   "outputs": [],
   "source": [
    "if USING_IPYTHON:\n",
    "    # matplotlib config\n",
    "    %matplotlib inline"
   ]
  },
  {
   "cell_type": "code",
   "execution_count": 8,
   "metadata": {},
   "outputs": [],
   "source": [
    "sh = logging.StreamHandler()\n",
    "formatter = logging.Formatter('%(name)s - %(levelname)s - %(message)s')\n",
    "sh.setFormatter(formatter)\n",
    "logging.basicConfig(level=logging.INFO, handlers=[sh])\n",
    "logger = logging.getLogger(__name__)  # pylint: disable=invalid-name\n",
    "logger.setLevel(logging.INFO)"
   ]
  },
  {
   "cell_type": "markdown",
   "metadata": {},
   "source": [
    "### Constants"
   ]
  },
  {
   "cell_type": "code",
   "execution_count": 9,
   "metadata": {},
   "outputs": [],
   "source": [
    "UNKWOWN = 'UNKWOWN'"
   ]
  },
  {
   "cell_type": "markdown",
   "metadata": {},
   "source": [
    "### Load data"
   ]
  },
  {
   "cell_type": "code",
   "execution_count": 10,
   "metadata": {},
   "outputs": [],
   "source": [
    "train_dir = os.path.join(args.project_root, args.mrp_data_dir, args.train_sub_dir)"
   ]
  },
  {
   "cell_type": "code",
   "execution_count": 11,
   "metadata": {},
   "outputs": [],
   "source": [
    "mrp_dataset = MrpDataset()"
   ]
  },
  {
   "cell_type": "code",
   "execution_count": 12,
   "metadata": {},
   "outputs": [
    {
     "name": "stderr",
     "output_type": "stream",
     "text": [
      "frameworks:   0%|          | 0/5 [00:00<?, ?it/s]\n",
      "dataset_name:   0%|          | 0/2 [00:00<?, ?it/s]\u001b[A\n",
      "dataset_name:  50%|█████     | 1/2 [00:00<00:00,  2.30it/s]\u001b[A\n",
      "frameworks:  20%|██        | 1/5 [00:00<00:03,  1.28it/s]s]\u001b[A\n",
      "dataset_name:   0%|          | 0/1 [00:00<?, ?it/s]\u001b[A\n",
      "frameworks:  40%|████      | 2/5 [00:04<00:05,  1.75s/it]t]\u001b[A\n",
      "dataset_name:   0%|          | 0/1 [00:00<?, ?it/s]\u001b[A\n",
      "frameworks:  60%|██████    | 3/5 [00:09<00:05,  2.75s/it]t]\u001b[A\n",
      "dataset_name:   0%|          | 0/1 [00:00<?, ?it/s]\u001b[A\n",
      "frameworks:  80%|████████  | 4/5 [00:14<00:03,  3.39s/it]t]\u001b[A\n",
      "dataset_name:   0%|          | 0/14 [00:00<?, ?it/s]\u001b[A\n",
      "dataset_name:  43%|████▎     | 6/14 [00:00<00:00, 19.38it/s]\u001b[A\n",
      "dataset_name:  57%|█████▋    | 8/14 [00:00<00:00, 15.18it/s]\u001b[A\n",
      "dataset_name:  71%|███████▏  | 10/14 [00:01<00:00,  5.80it/s]\u001b[A\n",
      "dataset_name:  79%|███████▊  | 11/14 [00:01<00:00,  5.17it/s]\u001b[A\n",
      "frameworks: 100%|██████████| 5/5 [00:16<00:00,  2.87s/it]t/s]\u001b[A\n"
     ]
    }
   ],
   "source": [
    "frameworks, framework2dataset2mrp_jsons = mrp_dataset.load_mrp_json_dir(\n",
    "    train_dir, args.mrp_file_extension)"
   ]
  },
  {
   "cell_type": "code",
   "execution_count": null,
   "metadata": {},
   "outputs": [],
   "source": []
  },
  {
   "cell_type": "markdown",
   "metadata": {},
   "source": [
    "### Data Preprocessing companion"
   ]
  },
  {
   "cell_type": "code",
   "execution_count": 13,
   "metadata": {},
   "outputs": [],
   "source": [
    "companion_dir = os.path.join(args.project_root, args.mrp_data_dir, args.companion_sub_dir)"
   ]
  },
  {
   "cell_type": "code",
   "execution_count": 14,
   "metadata": {},
   "outputs": [],
   "source": [
    "cparse_dataset = CompanionParseDataset()"
   ]
  },
  {
   "cell_type": "code",
   "execution_count": 15,
   "metadata": {},
   "outputs": [
    {
     "name": "stderr",
     "output_type": "stream",
     "text": [
      "preprocessing - INFO - framework amr found\n",
      "dataset: 100%|██████████| 13/13 [00:03<00:00,  3.47it/s]\n",
      "preprocessing - INFO - framework dm found\n",
      "dataset: 100%|██████████| 5/5 [00:01<00:00,  4.70it/s]\n",
      "preprocessing - INFO - framework ucca found\n",
      "dataset: 100%|██████████| 6/6 [00:00<00:00, 35.33it/s]\n"
     ]
    }
   ],
   "source": [
    "dataset2cid2parse = cparse_dataset.load_companion_parse_dir(companion_dir, args.companion_file_extension)"
   ]
  },
  {
   "cell_type": "code",
   "execution_count": 16,
   "metadata": {},
   "outputs": [
    {
     "data": {
      "text/plain": [
       "dict_keys(['amr-guidelines', 'bolt', 'cctv', 'dfa', 'dfb', 'fables', 'lorelei', 'mt09sdl', 'proxy', 'rte', 'wb', 'wiki', 'xinhua', 'wsj', 'ewt'])"
      ]
     },
     "execution_count": 16,
     "metadata": {},
     "output_type": "execute_result"
    }
   ],
   "source": [
    "dataset2cid2parse.keys()"
   ]
  },
  {
   "cell_type": "code",
   "execution_count": 17,
   "metadata": {
    "scrolled": false
   },
   "outputs": [
    {
     "data": {
      "text/plain": [
       "False"
      ]
     },
     "execution_count": 17,
     "metadata": {},
     "output_type": "execute_result"
    }
   ],
   "source": [
    "# Some data is missing\n",
    "'20003001' in dataset2cid2parse['wsj']"
   ]
  },
  {
   "cell_type": "markdown",
   "metadata": {},
   "source": [
    "### Load JAMR alignment data"
   ]
  },
  {
   "cell_type": "code",
   "execution_count": 18,
   "metadata": {},
   "outputs": [],
   "source": [
    "jalignment_dataset = JamrAlignmentDataset()"
   ]
  },
  {
   "cell_type": "code",
   "execution_count": 19,
   "metadata": {},
   "outputs": [],
   "source": [
    "cid2alignment = jalignment_dataset.load_jamr_alignment_file(os.path.join(\n",
    "    args.project_root,\n",
    "    args.mrp_data_dir,\n",
    "    args.companion_sub_dir,\n",
    "    args.jamr_alignment_file\n",
    "))"
   ]
  },
  {
   "cell_type": "markdown",
   "metadata": {},
   "source": [
    "### Define the state at each step"
   ]
  },
  {
   "cell_type": "code",
   "execution_count": 20,
   "metadata": {},
   "outputs": [
    {
     "name": "stderr",
     "output_type": "stream",
     "text": [
      "__main__ - INFO - ucca\n",
      "__main__ - INFO - ['wiki', 'ewt']\n",
      "__main__ - INFO - psd\n",
      "__main__ - INFO - ['wsj']\n",
      "__main__ - INFO - eds\n",
      "__main__ - INFO - ['wsj']\n",
      "__main__ - INFO - dm\n",
      "__main__ - INFO - ['wsj']\n",
      "__main__ - INFO - amr\n",
      "__main__ - INFO - ['xinhua', 'wsj', 'wiki', 'wb', 'rte', 'proxy', 'mt09sdl', 'lorelei', 'fables', 'dfb', 'dfa', 'cctv', 'bolt', 'amr-guidelines']\n"
     ]
    }
   ],
   "source": [
    "for framework in framework2dataset2mrp_jsons:\n",
    "    logger.info(framework)\n",
    "    logger.info(list(framework2dataset2mrp_jsons[framework].keys()))"
   ]
  },
  {
   "cell_type": "markdown",
   "metadata": {},
   "source": [
    "### Test module"
   ]
  },
  {
   "cell_type": "code",
   "execution_count": 169,
   "metadata": {},
   "outputs": [],
   "source": [
    "from action_state import mrp_json2parser_states"
   ]
  },
  {
   "cell_type": "code",
   "execution_count": 289,
   "metadata": {},
   "outputs": [
    {
     "data": {
      "text/plain": [
       "('dm', 'wsj')"
      ]
     },
     "execution_count": 289,
     "metadata": {},
     "output_type": "execute_result"
    }
   ],
   "source": [
    "framework, dataset = [\n",
    "    ('dm', 'wsj'),\n",
    "    ('psd', 'wsj'),\n",
    "    ('eds', 'wsj'),\n",
    "    ('ucca', 'wiki'),\n",
    "    ('amr', 'wsj'),\n",
    "    ('amr', 'wiki'),\n",
    "][0]\n",
    "\n",
    "mrp_jsons = framework2dataset2mrp_jsons[framework][dataset]\n",
    "framework, dataset"
   ]
  },
  {
   "cell_type": "code",
   "execution_count": 290,
   "metadata": {},
   "outputs": [],
   "source": [
    "mrp_json = mrp_jsons[9]"
   ]
  },
  {
   "cell_type": "code",
   "execution_count": 291,
   "metadata": {},
   "outputs": [],
   "source": [
    "alignment = {}\n",
    "if framework == 'amr':\n",
    "    cid = mrp_json.get('id', '')\n",
    "    alignment = cid2alignment[cid]"
   ]
  },
  {
   "cell_type": "code",
   "execution_count": 292,
   "metadata": {},
   "outputs": [],
   "source": [
    "# mrp_json"
   ]
  },
  {
   "cell_type": "code",
   "execution_count": 293,
   "metadata": {},
   "outputs": [
    {
     "name": "stderr",
     "output_type": "stream",
     "text": [
      "__main__ - INFO - http://localhost:8000/files/proj29_ds1/home/slai/mrp2019/visualization/graphviz/dm/wsj.mrp/20003010.png\n"
     ]
    }
   ],
   "source": [
    "logger.info(args.graphviz_file_template.format(\n",
    "    framework, dataset, mrp_json.get('id')))"
   ]
  },
  {
   "cell_type": "code",
   "execution_count": 294,
   "metadata": {},
   "outputs": [],
   "source": [
    "parser_states, meta_data = mrp_json2parser_states(mrp_json, framework, alignment)"
   ]
  },
  {
   "cell_type": "code",
   "execution_count": null,
   "metadata": {},
   "outputs": [],
   "source": []
  },
  {
   "cell_type": "code",
   "execution_count": 295,
   "metadata": {},
   "outputs": [],
   "source": [
    "(node_id2node, edge_id2edge) = meta_data"
   ]
  },
  {
   "cell_type": "code",
   "execution_count": 296,
   "metadata": {},
   "outputs": [
    {
     "data": {
      "text/plain": [
       "' a team '"
      ]
     },
     "execution_count": 296,
     "metadata": {},
     "output_type": "execute_result"
    }
   ],
   "source": [
    "mrp_json['input'][15:23]"
   ]
  },
  {
   "cell_type": "code",
   "execution_count": 297,
   "metadata": {},
   "outputs": [
    {
     "data": {
      "text/plain": [
       "{'id': '20003010',\n",
       " 'flavor': 0,\n",
       " 'framework': 'dm',\n",
       " 'version': 0.9,\n",
       " 'time': '2019-04-10 (20:16)',\n",
       " 'input': 'Dr. Talcott led a team of researchers from the National Cancer Institute and the medical schools of Harvard University and Boston University.',\n",
       " 'tops': [2],\n",
       " 'nodes': [{'id': 0,\n",
       "   'label': 'Dr.',\n",
       "   'properties': ['pos', 'frame'],\n",
       "   'values': ['NNP', 'n:x'],\n",
       "   'anchors': [{'from': 0, 'to': 3}]},\n",
       "  {'id': 1,\n",
       "   'label': 'Talcott',\n",
       "   'properties': ['pos', 'frame'],\n",
       "   'values': ['NNP', 'named:x-c'],\n",
       "   'anchors': [{'from': 4, 'to': 11}]},\n",
       "  {'id': 2,\n",
       "   'label': 'lead',\n",
       "   'properties': ['pos', 'frame'],\n",
       "   'values': ['VBD', 'v:e-i-p'],\n",
       "   'anchors': [{'from': 12, 'to': 15}]},\n",
       "  {'id': 3,\n",
       "   'label': 'a',\n",
       "   'properties': ['pos', 'frame'],\n",
       "   'values': ['DT', 'q:i-h-h'],\n",
       "   'anchors': [{'from': 16, 'to': 17}]},\n",
       "  {'id': 4,\n",
       "   'label': 'team',\n",
       "   'properties': ['pos', 'frame'],\n",
       "   'values': ['NN', 'n_of:x-i'],\n",
       "   'anchors': [{'from': 18, 'to': 22}]},\n",
       "  {'id': 6,\n",
       "   'label': 'researcher',\n",
       "   'properties': ['pos', 'frame'],\n",
       "   'values': ['NNS', 'n_of:x-i'],\n",
       "   'anchors': [{'from': 26, 'to': 37}]},\n",
       "  {'id': 7,\n",
       "   'label': 'from',\n",
       "   'properties': ['pos', 'frame'],\n",
       "   'values': ['IN', 'p:e-u-i'],\n",
       "   'anchors': [{'from': 38, 'to': 42}]},\n",
       "  {'id': 8,\n",
       "   'label': 'the',\n",
       "   'properties': ['pos', 'frame'],\n",
       "   'values': ['DT', 'q:i-h-h'],\n",
       "   'anchors': [{'from': 43, 'to': 46}]},\n",
       "  {'id': 9,\n",
       "   'label': 'National',\n",
       "   'properties': ['pos', 'frame'],\n",
       "   'values': ['NNP', 'named:x-c'],\n",
       "   'anchors': [{'from': 47, 'to': 55}]},\n",
       "  {'id': 10,\n",
       "   'label': 'Cancer',\n",
       "   'properties': ['pos', 'frame'],\n",
       "   'values': ['NNP', 'named:x-c'],\n",
       "   'anchors': [{'from': 56, 'to': 62}]},\n",
       "  {'id': 11,\n",
       "   'label': 'Institute',\n",
       "   'properties': ['pos', 'frame'],\n",
       "   'values': ['NNP', 'named:x-c'],\n",
       "   'anchors': [{'from': 63, 'to': 72}]},\n",
       "  {'id': 13,\n",
       "   'label': 'the',\n",
       "   'properties': ['pos', 'frame'],\n",
       "   'values': ['DT', 'q:i-h-h'],\n",
       "   'anchors': [{'from': 77, 'to': 80}]},\n",
       "  {'id': 14,\n",
       "   'label': 'medical',\n",
       "   'properties': ['pos', 'frame'],\n",
       "   'values': ['JJ', 'a:e-p'],\n",
       "   'anchors': [{'from': 81, 'to': 88}]},\n",
       "  {'id': 15,\n",
       "   'label': 'school',\n",
       "   'properties': ['pos', 'frame'],\n",
       "   'values': ['NNS', 'n:x'],\n",
       "   'anchors': [{'from': 89, 'to': 96}]},\n",
       "  {'id': 16,\n",
       "   'label': 'of',\n",
       "   'properties': ['pos', 'frame'],\n",
       "   'values': ['IN', 'p:e-x-i'],\n",
       "   'anchors': [{'from': 97, 'to': 99}]},\n",
       "  {'id': 17,\n",
       "   'label': 'Harvard',\n",
       "   'properties': ['pos', 'frame'],\n",
       "   'values': ['NNP', 'named:x-c'],\n",
       "   'anchors': [{'from': 100, 'to': 107}]},\n",
       "  {'id': 18,\n",
       "   'label': 'University',\n",
       "   'properties': ['pos', 'frame'],\n",
       "   'values': ['NNP', 'named:x-c'],\n",
       "   'anchors': [{'from': 108, 'to': 118}]},\n",
       "  {'id': 20,\n",
       "   'label': 'Boston',\n",
       "   'properties': ['pos', 'frame'],\n",
       "   'values': ['NNP', 'named:x-c'],\n",
       "   'anchors': [{'from': 123, 'to': 129}]},\n",
       "  {'id': 21,\n",
       "   'label': 'University',\n",
       "   'properties': ['pos', 'frame'],\n",
       "   'values': ['NNP', 'named:x-c'],\n",
       "   'anchors': [{'from': 130, 'to': 140}]}],\n",
       " 'edges': [{'source': 2, 'target': 4, 'label': 'ARG2'},\n",
       "  {'source': 17, 'target': 18, 'label': 'compound'},\n",
       "  {'source': 14, 'target': 15, 'label': 'ARG1'},\n",
       "  {'source': 7, 'target': 6, 'label': 'ARG1'},\n",
       "  {'source': 0, 'target': 1, 'label': 'compound'},\n",
       "  {'source': 8, 'target': 11, 'label': 'BV'},\n",
       "  {'source': 11, 'target': 15, 'label': '_and_c'},\n",
       "  {'source': 7, 'target': 11, 'label': 'ARG2'},\n",
       "  {'source': 13, 'target': 15, 'label': 'BV'},\n",
       "  {'source': 18, 'target': 21, 'label': '_and_c'},\n",
       "  {'source': 4, 'target': 6, 'label': 'ARG1'},\n",
       "  {'source': 16, 'target': 15, 'label': 'ARG1'},\n",
       "  {'source': 10, 'target': 11, 'label': 'compound'},\n",
       "  {'source': 20, 'target': 21, 'label': 'compound'},\n",
       "  {'source': 2, 'target': 1, 'label': 'ARG1'},\n",
       "  {'source': 3, 'target': 4, 'label': 'BV'},\n",
       "  {'source': 16, 'target': 18, 'label': 'ARG2'},\n",
       "  {'source': 9, 'target': 11, 'label': 'compound'}]}"
      ]
     },
     "execution_count": 297,
     "metadata": {},
     "output_type": "execute_result"
    }
   ],
   "source": [
    "mrp_json"
   ]
  },
  {
   "cell_type": "code",
   "execution_count": 298,
   "metadata": {},
   "outputs": [
    {
     "name": "stdout",
     "output_type": "stream",
     "text": [
      "0 [0] Dr. [] []\n",
      "1 [0] Talcott ['compound'] []\n",
      "2 [0] lead ['ARG1'] []\n",
      "3 [0] a [] []\n",
      "4 [0] team ['ARG2', 'BV'] []\n",
      "6 [0] researcher ['ARG1'] []\n",
      "7 [0] from ['ARG1'] []\n",
      "8 [0] the [] []\n",
      "9 [0] National [] []\n",
      "10 [0] Cancer [] []\n",
      "11 [0] Institute ['BV', 'ARG2', 'compound', 'compound'] []\n",
      "13 [0] the [] []\n",
      "14 [0] medical [] []\n",
      "15 [0] school ['BV', 'ARG1', '_and_c'] []\n",
      "16 [0] of ['ARG1'] []\n",
      "17 [0] Harvard [] []\n",
      "18 [0] University ['ARG2', 'compound'] []\n",
      "20 [0] Boston [] []\n",
      "21 [0] University ['_and_c', 'compound'] []\n"
     ]
    }
   ],
   "source": [
    "parser_node_id_set = set()\n",
    "parser_edge_id_set = set()\n",
    "for node_id, actions, edge_state, abstract_node_state in parser_states:\n",
    "    parser_node_id_set.add(node_id)\n",
    "    for edge_id in edge_state:\n",
    "        parser_edge_id_set.add(edge_id)\n",
    "    \n",
    "    node = node_id2node[node_id]\n",
    "    node_edges = [edge_id2edge[edge_id] for edge_id in edge_state]\n",
    "    print(\n",
    "        node.get('id'),\n",
    "        actions, \n",
    "        node.get('label'), \n",
    "        [edge.get('label') for edge in node_edges], \n",
    "        abstract_node_state,\n",
    "    )\n",
    "    \n",
    "assert len(parser_node_id_set) == len(mrp_json.get('nodes'))\n",
    "assert len(parser_edge_id_set) == len(mrp_json.get('edges'))"
   ]
  },
  {
   "cell_type": "code",
   "execution_count": 198,
   "metadata": {},
   "outputs": [
    {
     "data": {
      "text/plain": [
       "set()"
      ]
     },
     "execution_count": 198,
     "metadata": {},
     "output_type": "execute_result"
    }
   ],
   "source": [
    "{node.get('id') for node in mrp_json.get('nodes')} - parser_node_id_set"
   ]
  },
  {
   "cell_type": "code",
   "execution_count": null,
   "metadata": {},
   "outputs": [],
   "source": []
  },
  {
   "cell_type": "code",
   "execution_count": null,
   "metadata": {},
   "outputs": [],
   "source": []
  },
  {
   "cell_type": "code",
   "execution_count": null,
   "metadata": {},
   "outputs": [],
   "source": []
  }
 ],
 "metadata": {
  "kernelspec": {
   "display_name": "mrp",
   "language": "python",
   "name": "mrp"
  },
  "language_info": {
   "codemirror_mode": {
    "name": "ipython",
    "version": 3
   },
   "file_extension": ".py",
   "mimetype": "text/x-python",
   "name": "python",
   "nbconvert_exporter": "python",
   "pygments_lexer": "ipython3",
   "version": "3.7.2"
  }
 },
 "nbformat": 4,
 "nbformat_minor": 2
}
