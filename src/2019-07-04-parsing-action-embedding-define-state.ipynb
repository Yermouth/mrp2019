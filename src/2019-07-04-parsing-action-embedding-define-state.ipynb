{
 "cells": [
  {
   "cell_type": "code",
   "execution_count": 1,
   "metadata": {},
   "outputs": [],
   "source": [
    "try:\n",
    "    __IPYTHON__\n",
    "    USING_IPYTHON = True\n",
    "    %load_ext autoreload\n",
    "    %autoreload 2\n",
    "except NameError:\n",
    "    USING_IPYTHON = False"
   ]
  },
  {
   "cell_type": "markdown",
   "metadata": {},
   "source": [
    "#### Argparse"
   ]
  },
  {
   "cell_type": "code",
   "execution_count": 2,
   "metadata": {},
   "outputs": [],
   "source": [
    "import argparse\n",
    "ap = argparse.ArgumentParser()\n",
    "ap.add_argument('project_root', help='')\n",
    "ap.add_argument('--mrp-data-dir', default='data', help='')\n",
    "ap.add_argument('--graphviz-sub-dir', default='visualization/graphviz', help='')\n",
    "ap.add_argument('--train-sub-dir', default='training', help='')\n",
    "ap.add_argument('--companion-sub-dir', default='companion')\n",
    "ap.add_argument('--jamr-alignment-file', default='jamr.mrp')\n",
    "\n",
    "\n",
    "ap.add_argument('--mrp-file-extension', default='.mrp')\n",
    "ap.add_argument('--companion-file-extension', default='.conllu')\n",
    "ap.add_argument('--graphviz-file-template', default='http://localhost:8000/files/proj29_ds1/home/slai/mrp2019/visualization/graphviz/{}/{}.mrp/{}.png')\n",
    "arg_string = \"\"\"\n",
    "    /data/proj29_ds1/home/slai/mrp2019\n",
    "\"\"\"\n",
    "arguments = [arg for arg_line in arg_string.split(r'\\\\n') for arg in arg_line.split()]"
   ]
  },
  {
   "cell_type": "code",
   "execution_count": 3,
   "metadata": {},
   "outputs": [],
   "source": [
    "if USING_IPYTHON:\n",
    "    args = ap.parse_args(arguments)\n",
    "else:\n",
    "    args = ap.parse_args()"
   ]
  },
  {
   "cell_type": "code",
   "execution_count": 4,
   "metadata": {},
   "outputs": [
    {
     "data": {
      "text/plain": [
       "Namespace(companion_file_extension='.conllu', companion_sub_dir='companion', graphviz_file_template='http://localhost:8000/files/proj29_ds1/home/slai/mrp2019/visualization/graphviz/{}/{}.mrp/{}.png', graphviz_sub_dir='visualization/graphviz', jamr_alignment_file='jamr.mrp', mrp_data_dir='data', mrp_file_extension='.mrp', project_root='/data/proj29_ds1/home/slai/mrp2019', train_sub_dir='training')"
      ]
     },
     "execution_count": 4,
     "metadata": {},
     "output_type": "execute_result"
    }
   ],
   "source": [
    "args"
   ]
  },
  {
   "cell_type": "markdown",
   "metadata": {},
   "source": [
    "#### Library imports"
   ]
  },
  {
   "cell_type": "code",
   "execution_count": 6,
   "metadata": {},
   "outputs": [],
   "source": [
    "import json\n",
    "import logging\n",
    "import os\n",
    "import pprint\n",
    "import string\n",
    "from collections import Counter, defaultdict, deque\n",
    "\n",
    "import matplotlib.pyplot as plt\n",
    "import networkx as nx\n",
    "import numpy as np\n",
    "import plot_util\n",
    "from preprocessing import CompanionParseDataset, MrpDataset, JamrAlignmentDataset\n",
    "from action_state import mrp_json2parser_states\n",
    "                           \n",
    "from tqdm import tqdm"
   ]
  },
  {
   "cell_type": "markdown",
   "metadata": {},
   "source": [
    "#### ipython notebook specific imports"
   ]
  },
  {
   "cell_type": "code",
   "execution_count": 7,
   "metadata": {},
   "outputs": [],
   "source": [
    "if USING_IPYTHON:\n",
    "    # matplotlib config\n",
    "    %matplotlib inline"
   ]
  },
  {
   "cell_type": "code",
   "execution_count": 8,
   "metadata": {},
   "outputs": [],
   "source": [
    "sh = logging.StreamHandler()\n",
    "formatter = logging.Formatter('%(name)s - %(levelname)s - %(message)s')\n",
    "sh.setFormatter(formatter)\n",
    "logging.basicConfig(level=logging.INFO, handlers=[sh])\n",
    "logger = logging.getLogger(__name__)  # pylint: disable=invalid-name\n",
    "logger.setLevel(logging.INFO)"
   ]
  },
  {
   "cell_type": "markdown",
   "metadata": {},
   "source": [
    "### Constants"
   ]
  },
  {
   "cell_type": "code",
   "execution_count": 9,
   "metadata": {},
   "outputs": [],
   "source": [
    "UNKWOWN = 'UNKWOWN'"
   ]
  },
  {
   "cell_type": "markdown",
   "metadata": {},
   "source": [
    "### Load data"
   ]
  },
  {
   "cell_type": "code",
   "execution_count": 10,
   "metadata": {},
   "outputs": [],
   "source": [
    "train_dir = os.path.join(args.project_root, args.mrp_data_dir, args.train_sub_dir)"
   ]
  },
  {
   "cell_type": "code",
   "execution_count": 11,
   "metadata": {},
   "outputs": [],
   "source": [
    "mrp_dataset = MrpDataset()"
   ]
  },
  {
   "cell_type": "code",
   "execution_count": 12,
   "metadata": {},
   "outputs": [
    {
     "name": "stderr",
     "output_type": "stream",
     "text": [
      "frameworks:   0%|          | 0/5 [00:00<?, ?it/s]\n",
      "dataset_name:   0%|          | 0/2 [00:00<?, ?it/s]\u001b[A\n",
      "dataset_name:  50%|█████     | 1/2 [00:00<00:00,  2.30it/s]\u001b[A\n",
      "frameworks:  20%|██        | 1/5 [00:00<00:03,  1.28it/s]s]\u001b[A\n",
      "dataset_name:   0%|          | 0/1 [00:00<?, ?it/s]\u001b[A\n",
      "frameworks:  40%|████      | 2/5 [00:04<00:05,  1.75s/it]t]\u001b[A\n",
      "dataset_name:   0%|          | 0/1 [00:00<?, ?it/s]\u001b[A\n",
      "frameworks:  60%|██████    | 3/5 [00:09<00:05,  2.75s/it]t]\u001b[A\n",
      "dataset_name:   0%|          | 0/1 [00:00<?, ?it/s]\u001b[A\n",
      "frameworks:  80%|████████  | 4/5 [00:14<00:03,  3.39s/it]t]\u001b[A\n",
      "dataset_name:   0%|          | 0/14 [00:00<?, ?it/s]\u001b[A\n",
      "dataset_name:  43%|████▎     | 6/14 [00:00<00:00, 19.38it/s]\u001b[A\n",
      "dataset_name:  57%|█████▋    | 8/14 [00:00<00:00, 15.18it/s]\u001b[A\n",
      "dataset_name:  71%|███████▏  | 10/14 [00:01<00:00,  5.80it/s]\u001b[A\n",
      "dataset_name:  79%|███████▊  | 11/14 [00:01<00:00,  5.17it/s]\u001b[A\n",
      "frameworks: 100%|██████████| 5/5 [00:16<00:00,  2.87s/it]t/s]\u001b[A\n"
     ]
    }
   ],
   "source": [
    "frameworks, framework2dataset2mrp_jsons = mrp_dataset.load_mrp_json_dir(\n",
    "    train_dir, args.mrp_file_extension)"
   ]
  },
  {
   "cell_type": "code",
   "execution_count": null,
   "metadata": {},
   "outputs": [],
   "source": []
  },
  {
   "cell_type": "markdown",
   "metadata": {},
   "source": [
    "### Data Preprocessing companion"
   ]
  },
  {
   "cell_type": "code",
   "execution_count": 13,
   "metadata": {},
   "outputs": [],
   "source": [
    "companion_dir = os.path.join(args.project_root, args.mrp_data_dir, args.companion_sub_dir)"
   ]
  },
  {
   "cell_type": "code",
   "execution_count": 14,
   "metadata": {},
   "outputs": [],
   "source": [
    "cparse_dataset = CompanionParseDataset()"
   ]
  },
  {
   "cell_type": "code",
   "execution_count": 15,
   "metadata": {},
   "outputs": [
    {
     "name": "stderr",
     "output_type": "stream",
     "text": [
      "preprocessing - INFO - framework amr found\n",
      "dataset: 100%|██████████| 13/13 [00:03<00:00,  3.47it/s]\n",
      "preprocessing - INFO - framework dm found\n",
      "dataset: 100%|██████████| 5/5 [00:01<00:00,  4.70it/s]\n",
      "preprocessing - INFO - framework ucca found\n",
      "dataset: 100%|██████████| 6/6 [00:00<00:00, 35.33it/s]\n"
     ]
    }
   ],
   "source": [
    "dataset2cid2parse = cparse_dataset.load_companion_parse_dir(companion_dir, args.companion_file_extension)"
   ]
  },
  {
   "cell_type": "code",
   "execution_count": 16,
   "metadata": {},
   "outputs": [
    {
     "data": {
      "text/plain": [
       "dict_keys(['amr-guidelines', 'bolt', 'cctv', 'dfa', 'dfb', 'fables', 'lorelei', 'mt09sdl', 'proxy', 'rte', 'wb', 'wiki', 'xinhua', 'wsj', 'ewt'])"
      ]
     },
     "execution_count": 16,
     "metadata": {},
     "output_type": "execute_result"
    }
   ],
   "source": [
    "dataset2cid2parse.keys()"
   ]
  },
  {
   "cell_type": "code",
   "execution_count": 17,
   "metadata": {
    "scrolled": false
   },
   "outputs": [
    {
     "data": {
      "text/plain": [
       "False"
      ]
     },
     "execution_count": 17,
     "metadata": {},
     "output_type": "execute_result"
    }
   ],
   "source": [
    "# Some data is missing\n",
    "'20003001' in dataset2cid2parse['wsj']"
   ]
  },
  {
   "cell_type": "markdown",
   "metadata": {},
   "source": [
    "### Load JAMR alignment data"
   ]
  },
  {
   "cell_type": "code",
   "execution_count": 18,
   "metadata": {},
   "outputs": [],
   "source": [
    "jalignment_dataset = JamrAlignmentDataset()"
   ]
  },
  {
   "cell_type": "code",
   "execution_count": 19,
   "metadata": {},
   "outputs": [],
   "source": [
    "cid2alignment = jalignment_dataset.load_jamr_alignment_file(os.path.join(\n",
    "    args.project_root,\n",
    "    args.mrp_data_dir,\n",
    "    args.companion_sub_dir,\n",
    "    args.jamr_alignment_file\n",
    "))"
   ]
  },
  {
   "cell_type": "markdown",
   "metadata": {},
   "source": [
    "### Define the state at each step"
   ]
  },
  {
   "cell_type": "code",
   "execution_count": 20,
   "metadata": {},
   "outputs": [
    {
     "name": "stderr",
     "output_type": "stream",
     "text": [
      "__main__ - INFO - ucca\n",
      "__main__ - INFO - ['wiki', 'ewt']\n",
      "__main__ - INFO - psd\n",
      "__main__ - INFO - ['wsj']\n",
      "__main__ - INFO - eds\n",
      "__main__ - INFO - ['wsj']\n",
      "__main__ - INFO - dm\n",
      "__main__ - INFO - ['wsj']\n",
      "__main__ - INFO - amr\n",
      "__main__ - INFO - ['xinhua', 'wsj', 'wiki', 'wb', 'rte', 'proxy', 'mt09sdl', 'lorelei', 'fables', 'dfb', 'dfa', 'cctv', 'bolt', 'amr-guidelines']\n"
     ]
    }
   ],
   "source": [
    "for framework in framework2dataset2mrp_jsons:\n",
    "    logger.info(framework)\n",
    "    logger.info(list(framework2dataset2mrp_jsons[framework].keys()))"
   ]
  },
  {
   "cell_type": "markdown",
   "metadata": {},
   "source": [
    "### Test module"
   ]
  },
  {
   "cell_type": "code",
   "execution_count": 21,
   "metadata": {},
   "outputs": [],
   "source": [
    "from action_state import mrp_json2parser_states"
   ]
  },
  {
   "cell_type": "code",
   "execution_count": 22,
   "metadata": {},
   "outputs": [
    {
     "data": {
      "text/plain": [
       "('ucca', 'wiki')"
      ]
     },
     "execution_count": 22,
     "metadata": {},
     "output_type": "execute_result"
    }
   ],
   "source": [
    "framework, dataset = [\n",
    "    ('dm', 'wsj'),\n",
    "    ('psd', 'wsj'),\n",
    "    ('eds', 'wsj'),\n",
    "    ('ucca', 'wiki'),\n",
    "    ('amr', 'wsj'),\n",
    "    ('amr', 'wiki'),\n",
    "][3]\n",
    "\n",
    "mrp_jsons = framework2dataset2mrp_jsons[framework][dataset]\n",
    "framework, dataset"
   ]
  },
  {
   "cell_type": "code",
   "execution_count": 23,
   "metadata": {},
   "outputs": [],
   "source": [
    "mrp_json = mrp_jsons[-3]"
   ]
  },
  {
   "cell_type": "code",
   "execution_count": 24,
   "metadata": {},
   "outputs": [],
   "source": [
    "alignment = {}\n",
    "if framework == 'amr':\n",
    "    cid = mrp_json.get('id', '')\n",
    "    alignment = cid2alignment[cid]"
   ]
  },
  {
   "cell_type": "code",
   "execution_count": 25,
   "metadata": {},
   "outputs": [
    {
     "data": {
      "text/plain": [
       "{'id': '531010',\n",
       " 'flavor': 1,\n",
       " 'framework': 'ucca',\n",
       " 'version': 0.9,\n",
       " 'time': '2019-04-11 (22:05)',\n",
       " 'input': 'Garland sued Luft for divorce in 1963, claiming \"cruelty\" as the grounds.',\n",
       " 'tops': [17],\n",
       " 'nodes': [{'id': 0, 'anchors': [{'from': 0, 'to': 7}], 'label': 'Garland'},\n",
       "  {'id': 1, 'anchors': [{'from': 8, 'to': 12}], 'label': 'sued'},\n",
       "  {'id': 2, 'anchors': [{'from': 13, 'to': 17}], 'label': 'Luft'},\n",
       "  {'id': 3, 'anchors': [{'from': 18, 'to': 21}], 'label': 'for'},\n",
       "  {'id': 4, 'anchors': [{'from': 22, 'to': 29}], 'label': 'divorce'},\n",
       "  {'id': 5, 'anchors': [{'from': 30, 'to': 32}], 'label': 'in'},\n",
       "  {'id': 6, 'anchors': [{'from': 33, 'to': 37}], 'label': '1963'},\n",
       "  {'id': 7, 'anchors': [{'from': 37, 'to': 38}], 'label': ','},\n",
       "  {'id': 8, 'anchors': [{'from': 39, 'to': 47}], 'label': 'claiming'},\n",
       "  {'id': 9, 'anchors': [{'from': 48, 'to': 49}], 'label': '\"'},\n",
       "  {'id': 10, 'anchors': [{'from': 49, 'to': 56}], 'label': 'cruelty'},\n",
       "  {'id': 11, 'anchors': [{'from': 56, 'to': 57}], 'label': '\"'},\n",
       "  {'id': 12, 'anchors': [{'from': 58, 'to': 60}], 'label': 'as'},\n",
       "  {'id': 13, 'anchors': [{'from': 61, 'to': 64}], 'label': 'the'},\n",
       "  {'id': 14, 'anchors': [{'from': 65, 'to': 72}], 'label': 'grounds'},\n",
       "  {'id': 15, 'anchors': [{'from': 72, 'to': 73}], 'label': '.'},\n",
       "  {'id': 16},\n",
       "  {'id': 17},\n",
       "  {'id': 18},\n",
       "  {'id': 19},\n",
       "  {'id': 20},\n",
       "  {'id': 21},\n",
       "  {'id': 22},\n",
       "  {'id': 23}],\n",
       " 'edges': [{'source': 17, 'target': 16, 'label': 'H'},\n",
       "  {'source': 20, 'target': 9, 'label': 'U'},\n",
       "  {'source': 18, 'target': 4, 'label': 'P'},\n",
       "  {'source': 18, 'target': 3, 'label': 'R'},\n",
       "  {'source': 18,\n",
       "   'target': 2,\n",
       "   'label': 'A',\n",
       "   'properties': ['remote'],\n",
       "   'values': [True]},\n",
       "  {'source': 22, 'target': 23, 'label': 'S'},\n",
       "  {'source': 16, 'target': 19, 'label': 'T'},\n",
       "  {'source': 23, 'target': 14, 'label': 'C'},\n",
       "  {'source': 20, 'target': 8, 'label': 'P'},\n",
       "  {'source': 21, 'target': 10, 'label': 'S'},\n",
       "  {'source': 23, 'target': 12, 'label': 'R'},\n",
       "  {'source': 19, 'target': 5, 'label': 'R'},\n",
       "  {'source': 17, 'target': 20, 'label': 'H'},\n",
       "  {'source': 17, 'target': 7, 'label': 'U'},\n",
       "  {'source': 16, 'target': 18, 'label': 'A'},\n",
       "  {'source': 19, 'target': 6, 'label': 'C'},\n",
       "  {'source': 22, 'target': 21, 'label': 'A'},\n",
       "  {'source': 20, 'target': 22, 'label': 'A'},\n",
       "  {'source': 22, 'target': 11, 'label': 'U'},\n",
       "  {'source': 18,\n",
       "   'target': 0,\n",
       "   'label': 'A',\n",
       "   'properties': ['remote'],\n",
       "   'values': [True]},\n",
       "  {'source': 16, 'target': 0, 'label': 'A'},\n",
       "  {'source': 23, 'target': 15, 'label': 'U'},\n",
       "  {'source': 16, 'target': 2, 'label': 'A'},\n",
       "  {'source': 16, 'target': 1, 'label': 'P'},\n",
       "  {'source': 23, 'target': 13, 'label': 'F'},\n",
       "  {'source': 20,\n",
       "   'target': 0,\n",
       "   'label': 'A',\n",
       "   'properties': ['remote'],\n",
       "   'values': [True]}]}"
      ]
     },
     "execution_count": 25,
     "metadata": {},
     "output_type": "execute_result"
    }
   ],
   "source": [
    "mrp_json"
   ]
  },
  {
   "cell_type": "code",
   "execution_count": 26,
   "metadata": {},
   "outputs": [
    {
     "name": "stderr",
     "output_type": "stream",
     "text": [
      "__main__ - INFO - http://localhost:8000/files/proj29_ds1/home/slai/mrp2019/visualization/graphviz/ucca/wiki.mrp/531010.png\n"
     ]
    }
   ],
   "source": [
    "logger.info(args.graphviz_file_template.format(\n",
    "    framework, dataset, mrp_json.get('id')))"
   ]
  },
  {
   "cell_type": "code",
   "execution_count": 27,
   "metadata": {},
   "outputs": [],
   "source": [
    "parser_states, meta_data = mrp_json2parser_states(mrp_json, framework, alignment)"
   ]
  },
  {
   "cell_type": "code",
   "execution_count": 28,
   "metadata": {},
   "outputs": [],
   "source": [
    "(node_id2node, edge_id2edge) = meta_data"
   ]
  },
  {
   "cell_type": "code",
   "execution_count": 30,
   "metadata": {},
   "outputs": [
    {
     "name": "stdout",
     "output_type": "stream",
     "text": [
      "0 Garland ['A'] [16]\n",
      "16 None [] []\n",
      "1 sued ['P'] []\n",
      "2 Luft ['A'] []\n",
      "3 for ['R'] [18]\n",
      "18 None ['A', 'A', 'A'] []\n",
      "4 divorce ['P'] []\n",
      "5 in ['R'] [19]\n",
      "19 None ['T'] []\n",
      "6 1963 ['C'] []\n",
      "7 , ['U'] [17]\n",
      "17 None ['H'] []\n",
      "8 claiming ['P'] [20]\n",
      "20 None ['H', 'A'] []\n",
      "9 \" ['U'] []\n",
      "10 cruelty ['S'] [21]\n",
      "21 None [] []\n",
      "11 \" ['U'] [22]\n",
      "22 None ['A', 'A'] []\n",
      "12 as ['R'] [23]\n",
      "23 None ['S'] []\n",
      "13 the ['F'] []\n",
      "14 grounds ['C'] []\n",
      "15 . ['U'] []\n"
     ]
    }
   ],
   "source": [
    "parser_node_id_set = set()\n",
    "parser_edge_id_set = set()\n",
    "for node_id, edge_state, abstract_node_state in parser_states:\n",
    "    parser_node_id_set.add(node_id)\n",
    "    for edge_id in edge_state:\n",
    "        parser_edge_id_set.add(edge_id)\n",
    "    \n",
    "    node = node_id2node[node_id]\n",
    "    node_edges = [edge_id2edge[edge_id] for edge_id in edge_state]\n",
    "    print(\n",
    "        node.get('id'),\n",
    "        node.get('label'), \n",
    "        [edge.get('label') for edge in node_edges], \n",
    "        abstract_node_state,\n",
    "    )\n",
    "    \n",
    "assert len(parser_node_id_set) == len(mrp_json.get('nodes'))\n",
    "assert len(parser_edge_id_set) == len(mrp_json.get('edges'))"
   ]
  },
  {
   "cell_type": "code",
   "execution_count": null,
   "metadata": {},
   "outputs": [],
   "source": [
    "{node.get('id') for node in mrp_json.get('nodes')} - parser_node_id_set"
   ]
  },
  {
   "cell_type": "code",
   "execution_count": null,
   "metadata": {},
   "outputs": [],
   "source": []
  },
  {
   "cell_type": "code",
   "execution_count": null,
   "metadata": {},
   "outputs": [],
   "source": []
  }
 ],
 "metadata": {
  "kernelspec": {
   "display_name": "mrp",
   "language": "python",
   "name": "mrp"
  },
  "language_info": {
   "codemirror_mode": {
    "name": "ipython",
    "version": 3
   },
   "file_extension": ".py",
   "mimetype": "text/x-python",
   "name": "python",
   "nbconvert_exporter": "python",
   "pygments_lexer": "ipython3",
   "version": "3.7.2"
  }
 },
 "nbformat": 4,
 "nbformat_minor": 2
}
