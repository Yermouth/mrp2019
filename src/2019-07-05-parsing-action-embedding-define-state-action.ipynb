{
 "cells": [
  {
   "cell_type": "code",
   "execution_count": 3,
   "metadata": {},
   "outputs": [],
   "source": [
    "try:\n",
    "    __IPYTHON__\n",
    "    USING_IPYTHON = True\n",
    "    %load_ext autoreload\n",
    "    %autoreload 2\n",
    "except NameError:\n",
    "    USING_IPYTHON = False"
   ]
  },
  {
   "cell_type": "markdown",
   "metadata": {},
   "source": [
    "#### Argparse"
   ]
  },
  {
   "cell_type": "code",
   "execution_count": 4,
   "metadata": {},
   "outputs": [],
   "source": [
    "import argparse\n",
    "ap = argparse.ArgumentParser()\n",
    "ap.add_argument('project_root', help='')\n",
    "ap.add_argument('--mrp-data-dir', default='data', help='')\n",
    "ap.add_argument('--graphviz-sub-dir', default='visualization/graphviz', help='')\n",
    "ap.add_argument('--train-sub-dir', default='training', help='')\n",
    "ap.add_argument('--companion-sub-dir', default='companion')\n",
    "ap.add_argument('--jamr-alignment-file', default='jamr.mrp')\n",
    "\n",
    "\n",
    "ap.add_argument('--mrp-file-extension', default='.mrp')\n",
    "ap.add_argument('--companion-file-extension', default='.conllu')\n",
    "ap.add_argument('--graphviz-file-template', default='http://localhost:8000/files/proj29_ds1/home/slai/mrp2019/visualization/graphviz/{}/{}.mrp/{}.png')\n",
    "arg_string = \"\"\"\n",
    "    /data/proj29_ds1/home/slai/mrp2019\n",
    "\"\"\"\n",
    "arguments = [arg for arg_line in arg_string.split(r'\\\\n') for arg in arg_line.split()]"
   ]
  },
  {
   "cell_type": "code",
   "execution_count": 5,
   "metadata": {},
   "outputs": [],
   "source": [
    "if USING_IPYTHON:\n",
    "    args = ap.parse_args(arguments)\n",
    "else:\n",
    "    args = ap.parse_args()"
   ]
  },
  {
   "cell_type": "code",
   "execution_count": 6,
   "metadata": {},
   "outputs": [
    {
     "data": {
      "text/plain": [
       "Namespace(companion_file_extension='.conllu', companion_sub_dir='companion', graphviz_file_template='http://localhost:8000/files/proj29_ds1/home/slai/mrp2019/visualization/graphviz/{}/{}.mrp/{}.png', graphviz_sub_dir='visualization/graphviz', jamr_alignment_file='jamr.mrp', mrp_data_dir='data', mrp_file_extension='.mrp', project_root='/data/proj29_ds1/home/slai/mrp2019', train_sub_dir='training')"
      ]
     },
     "execution_count": 6,
     "metadata": {},
     "output_type": "execute_result"
    }
   ],
   "source": [
    "args"
   ]
  },
  {
   "cell_type": "markdown",
   "metadata": {},
   "source": [
    "#### Library imports"
   ]
  },
  {
   "cell_type": "code",
   "execution_count": 464,
   "metadata": {},
   "outputs": [],
   "source": [
    "import json\n",
    "import logging\n",
    "import os\n",
    "import pprint\n",
    "import string\n",
    "from collections import Counter, defaultdict, deque\n",
    "\n",
    "import matplotlib.pyplot as plt\n",
    "import networkx as nx\n",
    "import numpy as np\n",
    "import plot_util\n",
    "from preprocessing import CompanionParseDataset, MrpDataset, JamrAlignmentDataset\n",
    "from action_state import mrp_json2parser_states\n",
    "                           \n",
    "from tqdm import tqdm"
   ]
  },
  {
   "cell_type": "markdown",
   "metadata": {},
   "source": [
    "#### ipython notebook specific imports"
   ]
  },
  {
   "cell_type": "code",
   "execution_count": 8,
   "metadata": {},
   "outputs": [],
   "source": [
    "if USING_IPYTHON:\n",
    "    # matplotlib config\n",
    "    %matplotlib inline"
   ]
  },
  {
   "cell_type": "code",
   "execution_count": 9,
   "metadata": {},
   "outputs": [],
   "source": [
    "sh = logging.StreamHandler()\n",
    "formatter = logging.Formatter('%(name)s - %(levelname)s - %(message)s')\n",
    "sh.setFormatter(formatter)\n",
    "logging.basicConfig(level=logging.INFO, handlers=[sh])\n",
    "logger = logging.getLogger(__name__)  # pylint: disable=invalid-name\n",
    "logger.setLevel(logging.INFO)"
   ]
  },
  {
   "cell_type": "markdown",
   "metadata": {},
   "source": [
    "### Constants"
   ]
  },
  {
   "cell_type": "code",
   "execution_count": 10,
   "metadata": {},
   "outputs": [],
   "source": [
    "UNKWOWN = 'UNKWOWN'"
   ]
  },
  {
   "cell_type": "markdown",
   "metadata": {},
   "source": [
    "### Load data"
   ]
  },
  {
   "cell_type": "code",
   "execution_count": 11,
   "metadata": {},
   "outputs": [],
   "source": [
    "train_dir = os.path.join(args.project_root, args.mrp_data_dir, args.train_sub_dir)"
   ]
  },
  {
   "cell_type": "code",
   "execution_count": 12,
   "metadata": {},
   "outputs": [],
   "source": [
    "mrp_dataset = MrpDataset()"
   ]
  },
  {
   "cell_type": "code",
   "execution_count": 13,
   "metadata": {},
   "outputs": [
    {
     "name": "stderr",
     "output_type": "stream",
     "text": [
      "frameworks:   0%|          | 0/5 [00:00<?, ?it/s]\n",
      "dataset_name:   0%|          | 0/2 [00:00<?, ?it/s]\u001b[A\n",
      "dataset_name:  50%|█████     | 1/2 [00:00<00:00,  2.31it/s]\u001b[A\n",
      "frameworks:  20%|██        | 1/5 [00:00<00:03,  1.26it/s]s]\u001b[A\n",
      "dataset_name:   0%|          | 0/1 [00:00<?, ?it/s]\u001b[A\n",
      "frameworks:  40%|████      | 2/5 [00:04<00:05,  1.67s/it]t]\u001b[A\n",
      "dataset_name:   0%|          | 0/1 [00:00<?, ?it/s]\u001b[A\n",
      "frameworks:  60%|██████    | 3/5 [00:09<00:05,  2.75s/it]t]\u001b[A\n",
      "dataset_name:   0%|          | 0/1 [00:00<?, ?it/s]\u001b[A\n",
      "frameworks:  80%|████████  | 4/5 [00:16<00:04,  4.04s/it]t]\u001b[A\n",
      "dataset_name:   0%|          | 0/14 [00:00<?, ?it/s]\u001b[A\n",
      "dataset_name:  43%|████▎     | 6/14 [00:00<00:00, 21.72it/s]\u001b[A\n",
      "dataset_name:  57%|█████▋    | 8/14 [00:00<00:00, 18.69it/s]\u001b[A\n",
      "dataset_name:  71%|███████▏  | 10/14 [00:01<00:00,  6.30it/s]\u001b[A\n",
      "dataset_name:  79%|███████▊  | 11/14 [00:01<00:00,  5.68it/s]\u001b[A\n",
      "frameworks: 100%|██████████| 5/5 [00:18<00:00,  3.29s/it]t/s]\u001b[A\n"
     ]
    }
   ],
   "source": [
    "frameworks, framework2dataset2mrp_jsons = mrp_dataset.load_mrp_json_dir(\n",
    "    train_dir, args.mrp_file_extension)"
   ]
  },
  {
   "cell_type": "code",
   "execution_count": null,
   "metadata": {},
   "outputs": [],
   "source": []
  },
  {
   "cell_type": "markdown",
   "metadata": {},
   "source": [
    "### Data Preprocessing companion"
   ]
  },
  {
   "cell_type": "code",
   "execution_count": 14,
   "metadata": {},
   "outputs": [],
   "source": [
    "companion_dir = os.path.join(args.project_root, args.mrp_data_dir, args.companion_sub_dir)"
   ]
  },
  {
   "cell_type": "code",
   "execution_count": 15,
   "metadata": {},
   "outputs": [],
   "source": [
    "cparse_dataset = CompanionParseDataset()"
   ]
  },
  {
   "cell_type": "code",
   "execution_count": 16,
   "metadata": {},
   "outputs": [
    {
     "name": "stderr",
     "output_type": "stream",
     "text": [
      "preprocessing - INFO - framework amr found\n",
      "dataset: 100%|██████████| 13/13 [00:04<00:00,  3.12it/s]\n",
      "preprocessing - INFO - framework dm found\n",
      "dataset: 100%|██████████| 5/5 [00:01<00:00,  4.35it/s]\n",
      "preprocessing - INFO - framework ucca found\n",
      "dataset: 100%|██████████| 6/6 [00:00<00:00, 30.86it/s]\n"
     ]
    }
   ],
   "source": [
    "dataset2cid2parse = cparse_dataset.load_companion_parse_dir(companion_dir, args.companion_file_extension)"
   ]
  },
  {
   "cell_type": "code",
   "execution_count": 17,
   "metadata": {},
   "outputs": [
    {
     "data": {
      "text/plain": [
       "dict_keys(['amr-guidelines', 'bolt', 'cctv', 'dfa', 'dfb', 'fables', 'lorelei', 'mt09sdl', 'proxy', 'rte', 'wb', 'wiki', 'xinhua', 'wsj', 'ewt'])"
      ]
     },
     "execution_count": 17,
     "metadata": {},
     "output_type": "execute_result"
    }
   ],
   "source": [
    "dataset2cid2parse.keys()"
   ]
  },
  {
   "cell_type": "code",
   "execution_count": 18,
   "metadata": {
    "scrolled": false
   },
   "outputs": [
    {
     "data": {
      "text/plain": [
       "False"
      ]
     },
     "execution_count": 18,
     "metadata": {},
     "output_type": "execute_result"
    }
   ],
   "source": [
    "# Some data is missing\n",
    "'20003001' in dataset2cid2parse['wsj']"
   ]
  },
  {
   "cell_type": "markdown",
   "metadata": {},
   "source": [
    "### Load JAMR alignment data"
   ]
  },
  {
   "cell_type": "code",
   "execution_count": 19,
   "metadata": {},
   "outputs": [],
   "source": [
    "jalignment_dataset = JamrAlignmentDataset()"
   ]
  },
  {
   "cell_type": "code",
   "execution_count": 20,
   "metadata": {},
   "outputs": [],
   "source": [
    "cid2alignment = jalignment_dataset.load_jamr_alignment_file(os.path.join(\n",
    "    args.project_root,\n",
    "    args.mrp_data_dir,\n",
    "    args.companion_sub_dir,\n",
    "    args.jamr_alignment_file\n",
    "))"
   ]
  },
  {
   "cell_type": "markdown",
   "metadata": {},
   "source": [
    "### Define the state at each step"
   ]
  },
  {
   "cell_type": "code",
   "execution_count": 424,
   "metadata": {},
   "outputs": [
    {
     "name": "stderr",
     "output_type": "stream",
     "text": [
      "__main__ - INFO - ucca\n",
      "__main__ - INFO - ['wiki', 'ewt']\n",
      "__main__ - INFO - psd\n",
      "__main__ - INFO - ['wsj']\n",
      "__main__ - INFO - eds\n",
      "__main__ - INFO - ['wsj']\n",
      "__main__ - INFO - dm\n",
      "__main__ - INFO - ['wsj']\n",
      "__main__ - INFO - amr\n",
      "__main__ - INFO - ['xinhua', 'wsj', 'wiki', 'wb', 'rte', 'proxy', 'mt09sdl', 'lorelei', 'fables', 'dfb', 'dfa', 'cctv', 'bolt', 'amr-guidelines']\n"
     ]
    }
   ],
   "source": [
    "for framework in framework2dataset2mrp_jsons:\n",
    "    logger.info(framework)\n",
    "    logger.info(list(framework2dataset2mrp_jsons[framework].keys()))"
   ]
  },
  {
   "cell_type": "markdown",
   "metadata": {},
   "source": [
    "### Test module"
   ]
  },
  {
   "cell_type": "code",
   "execution_count": 660,
   "metadata": {},
   "outputs": [],
   "source": [
    "from action_state import mrp_json2parser_states"
   ]
  },
  {
   "cell_type": "code",
   "execution_count": 661,
   "metadata": {},
   "outputs": [
    {
     "data": {
      "text/plain": [
       "('eds', 'wsj')"
      ]
     },
     "execution_count": 661,
     "metadata": {},
     "output_type": "execute_result"
    }
   ],
   "source": [
    "framework, dataset = [\n",
    "    ('dm', 'wsj'),\n",
    "    ('psd', 'wsj'),\n",
    "    ('eds', 'wsj'),\n",
    "    ('ucca', 'wiki'),\n",
    "    ('amr', 'wsj'),\n",
    "    ('amr', 'wiki'),\n",
    "][2]\n",
    "\n",
    "mrp_jsons = framework2dataset2mrp_jsons[framework][dataset]\n",
    "framework, dataset"
   ]
  },
  {
   "cell_type": "code",
   "execution_count": 662,
   "metadata": {},
   "outputs": [],
   "source": [
    "mrp_json = mrp_jsons[0]"
   ]
  },
  {
   "cell_type": "code",
   "execution_count": 663,
   "metadata": {},
   "outputs": [],
   "source": [
    "alignment = {}\n",
    "if framework == 'amr':\n",
    "    cid = mrp_json.get('id', '')\n",
    "    alignment = cid2alignment[cid]"
   ]
  },
  {
   "cell_type": "code",
   "execution_count": 664,
   "metadata": {},
   "outputs": [],
   "source": [
    "# mrp_json"
   ]
  },
  {
   "cell_type": "code",
   "execution_count": 665,
   "metadata": {},
   "outputs": [
    {
     "name": "stderr",
     "output_type": "stream",
     "text": [
      "__main__ - INFO - http://localhost:8000/files/proj29_ds1/home/slai/mrp2019/visualization/graphviz/eds/wsj.mrp/20001001.png\n"
     ]
    }
   ],
   "source": [
    "logger.info(args.graphviz_file_template.format(\n",
    "    framework, dataset, mrp_json.get('id')))"
   ]
  },
  {
   "cell_type": "code",
   "execution_count": 666,
   "metadata": {},
   "outputs": [],
   "source": [
    "# for i in range(1000):\n",
    "#     mrp_json = mrp_jsons[i]\n",
    "#     parser_states, meta_data = mrp_json2parser_states(mrp_json, framework, alignment)"
   ]
  },
  {
   "cell_type": "code",
   "execution_count": null,
   "metadata": {},
   "outputs": [],
   "source": []
  },
  {
   "cell_type": "code",
   "execution_count": 667,
   "metadata": {
    "scrolled": true
   },
   "outputs": [
    {
     "name": "stderr",
     "output_type": "stream",
     "text": [
      "action_state - INFO - ('curr_node_id', 3)\n",
      "action_state - INFO - (3, [], True, True)\n",
      "action_state - INFO - (3, 3, [(3, 3, None)])\n",
      "action_state - INFO - (3, 17, 1, {4})\n",
      "action_state - INFO - ('curr_node_id', 4)\n",
      "action_state - INFO - (4, [(3, 3, None)], True, True)\n",
      "action_state - INFO - (4, 4, [(3, 3, None), (4, 4, None)])\n",
      "action_state - INFO - (4, 3, 10, {12})\n",
      "action_state - INFO - (4, 15, 1, set())\n",
      "action_state - INFO - ('complete', 1)\n",
      "action_state - INFO - (4, 7, 9, set())\n",
      "action_state - INFO - ('complete', 9)\n",
      "action_state - INFO - ('curr_node_id', 1)\n",
      "action_state - INFO - (1, [(3, 3, None), (4, 4, None)], False, True)\n",
      "action_state - INFO - (1, 1, [(1, 1, [(1, 1, None), (4, 4, None), (3, 3, None)])])\n",
      "action_state - INFO - ('curr_node_id', 7)\n",
      "action_state - INFO - (7, [(1, 1, [(1, 1, None), (4, 4, None), (3, 3, None)])], False, False)\n",
      "action_state - INFO - (7, 7, [(1, 1, [(1, 1, None), (4, 4, None), (3, 3, None)])])\n",
      "action_state - INFO - ('curr_node_id', 8)\n",
      "action_state - INFO - (8, [(1, 1, [(1, 1, None), (4, 4, None), (3, 3, None)])], True, True)\n",
      "action_state - INFO - (8, 8, [(1, 1, [(1, 1, None), (4, 4, None), (3, 3, None)]), (8, 8, None)])\n",
      "action_state - INFO - (8, 1, 5, {9})\n",
      "action_state - INFO - (8, 5, 7, set())\n",
      "action_state - INFO - ('complete', 7)\n",
      "action_state - INFO - ('curr_node_id', 7)\n",
      "action_state - INFO - (7, [(1, 1, [(1, 1, None), (4, 4, None), (3, 3, None)]), (8, 8, None)], False, True)\n",
      "action_state - INFO - (7, 7, [(1, 1, [(1, 1, None), (4, 4, None), (3, 3, None)]), (7, 7, [(7, 7, None), (8, 8, None)])])\n",
      "action_state - INFO - ('curr_node_id', 9)\n",
      "action_state - INFO - (9, [(1, 1, [(1, 1, None), (4, 4, None), (3, 3, None)]), (7, 7, [(7, 7, None), (8, 8, None)])], False, True)\n",
      "action_state - INFO - (9, 9, [(1, 1, [(1, 1, None), (4, 4, None), (3, 3, None)]), (9, 9, [(9, 9, None), (7, 7, [(7, 7, None), (8, 8, None)])])])\n",
      "action_state - INFO - (9, 18, 5, set())\n",
      "action_state - INFO - ('complete', 5)\n",
      "action_state - INFO - ('curr_node_id', 5)\n",
      "action_state - INFO - (5, [(1, 1, [(1, 1, None), (4, 4, None), (3, 3, None)]), (9, 9, [(9, 9, None), (7, 7, [(7, 7, None), (8, 8, None)])])], False, True)\n",
      "action_state - INFO - (5, 5, [(5, 5, [(5, 5, None), (9, 9, [(9, 9, None), (7, 7, [(7, 7, None), (8, 8, None)])]), (1, 1, [(1, 1, None), (4, 4, None), (3, 3, None)])])])\n",
      "action_state - INFO - ('curr_node_id', 10)\n",
      "action_state - INFO - (10, [(5, 5, [(5, 5, None), (9, 9, [(9, 9, None), (7, 7, [(7, 7, None), (8, 8, None)])]), (1, 1, [(1, 1, None), (4, 4, None), (3, 3, None)])])], False, False)\n",
      "action_state - INFO - (10, 10, [(5, 5, [(5, 5, None), (9, 9, [(9, 9, None), (7, 7, [(7, 7, None), (8, 8, None)])]), (1, 1, [(1, 1, None), (4, 4, None), (3, 3, None)])])])\n",
      "action_state - INFO - (10, 8, 17, {10, 22})\n",
      "action_state - INFO - (10, 12, 13, {16, 10})\n",
      "action_state - INFO - ('curr_node_id', 11)\n",
      "action_state - INFO - (11, [(5, 5, [(5, 5, None), (9, 9, [(9, 9, None), (7, 7, [(7, 7, None), (8, 8, None)])]), (1, 1, [(1, 1, None), (4, 4, None), (3, 3, None)])])], True, True)\n",
      "action_state - INFO - (11, 11, [(5, 5, [(5, 5, None), (9, 9, [(9, 9, None), (7, 7, [(7, 7, None), (8, 8, None)])]), (1, 1, [(1, 1, None), (4, 4, None), (3, 3, None)])])])\n",
      "action_state - INFO - ('curr_node_id', 12)\n",
      "action_state - INFO - (12, [(5, 5, [(5, 5, None), (9, 9, [(9, 9, None), (7, 7, [(7, 7, None), (8, 8, None)])]), (1, 1, [(1, 1, None), (4, 4, None), (3, 3, None)])])], True, True)\n",
      "action_state - INFO - (12, 12, [(5, 5, [(5, 5, None), (9, 9, [(9, 9, None), (7, 7, [(7, 7, None), (8, 8, None)])]), (1, 1, [(1, 1, None), (4, 4, None), (3, 3, None)])]), (12, 12, None)])\n",
      "action_state - INFO - (12, 14, 10, set())\n",
      "action_state - INFO - ('complete', 10)\n",
      "action_state - INFO - ('curr_node_id', 10)\n",
      "action_state - INFO - (10, [(5, 5, [(5, 5, None), (9, 9, [(9, 9, None), (7, 7, [(7, 7, None), (8, 8, None)])]), (1, 1, [(1, 1, None), (4, 4, None), (3, 3, None)])]), (12, 12, None)], False, True)\n",
      "action_state - INFO - (10, 10, [(10, 10, [(10, 10, None), (12, 12, None), (5, 5, [(5, 5, None), (9, 9, [(9, 9, None), (7, 7, [(7, 7, None), (8, 8, None)])]), (1, 1, [(1, 1, None), (4, 4, None), (3, 3, None)])])])])\n",
      "action_state - INFO - (10, 8, 17, {22})\n",
      "action_state - INFO - (10, 12, 13, {16})\n",
      "action_state - INFO - ('curr_node_id', 13)\n",
      "action_state - INFO - (13, [(10, 10, [(10, 10, None), (12, 12, None), (5, 5, [(5, 5, None), (9, 9, [(9, 9, None), (7, 7, [(7, 7, None), (8, 8, None)])]), (1, 1, [(1, 1, None), (4, 4, None), (3, 3, None)])])])], False, False)\n",
      "action_state - INFO - (13, 13, [(10, 10, [(10, 10, None), (12, 12, None), (5, 5, [(5, 5, None), (9, 9, [(9, 9, None), (7, 7, [(7, 7, None), (8, 8, None)])]), (1, 1, [(1, 1, None), (4, 4, None), (3, 3, None)])])])])\n",
      "action_state - INFO - ('curr_node_id', 14)\n",
      "action_state - INFO - (14, [(10, 10, [(10, 10, None), (12, 12, None), (5, 5, [(5, 5, None), (9, 9, [(9, 9, None), (7, 7, [(7, 7, None), (8, 8, None)])]), (1, 1, [(1, 1, None), (4, 4, None), (3, 3, None)])])])], True, True)\n",
      "action_state - INFO - (14, 14, [(10, 10, [(10, 10, None), (12, 12, None), (5, 5, [(5, 5, None), (9, 9, [(9, 9, None), (7, 7, [(7, 7, None), (8, 8, None)])]), (1, 1, [(1, 1, None), (4, 4, None), (3, 3, None)])])])])\n",
      "action_state - INFO - ('curr_node_id', 15)\n",
      "action_state - INFO - (15, [(10, 10, [(10, 10, None), (12, 12, None), (5, 5, [(5, 5, None), (9, 9, [(9, 9, None), (7, 7, [(7, 7, None), (8, 8, None)])]), (1, 1, [(1, 1, None), (4, 4, None), (3, 3, None)])])])], False, False)\n",
      "action_state - INFO - (15, 15, [(10, 10, [(10, 10, None), (12, 12, None), (5, 5, [(5, 5, None), (9, 9, [(9, 9, None), (7, 7, [(7, 7, None), (8, 8, None)])]), (1, 1, [(1, 1, None), (4, 4, None), (3, 3, None)])])])])\n",
      "action_state - INFO - ('curr_node_id', 16)\n",
      "action_state - INFO - (16, [(10, 10, [(10, 10, None), (12, 12, None), (5, 5, [(5, 5, None), (9, 9, [(9, 9, None), (7, 7, [(7, 7, None), (8, 8, None)])]), (1, 1, [(1, 1, None), (4, 4, None), (3, 3, None)])])])], True, True)\n",
      "action_state - INFO - (16, 16, [(10, 10, [(10, 10, None), (12, 12, None), (5, 5, [(5, 5, None), (9, 9, [(9, 9, None), (7, 7, [(7, 7, None), (8, 8, None)])]), (1, 1, [(1, 1, None), (4, 4, None), (3, 3, None)])])]), (16, 16, None)])\n",
      "action_state - INFO - (16, 21, 15, set())\n",
      "action_state - INFO - ('complete', 15)\n",
      "action_state - INFO - (16, 13, 13, set())\n",
      "action_state - INFO - ('complete', 13)\n",
      "action_state - INFO - ('curr_node_id', 15)\n",
      "action_state - INFO - (15, [(10, 10, [(10, 10, None), (12, 12, None), (5, 5, [(5, 5, None), (9, 9, [(9, 9, None), (7, 7, [(7, 7, None), (8, 8, None)])]), (1, 1, [(1, 1, None), (4, 4, None), (3, 3, None)])])]), (16, 16, None)], False, True)\n",
      "action_state - INFO - (15, 15, [(10, 10, [(10, 10, None), (12, 12, None), (5, 5, [(5, 5, None), (9, 9, [(9, 9, None), (7, 7, [(7, 7, None), (8, 8, None)])]), (1, 1, [(1, 1, None), (4, 4, None), (3, 3, None)])])]), (15, 15, [(15, 15, None), (16, 16, None)])])\n",
      "action_state - INFO - ('curr_node_id', 13)\n",
      "action_state - INFO - (13, [(10, 10, [(10, 10, None), (12, 12, None), (5, 5, [(5, 5, None), (9, 9, [(9, 9, None), (7, 7, [(7, 7, None), (8, 8, None)])]), (1, 1, [(1, 1, None), (4, 4, None), (3, 3, None)])])]), (15, 15, [(15, 15, None), (16, 16, None)])], False, True)\n",
      "action_state - INFO - (13, 13, [(13, 13, [(13, 13, None), (15, 15, [(15, 15, None), (16, 16, None)]), (10, 10, [(10, 10, None), (12, 12, None), (5, 5, [(5, 5, None), (9, 9, [(9, 9, None), (7, 7, [(7, 7, None), (8, 8, None)])]), (1, 1, [(1, 1, None), (4, 4, None), (3, 3, None)])])])])])\n",
      "action_state - INFO - ('curr_node_id', 18)\n",
      "action_state - INFO - (18, [(13, 13, [(13, 13, None), (15, 15, [(15, 15, None), (16, 16, None)]), (10, 10, [(10, 10, None), (12, 12, None), (5, 5, [(5, 5, None), (9, 9, [(9, 9, None), (7, 7, [(7, 7, None), (8, 8, None)])]), (1, 1, [(1, 1, None), (4, 4, None), (3, 3, None)])])])])], True, True)\n",
      "action_state - INFO - (18, 18, [(13, 13, [(13, 13, None), (15, 15, [(15, 15, None), (16, 16, None)]), (10, 10, [(10, 10, None), (12, 12, None), (5, 5, [(5, 5, None), (9, 9, [(9, 9, None), (7, 7, [(7, 7, None), (8, 8, None)])]), (1, 1, [(1, 1, None), (4, 4, None), (3, 3, None)])])])]), (18, 18, None)])\n",
      "action_state - INFO - (18, 2, 20, {22})\n",
      "action_state - INFO - ('curr_node_id', 22)\n",
      "action_state - INFO - (22, [(13, 13, [(13, 13, None), (15, 15, [(15, 15, None), (16, 16, None)]), (10, 10, [(10, 10, None), (12, 12, None), (5, 5, [(5, 5, None), (9, 9, [(9, 9, None), (7, 7, [(7, 7, None), (8, 8, None)])]), (1, 1, [(1, 1, None), (4, 4, None), (3, 3, None)])])])]), (18, 18, None)], True, True)\n"
     ]
    },
    {
     "name": "stderr",
     "output_type": "stream",
     "text": [
      "action_state - INFO - (22, 22, [(13, 13, [(13, 13, None), (15, 15, [(15, 15, None), (16, 16, None)]), (10, 10, [(10, 10, None), (12, 12, None), (5, 5, [(5, 5, None), (9, 9, [(9, 9, None), (7, 7, [(7, 7, None), (8, 8, None)])]), (1, 1, [(1, 1, None), (4, 4, None), (3, 3, None)])])])]), (18, 18, None), (22, 22, None)])\n",
      "action_state - INFO - (22, 0, 17, set())\n",
      "action_state - INFO - ('complete', 17)\n",
      "action_state - INFO - (22, 16, 20, set())\n",
      "action_state - INFO - ('complete', 20)\n",
      "action_state - INFO - ('curr_node_id', 17)\n",
      "action_state - INFO - (17, [(13, 13, [(13, 13, None), (15, 15, [(15, 15, None), (16, 16, None)]), (10, 10, [(10, 10, None), (12, 12, None), (5, 5, [(5, 5, None), (9, 9, [(9, 9, None), (7, 7, [(7, 7, None), (8, 8, None)])]), (1, 1, [(1, 1, None), (4, 4, None), (3, 3, None)])])])]), (18, 18, None), (22, 22, None)], False, True)\n",
      "action_state - INFO - (17, 17, [(13, 13, [(13, 13, None), (15, 15, [(15, 15, None), (16, 16, None)]), (10, 10, [(10, 10, None), (12, 12, None), (5, 5, [(5, 5, None), (9, 9, [(9, 9, None), (7, 7, [(7, 7, None), (8, 8, None)])]), (1, 1, [(1, 1, None), (4, 4, None), (3, 3, None)])])])]), (17, 17, [(17, 17, None), (22, 22, None), (18, 18, None)])])\n",
      "action_state - INFO - ('curr_node_id', 20)\n",
      "action_state - INFO - (20, [(13, 13, [(13, 13, None), (15, 15, [(15, 15, None), (16, 16, None)]), (10, 10, [(10, 10, None), (12, 12, None), (5, 5, [(5, 5, None), (9, 9, [(9, 9, None), (7, 7, [(7, 7, None), (8, 8, None)])]), (1, 1, [(1, 1, None), (4, 4, None), (3, 3, None)])])])]), (17, 17, [(17, 17, None), (22, 22, None), (18, 18, None)])], False, True)\n",
      "action_state - INFO - (20, 20, [(20, 20, [(20, 20, None), (17, 17, [(17, 17, None), (22, 22, None), (18, 18, None)]), (13, 13, [(13, 13, None), (15, 15, [(15, 15, None), (16, 16, None)]), (10, 10, [(10, 10, None), (12, 12, None), (5, 5, [(5, 5, None), (9, 9, [(9, 9, None), (7, 7, [(7, 7, None), (8, 8, None)])]), (1, 1, [(1, 1, None), (4, 4, None), (3, 3, None)])])])])])])\n"
     ]
    }
   ],
   "source": [
    "parser_states, meta_data = mrp_json2parser_states(mrp_json, framework, alignment)"
   ]
  },
  {
   "cell_type": "code",
   "execution_count": 668,
   "metadata": {
    "scrolled": true
   },
   "outputs": [
    {
     "data": {
      "text/plain": [
       "'Pierre Vinken, 61 years old, will join the board as a nonexecutive director Nov. 29.'"
      ]
     },
     "execution_count": 668,
     "metadata": {},
     "output_type": "execute_result"
    }
   ],
   "source": [
    "mrp_json['input']"
   ]
  },
  {
   "cell_type": "code",
   "execution_count": 669,
   "metadata": {},
   "outputs": [],
   "source": [
    "(\n",
    "    node_id2node,\n",
    "    edge_id2edge,\n",
    "    parent_id2child_id_set,\n",
    "    child_id2parent_id_set,\n",
    "    child_id2edge_id_set,\n",
    "    parent_id2edge_id_set,\n",
    "    parent_id2indegree,\n",
    "    token_nodes,\n",
    "    abstract_node_id_set,\n",
    ") = meta_data"
   ]
  },
  {
   "cell_type": "code",
   "execution_count": null,
   "metadata": {},
   "outputs": [],
   "source": []
  },
  {
   "cell_type": "code",
   "execution_count": 643,
   "metadata": {},
   "outputs": [
    {
     "data": {
      "text/plain": [
       "defaultdict(set,\n",
       "            {22: {17, 20},\n",
       "             8: {5, 7},\n",
       "             18: {20},\n",
       "             4: {1, 9, 10},\n",
       "             10: {13, 17},\n",
       "             16: {13, 15},\n",
       "             12: {10},\n",
       "             3: {1},\n",
       "             9: {5}})"
      ]
     },
     "execution_count": 643,
     "metadata": {},
     "output_type": "execute_result"
    }
   ],
   "source": [
    "child_id2parent_id_set"
   ]
  },
  {
   "cell_type": "code",
   "execution_count": 644,
   "metadata": {},
   "outputs": [
    {
     "data": {
      "text/plain": [
       "[{'id': 3,\n",
       "  'label': 'named',\n",
       "  'properties': ['carg'],\n",
       "  'values': ['Pierre'],\n",
       "  'anchors': [{'from': 0, 'to': 6}]},\n",
       " {'id': 4,\n",
       "  'label': 'named',\n",
       "  'properties': ['carg'],\n",
       "  'values': ['Vinken'],\n",
       "  'anchors': [{'from': 7, 'to': 14}]},\n",
       " {'id': 7,\n",
       "  'label': 'card',\n",
       "  'properties': ['carg'],\n",
       "  'values': ['61'],\n",
       "  'anchors': [{'from': 15, 'to': 17}]},\n",
       " {'id': 8, 'label': '_year_n_1', 'anchors': [{'from': 18, 'to': 23}]},\n",
       " {'id': 9, 'label': '_old_a_1', 'anchors': [{'from': 24, 'to': 28}]},\n",
       " {'id': 10, 'label': '_join_v_1', 'anchors': [{'from': 34, 'to': 38}]},\n",
       " {'id': 11, 'label': '_the_q', 'anchors': [{'from': 39, 'to': 42}]},\n",
       " {'id': 12, 'label': '_board_n_of', 'anchors': [{'from': 43, 'to': 48}]},\n",
       " {'id': 13, 'label': '_as_p', 'anchors': [{'from': 49, 'to': 51}]},\n",
       " {'id': 14, 'label': '_a_q', 'anchors': [{'from': 52, 'to': 53}]},\n",
       " {'id': 15,\n",
       "  'label': '_nonexecutive_a_unknown',\n",
       "  'anchors': [{'from': 54, 'to': 66}]},\n",
       " {'id': 16, 'label': '_director_n_of', 'anchors': [{'from': 67, 'to': 75}]},\n",
       " {'id': 18,\n",
       "  'label': 'mofy',\n",
       "  'properties': ['carg'],\n",
       "  'values': ['Nov'],\n",
       "  'anchors': [{'from': 76, 'to': 80}]},\n",
       " {'id': 22,\n",
       "  'label': 'dofm',\n",
       "  'properties': ['carg'],\n",
       "  'values': ['29'],\n",
       "  'anchors': [{'from': 81, 'to': 84}]}]"
      ]
     },
     "execution_count": 644,
     "metadata": {},
     "output_type": "execute_result"
    }
   ],
   "source": [
    "token_nodes"
   ]
  },
  {
   "cell_type": "code",
   "execution_count": 645,
   "metadata": {},
   "outputs": [
    {
     "data": {
      "text/plain": [
       "{0: {'source': 17, 'target': 22, 'label': 'ARG2'},\n",
       " 1: {'source': 5, 'target': 8, 'label': 'ARG2'},\n",
       " 2: {'source': 20, 'target': 18, 'label': 'ARG2'},\n",
       " 3: {'source': 10, 'target': 4, 'label': 'ARG1'},\n",
       " 4: {'source': 14, 'target': 16, 'label': 'BV'},\n",
       " 5: {'source': 7, 'target': 8, 'label': 'ARG1'},\n",
       " 6: {'source': 0, 'target': 4, 'label': 'BV'},\n",
       " 7: {'source': 9, 'target': 4, 'label': 'ARG1'},\n",
       " 8: {'source': 17, 'target': 10, 'label': 'ARG1'},\n",
       " 9: {'source': 19, 'target': 22, 'label': 'BV'},\n",
       " 10: {'source': 21, 'target': 18, 'label': 'BV'},\n",
       " 11: {'source': 6, 'target': 8, 'label': 'BV'},\n",
       " 12: {'source': 13, 'target': 10, 'label': 'ARG1'},\n",
       " 13: {'source': 13, 'target': 16, 'label': 'ARG2'},\n",
       " 14: {'source': 10, 'target': 12, 'label': 'ARG2'},\n",
       " 15: {'source': 1, 'target': 4, 'label': 'ARG1'},\n",
       " 16: {'source': 20, 'target': 22, 'label': 'ARG1'},\n",
       " 17: {'source': 1, 'target': 3, 'label': 'ARG2'},\n",
       " 18: {'source': 5, 'target': 9, 'label': 'ARG1'},\n",
       " 19: {'source': 2, 'target': 3, 'label': 'BV'},\n",
       " 20: {'source': 11, 'target': 12, 'label': 'BV'},\n",
       " 21: {'source': 15, 'target': 16, 'label': 'ARG1'}}"
      ]
     },
     "execution_count": 645,
     "metadata": {},
     "output_type": "execute_result"
    }
   ],
   "source": [
    "edge_id2edge"
   ]
  },
  {
   "cell_type": "code",
   "execution_count": 646,
   "metadata": {},
   "outputs": [
    {
     "name": "stdout",
     "output_type": "stream",
     "text": [
      "(1, 'compound') [(3, 'named'), (4, 'named')]\n",
      "(5, 'measure') [(8, '_year_n_1'), (9, '_old_a_1')]\n",
      "(7, 'card') [(8, '_year_n_1')]\n",
      "(9, '_old_a_1') [(4, 'named')]\n",
      "(10, '_join_v_1') [(4, 'named'), (12, '_board_n_of')]\n",
      "(13, '_as_p') [(16, '_director_n_of'), (10, '_join_v_1')]\n",
      "(15, '_nonexecutive_a_unknown') [(16, '_director_n_of')]\n",
      "(17, 'loc_nonsp') [(10, '_join_v_1'), (22, 'dofm')]\n",
      "(20, 'of_p') [(18, 'mofy'), (22, 'dofm')]\n"
     ]
    }
   ],
   "source": [
    "for parent_id, child_id_set in sorted(parent_id2child_id_set.items()):\n",
    "    print(\n",
    "        (parent_id, node_id2node[parent_id].get('label')),\n",
    "        [(child_id, node_id2node[child_id].get('label')) for child_id in child_id_set]\n",
    "    )"
   ]
  },
  {
   "cell_type": "code",
   "execution_count": 647,
   "metadata": {},
   "outputs": [
    {
     "name": "stdout",
     "output_type": "stream",
     "text": [
      "(3, 'named') [(1, 'compound')]\n",
      "(4, 'named') [(9, '_old_a_1'), (10, '_join_v_1'), (1, 'compound')]\n",
      "(8, '_year_n_1') [(5, 'measure'), (7, 'card')]\n",
      "(9, '_old_a_1') [(5, 'measure')]\n",
      "(10, '_join_v_1') [(17, 'loc_nonsp'), (13, '_as_p')]\n",
      "(12, '_board_n_of') [(10, '_join_v_1')]\n",
      "(16, '_director_n_of') [(13, '_as_p'), (15, '_nonexecutive_a_unknown')]\n",
      "(18, 'mofy') [(20, 'of_p')]\n",
      "(22, 'dofm') [(17, 'loc_nonsp'), (20, 'of_p')]\n"
     ]
    }
   ],
   "source": [
    "for child_id, parent_id_set in sorted(child_id2parent_id_set.items()):\n",
    "    print(\n",
    "        (child_id, node_id2node[child_id].get('label')),\n",
    "        [(parent_id, node_id2node[parent_id].get('label')) for parent_id in parent_id_set]\n",
    "    )"
   ]
  },
  {
   "cell_type": "code",
   "execution_count": 648,
   "metadata": {},
   "outputs": [
    {
     "name": "stdout",
     "output_type": "stream",
     "text": [
      "(1, 'compound', 2)\n",
      "(5, 'measure', 2)\n",
      "(7, 'card', 1)\n",
      "(9, '_old_a_1', 1)\n",
      "(10, '_join_v_1', 2)\n",
      "(13, '_as_p', 2)\n",
      "(15, '_nonexecutive_a_unknown', 1)\n",
      "(17, 'loc_nonsp', 2)\n",
      "(20, 'of_p', 2)\n"
     ]
    }
   ],
   "source": [
    "for parent_id, indegree in sorted(parent_id2indegree.items()):\n",
    "    print((parent_id, node_id2node[parent_id].get('label'), indegree))"
   ]
  },
  {
   "cell_type": "code",
   "execution_count": 649,
   "metadata": {},
   "outputs": [],
   "source": [
    "# mrp_json.get('edges')[17]"
   ]
  },
  {
   "cell_type": "code",
   "execution_count": 670,
   "metadata": {},
   "outputs": [
    {
     "name": "stdout",
     "output_type": "stream",
     "text": [
      "(3, [(1, None)], 'named', [], [3], [(3, 3, None)], [3], [])\n",
      "(4,\n",
      " [(1, None)],\n",
      " 'named',\n",
      " ['ARG1'],\n",
      " [4, 1],\n",
      " [(3, 3, None), (4, 4, None)],\n",
      " [3, 4],\n",
      " [])\n",
      "(1,\n",
      " [(2, 2)],\n",
      " 'compound',\n",
      " [],\n",
      " [],\n",
      " [(1, 1, [(1, 1, None), (4, 4, None), (3, 3, None)])],\n",
      " [1],\n",
      " [])\n",
      "(7,\n",
      " [(4, None)],\n",
      " 'card',\n",
      " [],\n",
      " [],\n",
      " [(1, 1, [(1, 1, None), (4, 4, None), (3, 3, None)])],\n",
      " [1],\n",
      " [7])\n",
      "(8,\n",
      " [(1, None)],\n",
      " '_year_n_1',\n",
      " ['ARG1'],\n",
      " [8, 7],\n",
      " [(1, 1, [(1, 1, None), (4, 4, None), (3, 3, None)]), (8, 8, None)],\n",
      " [1, 8],\n",
      " [7])\n",
      "(7,\n",
      " [(2, 1)],\n",
      " 'card',\n",
      " [],\n",
      " [],\n",
      " [(1, 1, [(1, 1, None), (4, 4, None), (3, 3, None)]),\n",
      "  (7, 7, [(7, 7, None), (8, 8, None)])],\n",
      " [1, 7],\n",
      " [7])\n",
      "(9,\n",
      " [(2, 1)],\n",
      " '_old_a_1',\n",
      " ['ARG1'],\n",
      " [9, 5],\n",
      " [(1, 1, [(1, 1, None), (4, 4, None), (3, 3, None)]),\n",
      "  (9, 9, [(9, 9, None), (7, 7, [(7, 7, None), (8, 8, None)])])],\n",
      " [1, 9],\n",
      " [7])\n",
      "(5,\n",
      " [(2, 2)],\n",
      " 'measure',\n",
      " [],\n",
      " [],\n",
      " [(5,\n",
      "   5,\n",
      "   [(5, 5, None),\n",
      "    (9, 9, [(9, 9, None), (7, 7, [(7, 7, None), (8, 8, None)])]),\n",
      "    (1, 1, [(1, 1, None), (4, 4, None), (3, 3, None)])])],\n",
      " [5],\n",
      " [7])\n",
      "(10,\n",
      " [(4, None)],\n",
      " '_join_v_1',\n",
      " [],\n",
      " [],\n",
      " [(5,\n",
      "   5,\n",
      "   [(5, 5, None),\n",
      "    (9, 9, [(9, 9, None), (7, 7, [(7, 7, None), (8, 8, None)])]),\n",
      "    (1, 1, [(1, 1, None), (4, 4, None), (3, 3, None)])])],\n",
      " [5],\n",
      " [7, 10])\n",
      "(11,\n",
      " [],\n",
      " '_the_q',\n",
      " [],\n",
      " [11],\n",
      " [(5,\n",
      "   5,\n",
      "   [(5, 5, None),\n",
      "    (9, 9, [(9, 9, None), (7, 7, [(7, 7, None), (8, 8, None)])]),\n",
      "    (1, 1, [(1, 1, None), (4, 4, None), (3, 3, None)])])],\n",
      " [5],\n",
      " [7, 10])\n",
      "(12,\n",
      " [(1, None)],\n",
      " '_board_n_of',\n",
      " ['ARG2'],\n",
      " [12, 10],\n",
      " [(5,\n",
      "   5,\n",
      "   [(5, 5, None),\n",
      "    (9, 9, [(9, 9, None), (7, 7, [(7, 7, None), (8, 8, None)])]),\n",
      "    (1, 1, [(1, 1, None), (4, 4, None), (3, 3, None)])]),\n",
      "  (12, 12, None)],\n",
      " [5, 12],\n",
      " [7, 10])\n",
      "(10,\n",
      " [(2, 2)],\n",
      " '_join_v_1',\n",
      " [],\n",
      " [],\n",
      " [(10,\n",
      "   10,\n",
      "   [(10, 10, None),\n",
      "    (12, 12, None),\n",
      "    (5,\n",
      "     5,\n",
      "     [(5, 5, None),\n",
      "      (9, 9, [(9, 9, None), (7, 7, [(7, 7, None), (8, 8, None)])]),\n",
      "      (1, 1, [(1, 1, None), (4, 4, None), (3, 3, None)])])])],\n",
      " [10],\n",
      " [7, 10])\n",
      "(13,\n",
      " [(4, None)],\n",
      " '_as_p',\n",
      " [],\n",
      " [],\n",
      " [(10,\n",
      "   10,\n",
      "   [(10, 10, None),\n",
      "    (12, 12, None),\n",
      "    (5,\n",
      "     5,\n",
      "     [(5, 5, None),\n",
      "      (9, 9, [(9, 9, None), (7, 7, [(7, 7, None), (8, 8, None)])]),\n",
      "      (1, 1, [(1, 1, None), (4, 4, None), (3, 3, None)])])])],\n",
      " [10],\n",
      " [7, 10, 13])\n",
      "(14,\n",
      " [],\n",
      " '_a_q',\n",
      " [],\n",
      " [14],\n",
      " [(10,\n",
      "   10,\n",
      "   [(10, 10, None),\n",
      "    (12, 12, None),\n",
      "    (5,\n",
      "     5,\n",
      "     [(5, 5, None),\n",
      "      (9, 9, [(9, 9, None), (7, 7, [(7, 7, None), (8, 8, None)])]),\n",
      "      (1, 1, [(1, 1, None), (4, 4, None), (3, 3, None)])])])],\n",
      " [10],\n",
      " [7, 10, 13])\n",
      "(15,\n",
      " [(4, None)],\n",
      " '_nonexecutive_a_unknown',\n",
      " [],\n",
      " [],\n",
      " [(10,\n",
      "   10,\n",
      "   [(10, 10, None),\n",
      "    (12, 12, None),\n",
      "    (5,\n",
      "     5,\n",
      "     [(5, 5, None),\n",
      "      (9, 9, [(9, 9, None), (7, 7, [(7, 7, None), (8, 8, None)])]),\n",
      "      (1, 1, [(1, 1, None), (4, 4, None), (3, 3, None)])])])],\n",
      " [10],\n",
      " [7, 10, 13, 15])\n",
      "(16,\n",
      " [(1, None)],\n",
      " '_director_n_of',\n",
      " ['ARG1', 'ARG2'],\n",
      " [16, 15, 13],\n",
      " [(10,\n",
      "   10,\n",
      "   [(10, 10, None),\n",
      "    (12, 12, None),\n",
      "    (5,\n",
      "     5,\n",
      "     [(5, 5, None),\n",
      "      (9, 9, [(9, 9, None), (7, 7, [(7, 7, None), (8, 8, None)])]),\n",
      "      (1, 1, [(1, 1, None), (4, 4, None), (3, 3, None)])])]),\n",
      "  (16, 16, None)],\n",
      " [10, 16],\n",
      " [7, 10, 13, 15])\n",
      "(15,\n",
      " [(2, 1)],\n",
      " '_nonexecutive_a_unknown',\n",
      " [],\n",
      " [],\n",
      " [(10,\n",
      "   10,\n",
      "   [(10, 10, None),\n",
      "    (12, 12, None),\n",
      "    (5,\n",
      "     5,\n",
      "     [(5, 5, None),\n",
      "      (9, 9, [(9, 9, None), (7, 7, [(7, 7, None), (8, 8, None)])]),\n",
      "      (1, 1, [(1, 1, None), (4, 4, None), (3, 3, None)])])]),\n",
      "  (15, 15, [(15, 15, None), (16, 16, None)])],\n",
      " [10, 15],\n",
      " [7, 10, 13, 15])\n",
      "(13,\n",
      " [(2, 2)],\n",
      " '_as_p',\n",
      " [],\n",
      " [],\n",
      " [(13,\n",
      "   13,\n",
      "   [(13, 13, None),\n",
      "    (15, 15, [(15, 15, None), (16, 16, None)]),\n",
      "    (10,\n",
      "     10,\n",
      "     [(10, 10, None),\n",
      "      (12, 12, None),\n",
      "      (5,\n",
      "       5,\n",
      "       [(5, 5, None),\n",
      "        (9, 9, [(9, 9, None), (7, 7, [(7, 7, None), (8, 8, None)])]),\n",
      "        (1, 1, [(1, 1, None), (4, 4, None), (3, 3, None)])])])])],\n",
      " [13],\n",
      " [7, 10, 13, 15])\n",
      "(18,\n",
      " [(1, None)],\n",
      " 'mofy',\n",
      " [],\n",
      " [18],\n",
      " [(13,\n",
      "   13,\n",
      "   [(13, 13, None),\n",
      "    (15, 15, [(15, 15, None), (16, 16, None)]),\n",
      "    (10,\n",
      "     10,\n",
      "     [(10, 10, None),\n",
      "      (12, 12, None),\n",
      "      (5,\n",
      "       5,\n",
      "       [(5, 5, None),\n",
      "        (9, 9, [(9, 9, None), (7, 7, [(7, 7, None), (8, 8, None)])]),\n",
      "        (1, 1, [(1, 1, None), (4, 4, None), (3, 3, None)])])])]),\n",
      "  (18, 18, None)],\n",
      " [13, 18],\n",
      " [7, 10, 13, 15])\n",
      "(22,\n",
      " [(1, None)],\n",
      " 'dofm',\n",
      " ['ARG2', 'ARG1'],\n",
      " [22, 17, 20],\n",
      " [(13,\n",
      "   13,\n",
      "   [(13, 13, None),\n",
      "    (15, 15, [(15, 15, None), (16, 16, None)]),\n",
      "    (10,\n",
      "     10,\n",
      "     [(10, 10, None),\n",
      "      (12, 12, None),\n",
      "      (5,\n",
      "       5,\n",
      "       [(5, 5, None),\n",
      "        (9, 9, [(9, 9, None), (7, 7, [(7, 7, None), (8, 8, None)])]),\n",
      "        (1, 1, [(1, 1, None), (4, 4, None), (3, 3, None)])])])]),\n",
      "  (18, 18, None),\n",
      "  (22, 22, None)],\n",
      " [13, 18, 22],\n",
      " [7, 10, 13, 15])\n",
      "(17,\n",
      " [(2, 2)],\n",
      " 'loc_nonsp',\n",
      " [],\n",
      " [],\n",
      " [(13,\n",
      "   13,\n",
      "   [(13, 13, None),\n",
      "    (15, 15, [(15, 15, None), (16, 16, None)]),\n",
      "    (10,\n",
      "     10,\n",
      "     [(10, 10, None),\n",
      "      (12, 12, None),\n",
      "      (5,\n",
      "       5,\n",
      "       [(5, 5, None),\n",
      "        (9, 9, [(9, 9, None), (7, 7, [(7, 7, None), (8, 8, None)])]),\n",
      "        (1, 1, [(1, 1, None), (4, 4, None), (3, 3, None)])])])]),\n",
      "  (17, 17, [(17, 17, None), (22, 22, None), (18, 18, None)])],\n",
      " [13, 17],\n",
      " [7, 10, 13, 15])\n",
      "(20,\n",
      " [(2, 2)],\n",
      " 'of_p',\n",
      " [],\n",
      " [],\n",
      " [(20,\n",
      "   20,\n",
      "   [(20, 20, None),\n",
      "    (17, 17, [(17, 17, None), (22, 22, None), (18, 18, None)]),\n",
      "    (13,\n",
      "     13,\n",
      "     [(13, 13, None),\n",
      "      (15, 15, [(15, 15, None), (16, 16, None)]),\n",
      "      (10,\n",
      "       10,\n",
      "       [(10, 10, None),\n",
      "        (12, 12, None),\n",
      "        (5,\n",
      "         5,\n",
      "         [(5, 5, None),\n",
      "          (9, 9, [(9, 9, None), (7, 7, [(7, 7, None), (8, 8, None)])]),\n",
      "          (1, 1, [(1, 1, None), (4, 4, None), (3, 3, None)])])])])])],\n",
      " [20],\n",
      " [7, 10, 13, 15])\n",
      "{0, 2, 6, 19, 21}\n"
     ]
    },
    {
     "ename": "AssertionError",
     "evalue": "",
     "output_type": "error",
     "traceback": [
      "\u001b[0;31m---------------------------------------------------------------------------\u001b[0m",
      "\u001b[0;31mAssertionError\u001b[0m                            Traceback (most recent call last)",
      "\u001b[0;32m<ipython-input-670-51a22e403171>\u001b[0m in \u001b[0;36m<module>\u001b[0;34m\u001b[0m\n\u001b[1;32m     22\u001b[0m \u001b[0;34m\u001b[0m\u001b[0m\n\u001b[1;32m     23\u001b[0m \u001b[0mprint\u001b[0m\u001b[0;34m(\u001b[0m\u001b[0;34m{\u001b[0m\u001b[0mnode\u001b[0m\u001b[0;34m.\u001b[0m\u001b[0mget\u001b[0m\u001b[0;34m(\u001b[0m\u001b[0;34m'id'\u001b[0m\u001b[0;34m,\u001b[0m \u001b[0;34m-\u001b[0m\u001b[0;36m1\u001b[0m\u001b[0;34m)\u001b[0m \u001b[0;32mfor\u001b[0m \u001b[0mnode\u001b[0m \u001b[0;32min\u001b[0m \u001b[0mmrp_json\u001b[0m\u001b[0;34m.\u001b[0m\u001b[0mget\u001b[0m\u001b[0;34m(\u001b[0m\u001b[0;34m'nodes'\u001b[0m\u001b[0;34m)\u001b[0m\u001b[0;34m}\u001b[0m \u001b[0;34m-\u001b[0m \u001b[0mparser_node_id_set\u001b[0m\u001b[0;34m)\u001b[0m\u001b[0;34m\u001b[0m\u001b[0;34m\u001b[0m\u001b[0m\n\u001b[0;32m---> 24\u001b[0;31m \u001b[0;32massert\u001b[0m \u001b[0mlen\u001b[0m\u001b[0;34m(\u001b[0m\u001b[0mparser_node_id_set\u001b[0m\u001b[0;34m)\u001b[0m \u001b[0;34m==\u001b[0m \u001b[0mlen\u001b[0m\u001b[0;34m(\u001b[0m\u001b[0mmrp_json\u001b[0m\u001b[0;34m.\u001b[0m\u001b[0mget\u001b[0m\u001b[0;34m(\u001b[0m\u001b[0;34m'nodes'\u001b[0m\u001b[0;34m)\u001b[0m\u001b[0;34m)\u001b[0m\u001b[0;34m\u001b[0m\u001b[0;34m\u001b[0m\u001b[0m\n\u001b[0m\u001b[1;32m     25\u001b[0m \u001b[0mprint\u001b[0m\u001b[0;34m(\u001b[0m\u001b[0;34m{\u001b[0m\u001b[0medge_id\u001b[0m \u001b[0;32mfor\u001b[0m \u001b[0medge_id\u001b[0m\u001b[0;34m,\u001b[0m \u001b[0medge\u001b[0m \u001b[0;32min\u001b[0m \u001b[0menumerate\u001b[0m\u001b[0;34m(\u001b[0m\u001b[0mmrp_json\u001b[0m\u001b[0;34m.\u001b[0m\u001b[0mget\u001b[0m\u001b[0;34m(\u001b[0m\u001b[0;34m'edges'\u001b[0m\u001b[0;34m)\u001b[0m\u001b[0;34m)\u001b[0m\u001b[0;34m}\u001b[0m \u001b[0;34m-\u001b[0m \u001b[0mparser_edge_id_set\u001b[0m\u001b[0;34m)\u001b[0m\u001b[0;34m\u001b[0m\u001b[0;34m\u001b[0m\u001b[0m\n\u001b[1;32m     26\u001b[0m \u001b[0;32massert\u001b[0m \u001b[0mlen\u001b[0m\u001b[0;34m(\u001b[0m\u001b[0mparser_edge_id_set\u001b[0m\u001b[0;34m)\u001b[0m \u001b[0;34m==\u001b[0m \u001b[0mlen\u001b[0m\u001b[0;34m(\u001b[0m\u001b[0mmrp_json\u001b[0m\u001b[0;34m.\u001b[0m\u001b[0mget\u001b[0m\u001b[0;34m(\u001b[0m\u001b[0;34m'edges'\u001b[0m\u001b[0;34m)\u001b[0m\u001b[0;34m)\u001b[0m\u001b[0;34m\u001b[0m\u001b[0;34m\u001b[0m\u001b[0m\n",
      "\u001b[0;31mAssertionError\u001b[0m: "
     ]
    }
   ],
   "source": [
    "parser_node_id_set = set()\n",
    "parser_edge_id_set = set()\n",
    "for (node_id, actions, edge_state, abstract_node_state, \n",
    "     complete_node_state, node_state, token_stack, pending_token_stack) in parser_states:\n",
    "    parser_node_id_set.add(node_id)\n",
    "    for edge_id in edge_state:\n",
    "        parser_edge_id_set.add(edge_id)\n",
    "    \n",
    "    node = node_id2node[node_id]\n",
    "    node_edges = [edge_id2edge[edge_id] for edge_id in edge_state]\n",
    "    pprint.pprint((\n",
    "        node.get('id'),\n",
    "        actions, \n",
    "        node.get('label'), \n",
    "        [edge.get('label') for edge in node_edges], \n",
    "#         abstract_node_state,\n",
    "        complete_node_state,\n",
    "        node_state,\n",
    "        token_stack,\n",
    "        pending_token_stack,\n",
    "    ))\n",
    "    \n",
    "print({node.get('id', -1) for node in mrp_json.get('nodes')} - parser_node_id_set)\n",
    "assert len(parser_node_id_set) == len(mrp_json.get('nodes'))\n",
    "print({edge_id for edge_id, edge in enumerate(mrp_json.get('edges'))} - parser_edge_id_set)\n",
    "assert len(parser_edge_id_set) == len(mrp_json.get('edges'))"
   ]
  },
  {
   "cell_type": "code",
   "execution_count": null,
   "metadata": {},
   "outputs": [],
   "source": []
  },
  {
   "cell_type": "code",
   "execution_count": 671,
   "metadata": {},
   "outputs": [
    {
     "data": {
      "text/plain": [
       "{'id': '20001001',\n",
       " 'flavor': 1,\n",
       " 'framework': 'eds',\n",
       " 'version': 0.9,\n",
       " 'time': '2019-04-10 (20:21)',\n",
       " 'input': 'Pierre Vinken, 61 years old, will join the board as a nonexecutive director Nov. 29.',\n",
       " 'tops': [10],\n",
       " 'nodes': [{'id': 0, 'label': 'proper_q', 'anchors': [{'from': 0, 'to': 28}]},\n",
       "  {'id': 1, 'label': 'compound', 'anchors': [{'from': 0, 'to': 14}]},\n",
       "  {'id': 2, 'label': 'proper_q', 'anchors': [{'from': 0, 'to': 6}]},\n",
       "  {'id': 3,\n",
       "   'label': 'named',\n",
       "   'properties': ['carg'],\n",
       "   'values': ['Pierre'],\n",
       "   'anchors': [{'from': 0, 'to': 6}]},\n",
       "  {'id': 4,\n",
       "   'label': 'named',\n",
       "   'properties': ['carg'],\n",
       "   'values': ['Vinken'],\n",
       "   'anchors': [{'from': 7, 'to': 14}]},\n",
       "  {'id': 5, 'label': 'measure', 'anchors': [{'from': 15, 'to': 23}]},\n",
       "  {'id': 6, 'label': 'udef_q', 'anchors': [{'from': 15, 'to': 23}]},\n",
       "  {'id': 7,\n",
       "   'label': 'card',\n",
       "   'properties': ['carg'],\n",
       "   'values': ['61'],\n",
       "   'anchors': [{'from': 15, 'to': 17}]},\n",
       "  {'id': 8, 'label': '_year_n_1', 'anchors': [{'from': 18, 'to': 23}]},\n",
       "  {'id': 9, 'label': '_old_a_1', 'anchors': [{'from': 24, 'to': 28}]},\n",
       "  {'id': 10, 'label': '_join_v_1', 'anchors': [{'from': 34, 'to': 38}]},\n",
       "  {'id': 11, 'label': '_the_q', 'anchors': [{'from': 39, 'to': 42}]},\n",
       "  {'id': 12, 'label': '_board_n_of', 'anchors': [{'from': 43, 'to': 48}]},\n",
       "  {'id': 13, 'label': '_as_p', 'anchors': [{'from': 49, 'to': 51}]},\n",
       "  {'id': 14, 'label': '_a_q', 'anchors': [{'from': 52, 'to': 53}]},\n",
       "  {'id': 15,\n",
       "   'label': '_nonexecutive_a_unknown',\n",
       "   'anchors': [{'from': 54, 'to': 66}]},\n",
       "  {'id': 16, 'label': '_director_n_of', 'anchors': [{'from': 67, 'to': 75}]},\n",
       "  {'id': 17, 'label': 'loc_nonsp', 'anchors': [{'from': 76, 'to': 84}]},\n",
       "  {'id': 18,\n",
       "   'label': 'mofy',\n",
       "   'properties': ['carg'],\n",
       "   'values': ['Nov'],\n",
       "   'anchors': [{'from': 76, 'to': 80}]},\n",
       "  {'id': 19, 'label': 'def_explicit_q', 'anchors': [{'from': 76, 'to': 80}]},\n",
       "  {'id': 20, 'label': 'of_p', 'anchors': [{'from': 76, 'to': 80}]},\n",
       "  {'id': 21, 'label': 'def_implicit_q', 'anchors': [{'from': 76, 'to': 80}]},\n",
       "  {'id': 22,\n",
       "   'label': 'dofm',\n",
       "   'properties': ['carg'],\n",
       "   'values': ['29'],\n",
       "   'anchors': [{'from': 81, 'to': 84}]}],\n",
       " 'edges': [{'source': 17, 'target': 22, 'label': 'ARG2'},\n",
       "  {'source': 5, 'target': 8, 'label': 'ARG2'},\n",
       "  {'source': 20, 'target': 18, 'label': 'ARG2'},\n",
       "  {'source': 10, 'target': 4, 'label': 'ARG1'},\n",
       "  {'source': 14, 'target': 16, 'label': 'BV'},\n",
       "  {'source': 7, 'target': 8, 'label': 'ARG1'},\n",
       "  {'source': 0, 'target': 4, 'label': 'BV'},\n",
       "  {'source': 9, 'target': 4, 'label': 'ARG1'},\n",
       "  {'source': 17, 'target': 10, 'label': 'ARG1'},\n",
       "  {'source': 19, 'target': 22, 'label': 'BV'},\n",
       "  {'source': 21, 'target': 18, 'label': 'BV'},\n",
       "  {'source': 6, 'target': 8, 'label': 'BV'},\n",
       "  {'source': 13, 'target': 10, 'label': 'ARG1'},\n",
       "  {'source': 13, 'target': 16, 'label': 'ARG2'},\n",
       "  {'source': 10, 'target': 12, 'label': 'ARG2'},\n",
       "  {'source': 1, 'target': 4, 'label': 'ARG1'},\n",
       "  {'source': 20, 'target': 22, 'label': 'ARG1'},\n",
       "  {'source': 1, 'target': 3, 'label': 'ARG2'},\n",
       "  {'source': 5, 'target': 9, 'label': 'ARG1'},\n",
       "  {'source': 2, 'target': 3, 'label': 'BV'},\n",
       "  {'source': 11, 'target': 12, 'label': 'BV'},\n",
       "  {'source': 15, 'target': 16, 'label': 'ARG1'}]}"
      ]
     },
     "execution_count": 671,
     "metadata": {},
     "output_type": "execute_result"
    }
   ],
   "source": [
    "mrp_json"
   ]
  },
  {
   "cell_type": "code",
   "execution_count": 502,
   "metadata": {},
   "outputs": [
    {
     "data": {
      "text/plain": [
       "set()"
      ]
     },
     "execution_count": 502,
     "metadata": {},
     "output_type": "execute_result"
    }
   ],
   "source": [
    "{node.get('id') for node in mrp_json.get('nodes')} - parser_node_id_set"
   ]
  },
  {
   "cell_type": "code",
   "execution_count": 690,
   "metadata": {},
   "outputs": [
    {
     "data": {
      "text/plain": [
       "defaultdict(set,\n",
       "            {22: {0, 9, 16},\n",
       "             8: {1, 5, 11},\n",
       "             18: {2, 10},\n",
       "             4: {3, 6, 7, 15},\n",
       "             16: {4, 13, 21},\n",
       "             10: {8, 12},\n",
       "             12: {14, 20},\n",
       "             3: {17, 19},\n",
       "             9: {18},\n",
       "             2: set(),\n",
       "             1: set(),\n",
       "             0: set(),\n",
       "             7: set(),\n",
       "             6: set(),\n",
       "             5: set(),\n",
       "             11: set(),\n",
       "             13: set(),\n",
       "             14: set(),\n",
       "             15: set(),\n",
       "             21: set(),\n",
       "             17: set(),\n",
       "             19: set(),\n",
       "             20: set()})"
      ]
     },
     "execution_count": 690,
     "metadata": {},
     "output_type": "execute_result"
    }
   ],
   "source": [
    "child_id2edge_id_set"
   ]
  },
  {
   "cell_type": "code",
   "execution_count": null,
   "metadata": {},
   "outputs": [],
   "source": []
  },
  {
   "cell_type": "code",
   "execution_count": null,
   "metadata": {},
   "outputs": [],
   "source": []
  },
  {
   "cell_type": "code",
   "execution_count": null,
   "metadata": {},
   "outputs": [],
   "source": []
  }
 ],
 "metadata": {
  "kernelspec": {
   "display_name": "mrp",
   "language": "python",
   "name": "mrp"
  },
  "language_info": {
   "codemirror_mode": {
    "name": "ipython",
    "version": 3
   },
   "file_extension": ".py",
   "mimetype": "text/x-python",
   "name": "python",
   "nbconvert_exporter": "python",
   "pygments_lexer": "ipython3",
   "version": "3.7.2"
  }
 },
 "nbformat": 4,
 "nbformat_minor": 2
}
