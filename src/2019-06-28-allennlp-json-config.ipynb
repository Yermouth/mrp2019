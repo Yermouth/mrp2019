{
 "cells": [
  {
   "cell_type": "code",
   "execution_count": 1,
   "metadata": {},
   "outputs": [],
   "source": [
    "try:\n",
    "    __IPYTHON__\n",
    "    USING_IPYTHON = True\n",
    "    %load_ext autoreload\n",
    "    %autoreload 2\n",
    "except NameError:\n",
    "    USING_IPYTHON = False"
   ]
  },
  {
   "cell_type": "markdown",
   "metadata": {},
   "source": [
    "#### Argparse"
   ]
  },
  {
   "cell_type": "code",
   "execution_count": 2,
   "metadata": {},
   "outputs": [],
   "source": [
    "import argparse\n",
    "ap = argparse.ArgumentParser()\n",
    "ap.add_argument('project_root', help='')\n",
    "ap.add_argument('--mrp-data-dir', default='data', help='')\n",
    "ap.add_argument('--graphviz-sub-dir', default='visualization/graphviz', help='')\n",
    "ap.add_argument('--train-sub-dir', default='training', help='')\n",
    "ap.add_argument('--companion-sub-dir', default='companion')\n",
    "\n",
    "ap.add_argument('--mrp-file-extension', default='.mrp')\n",
    "ap.add_argument('--companion-file-extension', default='.conllu')\n",
    "ap.add_argument('--graphviz-file-template', default='http://localhost:8000/files/proj29_ds1/home/slai/mrp2019/visualization/graphviz/{}/{}.mrp/{}.png')\n",
    "arg_string = \"\"\"\n",
    "    /data/proj29_ds1/home/slai/mrp2019\n",
    "\"\"\"\n",
    "arguments = [arg for arg_line in arg_string.split(r'\\\\n') for arg in arg_line.split()]"
   ]
  },
  {
   "cell_type": "code",
   "execution_count": 3,
   "metadata": {},
   "outputs": [],
   "source": [
    "if USING_IPYTHON:\n",
    "    args = ap.parse_args(arguments)\n",
    "else:\n",
    "    args = ap.parse_args()"
   ]
  },
  {
   "cell_type": "code",
   "execution_count": 4,
   "metadata": {},
   "outputs": [
    {
     "data": {
      "text/plain": [
       "Namespace(companion_file_extension='.conllu', companion_sub_dir='companion', graphviz_file_template='http://localhost:8000/files/proj29_ds1/home/slai/mrp2019/visualization/graphviz/{}/{}.mrp/{}.png', graphviz_sub_dir='visualization/graphviz', mrp_data_dir='data', mrp_file_extension='.mrp', project_root='/data/proj29_ds1/home/slai/mrp2019', train_sub_dir='training')"
      ]
     },
     "execution_count": 4,
     "metadata": {},
     "output_type": "execute_result"
    }
   ],
   "source": [
    "args"
   ]
  },
  {
   "cell_type": "markdown",
   "metadata": {},
   "source": [
    "#### Library imports"
   ]
  },
  {
   "cell_type": "code",
   "execution_count": 5,
   "metadata": {},
   "outputs": [],
   "source": [
    "import json\n",
    "import logging\n",
    "import os\n",
    "import pprint\n",
    "import string\n",
    "\n",
    "from collections import Counter\n",
    "from collections import defaultdict\n",
    "from tqdm import tqdm\n",
    "import matplotlib.pyplot as plt\n",
    "import networkx as nx\n",
    "import numpy as np\n",
    "import plot_util"
   ]
  },
  {
   "cell_type": "markdown",
   "metadata": {},
   "source": [
    "#### ipython notebook specific imports"
   ]
  },
  {
   "cell_type": "code",
   "execution_count": 6,
   "metadata": {},
   "outputs": [],
   "source": [
    "if USING_IPYTHON:\n",
    "    # matplotlib config\n",
    "    %matplotlib inline"
   ]
  },
  {
   "cell_type": "code",
   "execution_count": 7,
   "metadata": {},
   "outputs": [],
   "source": [
    "sh = logging.StreamHandler()\n",
    "formatter = logging.Formatter('%(name)s - %(levelname)s - %(message)s')\n",
    "sh.setFormatter(formatter)\n",
    "logging.basicConfig(level=logging.INFO, handlers=[sh])\n",
    "logger = logging.getLogger(__name__)  # pylint: disable=invalid-name\n",
    "logger.setLevel(logging.INFO)"
   ]
  },
  {
   "cell_type": "markdown",
   "metadata": {},
   "source": [
    "### Constants"
   ]
  },
  {
   "cell_type": "code",
   "execution_count": 8,
   "metadata": {},
   "outputs": [],
   "source": [
    "UNKWOWN = 'UNKWOWN'"
   ]
  },
  {
   "cell_type": "markdown",
   "metadata": {},
   "source": [
    "### Load data"
   ]
  },
  {
   "cell_type": "code",
   "execution_count": 23,
   "metadata": {},
   "outputs": [],
   "source": [
    "from preprocessing import MrpDataset"
   ]
  },
  {
   "cell_type": "code",
   "execution_count": 24,
   "metadata": {},
   "outputs": [],
   "source": [
    "train_dir = os.path.join(args.project_root, args.mrp_data_dir, args.train_sub_dir)"
   ]
  },
  {
   "cell_type": "code",
   "execution_count": 25,
   "metadata": {},
   "outputs": [],
   "source": [
    "mrp_dataset = MrpDataset()"
   ]
  },
  {
   "cell_type": "code",
   "execution_count": 26,
   "metadata": {},
   "outputs": [
    {
     "name": "stderr",
     "output_type": "stream",
     "text": [
      "frameworks:   0%|          | 0/5 [00:00<?, ?it/s]\n",
      "dataset_name:   0%|          | 0/2 [00:00<?, ?it/s]\u001b[A\n",
      "dataset_name:  50%|█████     | 1/2 [00:00<00:00,  5.61it/s]\u001b[A\n",
      "frameworks:  20%|██        | 1/5 [00:00<00:01,  2.78it/s]s]\u001b[A\n",
      "dataset_name:   0%|          | 0/1 [00:00<?, ?it/s]\u001b[A\n",
      "frameworks:  40%|████      | 2/5 [00:02<00:02,  1.20it/s]t]\u001b[A\n",
      "dataset_name:   0%|          | 0/1 [00:00<?, ?it/s]\u001b[A\n",
      "frameworks:  60%|██████    | 3/5 [00:08<00:05,  2.55s/it]t]\u001b[A\n",
      "dataset_name:   0%|          | 0/1 [00:00<?, ?it/s]\u001b[A\n",
      "frameworks:  80%|████████  | 4/5 [00:14<00:03,  3.54s/it]t]\u001b[A\n",
      "dataset_name:   0%|          | 0/14 [00:00<?, ?it/s]\u001b[A\n",
      "dataset_name:  43%|████▎     | 6/14 [00:00<00:00, 22.90it/s]\u001b[A\n",
      "dataset_name:  57%|█████▋    | 8/14 [00:00<00:00, 19.06it/s]\u001b[A\n",
      "dataset_name:  71%|███████▏  | 10/14 [00:01<00:00,  6.36it/s]\u001b[A\n",
      "dataset_name:  79%|███████▊  | 11/14 [00:01<00:00,  5.87it/s]\u001b[A\n",
      "frameworks: 100%|██████████| 5/5 [00:16<00:00,  2.92s/it]t/s]\u001b[A\n"
     ]
    }
   ],
   "source": [
    "frameworks, framework2dataset2mrp_jsons = mrp_dataset.load_mrp_json_dir(\n",
    "    train_dir, args.mrp_file_extension)"
   ]
  },
  {
   "cell_type": "code",
   "execution_count": 13,
   "metadata": {},
   "outputs": [
    {
     "name": "stderr",
     "output_type": "stream",
     "text": [
      "__main__ - INFO - ucca\n",
      "__main__ - INFO - ['wiki', 'ewt']\n",
      "__main__ - INFO - psd\n",
      "__main__ - INFO - ['wsj']\n",
      "__main__ - INFO - eds\n",
      "__main__ - INFO - ['wsj']\n",
      "__main__ - INFO - dm\n",
      "__main__ - INFO - ['wsj']\n",
      "__main__ - INFO - amr\n",
      "__main__ - INFO - ['xinhua', 'wsj', 'wiki', 'wb', 'rte', 'proxy', 'mt09sdl', 'lorelei', 'fables', 'dfb', 'dfa', 'cctv', 'bolt', 'amr-guidelines']\n"
     ]
    }
   ],
   "source": [
    "for framework in framework2dataset2mrp_jsons:\n",
    "    logger.info(framework)\n",
    "    logger.info(list(framework2dataset2mrp_jsons[framework].keys()))"
   ]
  },
  {
   "cell_type": "code",
   "execution_count": null,
   "metadata": {},
   "outputs": [],
   "source": []
  },
  {
   "cell_type": "markdown",
   "metadata": {},
   "source": [
    "### Data Preprocessing companion"
   ]
  },
  {
   "cell_type": "code",
   "execution_count": 14,
   "metadata": {},
   "outputs": [],
   "source": [
    "from preprocessing import CompanionParseDataset"
   ]
  },
  {
   "cell_type": "code",
   "execution_count": 15,
   "metadata": {},
   "outputs": [],
   "source": [
    "companion_dir = os.path.join(args.project_root, args.mrp_data_dir, args.companion_sub_dir)"
   ]
  },
  {
   "cell_type": "code",
   "execution_count": 16,
   "metadata": {},
   "outputs": [],
   "source": [
    "cparse_dataset = CompanionParseDataset()"
   ]
  },
  {
   "cell_type": "code",
   "execution_count": 19,
   "metadata": {},
   "outputs": [
    {
     "name": "stderr",
     "output_type": "stream",
     "text": [
      "preprocessing - INFO - framework amr found\n",
      "dataset: 100%|██████████| 13/13 [00:01<00:00,  9.60it/s]\n",
      "preprocessing - INFO - framework dm found\n",
      "dataset: 100%|██████████| 5/5 [00:05<00:00,  1.49s/it]\n",
      "preprocessing - INFO - framework ucca found\n",
      "dataset: 100%|██████████| 6/6 [00:00<00:00, 27.53it/s]\n"
     ]
    }
   ],
   "source": [
    "dataset2cid2parse = cparse_dataset.load_companion_parse_dir(companion_dir, args.companion_file_extension)"
   ]
  },
  {
   "cell_type": "code",
   "execution_count": 20,
   "metadata": {},
   "outputs": [
    {
     "data": {
      "text/plain": [
       "dict_keys(['amr-guidelines', 'bolt', 'cctv', 'dfa', 'dfb', 'fables', 'lorelei', 'mt09sdl', 'proxy', 'rte', 'wb', 'wiki', 'xinhua', 'wsj', 'ewt'])"
      ]
     },
     "execution_count": 20,
     "metadata": {},
     "output_type": "execute_result"
    }
   ],
   "source": [
    "dataset2cid2parse.keys()"
   ]
  },
  {
   "cell_type": "code",
   "execution_count": 21,
   "metadata": {
    "scrolled": false
   },
   "outputs": [
    {
     "data": {
      "text/plain": [
       "False"
      ]
     },
     "execution_count": 21,
     "metadata": {},
     "output_type": "execute_result"
    }
   ],
   "source": [
    "# Some data is missing\n",
    "'20003001' in dataset2cid2parse['wsj']"
   ]
  },
  {
   "cell_type": "markdown",
   "metadata": {},
   "source": [
    "### Plot companion data"
   ]
  },
  {
   "cell_type": "code",
   "execution_count": 27,
   "metadata": {},
   "outputs": [
    {
     "name": "stdout",
     "output_type": "stream",
     "text": [
      "28 “ But you have to recognize that these events took place 35 years ago .\n",
      "http://localhost:8000/files/proj29_ds1/home/slai/mrp2019/visualization/graphviz/psd/wsj.mrp/20003029.png\n",
      "http://localhost:8000/files/proj29_ds1/home/slai/mrp2019/visualization/graphviz/eds/wsj.mrp/20003029.png\n",
      "http://localhost:8000/files/proj29_ds1/home/slai/mrp2019/visualization/graphviz/dm/wsj.mrp/20003029.png\n",
      "http://localhost:8000/files/proj29_ds1/home/slai/mrp2019/visualization/graphviz/amr/wsj.mrp/20003029.png\n",
      "http://localhost:8000/files/proj29_ds1/home/slai/mrp2019/visualization/graphviz/wsj/20003029.png\n"
     ]
    }
   ],
   "source": [
    "dataset = 'wiki'\n",
    "dataset = 'wsj'\n",
    "framework = 'dm'\n",
    "framework = 'eds'\n",
    "framework = 'psd'\n",
    "framework = 'ucca'\n",
    "framework = 'amr'\n",
    "mrp_index = 26\n",
    "\n",
    "parse = None\n",
    "while not parse:\n",
    "    mrp_index += 1\n",
    "    cid = framework2dataset2mrp_jsons[framework][dataset][mrp_index]['id']\n",
    "    parse = dataset2cid2parse[dataset].get(cid)\n",
    "    \n",
    "# print sentence\n",
    "print(mrp_index, ' '.join([word_record[1] for word_record in parse]))\n",
    "\n",
    "# print corresponding mrp png link\n",
    "for framework in frameworks:\n",
    "    if dataset not in framework2dataset2mrp_jsons[framework]:\n",
    "        continue\n",
    "    if len(framework2dataset2mrp_jsons[framework][dataset]) <= mrp_index:\n",
    "        continue\n",
    "    if framework2dataset2mrp_jsons[framework][dataset][mrp_index]['id'] == cid:\n",
    "        print(args.graphviz_file_template.format(framework, dataset, cid))\n",
    "\n",
    "# \n",
    "def plot_parse(parse, args, dataset, cid):\n",
    "    \"\"\"plot parse and print png filename\"\"\"\n",
    "    parse_dg = plot_util.parse_to_directed_graph(parse)\n",
    "    dataset_dir = os.path.join(args.graphviz_sub_dir, dataset)\n",
    "    image_path = os.path.join(dataset_dir, cid + '.png')\n",
    "    os.makedirs(dataset_dir, exist_ok=True)\n",
    "    plot_util.directed_graph_to_graphviz_image(parse_dg, image_path)\n",
    "    return os.path.join('http://localhost:8000/files/proj29_ds1/home/slai/mrp2019', image_path)\n",
    "    \n",
    "parse_plot_filename = plot_parse(parse, args, dataset, cid)\n",
    "print(parse_plot_filename)"
   ]
  },
  {
   "cell_type": "code",
   "execution_count": null,
   "metadata": {},
   "outputs": [],
   "source": []
  }
 ],
 "metadata": {
  "kernelspec": {
   "display_name": "mrp",
   "language": "python",
   "name": "mrp"
  },
  "language_info": {
   "codemirror_mode": {
    "name": "ipython",
    "version": 3
   },
   "file_extension": ".py",
   "mimetype": "text/x-python",
   "name": "python",
   "nbconvert_exporter": "python",
   "pygments_lexer": "ipython3",
   "version": "3.7.2"
  }
 },
 "nbformat": 4,
 "nbformat_minor": 2
}
