{
 "cells": [
  {
   "cell_type": "code",
   "execution_count": 1,
   "metadata": {},
   "outputs": [],
   "source": [
    "try:\n",
    "    __IPYTHON__\n",
    "    USING_IPYTHON = True\n",
    "    %load_ext autoreload\n",
    "    %autoreload 2\n",
    "except NameError:\n",
    "    USING_IPYTHON = False"
   ]
  },
  {
   "cell_type": "markdown",
   "metadata": {},
   "source": [
    "#### Argparse"
   ]
  },
  {
   "cell_type": "code",
   "execution_count": 2,
   "metadata": {},
   "outputs": [],
   "source": [
    "import argparse\n",
    "ap = argparse.ArgumentParser()\n",
    "ap.add_argument('project_root', help='')\n",
    "ap.add_argument('--mrp-data-dir', default='data', help='')\n",
    "ap.add_argument('--graphviz-sub-dir', default='visualization/graphviz', help='')\n",
    "ap.add_argument('--train-sub-dir', default='training', help='')\n",
    "ap.add_argument('--companion-sub-dir', default='companion')\n",
    "ap.add_argument('--jamr-alignment-file', default='jamr.mrp')\n",
    "\n",
    "\n",
    "ap.add_argument('--mrp-file-extension', default='.mrp')\n",
    "ap.add_argument('--companion-file-extension', default='.conllu')\n",
    "ap.add_argument('--graphviz-file-template', default='http://localhost:8000/files/proj29_ds1/home/slai/mrp2019/visualization/graphviz/{}/{}.mrp/{}.png')\n",
    "arg_string = \"\"\"\n",
    "    /data/proj29_ds1/home/slai/mrp2019\n",
    "\"\"\"\n",
    "arguments = [arg for arg_line in arg_string.split(r'\\\\n') for arg in arg_line.split()]"
   ]
  },
  {
   "cell_type": "code",
   "execution_count": 3,
   "metadata": {},
   "outputs": [],
   "source": [
    "if USING_IPYTHON:\n",
    "    args = ap.parse_args(arguments)\n",
    "else:\n",
    "    args = ap.parse_args()"
   ]
  },
  {
   "cell_type": "code",
   "execution_count": 4,
   "metadata": {},
   "outputs": [
    {
     "data": {
      "text/plain": [
       "Namespace(companion_file_extension='.conllu', companion_sub_dir='companion', graphviz_file_template='http://localhost:8000/files/proj29_ds1/home/slai/mrp2019/visualization/graphviz/{}/{}.mrp/{}.png', graphviz_sub_dir='visualization/graphviz', jamr_alignment_file='jamr.mrp', mrp_data_dir='data', mrp_file_extension='.mrp', project_root='/data/proj29_ds1/home/slai/mrp2019', train_sub_dir='training')"
      ]
     },
     "execution_count": 4,
     "metadata": {},
     "output_type": "execute_result"
    }
   ],
   "source": [
    "args"
   ]
  },
  {
   "cell_type": "markdown",
   "metadata": {},
   "source": [
    "#### Library imports"
   ]
  },
  {
   "cell_type": "code",
   "execution_count": 5,
   "metadata": {},
   "outputs": [],
   "source": [
    "import json\n",
    "import logging\n",
    "import os\n",
    "import pprint\n",
    "import re\n",
    "import string\n",
    "from collections import Counter, defaultdict, deque\n",
    "\n",
    "import matplotlib.pyplot as plt\n",
    "import networkx as nx\n",
    "import numpy as np\n",
    "import plot_util\n",
    "from preprocessing import CompanionParseDataset, MrpDataset, JamrAlignmentDataset\n",
    "from action_state import mrp_json2parser_states, _generate_parser_action_states\n",
    "                           \n",
    "from tqdm import tqdm"
   ]
  },
  {
   "cell_type": "markdown",
   "metadata": {},
   "source": [
    "#### ipython notebook specific imports"
   ]
  },
  {
   "cell_type": "code",
   "execution_count": 6,
   "metadata": {},
   "outputs": [],
   "source": [
    "if USING_IPYTHON:\n",
    "    # matplotlib config\n",
    "    %matplotlib inline"
   ]
  },
  {
   "cell_type": "code",
   "execution_count": 7,
   "metadata": {},
   "outputs": [],
   "source": [
    "sh = logging.StreamHandler()\n",
    "formatter = logging.Formatter('%(name)s - %(levelname)s - %(message)s')\n",
    "sh.setFormatter(formatter)\n",
    "logging.basicConfig(level=logging.DEBUG, handlers=[sh])\n",
    "logger = logging.getLogger(__name__)  # pylint: disable=invalid-name\n",
    "logger.setLevel(logging.INFO)"
   ]
  },
  {
   "cell_type": "markdown",
   "metadata": {},
   "source": [
    "### Constants"
   ]
  },
  {
   "cell_type": "code",
   "execution_count": 8,
   "metadata": {},
   "outputs": [],
   "source": [
    "UNKWOWN = 'UNKWOWN'"
   ]
  },
  {
   "cell_type": "markdown",
   "metadata": {},
   "source": [
    "### Load data"
   ]
  },
  {
   "cell_type": "code",
   "execution_count": 9,
   "metadata": {},
   "outputs": [],
   "source": [
    "train_dir = os.path.join(args.project_root, args.mrp_data_dir, args.train_sub_dir)"
   ]
  },
  {
   "cell_type": "code",
   "execution_count": 10,
   "metadata": {},
   "outputs": [],
   "source": [
    "mrp_dataset = MrpDataset()"
   ]
  },
  {
   "cell_type": "code",
   "execution_count": 11,
   "metadata": {},
   "outputs": [
    {
     "name": "stderr",
     "output_type": "stream",
     "text": [
      "frameworks:   0%|          | 0/5 [00:00<?, ?it/s]\n",
      "dataset_name:   0%|          | 0/2 [00:00<?, ?it/s]\u001b[A\n",
      "dataset_name:  50%|█████     | 1/2 [00:00<00:00,  2.77it/s]\u001b[A\n",
      "frameworks:  20%|██        | 1/5 [00:00<00:02,  1.40it/s]s]\u001b[A\n",
      "dataset_name:   0%|          | 0/1 [00:00<?, ?it/s]\u001b[A\n",
      "frameworks:  40%|████      | 2/5 [00:04<00:04,  1.62s/it]t]\u001b[A\n",
      "dataset_name:   0%|          | 0/1 [00:00<?, ?it/s]\u001b[A\n",
      "frameworks:  60%|██████    | 3/5 [00:08<00:04,  2.50s/it]t]\u001b[A\n",
      "dataset_name:   0%|          | 0/1 [00:00<?, ?it/s]\u001b[A\n",
      "frameworks:  80%|████████  | 4/5 [00:15<00:03,  3.60s/it]t]\u001b[A\n",
      "dataset_name:   0%|          | 0/14 [00:00<?, ?it/s]\u001b[A\n",
      "dataset_name:  29%|██▊       | 4/14 [00:00<00:00, 39.39it/s]\u001b[A\n",
      "dataset_name:  43%|████▎     | 6/14 [00:00<00:00, 17.50it/s]\u001b[A\n",
      "dataset_name:  57%|█████▋    | 8/14 [00:00<00:00, 15.74it/s]\u001b[A\n",
      "dataset_name:  71%|███████▏  | 10/14 [00:01<00:00,  6.21it/s]\u001b[A\n",
      "dataset_name:  79%|███████▊  | 11/14 [00:01<00:00,  5.78it/s]\u001b[A\n",
      "frameworks: 100%|██████████| 5/5 [00:16<00:00,  2.99s/it]t/s]\u001b[A\n"
     ]
    }
   ],
   "source": [
    "frameworks, framework2dataset2mrp_jsons = mrp_dataset.load_mrp_json_dir(\n",
    "    train_dir, args.mrp_file_extension)"
   ]
  },
  {
   "cell_type": "code",
   "execution_count": null,
   "metadata": {},
   "outputs": [],
   "source": []
  },
  {
   "cell_type": "markdown",
   "metadata": {},
   "source": [
    "### Data Preprocessing companion"
   ]
  },
  {
   "cell_type": "code",
   "execution_count": 12,
   "metadata": {},
   "outputs": [],
   "source": [
    "companion_dir = os.path.join(args.project_root, args.mrp_data_dir, args.companion_sub_dir)"
   ]
  },
  {
   "cell_type": "code",
   "execution_count": 13,
   "metadata": {},
   "outputs": [],
   "source": [
    "cparse_dataset = CompanionParseDataset()"
   ]
  },
  {
   "cell_type": "code",
   "execution_count": 14,
   "metadata": {},
   "outputs": [
    {
     "name": "stderr",
     "output_type": "stream",
     "text": [
      "preprocessing - INFO - framework amr found\n",
      "dataset: 100%|██████████| 13/13 [00:03<00:00,  3.83it/s]\n",
      "preprocessing - INFO - framework dm found\n",
      "dataset: 100%|██████████| 5/5 [00:01<00:00,  4.22it/s]\n",
      "preprocessing - INFO - framework ucca found\n",
      "dataset: 100%|██████████| 6/6 [00:00<00:00, 24.79it/s]\n"
     ]
    }
   ],
   "source": [
    "dataset2cid2parse = cparse_dataset.load_companion_parse_dir(companion_dir, args.companion_file_extension)"
   ]
  },
  {
   "cell_type": "code",
   "execution_count": 15,
   "metadata": {},
   "outputs": [
    {
     "data": {
      "text/plain": [
       "dict_keys(['amr-guidelines', 'bolt', 'cctv', 'dfa', 'dfb', 'fables', 'lorelei', 'mt09sdl', 'proxy', 'rte', 'wb', 'wiki', 'xinhua', 'wsj', 'ewt'])"
      ]
     },
     "execution_count": 15,
     "metadata": {},
     "output_type": "execute_result"
    }
   ],
   "source": [
    "dataset2cid2parse.keys()"
   ]
  },
  {
   "cell_type": "code",
   "execution_count": 16,
   "metadata": {
    "scrolled": false
   },
   "outputs": [
    {
     "data": {
      "text/plain": [
       "False"
      ]
     },
     "execution_count": 16,
     "metadata": {},
     "output_type": "execute_result"
    }
   ],
   "source": [
    "# Some data is missing\n",
    "'20003001' in dataset2cid2parse['wsj']"
   ]
  },
  {
   "cell_type": "markdown",
   "metadata": {},
   "source": [
    "### Load JAMR alignment data"
   ]
  },
  {
   "cell_type": "code",
   "execution_count": 17,
   "metadata": {},
   "outputs": [],
   "source": [
    "jalignment_dataset = JamrAlignmentDataset()"
   ]
  },
  {
   "cell_type": "code",
   "execution_count": 18,
   "metadata": {},
   "outputs": [],
   "source": [
    "cid2alignment = jalignment_dataset.load_jamr_alignment_file(os.path.join(\n",
    "    args.project_root,\n",
    "    args.mrp_data_dir,\n",
    "    args.companion_sub_dir,\n",
    "    args.jamr_alignment_file\n",
    "))"
   ]
  },
  {
   "cell_type": "markdown",
   "metadata": {},
   "source": [
    "### Define the state at each step"
   ]
  },
  {
   "cell_type": "code",
   "execution_count": 19,
   "metadata": {},
   "outputs": [
    {
     "name": "stderr",
     "output_type": "stream",
     "text": [
      "__main__ - INFO - ucca\n",
      "__main__ - INFO - ['wiki', 'ewt']\n",
      "__main__ - INFO - psd\n",
      "__main__ - INFO - ['wsj']\n",
      "__main__ - INFO - eds\n",
      "__main__ - INFO - ['wsj']\n",
      "__main__ - INFO - dm\n",
      "__main__ - INFO - ['wsj']\n",
      "__main__ - INFO - amr\n",
      "__main__ - INFO - ['xinhua', 'wsj', 'wiki', 'wb', 'rte', 'proxy', 'mt09sdl', 'lorelei', 'fables', 'dfb', 'dfa', 'cctv', 'bolt', 'amr-guidelines']\n"
     ]
    }
   ],
   "source": [
    "for framework in framework2dataset2mrp_jsons:\n",
    "    logger.info(framework)\n",
    "    logger.info(list(framework2dataset2mrp_jsons[framework].keys()))"
   ]
  },
  {
   "cell_type": "markdown",
   "metadata": {},
   "source": [
    "### Test module"
   ]
  },
  {
   "cell_type": "code",
   "execution_count": 135,
   "metadata": {},
   "outputs": [],
   "source": [
    "from action_state import mrp_json2parser_states, _generate_parser_action_states"
   ]
  },
  {
   "cell_type": "code",
   "execution_count": 136,
   "metadata": {},
   "outputs": [],
   "source": [
    "from action_state import sentence_spliter"
   ]
  },
  {
   "cell_type": "code",
   "execution_count": 190,
   "metadata": {},
   "outputs": [
    {
     "data": {
      "text/plain": [
       "('dm', 'wsj')"
      ]
     },
     "execution_count": 190,
     "metadata": {},
     "output_type": "execute_result"
    }
   ],
   "source": [
    "framework, dataset = [\n",
    "    ('dm', 'wsj'),\n",
    "    ('psd', 'wsj'),\n",
    "    ('eds', 'wsj'),\n",
    "    ('ucca', 'wiki'),\n",
    "    ('amr', 'wsj'),\n",
    "    ('amr', 'wiki'),\n",
    "][0]\n",
    "\n",
    "mrp_jsons = framework2dataset2mrp_jsons[framework][dataset]\n",
    "framework, dataset"
   ]
  },
  {
   "cell_type": "code",
   "execution_count": null,
   "metadata": {},
   "outputs": [],
   "source": []
  },
  {
   "cell_type": "code",
   "execution_count": 191,
   "metadata": {},
   "outputs": [],
   "source": [
    "mrp_json = mrp_jsons[0]"
   ]
  },
  {
   "cell_type": "code",
   "execution_count": 192,
   "metadata": {},
   "outputs": [],
   "source": [
    "# mrp_json = [mrp_json for mrp_json in mrp_jsons if mrp_json.get('id') == '20209013'][0]"
   ]
  },
  {
   "cell_type": "code",
   "execution_count": 193,
   "metadata": {},
   "outputs": [
    {
     "data": {
      "text/plain": [
       "'Pierre Vinken, 61 years old, will join the board as a nonexecutive director Nov. 29.'"
      ]
     },
     "execution_count": 193,
     "metadata": {},
     "output_type": "execute_result"
    }
   ],
   "source": [
    "mrp_json['input']"
   ]
  },
  {
   "cell_type": "code",
   "execution_count": 172,
   "metadata": {},
   "outputs": [],
   "source": [
    "alignment = {}\n",
    "if framework == 'amr':\n",
    "    cid = mrp_json.get('id', '')\n",
    "    alignment = cid2alignment[cid]"
   ]
  },
  {
   "cell_type": "code",
   "execution_count": 184,
   "metadata": {
    "scrolled": true
   },
   "outputs": [
    {
     "name": "stderr",
     "output_type": "stream",
     "text": [
      "__main__ - INFO - http://localhost:8000/files/proj29_ds1/home/slai/mrp2019/visualization/graphviz/ucca/wiki.mrp/502000.png\n"
     ]
    }
   ],
   "source": [
    "logger.info(args.graphviz_file_template.format(\n",
    "    framework, dataset, mrp_json.get('id')))"
   ]
  },
  {
   "cell_type": "code",
   "execution_count": 187,
   "metadata": {
    "scrolled": true
   },
   "outputs": [],
   "source": [
    "parser_states, meta_data = mrp_json2parser_states(mrp_json, alignment)"
   ]
  },
  {
   "cell_type": "code",
   "execution_count": 186,
   "metadata": {},
   "outputs": [],
   "source": [
    "from allennlp.data.tokenizers import Tokenizer, WordTokenizer"
   ]
  },
  {
   "cell_type": "code",
   "execution_count": 177,
   "metadata": {},
   "outputs": [],
   "source": [
    "wt = WordTokenizer()"
   ]
  },
  {
   "cell_type": "code",
   "execution_count": 180,
   "metadata": {},
   "outputs": [],
   "source": [
    "tokenized_doc = wt.tokenize(mrp_json['input'])"
   ]
  },
  {
   "cell_type": "code",
   "execution_count": 183,
   "metadata": {},
   "outputs": [
    {
     "data": {
      "text/plain": [
       "allennlp.data.tokenizers.token.Token"
      ]
     },
     "execution_count": 183,
     "metadata": {},
     "output_type": "execute_result"
    }
   ],
   "source": [
    "type(tokenized_doc[0])"
   ]
  },
  {
   "cell_type": "code",
   "execution_count": 178,
   "metadata": {},
   "outputs": [
    {
     "data": {
      "text/plain": [
       "'Bowie moved to Switzerland in 1976, purchasing a chalet in the hills to the north of Lake Geneva.'"
      ]
     },
     "execution_count": 178,
     "metadata": {},
     "output_type": "execute_result"
    }
   ],
   "source": [
    "mrp_json['input']"
   ]
  },
  {
   "cell_type": "code",
   "execution_count": 194,
   "metadata": {},
   "outputs": [],
   "source": [
    "(\n",
    "    doc,\n",
    "    nodes,\n",
    "    node_id2node,\n",
    "    edge_id2edge,\n",
    "    top_oriented_edges,\n",
    "    token_nodes,\n",
    "    abstract_node_id_set,\n",
    "    parent_id2indegree,\n",
    "    parent_id2child_id_set,\n",
    "    child_id2parent_id_set,\n",
    "    child_id2edge_id_set,\n",
    "    parent_id2edge_id_set,\n",
    "    token_node_id_set,\n",
    "    actions,\n",
    "    anchor2token_id,\n",
    "    parent_child_id2edge_id_set,\n",
    ") = meta_data"
   ]
  },
  {
   "cell_type": "code",
   "execution_count": 195,
   "metadata": {},
   "outputs": [
    {
     "data": {
      "text/plain": [
       "{20, 21, 22, 23, 24, 25, 26, 27, 28}"
      ]
     },
     "execution_count": 195,
     "metadata": {},
     "output_type": "execute_result"
    }
   ],
   "source": [
    "abstract_node_id_set"
   ]
  },
  {
   "cell_type": "code",
   "execution_count": 165,
   "metadata": {},
   "outputs": [
    {
     "data": {
      "text/plain": [
       "defaultdict(set,\n",
       "            {20: {0, 14, 24, 25},\n",
       "             25: {1, 6, 11},\n",
       "             21: {2, 8, 17},\n",
       "             24: {3, 28},\n",
       "             28: {4, 9, 12, 21, 23},\n",
       "             22: {5, 27},\n",
       "             23: {10, 20},\n",
       "             27: {13, 19, 26},\n",
       "             26: {15, 16, 18, 22}})"
      ]
     },
     "execution_count": 165,
     "metadata": {},
     "output_type": "execute_result"
    }
   ],
   "source": [
    "parent_id2edge_id_set"
   ]
  },
  {
   "cell_type": "code",
   "execution_count": 152,
   "metadata": {},
   "outputs": [
    {
     "data": {
      "text/plain": [
       "defaultdict(set,\n",
       "            {20: {0, 1, 22, 23},\n",
       "             25: {8, 9, 26},\n",
       "             21: {6, 20, 24},\n",
       "             24: {7, 25},\n",
       "             28: {16, 17, 18, 19, 27},\n",
       "             22: {2, 3},\n",
       "             23: {4, 5},\n",
       "             27: {13, 14, 15},\n",
       "             26: {10, 11, 12, 28}})"
      ]
     },
     "execution_count": 152,
     "metadata": {},
     "output_type": "execute_result"
    }
   ],
   "source": [
    "parent_id2child_id_set"
   ]
  },
  {
   "cell_type": "code",
   "execution_count": 153,
   "metadata": {},
   "outputs": [],
   "source": [
    "# node_id2node"
   ]
  },
  {
   "cell_type": "code",
   "execution_count": 160,
   "metadata": {},
   "outputs": [
    {
     "data": {
      "text/plain": [
       "{'source': 22, 'target': 2, 'label': 'R', 'id': 27, 'parent': 22, 'child': 2}"
      ]
     },
     "execution_count": 160,
     "metadata": {},
     "output_type": "execute_result"
    }
   ],
   "source": [
    "top_oriented_edges[27]"
   ]
  },
  {
   "cell_type": "code",
   "execution_count": 161,
   "metadata": {},
   "outputs": [
    {
     "data": {
      "text/plain": [
       "{'source': 22, 'target': 3, 'label': 'C', 'id': 5, 'parent': 22, 'child': 3}"
      ]
     },
     "execution_count": 161,
     "metadata": {},
     "output_type": "execute_result"
    }
   ],
   "source": [
    "top_oriented_edges[5]"
   ]
  },
  {
   "cell_type": "code",
   "execution_count": 189,
   "metadata": {},
   "outputs": [
    {
     "data": {
      "text/plain": [
       "[Bowie,\n",
       " moved,\n",
       " to,\n",
       " Switzerland,\n",
       " in,\n",
       " 1976,\n",
       " ,,\n",
       " purchasing,\n",
       " a,\n",
       " chalet,\n",
       " in,\n",
       " the,\n",
       " hills,\n",
       " to,\n",
       " the,\n",
       " north,\n",
       " of,\n",
       " Lake,\n",
       " Geneva,\n",
       " .]"
      ]
     },
     "execution_count": 189,
     "metadata": {},
     "output_type": "execute_result"
    }
   ],
   "source": [
    "tokenized_doc"
   ]
  },
  {
   "cell_type": "code",
   "execution_count": 188,
   "metadata": {},
   "outputs": [
    {
     "data": {
      "text/plain": [
       "[{'id': 0, 'anchors': [{'from': 0, 'to': 5}], 'label': 'Bowie'},\n",
       " {'id': 1, 'anchors': [{'from': 6, 'to': 11}], 'label': 'moved'},\n",
       " {'id': 2, 'anchors': [{'from': 12, 'to': 14}], 'label': 'to'},\n",
       " {'id': 3, 'anchors': [{'from': 15, 'to': 26}], 'label': 'Switzerland'},\n",
       " {'id': 4, 'anchors': [{'from': 27, 'to': 29}], 'label': 'in'},\n",
       " {'id': 5, 'anchors': [{'from': 30, 'to': 34}], 'label': '1976'},\n",
       " {'id': 6, 'anchors': [{'from': 34, 'to': 35}], 'label': ','},\n",
       " {'id': 7, 'anchors': [{'from': 36, 'to': 46}], 'label': 'purchasing'},\n",
       " {'id': 8, 'anchors': [{'from': 47, 'to': 48}], 'label': 'a'},\n",
       " {'id': 9, 'anchors': [{'from': 49, 'to': 55}], 'label': 'chalet'},\n",
       " {'id': 10, 'anchors': [{'from': 56, 'to': 58}], 'label': 'in'},\n",
       " {'id': 11, 'anchors': [{'from': 59, 'to': 62}], 'label': 'the'},\n",
       " {'id': 12, 'anchors': [{'from': 63, 'to': 68}], 'label': 'hills'},\n",
       " {'id': 13, 'anchors': [{'from': 69, 'to': 71}], 'label': 'to'},\n",
       " {'id': 14, 'anchors': [{'from': 72, 'to': 75}], 'label': 'the'},\n",
       " {'id': 15, 'anchors': [{'from': 76, 'to': 81}], 'label': 'north'},\n",
       " {'id': 16, 'anchors': [{'from': 82, 'to': 84}], 'label': 'of'},\n",
       " {'id': 17, 'anchors': [{'from': 85, 'to': 89}], 'label': 'Lake'},\n",
       " {'id': 18, 'anchors': [{'from': 90, 'to': 96}], 'label': 'Geneva'},\n",
       " {'id': 19, 'anchors': [{'from': 96, 'to': 97}], 'label': '.'},\n",
       " {'id': 20},\n",
       " {'id': 21},\n",
       " {'id': 22},\n",
       " {'id': 23},\n",
       " {'id': 24},\n",
       " {'id': 25},\n",
       " {'id': 26},\n",
       " {'id': 27},\n",
       " {'id': 28}]"
      ]
     },
     "execution_count": 188,
     "metadata": {},
     "output_type": "execute_result"
    }
   ],
   "source": [
    "nodes"
   ]
  },
  {
   "cell_type": "code",
   "execution_count": null,
   "metadata": {},
   "outputs": [],
   "source": []
  },
  {
   "cell_type": "code",
   "execution_count": null,
   "metadata": {},
   "outputs": [],
   "source": []
  },
  {
   "cell_type": "code",
   "execution_count": 155,
   "metadata": {},
   "outputs": [
    {
     "name": "stdout",
     "output_type": "stream",
     "text": [
      "(0,\n",
      " [(1, None),\n",
      "  (2,\n",
      "   (1,\n",
      "    {'anchors': [{'from': 0, 'to': 5}], 'id': 0, 'label': 'Bowie'},\n",
      "    [set()]))],\n",
      " 'Bowie',\n",
      " [],\n",
      " [],\n",
      " [(0, 0, [(0, 0, None)])],\n",
      " [0],\n",
      " [])\n",
      "(1,\n",
      " [(1, None),\n",
      "  (2,\n",
      "   (1,\n",
      "    {'anchors': [{'from': 6, 'to': 11}], 'id': 1, 'label': 'moved'},\n",
      "    [set()]))],\n",
      " 'moved',\n",
      " [],\n",
      " [],\n",
      " [(0, 0, [(0, 0, None)]), (1, 1, [(1, 1, None)])],\n",
      " [0, 1],\n",
      " [])\n",
      "(2,\n",
      " [(1, None),\n",
      "  (2,\n",
      "   (1,\n",
      "    {'anchors': [{'from': 12, 'to': 14}], 'id': 2, 'label': 'to'},\n",
      "    [set()]))],\n",
      " 'to',\n",
      " [],\n",
      " [],\n",
      " [(0, 0, [(0, 0, None)]), (1, 1, [(1, 1, None)]), (2, 2, [(2, 2, None)])],\n",
      " [0, 1, 2],\n",
      " [])\n",
      "(3,\n",
      " [(1, None),\n",
      "  (2,\n",
      "   (1,\n",
      "    {'anchors': [{'from': 15, 'to': 26}], 'id': 3, 'label': 'Switzerland'},\n",
      "    [set()]))],\n",
      " 'Switzerland',\n",
      " ['C'],\n",
      " [22],\n",
      " [(0, 0, [(0, 0, None)]),\n",
      "  (1, 1, [(1, 1, None)]),\n",
      "  (2, 2, [(2, 2, None)]),\n",
      "  (3, 3, [(3, 3, None)])],\n",
      " [0, 1, 2, 3],\n",
      " [])\n",
      "(22,\n",
      " [(2, (2, {'id': 22}, [{27}, {5}]))],\n",
      " None,\n",
      " [],\n",
      " [],\n",
      " [(0, 0, [(0, 0, None)]),\n",
      "  (1, 1, [(1, 1, None)]),\n",
      "  (22, 22, [(2, 2, [(2, 2, None)]), (3, 3, [(3, 3, None)])])],\n",
      " [0, 1, 22],\n",
      " [])\n",
      "(4,\n",
      " [(1, None),\n",
      "  (2,\n",
      "   (1,\n",
      "    {'anchors': [{'from': 27, 'to': 29}], 'id': 4, 'label': 'in'},\n",
      "    [set()]))],\n",
      " 'in',\n",
      " [],\n",
      " [],\n",
      " [(0, 0, [(0, 0, None)]),\n",
      "  (1, 1, [(1, 1, None)]),\n",
      "  (22, 22, [(2, 2, [(2, 2, None)]), (3, 3, [(3, 3, None)])]),\n",
      "  (4, 4, [(4, 4, None)])],\n",
      " [0, 1, 22, 4],\n",
      " [])\n",
      "(5,\n",
      " [(1, None),\n",
      "  (2,\n",
      "   (1,\n",
      "    {'anchors': [{'from': 30, 'to': 34}], 'id': 5, 'label': '1976'},\n",
      "    [set()]))],\n",
      " '1976',\n",
      " ['C'],\n",
      " [23],\n",
      " [(0, 0, [(0, 0, None)]),\n",
      "  (1, 1, [(1, 1, None)]),\n",
      "  (22, 22, [(2, 2, [(2, 2, None)]), (3, 3, [(3, 3, None)])]),\n",
      "  (4, 4, [(4, 4, None)]),\n",
      "  (5, 5, [(5, 5, None)])],\n",
      " [0, 1, 22, 4, 5],\n",
      " [])\n",
      "(23,\n",
      " [(2, (2, {'id': 23}, [{20}, {10}]))],\n",
      " None,\n",
      " ['T'],\n",
      " [20],\n",
      " [(0, 0, [(0, 0, None)]),\n",
      "  (1, 1, [(1, 1, None)]),\n",
      "  (22, 22, [(2, 2, [(2, 2, None)]), (3, 3, [(3, 3, None)])]),\n",
      "  (23, 23, [(4, 4, [(4, 4, None)]), (5, 5, [(5, 5, None)])])],\n",
      " [0, 1, 22, 23],\n",
      " [])\n",
      "(20,\n",
      " [(2, (4, {'id': 20}, [{25}, {0}, {14}, {24}]))],\n",
      " None,\n",
      " [],\n",
      " [],\n",
      " [(20,\n",
      "   20,\n",
      "   [(0, 0, [(0, 0, None)]),\n",
      "    (1, 1, [(1, 1, None)]),\n",
      "    (22, 22, [(2, 2, [(2, 2, None)]), (3, 3, [(3, 3, None)])]),\n",
      "    (23, 23, [(4, 4, [(4, 4, None)]), (5, 5, [(5, 5, None)])])])],\n",
      " [20],\n",
      " [])\n",
      "(6,\n",
      " [(1, None),\n",
      "  (2,\n",
      "   (1, {'anchors': [{'from': 34, 'to': 35}], 'id': 6, 'label': ','}, [set()]))],\n",
      " ',',\n",
      " [],\n",
      " [],\n",
      " [(20,\n",
      "   20,\n",
      "   [(0, 0, [(0, 0, None)]),\n",
      "    (1, 1, [(1, 1, None)]),\n",
      "    (22, 22, [(2, 2, [(2, 2, None)]), (3, 3, [(3, 3, None)])]),\n",
      "    (23, 23, [(4, 4, [(4, 4, None)]), (5, 5, [(5, 5, None)])])]),\n",
      "  (6, 6, [(6, 6, None)])],\n",
      " [20, 6],\n",
      " [])\n",
      "(7,\n",
      " [(1, None),\n",
      "  (2,\n",
      "   (1,\n",
      "    {'anchors': [{'from': 36, 'to': 46}], 'id': 7, 'label': 'purchasing'},\n",
      "    [set()]))],\n",
      " 'purchasing',\n",
      " [],\n",
      " [],\n",
      " [(20,\n",
      "   20,\n",
      "   [(0, 0, [(0, 0, None)]),\n",
      "    (1, 1, [(1, 1, None)]),\n",
      "    (22, 22, [(2, 2, [(2, 2, None)]), (3, 3, [(3, 3, None)])]),\n",
      "    (23, 23, [(4, 4, [(4, 4, None)]), (5, 5, [(5, 5, None)])])]),\n",
      "  (6, 6, [(6, 6, None)]),\n",
      "  (7, 7, [(7, 7, None)])],\n",
      " [20, 6, 7],\n",
      " [])\n",
      "(8,\n",
      " [(1, None),\n",
      "  (2,\n",
      "   (1, {'anchors': [{'from': 47, 'to': 48}], 'id': 8, 'label': 'a'}, [set()]))],\n",
      " 'a',\n",
      " [],\n",
      " [],\n",
      " [(20,\n",
      "   20,\n",
      "   [(0, 0, [(0, 0, None)]),\n",
      "    (1, 1, [(1, 1, None)]),\n",
      "    (22, 22, [(2, 2, [(2, 2, None)]), (3, 3, [(3, 3, None)])]),\n",
      "    (23, 23, [(4, 4, [(4, 4, None)]), (5, 5, [(5, 5, None)])])]),\n",
      "  (6, 6, [(6, 6, None)]),\n",
      "  (7, 7, [(7, 7, None)]),\n",
      "  (8, 8, [(8, 8, None)])],\n",
      " [20, 6, 7, 8],\n",
      " [])\n",
      "(9,\n",
      " [(1, None),\n",
      "  (2,\n",
      "   (1,\n",
      "    {'anchors': [{'from': 49, 'to': 55}], 'id': 9, 'label': 'chalet'},\n",
      "    [set()]))],\n",
      " 'chalet',\n",
      " [],\n",
      " [],\n",
      " [(20,\n",
      "   20,\n",
      "   [(0, 0, [(0, 0, None)]),\n",
      "    (1, 1, [(1, 1, None)]),\n",
      "    (22, 22, [(2, 2, [(2, 2, None)]), (3, 3, [(3, 3, None)])]),\n",
      "    (23, 23, [(4, 4, [(4, 4, None)]), (5, 5, [(5, 5, None)])])]),\n",
      "  (6, 6, [(6, 6, None)]),\n",
      "  (7, 7, [(7, 7, None)]),\n",
      "  (8, 8, [(8, 8, None)]),\n",
      "  (9, 9, [(9, 9, None)])],\n",
      " [20, 6, 7, 8, 9],\n",
      " [])\n",
      "(10,\n",
      " [(1, None),\n",
      "  (2,\n",
      "   (1,\n",
      "    {'anchors': [{'from': 56, 'to': 58}], 'id': 10, 'label': 'in'},\n",
      "    [set()]))],\n",
      " 'in',\n",
      " [],\n",
      " [],\n",
      " [(20,\n",
      "   20,\n",
      "   [(0, 0, [(0, 0, None)]),\n",
      "    (1, 1, [(1, 1, None)]),\n",
      "    (22, 22, [(2, 2, [(2, 2, None)]), (3, 3, [(3, 3, None)])]),\n",
      "    (23, 23, [(4, 4, [(4, 4, None)]), (5, 5, [(5, 5, None)])])]),\n",
      "  (6, 6, [(6, 6, None)]),\n",
      "  (7, 7, [(7, 7, None)]),\n",
      "  (8, 8, [(8, 8, None)]),\n",
      "  (9, 9, [(9, 9, None)]),\n",
      "  (10, 10, [(10, 10, None)])],\n",
      " [20, 6, 7, 8, 9, 10],\n",
      " [])\n",
      "(11,\n",
      " [(1, None),\n",
      "  (2,\n",
      "   (1,\n",
      "    {'anchors': [{'from': 59, 'to': 62}], 'id': 11, 'label': 'the'},\n",
      "    [set()]))],\n",
      " 'the',\n",
      " [],\n",
      " [],\n",
      " [(20,\n",
      "   20,\n",
      "   [(0, 0, [(0, 0, None)]),\n",
      "    (1, 1, [(1, 1, None)]),\n",
      "    (22, 22, [(2, 2, [(2, 2, None)]), (3, 3, [(3, 3, None)])]),\n",
      "    (23, 23, [(4, 4, [(4, 4, None)]), (5, 5, [(5, 5, None)])])]),\n",
      "  (6, 6, [(6, 6, None)]),\n",
      "  (7, 7, [(7, 7, None)]),\n",
      "  (8, 8, [(8, 8, None)]),\n",
      "  (9, 9, [(9, 9, None)]),\n",
      "  (10, 10, [(10, 10, None)]),\n",
      "  (11, 11, [(11, 11, None)])],\n",
      " [20, 6, 7, 8, 9, 10, 11],\n",
      " [])\n",
      "(12,\n",
      " [(1, None),\n",
      "  (2,\n",
      "   (1,\n",
      "    {'anchors': [{'from': 63, 'to': 68}], 'id': 12, 'label': 'hills'},\n",
      "    [set()]))],\n",
      " 'hills',\n",
      " [],\n",
      " [],\n",
      " [(20,\n",
      "   20,\n",
      "   [(0, 0, [(0, 0, None)]),\n",
      "    (1, 1, [(1, 1, None)]),\n",
      "    (22, 22, [(2, 2, [(2, 2, None)]), (3, 3, [(3, 3, None)])]),\n",
      "    (23, 23, [(4, 4, [(4, 4, None)]), (5, 5, [(5, 5, None)])])]),\n",
      "  (6, 6, [(6, 6, None)]),\n",
      "  (7, 7, [(7, 7, None)]),\n",
      "  (8, 8, [(8, 8, None)]),\n",
      "  (9, 9, [(9, 9, None)]),\n",
      "  (10, 10, [(10, 10, None)]),\n",
      "  (11, 11, [(11, 11, None)]),\n",
      "  (12, 12, [(12, 12, None)])],\n",
      " [20, 6, 7, 8, 9, 10, 11, 12],\n",
      " [])\n",
      "(13,\n",
      " [(1, None),\n",
      "  (2,\n",
      "   (1,\n",
      "    {'anchors': [{'from': 69, 'to': 71}], 'id': 13, 'label': 'to'},\n",
      "    [set()]))],\n",
      " 'to',\n",
      " [],\n",
      " [],\n",
      " [(20,\n",
      "   20,\n",
      "   [(0, 0, [(0, 0, None)]),\n",
      "    (1, 1, [(1, 1, None)]),\n",
      "    (22, 22, [(2, 2, [(2, 2, None)]), (3, 3, [(3, 3, None)])]),\n",
      "    (23, 23, [(4, 4, [(4, 4, None)]), (5, 5, [(5, 5, None)])])]),\n",
      "  (6, 6, [(6, 6, None)]),\n",
      "  (7, 7, [(7, 7, None)]),\n",
      "  (8, 8, [(8, 8, None)]),\n",
      "  (9, 9, [(9, 9, None)]),\n",
      "  (10, 10, [(10, 10, None)]),\n",
      "  (11, 11, [(11, 11, None)]),\n",
      "  (12, 12, [(12, 12, None)]),\n",
      "  (13, 13, [(13, 13, None)])],\n",
      " [20, 6, 7, 8, 9, 10, 11, 12, 13],\n",
      " [])\n",
      "(14,\n",
      " [(1, None),\n",
      "  (2,\n",
      "   (1,\n",
      "    {'anchors': [{'from': 72, 'to': 75}], 'id': 14, 'label': 'the'},\n",
      "    [set()]))],\n",
      " 'the',\n",
      " [],\n",
      " [],\n",
      " [(20,\n",
      "   20,\n",
      "   [(0, 0, [(0, 0, None)]),\n",
      "    (1, 1, [(1, 1, None)]),\n",
      "    (22, 22, [(2, 2, [(2, 2, None)]), (3, 3, [(3, 3, None)])]),\n",
      "    (23, 23, [(4, 4, [(4, 4, None)]), (5, 5, [(5, 5, None)])])]),\n",
      "  (6, 6, [(6, 6, None)]),\n",
      "  (7, 7, [(7, 7, None)]),\n",
      "  (8, 8, [(8, 8, None)]),\n",
      "  (9, 9, [(9, 9, None)]),\n",
      "  (10, 10, [(10, 10, None)]),\n",
      "  (11, 11, [(11, 11, None)]),\n",
      "  (12, 12, [(12, 12, None)]),\n",
      "  (13, 13, [(13, 13, None)]),\n",
      "  (14, 14, [(14, 14, None)])],\n",
      " [20, 6, 7, 8, 9, 10, 11, 12, 13, 14],\n",
      " [])\n",
      "(15,\n",
      " [(1, None),\n",
      "  (2,\n",
      "   (1,\n",
      "    {'anchors': [{'from': 76, 'to': 81}], 'id': 15, 'label': 'north'},\n",
      "    [set()]))],\n",
      " 'north',\n",
      " ['C'],\n",
      " [27],\n",
      " [(20,\n",
      "   20,\n",
      "   [(0, 0, [(0, 0, None)]),\n",
      "    (1, 1, [(1, 1, None)]),\n",
      "    (22, 22, [(2, 2, [(2, 2, None)]), (3, 3, [(3, 3, None)])]),\n",
      "    (23, 23, [(4, 4, [(4, 4, None)]), (5, 5, [(5, 5, None)])])]),\n",
      "  (6, 6, [(6, 6, None)]),\n",
      "  (7, 7, [(7, 7, None)]),\n",
      "  (8, 8, [(8, 8, None)]),\n",
      "  (9, 9, [(9, 9, None)]),\n",
      "  (10, 10, [(10, 10, None)]),\n",
      "  (11, 11, [(11, 11, None)]),\n",
      "  (12, 12, [(12, 12, None)]),\n",
      "  (13, 13, [(13, 13, None)]),\n",
      "  (14, 14, [(14, 14, None)]),\n",
      "  (15, 15, [(15, 15, None)])],\n",
      " [20, 6, 7, 8, 9, 10, 11, 12, 13, 14, 15],\n",
      " [])\n",
      "(27,\n",
      " [(2, (3, {'id': 27}, [{19}, {26}, {13}]))],\n",
      " None,\n",
      " [],\n",
      " [],\n",
      " [(20,\n",
      "   20,\n",
      "   [(0, 0, [(0, 0, None)]),\n",
      "    (1, 1, [(1, 1, None)]),\n",
      "    (22, 22, [(2, 2, [(2, 2, None)]), (3, 3, [(3, 3, None)])]),\n",
      "    (23, 23, [(4, 4, [(4, 4, None)]), (5, 5, [(5, 5, None)])])]),\n",
      "  (6, 6, [(6, 6, None)]),\n",
      "  (7, 7, [(7, 7, None)]),\n",
      "  (8, 8, [(8, 8, None)]),\n",
      "  (9, 9, [(9, 9, None)]),\n",
      "  (10, 10, [(10, 10, None)]),\n",
      "  (11, 11, [(11, 11, None)]),\n",
      "  (12, 12, [(12, 12, None)]),\n",
      "  (27,\n",
      "   27,\n",
      "   [(13, 13, [(13, 13, None)]),\n",
      "    (14, 14, [(14, 14, None)]),\n",
      "    (15, 15, [(15, 15, None)])])],\n",
      " [20, 6, 7, 8, 9, 10, 11, 12, 27],\n",
      " [])\n",
      "(16,\n",
      " [(1, None),\n",
      "  (2,\n",
      "   (1,\n",
      "    {'anchors': [{'from': 82, 'to': 84}], 'id': 16, 'label': 'of'},\n",
      "    [set()]))],\n",
      " 'of',\n",
      " [],\n",
      " [],\n",
      " [(20,\n",
      "   20,\n",
      "   [(0, 0, [(0, 0, None)]),\n",
      "    (1, 1, [(1, 1, None)]),\n",
      "    (22, 22, [(2, 2, [(2, 2, None)]), (3, 3, [(3, 3, None)])]),\n",
      "    (23, 23, [(4, 4, [(4, 4, None)]), (5, 5, [(5, 5, None)])])]),\n",
      "  (6, 6, [(6, 6, None)]),\n",
      "  (7, 7, [(7, 7, None)]),\n",
      "  (8, 8, [(8, 8, None)]),\n",
      "  (9, 9, [(9, 9, None)]),\n",
      "  (10, 10, [(10, 10, None)]),\n",
      "  (11, 11, [(11, 11, None)]),\n",
      "  (12, 12, [(12, 12, None)]),\n",
      "  (27,\n",
      "   27,\n",
      "   [(13, 13, [(13, 13, None)]),\n",
      "    (14, 14, [(14, 14, None)]),\n",
      "    (15, 15, [(15, 15, None)])]),\n",
      "  (16, 16, [(16, 16, None)])],\n",
      " [20, 6, 7, 8, 9, 10, 11, 12, 27, 16],\n",
      " [])\n",
      "(17,\n",
      " [(1, None),\n",
      "  (2,\n",
      "   (1,\n",
      "    {'anchors': [{'from': 85, 'to': 89}], 'id': 17, 'label': 'Lake'},\n",
      "    [set()]))],\n",
      " 'Lake',\n",
      " [],\n",
      " [],\n",
      " [(20,\n",
      "   20,\n",
      "   [(0, 0, [(0, 0, None)]),\n",
      "    (1, 1, [(1, 1, None)]),\n",
      "    (22, 22, [(2, 2, [(2, 2, None)]), (3, 3, [(3, 3, None)])]),\n",
      "    (23, 23, [(4, 4, [(4, 4, None)]), (5, 5, [(5, 5, None)])])]),\n",
      "  (6, 6, [(6, 6, None)]),\n",
      "  (7, 7, [(7, 7, None)]),\n",
      "  (8, 8, [(8, 8, None)]),\n",
      "  (9, 9, [(9, 9, None)]),\n",
      "  (10, 10, [(10, 10, None)]),\n",
      "  (11, 11, [(11, 11, None)]),\n",
      "  (12, 12, [(12, 12, None)]),\n",
      "  (27,\n",
      "   27,\n",
      "   [(13, 13, [(13, 13, None)]),\n",
      "    (14, 14, [(14, 14, None)]),\n",
      "    (15, 15, [(15, 15, None)])]),\n",
      "  (16, 16, [(16, 16, None)]),\n",
      "  (17, 17, [(17, 17, None)])],\n",
      " [20, 6, 7, 8, 9, 10, 11, 12, 27, 16, 17],\n",
      " [])\n",
      "(18,\n",
      " [(1, None),\n",
      "  (2,\n",
      "   (1,\n",
      "    {'anchors': [{'from': 90, 'to': 96}], 'id': 18, 'label': 'Geneva'},\n",
      "    [set()]))],\n",
      " 'Geneva',\n",
      " [],\n",
      " [],\n",
      " [(20,\n",
      "   20,\n",
      "   [(0, 0, [(0, 0, None)]),\n",
      "    (1, 1, [(1, 1, None)]),\n",
      "    (22, 22, [(2, 2, [(2, 2, None)]), (3, 3, [(3, 3, None)])]),\n",
      "    (23, 23, [(4, 4, [(4, 4, None)]), (5, 5, [(5, 5, None)])])]),\n",
      "  (6, 6, [(6, 6, None)]),\n",
      "  (7, 7, [(7, 7, None)]),\n",
      "  (8, 8, [(8, 8, None)]),\n",
      "  (9, 9, [(9, 9, None)]),\n",
      "  (10, 10, [(10, 10, None)]),\n",
      "  (11, 11, [(11, 11, None)]),\n",
      "  (12, 12, [(12, 12, None)]),\n",
      "  (27,\n",
      "   27,\n",
      "   [(13, 13, [(13, 13, None)]),\n",
      "    (14, 14, [(14, 14, None)]),\n",
      "    (15, 15, [(15, 15, None)])]),\n",
      "  (16, 16, [(16, 16, None)]),\n",
      "  (17, 17, [(17, 17, None)]),\n",
      "  (18, 18, [(18, 18, None)])],\n",
      " [20, 6, 7, 8, 9, 10, 11, 12, 27, 16, 17, 18],\n",
      " [])\n",
      "(19,\n",
      " [(1, None),\n",
      "  (2,\n",
      "   (1,\n",
      "    {'anchors': [{'from': 96, 'to': 97}], 'id': 19, 'label': '.'},\n",
      "    [set()]))],\n",
      " '.',\n",
      " ['U'],\n",
      " [28],\n",
      " [(20,\n",
      "   20,\n",
      "   [(0, 0, [(0, 0, None)]),\n",
      "    (1, 1, [(1, 1, None)]),\n",
      "    (22, 22, [(2, 2, [(2, 2, None)]), (3, 3, [(3, 3, None)])]),\n",
      "    (23, 23, [(4, 4, [(4, 4, None)]), (5, 5, [(5, 5, None)])])]),\n",
      "  (6, 6, [(6, 6, None)]),\n",
      "  (7, 7, [(7, 7, None)]),\n",
      "  (8, 8, [(8, 8, None)]),\n",
      "  (9, 9, [(9, 9, None)]),\n",
      "  (10, 10, [(10, 10, None)]),\n",
      "  (11, 11, [(11, 11, None)]),\n",
      "  (12, 12, [(12, 12, None)]),\n",
      "  (27,\n",
      "   27,\n",
      "   [(13, 13, [(13, 13, None)]),\n",
      "    (14, 14, [(14, 14, None)]),\n",
      "    (15, 15, [(15, 15, None)])]),\n",
      "  (16, 16, [(16, 16, None)]),\n",
      "  (17, 17, [(17, 17, None)]),\n",
      "  (18, 18, [(18, 18, None)]),\n",
      "  (19, 19, [(19, 19, None)])],\n",
      " [20, 6, 7, 8, 9, 10, 11, 12, 27, 16, 17, 18, 19],\n",
      " [])\n",
      "(28,\n",
      " [(2, (5, {'id': 28}, [{21}, {12}, {23}, {4}, {9}]))],\n",
      " None,\n",
      " ['E'],\n",
      " [26],\n",
      " [(20,\n",
      "   20,\n",
      "   [(0, 0, [(0, 0, None)]),\n",
      "    (1, 1, [(1, 1, None)]),\n",
      "    (22, 22, [(2, 2, [(2, 2, None)]), (3, 3, [(3, 3, None)])]),\n",
      "    (23, 23, [(4, 4, [(4, 4, None)]), (5, 5, [(5, 5, None)])])]),\n",
      "  (6, 6, [(6, 6, None)]),\n",
      "  (7, 7, [(7, 7, None)]),\n",
      "  (8, 8, [(8, 8, None)]),\n",
      "  (9, 9, [(9, 9, None)]),\n",
      "  (10, 10, [(10, 10, None)]),\n",
      "  (11, 11, [(11, 11, None)]),\n",
      "  (12, 12, [(12, 12, None)]),\n",
      "  (28,\n",
      "   28,\n",
      "   [(27,\n",
      "     27,\n",
      "     [(13, 13, [(13, 13, None)]),\n",
      "      (14, 14, [(14, 14, None)]),\n",
      "      (15, 15, [(15, 15, None)])]),\n",
      "    (16, 16, [(16, 16, None)]),\n",
      "    (17, 17, [(17, 17, None)]),\n",
      "    (18, 18, [(18, 18, None)]),\n",
      "    (19, 19, [(19, 19, None)])])],\n",
      " [20, 6, 7, 8, 9, 10, 11, 12, 28],\n",
      " [])\n",
      "(26,\n",
      " [(2, (4, {'id': 26}, [{16}, {22}, {18}, {15}]))],\n",
      " None,\n",
      " ['E'],\n",
      " [25],\n",
      " [(20,\n",
      "   20,\n",
      "   [(0, 0, [(0, 0, None)]),\n",
      "    (1, 1, [(1, 1, None)]),\n",
      "    (22, 22, [(2, 2, [(2, 2, None)]), (3, 3, [(3, 3, None)])]),\n",
      "    (23, 23, [(4, 4, [(4, 4, None)]), (5, 5, [(5, 5, None)])])]),\n",
      "  (6, 6, [(6, 6, None)]),\n",
      "  (7, 7, [(7, 7, None)]),\n",
      "  (8, 8, [(8, 8, None)]),\n",
      "  (9, 9, [(9, 9, None)]),\n",
      "  (26,\n",
      "   26,\n",
      "   [(10, 10, [(10, 10, None)]),\n",
      "    (11, 11, [(11, 11, None)]),\n",
      "    (12, 12, [(12, 12, None)]),\n",
      "    (28,\n",
      "     28,\n",
      "     [(27,\n",
      "       27,\n",
      "       [(13, 13, [(13, 13, None)]),\n",
      "        (14, 14, [(14, 14, None)]),\n",
      "        (15, 15, [(15, 15, None)])]),\n",
      "      (16, 16, [(16, 16, None)]),\n",
      "      (17, 17, [(17, 17, None)]),\n",
      "      (18, 18, [(18, 18, None)]),\n",
      "      (19, 19, [(19, 19, None)])])])],\n",
      " [20, 6, 7, 8, 9, 26],\n",
      " [])\n",
      "(25,\n",
      " [(2, (3, {'id': 25}, [{1}, {11}, {6}]))],\n",
      " None,\n",
      " ['A'],\n",
      " [24],\n",
      " [(20,\n",
      "   20,\n",
      "   [(0, 0, [(0, 0, None)]),\n",
      "    (1, 1, [(1, 1, None)]),\n",
      "    (22, 22, [(2, 2, [(2, 2, None)]), (3, 3, [(3, 3, None)])]),\n",
      "    (23, 23, [(4, 4, [(4, 4, None)]), (5, 5, [(5, 5, None)])])]),\n",
      "  (6, 6, [(6, 6, None)]),\n",
      "  (7, 7, [(7, 7, None)]),\n",
      "  (25,\n",
      "   25,\n",
      "   [(8, 8, [(8, 8, None)]),\n",
      "    (9, 9, [(9, 9, None)]),\n",
      "    (26,\n",
      "     26,\n",
      "     [(10, 10, [(10, 10, None)]),\n",
      "      (11, 11, [(11, 11, None)]),\n",
      "      (12, 12, [(12, 12, None)]),\n",
      "      (28,\n",
      "       28,\n",
      "       [(27,\n",
      "         27,\n",
      "         [(13, 13, [(13, 13, None)]),\n",
      "          (14, 14, [(14, 14, None)]),\n",
      "          (15, 15, [(15, 15, None)])]),\n",
      "        (16, 16, [(16, 16, None)]),\n",
      "        (17, 17, [(17, 17, None)]),\n",
      "        (18, 18, [(18, 18, None)]),\n",
      "        (19, 19, [(19, 19, None)])])])])],\n",
      " [20, 6, 7, 25],\n",
      " [])\n",
      "(24,\n",
      " [(2, (2, {'id': 24}, [{28}, {3}]))],\n",
      " None,\n",
      " ['H'],\n",
      " [21],\n",
      " [(20,\n",
      "   20,\n",
      "   [(0, 0, [(0, 0, None)]),\n",
      "    (1, 1, [(1, 1, None)]),\n",
      "    (22, 22, [(2, 2, [(2, 2, None)]), (3, 3, [(3, 3, None)])]),\n",
      "    (23, 23, [(4, 4, [(4, 4, None)]), (5, 5, [(5, 5, None)])])]),\n",
      "  (6, 6, [(6, 6, None)]),\n",
      "  (24,\n",
      "   24,\n",
      "   [(7, 7, [(7, 7, None)]),\n",
      "    (25,\n",
      "     25,\n",
      "     [(8, 8, [(8, 8, None)]),\n",
      "      (9, 9, [(9, 9, None)]),\n",
      "      (26,\n",
      "       26,\n",
      "       [(10, 10, [(10, 10, None)]),\n",
      "        (11, 11, [(11, 11, None)]),\n",
      "        (12, 12, [(12, 12, None)]),\n",
      "        (28,\n",
      "         28,\n",
      "         [(27,\n",
      "           27,\n",
      "           [(13, 13, [(13, 13, None)]),\n",
      "            (14, 14, [(14, 14, None)]),\n",
      "            (15, 15, [(15, 15, None)])]),\n",
      "          (16, 16, [(16, 16, None)]),\n",
      "          (17, 17, [(17, 17, None)]),\n",
      "          (18, 18, [(18, 18, None)]),\n",
      "          (19, 19, [(19, 19, None)])])])])])],\n",
      " [20, 6, 24],\n",
      " [])\n",
      "(21,\n",
      " [(2, (3, {'id': 21}, [{17}, {8}, {2}]))],\n",
      " None,\n",
      " [],\n",
      " [],\n",
      " [(21,\n",
      "   21,\n",
      "   [(20,\n",
      "     20,\n",
      "     [(0, 0, [(0, 0, None)]),\n",
      "      (1, 1, [(1, 1, None)]),\n",
      "      (22, 22, [(2, 2, [(2, 2, None)]), (3, 3, [(3, 3, None)])]),\n",
      "      (23, 23, [(4, 4, [(4, 4, None)]), (5, 5, [(5, 5, None)])])]),\n",
      "    (6, 6, [(6, 6, None)]),\n",
      "    (24,\n",
      "     24,\n",
      "     [(7, 7, [(7, 7, None)]),\n",
      "      (25,\n",
      "       25,\n",
      "       [(8, 8, [(8, 8, None)]),\n",
      "        (9, 9, [(9, 9, None)]),\n",
      "        (26,\n",
      "         26,\n",
      "         [(10, 10, [(10, 10, None)]),\n",
      "          (11, 11, [(11, 11, None)]),\n",
      "          (12, 12, [(12, 12, None)]),\n",
      "          (28,\n",
      "           28,\n",
      "           [(27,\n",
      "             27,\n",
      "             [(13, 13, [(13, 13, None)]),\n",
      "              (14, 14, [(14, 14, None)]),\n",
      "              (15, 15, [(15, 15, None)])]),\n",
      "            (16, 16, [(16, 16, None)]),\n",
      "            (17, 17, [(17, 17, None)]),\n",
      "            (18, 18, [(18, 18, None)]),\n",
      "            (19, 19, [(19, 19, None)])])])])])])],\n",
      " [21],\n",
      " [])\n",
      "set()\n",
      "{0, 1, 4, 7, 8, 11, 12, 14, 16, 17, 18, 19, 20, 21, 22, 23, 25, 26, 27, 28}\n"
     ]
    },
    {
     "ename": "AssertionError",
     "evalue": "",
     "output_type": "error",
     "traceback": [
      "\u001b[0;31m---------------------------------------------------------------------------\u001b[0m",
      "\u001b[0;31mAssertionError\u001b[0m                            Traceback (most recent call last)",
      "\u001b[0;32m<ipython-input-155-51a22e403171>\u001b[0m in \u001b[0;36m<module>\u001b[0;34m\u001b[0m\n\u001b[1;32m     24\u001b[0m \u001b[0;32massert\u001b[0m \u001b[0mlen\u001b[0m\u001b[0;34m(\u001b[0m\u001b[0mparser_node_id_set\u001b[0m\u001b[0;34m)\u001b[0m \u001b[0;34m==\u001b[0m \u001b[0mlen\u001b[0m\u001b[0;34m(\u001b[0m\u001b[0mmrp_json\u001b[0m\u001b[0;34m.\u001b[0m\u001b[0mget\u001b[0m\u001b[0;34m(\u001b[0m\u001b[0;34m'nodes'\u001b[0m\u001b[0;34m)\u001b[0m\u001b[0;34m)\u001b[0m\u001b[0;34m\u001b[0m\u001b[0;34m\u001b[0m\u001b[0m\n\u001b[1;32m     25\u001b[0m \u001b[0mprint\u001b[0m\u001b[0;34m(\u001b[0m\u001b[0;34m{\u001b[0m\u001b[0medge_id\u001b[0m \u001b[0;32mfor\u001b[0m \u001b[0medge_id\u001b[0m\u001b[0;34m,\u001b[0m \u001b[0medge\u001b[0m \u001b[0;32min\u001b[0m \u001b[0menumerate\u001b[0m\u001b[0;34m(\u001b[0m\u001b[0mmrp_json\u001b[0m\u001b[0;34m.\u001b[0m\u001b[0mget\u001b[0m\u001b[0;34m(\u001b[0m\u001b[0;34m'edges'\u001b[0m\u001b[0;34m)\u001b[0m\u001b[0;34m)\u001b[0m\u001b[0;34m}\u001b[0m \u001b[0;34m-\u001b[0m \u001b[0mparser_edge_id_set\u001b[0m\u001b[0;34m)\u001b[0m\u001b[0;34m\u001b[0m\u001b[0;34m\u001b[0m\u001b[0m\n\u001b[0;32m---> 26\u001b[0;31m \u001b[0;32massert\u001b[0m \u001b[0mlen\u001b[0m\u001b[0;34m(\u001b[0m\u001b[0mparser_edge_id_set\u001b[0m\u001b[0;34m)\u001b[0m \u001b[0;34m==\u001b[0m \u001b[0mlen\u001b[0m\u001b[0;34m(\u001b[0m\u001b[0mmrp_json\u001b[0m\u001b[0;34m.\u001b[0m\u001b[0mget\u001b[0m\u001b[0;34m(\u001b[0m\u001b[0;34m'edges'\u001b[0m\u001b[0;34m)\u001b[0m\u001b[0;34m)\u001b[0m\u001b[0;34m\u001b[0m\u001b[0;34m\u001b[0m\u001b[0m\n\u001b[0m",
      "\u001b[0;31mAssertionError\u001b[0m: "
     ]
    }
   ],
   "source": [
    "parser_node_id_set = set()\n",
    "parser_edge_id_set = set()\n",
    "for (node_id, actions, edge_state, abstract_node_state, \n",
    "     complete_node_state, node_state, token_stack, pending_token_stack) in parser_states:\n",
    "    parser_node_id_set.add(node_id)\n",
    "    for edge_id in edge_state:\n",
    "        parser_edge_id_set.add(edge_id)\n",
    "    \n",
    "    node = node_id2node[node_id]\n",
    "    node_edges = [edge_id2edge[edge_id] for edge_id in edge_state]\n",
    "    pprint.pprint((\n",
    "        node.get('id'),\n",
    "        actions, \n",
    "        node.get('label'), \n",
    "        [edge.get('label') for edge in node_edges], \n",
    "#         abstract_node_state,\n",
    "        complete_node_state,\n",
    "        node_state,\n",
    "        token_stack,\n",
    "        pending_token_stack,\n",
    "    ))\n",
    "    \n",
    "print({node.get('id', -1) for node in mrp_json.get('nodes')} - parser_node_id_set)\n",
    "assert len(parser_node_id_set) == len(mrp_json.get('nodes'))\n",
    "print({edge_id for edge_id, edge in enumerate(mrp_json.get('edges'))} - parser_edge_id_set)\n",
    "assert len(parser_edge_id_set) == len(mrp_json.get('edges'))"
   ]
  },
  {
   "cell_type": "code",
   "execution_count": 709,
   "metadata": {},
   "outputs": [],
   "source": [
    "action_states = [s[1] for s in parser_states]"
   ]
  },
  {
   "cell_type": "code",
   "execution_count": 696,
   "metadata": {},
   "outputs": [],
   "source": [
    "token_poss = []\n",
    "prev_token_pos = 0\n",
    "for token in sentence_spliter(doc):\n",
    "    token_poss.append((prev_token_pos, prev_token_pos + len(token)))\n",
    "    prev_token_pos += len(token) + 1"
   ]
  },
  {
   "cell_type": "code",
   "execution_count": 697,
   "metadata": {},
   "outputs": [
    {
     "data": {
      "text/plain": [
       "['Pierre',\n",
       " 'Vinken',\n",
       " ',',\n",
       " '61',\n",
       " 'years',\n",
       " 'old',\n",
       " ',',\n",
       " 'will',\n",
       " 'join',\n",
       " 'the',\n",
       " 'board',\n",
       " 'as',\n",
       " 'a',\n",
       " 'nonexecutive',\n",
       " 'director',\n",
       " 'Nov.',\n",
       " '29.']"
      ]
     },
     "execution_count": 697,
     "metadata": {},
     "output_type": "execute_result"
    }
   ],
   "source": [
    "list(sentence_spliter(doc))"
   ]
  },
  {
   "cell_type": "code",
   "execution_count": 684,
   "metadata": {},
   "outputs": [
    {
     "data": {
      "text/plain": [
       "[(0, 6),\n",
       " (7, 13),\n",
       " (14, 15),\n",
       " (16, 18),\n",
       " (19, 24),\n",
       " (25, 28),\n",
       " (29, 30),\n",
       " (31, 35),\n",
       " (36, 40),\n",
       " (41, 44),\n",
       " (45, 50),\n",
       " (51, 53),\n",
       " (54, 55),\n",
       " (56, 68),\n",
       " (69, 77),\n",
       " (78, 82),\n",
       " (83, 86)]"
      ]
     },
     "execution_count": 684,
     "metadata": {},
     "output_type": "execute_result"
    }
   ],
   "source": [
    "token_poss"
   ]
  },
  {
   "cell_type": "code",
   "execution_count": 687,
   "metadata": {},
   "outputs": [
    {
     "data": {
      "text/plain": [
       "[[{'from': 0, 'to': 6}],\n",
       " [{'from': 7, 'to': 13}],\n",
       " [{'from': 15, 'to': 17}],\n",
       " [{'from': 18, 'to': 23}],\n",
       " [{'from': 24, 'to': 27}],\n",
       " [{'from': 34, 'to': 38}],\n",
       " [{'from': 39, 'to': 42}],\n",
       " [{'from': 43, 'to': 48}],\n",
       " [{'from': 49, 'to': 51}],\n",
       " [{'from': 52, 'to': 53}],\n",
       " [{'from': 54, 'to': 66}],\n",
       " [{'from': 67, 'to': 75}],\n",
       " [{'from': 76, 'to': 80}],\n",
       " [{'from': 81, 'to': 83}]]"
      ]
     },
     "execution_count": 687,
     "metadata": {},
     "output_type": "execute_result"
    }
   ],
   "source": [
    "[n['anchors'] for n in nodes]"
   ]
  },
  {
   "cell_type": "code",
   "execution_count": null,
   "metadata": {},
   "outputs": [],
   "source": []
  },
  {
   "cell_type": "code",
   "execution_count": 683,
   "metadata": {
    "scrolled": true
   },
   "outputs": [
    {
     "data": {
      "text/plain": [
       "[{'id': 0,\n",
       "  'label': 'Pierre',\n",
       "  'properties': ['pos', 'frame'],\n",
       "  'values': ['NNP', 'named:x-c'],\n",
       "  'anchors': [{'from': 0, 'to': 6}]},\n",
       " {'id': 1,\n",
       "  'label': 'Vinken',\n",
       "  'properties': ['pos', 'frame'],\n",
       "  'values': ['NNP', 'named:x-c'],\n",
       "  'anchors': [{'from': 7, 'to': 13}]},\n",
       " {'id': 3,\n",
       "  'label': '61',\n",
       "  'properties': ['pos', 'frame'],\n",
       "  'values': ['CD', 'card:i-i-c'],\n",
       "  'anchors': [{'from': 15, 'to': 17}]},\n",
       " {'id': 4,\n",
       "  'label': 'year',\n",
       "  'properties': ['pos', 'frame'],\n",
       "  'values': ['NNS', 'n:x'],\n",
       "  'anchors': [{'from': 18, 'to': 23}]},\n",
       " {'id': 5,\n",
       "  'label': 'old',\n",
       "  'properties': ['pos', 'frame'],\n",
       "  'values': ['JJ', 'a:e-p'],\n",
       "  'anchors': [{'from': 24, 'to': 27}]},\n",
       " {'id': 8,\n",
       "  'label': 'join',\n",
       "  'properties': ['pos', 'frame'],\n",
       "  'values': ['VB', 'v:e-i-p'],\n",
       "  'anchors': [{'from': 34, 'to': 38}]},\n",
       " {'id': 9,\n",
       "  'label': 'the',\n",
       "  'properties': ['pos', 'frame'],\n",
       "  'values': ['DT', 'q:i-h-h'],\n",
       "  'anchors': [{'from': 39, 'to': 42}]},\n",
       " {'id': 10,\n",
       "  'label': 'board',\n",
       "  'properties': ['pos', 'frame'],\n",
       "  'values': ['NN', 'n_of:x-i'],\n",
       "  'anchors': [{'from': 43, 'to': 48}]},\n",
       " {'id': 11,\n",
       "  'label': 'as',\n",
       "  'properties': ['pos', 'frame'],\n",
       "  'values': ['IN', 'p:e-u-i'],\n",
       "  'anchors': [{'from': 49, 'to': 51}]},\n",
       " {'id': 12,\n",
       "  'label': 'a',\n",
       "  'properties': ['pos', 'frame'],\n",
       "  'values': ['DT', 'q:i-h-h'],\n",
       "  'anchors': [{'from': 52, 'to': 53}]},\n",
       " {'id': 13,\n",
       "  'label': 'nonexecutive',\n",
       "  'properties': ['pos', 'frame'],\n",
       "  'values': ['JJ', 'a:e-u'],\n",
       "  'anchors': [{'from': 54, 'to': 66}]},\n",
       " {'id': 14,\n",
       "  'label': 'director',\n",
       "  'properties': ['pos', 'frame'],\n",
       "  'values': ['NN', 'n_of:x-i'],\n",
       "  'anchors': [{'from': 67, 'to': 75}]},\n",
       " {'id': 15,\n",
       "  'label': 'Nov.',\n",
       "  'properties': ['pos', 'frame'],\n",
       "  'values': ['NNP', 'mofy:x-c'],\n",
       "  'anchors': [{'from': 76, 'to': 80}]},\n",
       " {'id': 16,\n",
       "  'label': '29',\n",
       "  'properties': ['pos', 'frame'],\n",
       "  'values': ['CD', 'dofm:x-c'],\n",
       "  'anchors': [{'from': 81, 'to': 83}]}]"
      ]
     },
     "execution_count": 683,
     "metadata": {},
     "output_type": "execute_result"
    }
   ],
   "source": [
    "nodes"
   ]
  },
  {
   "cell_type": "code",
   "execution_count": 669,
   "metadata": {},
   "outputs": [],
   "source": [
    "nodes = mrp_json['nodes']"
   ]
  },
  {
   "cell_type": "code",
   "execution_count": null,
   "metadata": {},
   "outputs": [],
   "source": []
  },
  {
   "cell_type": "code",
   "execution_count": 494,
   "metadata": {},
   "outputs": [],
   "source": [
    "logger.setLevel(logging.INFO)"
   ]
  },
  {
   "cell_type": "code",
   "execution_count": 525,
   "metadata": {
    "scrolled": true
   },
   "outputs": [
    {
     "name": "stderr",
     "output_type": "stream",
     "text": [
      "\n",
      "\n",
      "\n",
      "\n",
      "\n",
      "\n",
      "\n",
      "\n",
      "\n",
      "\n",
      "\n",
      "\n",
      "\n",
      "\n",
      "\n",
      "0it [00:00, ?it/s]\u001b[A\u001b[A\u001b[A\u001b[A\u001b[A\u001b[A\u001b[A\u001b[A\u001b[A\u001b[A\u001b[A\u001b[A\u001b[A\u001b[A\u001b[A\n",
      "\n",
      "\n",
      "\n",
      "\n",
      "\n",
      "\n",
      "\n",
      "\n",
      "\n",
      "\n",
      "\n",
      "\n",
      "\n",
      "\n",
      "4it [00:00, 35.21it/s]\u001b[A\u001b[A\u001b[A\u001b[A\u001b[A\u001b[A\u001b[A\u001b[A\u001b[A\u001b[A\u001b[A\u001b[A\u001b[A\u001b[A\u001b[Aaction_state - WARNING - pop empty node_state\n",
      "__main__ - INFO - 4\n",
      "action_state - WARNING - pop empty node_state\n",
      "__main__ - INFO - 7\n",
      "action_state - WARNING - pop empty node_state\n",
      "__main__ - INFO - 9\n",
      "\n",
      "\n",
      "\n",
      "\n",
      "\n",
      "\n",
      "\n",
      "\n",
      "\n",
      "\n",
      "\n",
      "\n",
      "\n",
      "\n",
      "\n",
      "10it [00:00, 40.07it/s]\u001b[A\u001b[A\u001b[A\u001b[A\u001b[A\u001b[A\u001b[A\u001b[A\u001b[A\u001b[A\u001b[A\u001b[A\u001b[A\u001b[A\u001b[Aaction_state - WARNING - pop empty node_state\n",
      "__main__ - INFO - 10\n",
      "action_state - WARNING - pop empty node_state\n",
      "__main__ - INFO - 14\n",
      "\n",
      "\n",
      "\n",
      "\n",
      "\n",
      "\n",
      "\n",
      "\n",
      "\n",
      "\n",
      "\n",
      "\n",
      "\n",
      "\n",
      "\n",
      "16it [00:00, 44.46it/s]\u001b[A\u001b[A\u001b[A\u001b[A\u001b[A\u001b[A\u001b[A\u001b[A\u001b[A\u001b[A\u001b[A\u001b[A\u001b[A\u001b[A\u001b[Aaction_state - WARNING - pop empty node_state\n",
      "__main__ - INFO - 17\n",
      "action_state - WARNING - pop empty node_state\n",
      "__main__ - INFO - 18\n",
      "action_state - WARNING - pop empty node_state\n",
      "__main__ - INFO - 19\n",
      "\n",
      "\n",
      "\n",
      "\n",
      "\n",
      "\n",
      "\n",
      "\n",
      "\n",
      "\n",
      "\n",
      "\n",
      "\n",
      "\n",
      "\n",
      "20it [00:00, 32.45it/s]\u001b[A\u001b[A\u001b[A\u001b[A\u001b[A\u001b[A\u001b[A\u001b[A\u001b[A\u001b[A\u001b[A\u001b[A\u001b[A\u001b[A\u001b[Aaction_state - WARNING - pop empty node_state\n",
      "__main__ - INFO - 20\n",
      "action_state - WARNING - pop empty node_state\n",
      "__main__ - INFO - 25\n",
      "\n",
      "\n",
      "\n",
      "\n",
      "\n",
      "\n",
      "\n",
      "\n",
      "\n",
      "\n",
      "\n",
      "\n",
      "\n",
      "\n",
      "\n",
      "27it [00:00, 37.95it/s]\u001b[A\u001b[A\u001b[A\u001b[A\u001b[A\u001b[A\u001b[A\u001b[A\u001b[A\u001b[A\u001b[A\u001b[A\u001b[A\u001b[A\u001b[Aaction_state - WARNING - pop empty node_state\n",
      "__main__ - INFO - 27\n",
      "action_state - WARNING - pop empty node_state\n",
      "__main__ - INFO - 30\n",
      "\n",
      "\n",
      "\n",
      "\n",
      "\n",
      "\n",
      "\n",
      "\n",
      "\n",
      "\n",
      "\n",
      "\n",
      "\n",
      "\n",
      "\n",
      "33it [00:00, 41.85it/s]\u001b[A\u001b[A\u001b[A\u001b[A\u001b[A\u001b[A\u001b[A\u001b[A\u001b[A\u001b[A\u001b[A\u001b[A\u001b[A\u001b[A\u001b[Aaction_state - WARNING - pop empty node_state\n",
      "__main__ - INFO - 33\n",
      "\n",
      "\n",
      "\n",
      "\n",
      "\n",
      "\n",
      "\n",
      "\n",
      "\n",
      "\n",
      "\n",
      "\n",
      "\n",
      "\n",
      "\n",
      "38it [00:00, 40.60it/s]\u001b[A\u001b[A\u001b[A\u001b[A\u001b[A\u001b[A\u001b[A\u001b[A\u001b[A\u001b[A\u001b[A\u001b[A\u001b[A\u001b[A\u001b[Aaction_state - WARNING - pop empty node_state\n",
      "__main__ - INFO - 38\n",
      "action_state - WARNING - pop empty node_state\n",
      "__main__ - INFO - 40\n",
      "action_state - WARNING - pop empty node_state\n",
      "__main__ - INFO - 42\n",
      "\n",
      "\n",
      "\n",
      "\n",
      "\n",
      "\n",
      "\n",
      "\n",
      "\n",
      "\n",
      "\n",
      "\n",
      "\n",
      "\n",
      "\n",
      "45it [00:00, 44.75it/s]\u001b[A\u001b[A\u001b[A\u001b[A\u001b[A\u001b[A\u001b[A\u001b[A\u001b[A\u001b[A\u001b[A\u001b[A\u001b[A\u001b[A\u001b[Aaction_state - WARNING - pop empty node_state\n",
      "__main__ - INFO - 45\n",
      "action_state - WARNING - pop empty node_state\n",
      "__main__ - INFO - 46\n",
      "action_state - WARNING - pop empty node_state\n",
      "__main__ - INFO - 49\n",
      "\n",
      "\n",
      "\n",
      "\n",
      "\n",
      "\n",
      "\n",
      "\n",
      "\n",
      "\n",
      "\n",
      "\n",
      "\n",
      "\n",
      "\n",
      "52it [00:01, 49.77it/s]\u001b[A\u001b[A\u001b[A\u001b[A\u001b[A\u001b[A\u001b[A\u001b[A\u001b[A\u001b[A\u001b[A\u001b[A\u001b[A\u001b[A\u001b[Aaction_state - WARNING - pop empty node_state\n",
      "__main__ - INFO - 52\n",
      "action_state - WARNING - pop empty node_state\n",
      "__main__ - INFO - 54\n",
      "action_state - WARNING - pop empty node_state\n",
      "__main__ - INFO - 57\n",
      "action_state - WARNING - pop empty node_state\n",
      "__main__ - INFO - 59\n",
      "\n",
      "\n",
      "\n",
      "\n",
      "\n",
      "\n",
      "\n",
      "\n",
      "\n",
      "\n",
      "\n",
      "\n",
      "\n",
      "\n",
      "\n",
      "60it [00:01, 53.08it/s]\u001b[A\u001b[A\u001b[A\u001b[A\u001b[A\u001b[A\u001b[A\u001b[A\u001b[A\u001b[A\u001b[A\u001b[A\u001b[A\u001b[A\u001b[Aaction_state - WARNING - pop empty node_state\n",
      "__main__ - INFO - 60\n",
      "action_state - WARNING - pop empty node_state\n",
      "__main__ - INFO - 62\n",
      "action_state - WARNING - pop empty node_state\n",
      "__main__ - INFO - 63\n",
      "action_state - WARNING - pop empty node_state\n",
      "__main__ - INFO - 66\n",
      "\n",
      "\n",
      "\n",
      "\n",
      "\n",
      "\n",
      "\n",
      "\n",
      "\n",
      "\n",
      "\n",
      "\n",
      "\n",
      "\n",
      "\n",
      "67it [00:01, 56.38it/s]\u001b[A\u001b[A\u001b[A\u001b[A\u001b[A\u001b[A\u001b[A\u001b[A\u001b[A\u001b[A\u001b[A\u001b[A\u001b[A\u001b[A\u001b[Aaction_state - WARNING - pop empty node_state\n",
      "__main__ - INFO - 67\n",
      "action_state - WARNING - pop empty node_state\n",
      "__main__ - INFO - 68\n",
      "action_state - WARNING - pop empty node_state\n",
      "__main__ - INFO - 70\n",
      "action_state - WARNING - pop empty node_state\n",
      "__main__ - INFO - 71\n",
      "action_state - WARNING - pop empty node_state\n",
      "__main__ - INFO - 72\n",
      "action_state - WARNING - pop empty node_state\n",
      "__main__ - INFO - 73\n",
      "action_state - WARNING - pop empty node_state\n",
      "__main__ - INFO - 74\n",
      "action_state - WARNING - pop empty node_state\n",
      "__main__ - INFO - 75\n",
      "action_state - WARNING - pop empty node_state\n",
      "__main__ - INFO - 76\n",
      "\n",
      "\n",
      "\n",
      "\n",
      "\n",
      "\n",
      "\n",
      "\n",
      "\n",
      "\n",
      "\n",
      "\n",
      "\n",
      "\n",
      "\n",
      "77it [00:01, 64.40it/s]\u001b[A\u001b[A\u001b[A\u001b[A\u001b[A\u001b[A\u001b[A\u001b[A\u001b[A\u001b[A\u001b[A\u001b[A\u001b[A\u001b[A\u001b[Aaction_state - WARNING - pop empty node_state\n",
      "__main__ - INFO - 77\n"
     ]
    },
    {
     "ename": "KeyboardInterrupt",
     "evalue": "",
     "output_type": "error",
     "traceback": [
      "\u001b[0;31m---------------------------------------------------------------------------\u001b[0m",
      "\u001b[0;31mKeyboardInterrupt\u001b[0m                         Traceback (most recent call last)",
      "\u001b[0;32m<ipython-input-525-271eb48fd238>\u001b[0m in \u001b[0;36m<module>\u001b[0;34m\u001b[0m\n\u001b[1;32m      3\u001b[0m \u001b[0;32mfor\u001b[0m \u001b[0mi\u001b[0m\u001b[0;34m,\u001b[0m \u001b[0mmrp_json\u001b[0m \u001b[0;32min\u001b[0m \u001b[0mtqdm\u001b[0m\u001b[0;34m(\u001b[0m\u001b[0menumerate\u001b[0m\u001b[0;34m(\u001b[0m\u001b[0mmrp_jsons\u001b[0m\u001b[0;34m)\u001b[0m\u001b[0;34m)\u001b[0m\u001b[0;34m:\u001b[0m\u001b[0;34m\u001b[0m\u001b[0;34m\u001b[0m\u001b[0m\n\u001b[1;32m      4\u001b[0m \u001b[0;31m#     print(i)\u001b[0m\u001b[0;34m\u001b[0m\u001b[0;34m\u001b[0m\u001b[0;34m\u001b[0m\u001b[0m\n\u001b[0;32m----> 5\u001b[0;31m     \u001b[0mparser_states\u001b[0m\u001b[0;34m,\u001b[0m \u001b[0mmeta_data\u001b[0m \u001b[0;34m=\u001b[0m \u001b[0mmrp_json2parser_states\u001b[0m\u001b[0;34m(\u001b[0m\u001b[0mmrp_json\u001b[0m\u001b[0;34m,\u001b[0m \u001b[0mframework\u001b[0m\u001b[0;34m,\u001b[0m \u001b[0malignment\u001b[0m\u001b[0;34m)\u001b[0m\u001b[0;34m\u001b[0m\u001b[0;34m\u001b[0m\u001b[0m\n\u001b[0m\u001b[1;32m      6\u001b[0m     \u001b[0;32mif\u001b[0m \u001b[0;32mnot\u001b[0m \u001b[0mparser_states\u001b[0m\u001b[0;34m:\u001b[0m\u001b[0;34m\u001b[0m\u001b[0;34m\u001b[0m\u001b[0m\n\u001b[1;32m      7\u001b[0m         \u001b[0mlogger\u001b[0m\u001b[0;34m.\u001b[0m\u001b[0minfo\u001b[0m\u001b[0;34m(\u001b[0m\u001b[0mi\u001b[0m\u001b[0;34m)\u001b[0m\u001b[0;34m\u001b[0m\u001b[0;34m\u001b[0m\u001b[0m\n",
      "\u001b[0;32m/data/proj29_ds1/home/slai/mrp2019/src/action_state.py\u001b[0m in \u001b[0;36mmrp_json2parser_states\u001b[0;34m(mrp_json, framework, alignment)\u001b[0m\n\u001b[1;32m    123\u001b[0m         \u001b[0mparent_id2child_id_set\u001b[0m\u001b[0;34m,\u001b[0m\u001b[0;34m\u001b[0m\u001b[0;34m\u001b[0m\u001b[0m\n\u001b[1;32m    124\u001b[0m         \u001b[0mchild_id2parent_id_set\u001b[0m\u001b[0;34m,\u001b[0m\u001b[0;34m\u001b[0m\u001b[0;34m\u001b[0m\u001b[0m\n\u001b[0;32m--> 125\u001b[0;31m         \u001b[0mtoken_node_id_set\u001b[0m\u001b[0;34m,\u001b[0m\u001b[0;34m\u001b[0m\u001b[0;34m\u001b[0m\u001b[0m\n\u001b[0m\u001b[1;32m    126\u001b[0m     )\n\u001b[1;32m    127\u001b[0m     \u001b[0;31m# parser_states = []\u001b[0m\u001b[0;34m\u001b[0m\u001b[0;34m\u001b[0m\u001b[0;34m\u001b[0m\u001b[0m\n",
      "\u001b[0;32m/data/proj29_ds1/home/slai/mrp2019/src/action_state.py\u001b[0m in \u001b[0;36m_generate_parser_action_states\u001b[0;34m(doc, nodes, edges, node_id2node, token_nodes, abstract_node_id_set, child_id2edge_id_set, parent_id2indegree, parent_id2child_id_set, child_id2parent_id_set, token_node_id_set)\u001b[0m\n\u001b[1;32m    472\u001b[0m \u001b[0;34m\u001b[0m\u001b[0m\n\u001b[1;32m    473\u001b[0m         logger.debug(\n\u001b[0;32m--> 474\u001b[0;31m             pprint.pformat(('token stack', token_stack, pending_token_stack)))\n\u001b[0m\u001b[1;32m    475\u001b[0m         logger.debug(('visited states', seen_node_id_set, visited_node_id_set,\n\u001b[1;32m    476\u001b[0m                       complete_node_id_set, resolved_node_id_set))\n",
      "\u001b[0;32m~/.pyenv/versions/3.7.2/lib/python3.7/pprint.py\u001b[0m in \u001b[0;36mpformat\u001b[0;34m(object, indent, width, depth, compact)\u001b[0m\n\u001b[1;32m     56\u001b[0m     \u001b[0;34m\"\"\"Format a Python object into a pretty-printed representation.\"\"\"\u001b[0m\u001b[0;34m\u001b[0m\u001b[0;34m\u001b[0m\u001b[0m\n\u001b[1;32m     57\u001b[0m     return PrettyPrinter(indent=indent, width=width, depth=depth,\n\u001b[0;32m---> 58\u001b[0;31m                          compact=compact).pformat(object)\n\u001b[0m\u001b[1;32m     59\u001b[0m \u001b[0;34m\u001b[0m\u001b[0m\n\u001b[1;32m     60\u001b[0m \u001b[0;32mdef\u001b[0m \u001b[0msaferepr\u001b[0m\u001b[0;34m(\u001b[0m\u001b[0mobject\u001b[0m\u001b[0;34m)\u001b[0m\u001b[0;34m:\u001b[0m\u001b[0;34m\u001b[0m\u001b[0;34m\u001b[0m\u001b[0m\n",
      "\u001b[0;32m~/.pyenv/versions/3.7.2/lib/python3.7/pprint.py\u001b[0m in \u001b[0;36mpformat\u001b[0;34m(self, object)\u001b[0m\n\u001b[1;32m    142\u001b[0m     \u001b[0;32mdef\u001b[0m \u001b[0mpformat\u001b[0m\u001b[0;34m(\u001b[0m\u001b[0mself\u001b[0m\u001b[0;34m,\u001b[0m \u001b[0mobject\u001b[0m\u001b[0;34m)\u001b[0m\u001b[0;34m:\u001b[0m\u001b[0;34m\u001b[0m\u001b[0;34m\u001b[0m\u001b[0m\n\u001b[1;32m    143\u001b[0m         \u001b[0msio\u001b[0m \u001b[0;34m=\u001b[0m \u001b[0m_StringIO\u001b[0m\u001b[0;34m(\u001b[0m\u001b[0;34m)\u001b[0m\u001b[0;34m\u001b[0m\u001b[0;34m\u001b[0m\u001b[0m\n\u001b[0;32m--> 144\u001b[0;31m         \u001b[0mself\u001b[0m\u001b[0;34m.\u001b[0m\u001b[0m_format\u001b[0m\u001b[0;34m(\u001b[0m\u001b[0mobject\u001b[0m\u001b[0;34m,\u001b[0m \u001b[0msio\u001b[0m\u001b[0;34m,\u001b[0m \u001b[0;36m0\u001b[0m\u001b[0;34m,\u001b[0m \u001b[0;36m0\u001b[0m\u001b[0;34m,\u001b[0m \u001b[0;34m{\u001b[0m\u001b[0;34m}\u001b[0m\u001b[0;34m,\u001b[0m \u001b[0;36m0\u001b[0m\u001b[0;34m)\u001b[0m\u001b[0;34m\u001b[0m\u001b[0;34m\u001b[0m\u001b[0m\n\u001b[0m\u001b[1;32m    145\u001b[0m         \u001b[0;32mreturn\u001b[0m \u001b[0msio\u001b[0m\u001b[0;34m.\u001b[0m\u001b[0mgetvalue\u001b[0m\u001b[0;34m(\u001b[0m\u001b[0;34m)\u001b[0m\u001b[0;34m\u001b[0m\u001b[0;34m\u001b[0m\u001b[0m\n\u001b[1;32m    146\u001b[0m \u001b[0;34m\u001b[0m\u001b[0m\n",
      "\u001b[0;32m~/.pyenv/versions/3.7.2/lib/python3.7/pprint.py\u001b[0m in \u001b[0;36m_format\u001b[0;34m(self, object, stream, indent, allowance, context, level)\u001b[0m\n\u001b[1;32m    159\u001b[0m             \u001b[0mself\u001b[0m\u001b[0;34m.\u001b[0m\u001b[0m_readable\u001b[0m \u001b[0;34m=\u001b[0m \u001b[0;32mFalse\u001b[0m\u001b[0;34m\u001b[0m\u001b[0;34m\u001b[0m\u001b[0m\n\u001b[1;32m    160\u001b[0m             \u001b[0;32mreturn\u001b[0m\u001b[0;34m\u001b[0m\u001b[0;34m\u001b[0m\u001b[0m\n\u001b[0;32m--> 161\u001b[0;31m         \u001b[0mrep\u001b[0m \u001b[0;34m=\u001b[0m \u001b[0mself\u001b[0m\u001b[0;34m.\u001b[0m\u001b[0m_repr\u001b[0m\u001b[0;34m(\u001b[0m\u001b[0mobject\u001b[0m\u001b[0;34m,\u001b[0m \u001b[0mcontext\u001b[0m\u001b[0;34m,\u001b[0m \u001b[0mlevel\u001b[0m\u001b[0;34m)\u001b[0m\u001b[0;34m\u001b[0m\u001b[0;34m\u001b[0m\u001b[0m\n\u001b[0m\u001b[1;32m    162\u001b[0m         \u001b[0mmax_width\u001b[0m \u001b[0;34m=\u001b[0m \u001b[0mself\u001b[0m\u001b[0;34m.\u001b[0m\u001b[0m_width\u001b[0m \u001b[0;34m-\u001b[0m \u001b[0mindent\u001b[0m \u001b[0;34m-\u001b[0m \u001b[0mallowance\u001b[0m\u001b[0;34m\u001b[0m\u001b[0;34m\u001b[0m\u001b[0m\n\u001b[1;32m    163\u001b[0m         \u001b[0;32mif\u001b[0m \u001b[0mlen\u001b[0m\u001b[0;34m(\u001b[0m\u001b[0mrep\u001b[0m\u001b[0;34m)\u001b[0m \u001b[0;34m>\u001b[0m \u001b[0mmax_width\u001b[0m\u001b[0;34m:\u001b[0m\u001b[0;34m\u001b[0m\u001b[0;34m\u001b[0m\u001b[0m\n",
      "\u001b[0;32m~/.pyenv/versions/3.7.2/lib/python3.7/pprint.py\u001b[0m in \u001b[0;36m_repr\u001b[0;34m(self, object, context, level)\u001b[0m\n\u001b[1;32m    391\u001b[0m     \u001b[0;32mdef\u001b[0m \u001b[0m_repr\u001b[0m\u001b[0;34m(\u001b[0m\u001b[0mself\u001b[0m\u001b[0;34m,\u001b[0m \u001b[0mobject\u001b[0m\u001b[0;34m,\u001b[0m \u001b[0mcontext\u001b[0m\u001b[0;34m,\u001b[0m \u001b[0mlevel\u001b[0m\u001b[0;34m)\u001b[0m\u001b[0;34m:\u001b[0m\u001b[0;34m\u001b[0m\u001b[0;34m\u001b[0m\u001b[0m\n\u001b[1;32m    392\u001b[0m         repr, readable, recursive = self.format(object, context.copy(),\n\u001b[0;32m--> 393\u001b[0;31m                                                 self._depth, level)\n\u001b[0m\u001b[1;32m    394\u001b[0m         \u001b[0;32mif\u001b[0m \u001b[0;32mnot\u001b[0m \u001b[0mreadable\u001b[0m\u001b[0;34m:\u001b[0m\u001b[0;34m\u001b[0m\u001b[0;34m\u001b[0m\u001b[0m\n\u001b[1;32m    395\u001b[0m             \u001b[0mself\u001b[0m\u001b[0;34m.\u001b[0m\u001b[0m_readable\u001b[0m \u001b[0;34m=\u001b[0m \u001b[0;32mFalse\u001b[0m\u001b[0;34m\u001b[0m\u001b[0;34m\u001b[0m\u001b[0m\n",
      "\u001b[0;32m~/.pyenv/versions/3.7.2/lib/python3.7/pprint.py\u001b[0m in \u001b[0;36mformat\u001b[0;34m(self, object, context, maxlevels, level)\u001b[0m\n\u001b[1;32m    403\u001b[0m         \u001b[0;32mand\u001b[0m \u001b[0mwhether\u001b[0m \u001b[0mthe\u001b[0m \u001b[0mobject\u001b[0m \u001b[0mrepresents\u001b[0m \u001b[0ma\u001b[0m \u001b[0mrecursive\u001b[0m \u001b[0mconstruct\u001b[0m\u001b[0;34m.\u001b[0m\u001b[0;34m\u001b[0m\u001b[0;34m\u001b[0m\u001b[0m\n\u001b[1;32m    404\u001b[0m         \"\"\"\n\u001b[0;32m--> 405\u001b[0;31m         \u001b[0;32mreturn\u001b[0m \u001b[0m_safe_repr\u001b[0m\u001b[0;34m(\u001b[0m\u001b[0mobject\u001b[0m\u001b[0;34m,\u001b[0m \u001b[0mcontext\u001b[0m\u001b[0;34m,\u001b[0m \u001b[0mmaxlevels\u001b[0m\u001b[0;34m,\u001b[0m \u001b[0mlevel\u001b[0m\u001b[0;34m)\u001b[0m\u001b[0;34m\u001b[0m\u001b[0;34m\u001b[0m\u001b[0m\n\u001b[0m\u001b[1;32m    406\u001b[0m \u001b[0;34m\u001b[0m\u001b[0m\n\u001b[1;32m    407\u001b[0m     \u001b[0;32mdef\u001b[0m \u001b[0m_pprint_default_dict\u001b[0m\u001b[0;34m(\u001b[0m\u001b[0mself\u001b[0m\u001b[0;34m,\u001b[0m \u001b[0mobject\u001b[0m\u001b[0;34m,\u001b[0m \u001b[0mstream\u001b[0m\u001b[0;34m,\u001b[0m \u001b[0mindent\u001b[0m\u001b[0;34m,\u001b[0m \u001b[0mallowance\u001b[0m\u001b[0;34m,\u001b[0m \u001b[0mcontext\u001b[0m\u001b[0;34m,\u001b[0m \u001b[0mlevel\u001b[0m\u001b[0;34m)\u001b[0m\u001b[0;34m:\u001b[0m\u001b[0;34m\u001b[0m\u001b[0;34m\u001b[0m\u001b[0m\n",
      "\u001b[0;32m~/.pyenv/versions/3.7.2/lib/python3.7/pprint.py\u001b[0m in \u001b[0;36m_safe_repr\u001b[0;34m(object, context, maxlevels, level)\u001b[0m\n\u001b[1;32m    544\u001b[0m         \u001b[0mlevel\u001b[0m \u001b[0;34m+=\u001b[0m \u001b[0;36m1\u001b[0m\u001b[0;34m\u001b[0m\u001b[0;34m\u001b[0m\u001b[0m\n\u001b[1;32m    545\u001b[0m         \u001b[0;32mfor\u001b[0m \u001b[0mo\u001b[0m \u001b[0;32min\u001b[0m \u001b[0mobject\u001b[0m\u001b[0;34m:\u001b[0m\u001b[0;34m\u001b[0m\u001b[0;34m\u001b[0m\u001b[0m\n\u001b[0;32m--> 546\u001b[0;31m             \u001b[0morepr\u001b[0m\u001b[0;34m,\u001b[0m \u001b[0moreadable\u001b[0m\u001b[0;34m,\u001b[0m \u001b[0morecur\u001b[0m \u001b[0;34m=\u001b[0m \u001b[0m_safe_repr\u001b[0m\u001b[0;34m(\u001b[0m\u001b[0mo\u001b[0m\u001b[0;34m,\u001b[0m \u001b[0mcontext\u001b[0m\u001b[0;34m,\u001b[0m \u001b[0mmaxlevels\u001b[0m\u001b[0;34m,\u001b[0m \u001b[0mlevel\u001b[0m\u001b[0;34m)\u001b[0m\u001b[0;34m\u001b[0m\u001b[0;34m\u001b[0m\u001b[0m\n\u001b[0m\u001b[1;32m    547\u001b[0m             \u001b[0mappend\u001b[0m\u001b[0;34m(\u001b[0m\u001b[0morepr\u001b[0m\u001b[0;34m)\u001b[0m\u001b[0;34m\u001b[0m\u001b[0;34m\u001b[0m\u001b[0m\n\u001b[1;32m    548\u001b[0m             \u001b[0;32mif\u001b[0m \u001b[0;32mnot\u001b[0m \u001b[0moreadable\u001b[0m\u001b[0;34m:\u001b[0m\u001b[0;34m\u001b[0m\u001b[0;34m\u001b[0m\u001b[0m\n",
      "\u001b[0;32m~/.pyenv/versions/3.7.2/lib/python3.7/pprint.py\u001b[0m in \u001b[0;36m_safe_repr\u001b[0;34m(object, context, maxlevels, level)\u001b[0m\n\u001b[1;32m    544\u001b[0m         \u001b[0mlevel\u001b[0m \u001b[0;34m+=\u001b[0m \u001b[0;36m1\u001b[0m\u001b[0;34m\u001b[0m\u001b[0;34m\u001b[0m\u001b[0m\n\u001b[1;32m    545\u001b[0m         \u001b[0;32mfor\u001b[0m \u001b[0mo\u001b[0m \u001b[0;32min\u001b[0m \u001b[0mobject\u001b[0m\u001b[0;34m:\u001b[0m\u001b[0;34m\u001b[0m\u001b[0;34m\u001b[0m\u001b[0m\n\u001b[0;32m--> 546\u001b[0;31m             \u001b[0morepr\u001b[0m\u001b[0;34m,\u001b[0m \u001b[0moreadable\u001b[0m\u001b[0;34m,\u001b[0m \u001b[0morecur\u001b[0m \u001b[0;34m=\u001b[0m \u001b[0m_safe_repr\u001b[0m\u001b[0;34m(\u001b[0m\u001b[0mo\u001b[0m\u001b[0;34m,\u001b[0m \u001b[0mcontext\u001b[0m\u001b[0;34m,\u001b[0m \u001b[0mmaxlevels\u001b[0m\u001b[0;34m,\u001b[0m \u001b[0mlevel\u001b[0m\u001b[0;34m)\u001b[0m\u001b[0;34m\u001b[0m\u001b[0;34m\u001b[0m\u001b[0m\n\u001b[0m\u001b[1;32m    547\u001b[0m             \u001b[0mappend\u001b[0m\u001b[0;34m(\u001b[0m\u001b[0morepr\u001b[0m\u001b[0;34m)\u001b[0m\u001b[0;34m\u001b[0m\u001b[0;34m\u001b[0m\u001b[0m\n\u001b[1;32m    548\u001b[0m             \u001b[0;32mif\u001b[0m \u001b[0;32mnot\u001b[0m \u001b[0moreadable\u001b[0m\u001b[0;34m:\u001b[0m\u001b[0;34m\u001b[0m\u001b[0;34m\u001b[0m\u001b[0m\n",
      "\u001b[0;31mKeyboardInterrupt\u001b[0m: "
     ]
    }
   ],
   "source": [
    "num_pops = []\n",
    "error_num = 0\n",
    "for i, mrp_json in tqdm(enumerate(mrp_jsons)):\n",
    "#     print(i)\n",
    "    parser_states, meta_data = mrp_json2parser_states(mrp_json, framework, alignment)\n",
    "    if not parser_states:\n",
    "        logger.info(i)\n",
    "        error_num += 1\n",
    "        continue\n",
    "    action_states = [s[1] for s in parser_states]\n",
    "    for action_state in action_states:\n",
    "        for action in action_state:\n",
    "            action_type, arg = action\n",
    "            if action_type == RESOLVE:\n",
    "                num_pop = arg\n",
    "                num_pops.append(num_pop)"
   ]
  },
  {
   "cell_type": "code",
   "execution_count": null,
   "metadata": {},
   "outputs": [],
   "source": []
  }
 ],
 "metadata": {
  "kernelspec": {
   "display_name": "mrp",
   "language": "python",
   "name": "mrp"
  },
  "language_info": {
   "codemirror_mode": {
    "name": "ipython",
    "version": 3
   },
   "file_extension": ".py",
   "mimetype": "text/x-python",
   "name": "python",
   "nbconvert_exporter": "python",
   "pygments_lexer": "ipython3",
   "version": "3.7.2"
  }
 },
 "nbformat": 4,
 "nbformat_minor": 2
}
