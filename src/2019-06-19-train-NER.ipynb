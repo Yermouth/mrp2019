{
 "cells": [
  {
   "cell_type": "code",
   "execution_count": 1,
   "metadata": {},
   "outputs": [],
   "source": [
    "try:\n",
    "    __IPYTHON__\n",
    "    USING_IPYTHON = True\n",
    "except NameError:\n",
    "    USING_IPYTHON = False"
   ]
  },
  {
   "cell_type": "markdown",
   "metadata": {},
   "source": [
    "#### Argparse"
   ]
  },
  {
   "cell_type": "code",
   "execution_count": 2,
   "metadata": {},
   "outputs": [],
   "source": [
    "import argparse\n",
    "ap = argparse.ArgumentParser()\n",
    "ap.add_argument('mrp_data_dir', help='')\n",
    "ap.add_argument('--train-sub-dir', default='training', help='')\n",
    "ap.add_argument('--graphviz-dir', default='graphviz', help='')\n",
    "ap.add_argument('--companion-sub-dir', default='./mrp-companion/2019/companion')\n",
    "ap.add_argument('--mrp-file-extension', default='.mrp')\n",
    "ap.add_argument('--companion-file-extension', default='.conllu')\n",
    "ap.add_argument('--graphviz-file-template', default='http://localhost:8000/files/proj29_ds1/home/slai/mrp2019/graphviz/{}/{}.mrp/{}.png')\n",
    "arg_string = \"\"\"\n",
    "    ./data/\n",
    "\"\"\"\n",
    "arguments = [arg for arg_line in arg_string.split(r'\\\\n') for arg in arg_line.split()]"
   ]
  },
  {
   "cell_type": "code",
   "execution_count": 3,
   "metadata": {},
   "outputs": [],
   "source": [
    "if USING_IPYTHON:\n",
    "    args = ap.parse_args(arguments)\n",
    "else:\n",
    "    args = ap.parse_args()"
   ]
  },
  {
   "cell_type": "code",
   "execution_count": 4,
   "metadata": {},
   "outputs": [
    {
     "data": {
      "text/plain": [
       "Namespace(companion_file_extension='.conllu', companion_sub_dir='./mrp-companion/2019/companion', graphviz_dir='graphviz', graphviz_file_template='http://localhost:8000/files/proj29_ds1/home/slai/mrp2019/graphviz/{}/{}.mrp/{}.png', mrp_data_dir='./data/', mrp_file_extension='.mrp', train_sub_dir='training')"
      ]
     },
     "execution_count": 4,
     "metadata": {},
     "output_type": "execute_result"
    }
   ],
   "source": [
    "args"
   ]
  },
  {
   "cell_type": "markdown",
   "metadata": {},
   "source": [
    "#### Library imports"
   ]
  },
  {
   "cell_type": "code",
   "execution_count": 5,
   "metadata": {},
   "outputs": [],
   "source": [
    "import json\n",
    "import logging\n",
    "import os\n",
    "import pprint\n",
    "import string\n",
    "\n",
    "from collections import Counter\n",
    "from collections import defaultdict\n",
    "from tqdm import tqdm\n",
    "import matplotlib.pyplot as plt\n",
    "import networkx as nx\n",
    "import numpy as np\n",
    "import plot_util"
   ]
  },
  {
   "cell_type": "markdown",
   "metadata": {},
   "source": [
    "#### ipython notebook specific imports"
   ]
  },
  {
   "cell_type": "code",
   "execution_count": 6,
   "metadata": {},
   "outputs": [],
   "source": [
    "if USING_IPYTHON:\n",
    "    # matplotlib config\n",
    "    %matplotlib inline"
   ]
  },
  {
   "cell_type": "code",
   "execution_count": 7,
   "metadata": {},
   "outputs": [],
   "source": [
    "logging.basicConfig(level=logging.INFO, handlers=[logging.StreamHandler()])\n",
    "logger = logging.getLogger(__name__)  # pylint: disable=invalid-name\n",
    "logger.setLevel(logging.INFO)"
   ]
  },
  {
   "cell_type": "markdown",
   "metadata": {},
   "source": [
    "### Constants"
   ]
  },
  {
   "cell_type": "code",
   "execution_count": 8,
   "metadata": {},
   "outputs": [],
   "source": [
    "UNKWOWN = 'UNKWOWN'"
   ]
  },
  {
   "cell_type": "markdown",
   "metadata": {},
   "source": [
    "### Load data"
   ]
  },
  {
   "cell_type": "code",
   "execution_count": 9,
   "metadata": {},
   "outputs": [
    {
     "data": {
      "text/plain": [
       "['ucca', 'psd', 'eds', 'dm', 'amr']"
      ]
     },
     "execution_count": 9,
     "metadata": {},
     "output_type": "execute_result"
    }
   ],
   "source": [
    "train_dir = os.path.join(args.mrp_data_dir, args.train_sub_dir)\n",
    "frameworks = [sub_dir for sub_dir in os.listdir(train_dir) if os.path.isdir(os.path.join(train_dir, sub_dir))]\n",
    "frameworks"
   ]
  },
  {
   "cell_type": "code",
   "execution_count": 10,
   "metadata": {
    "scrolled": true
   },
   "outputs": [
    {
     "name": "stderr",
     "output_type": "stream",
     "text": [
      "frameworks:   0%|          | 0/5 [00:00<?, ?it/s]\n",
      "dataset_name:   0%|          | 0/2 [00:00<?, ?it/s]\u001b[A\n",
      "dataset_name:  50%|█████     | 1/2 [00:00<00:00,  3.25it/s]\u001b[A\n",
      "frameworks:  20%|██        | 1/5 [00:00<00:02,  1.46it/s]s]\u001b[A\n",
      "dataset_name:   0%|          | 0/1 [00:00<?, ?it/s]\u001b[A\n",
      "frameworks:  40%|████      | 2/5 [00:04<00:04,  1.55s/it]t]\u001b[A\n",
      "dataset_name:   0%|          | 0/1 [00:00<?, ?it/s]\u001b[A\n",
      "frameworks:  60%|██████    | 3/5 [00:09<00:05,  2.55s/it]t]\u001b[A\n",
      "dataset_name:   0%|          | 0/1 [00:00<?, ?it/s]\u001b[A\n",
      "frameworks:  80%|████████  | 4/5 [00:13<00:03,  3.24s/it]t]\u001b[A\n",
      "dataset_name:   0%|          | 0/14 [00:00<?, ?it/s]\u001b[A\n",
      "dataset_name:  43%|████▎     | 6/14 [00:00<00:00, 20.91it/s]\u001b[A\n",
      "dataset_name:  57%|█████▋    | 8/14 [00:00<00:00, 17.69it/s]\u001b[A\n",
      "dataset_name:  71%|███████▏  | 10/14 [00:01<00:00,  6.37it/s]\u001b[A\n",
      "dataset_name:  79%|███████▊  | 11/14 [00:01<00:00,  5.71it/s]\u001b[A\n",
      "frameworks: 100%|██████████| 5/5 [00:15<00:00,  2.72s/it]t/s]\u001b[A\n"
     ]
    }
   ],
   "source": [
    "framework2dataset2mrp_jsons = {}\n",
    "for framework in tqdm(frameworks, desc='frameworks'):\n",
    "    dataset2mrp_jsons = {}\n",
    "    framework_dir = os.path.join(train_dir, framework)\n",
    "    dataset_names = os.listdir(framework_dir)\n",
    "    \n",
    "    for dataset_name in tqdm(dataset_names, desc='dataset_name'):\n",
    "        mrp_jsons = []\n",
    "        if not dataset_name.endswith(args.mrp_file_extension):\n",
    "            continue\n",
    "        with open(os.path.join(framework_dir, dataset_name)) as rf:\n",
    "            for line in rf:\n",
    "                mrp_json = json.loads(line.strip())\n",
    "                if framework == 'ucca' and 'nodes' in mrp_json and 'input' in mrp_json:\n",
    "                    input_text = mrp_json['input']\n",
    "                    nodes = mrp_json['nodes']\n",
    "                    for i, node in enumerate(nodes):\n",
    "                        if 'anchors' not in node:\n",
    "                            continue\n",
    "                        text_segments = []\n",
    "                        for anchor in node['anchors']:\n",
    "                            text_segments.append(input_text[anchor.get('from', -1): anchor.get('to', -1)])\n",
    "                        mrp_json['nodes'][i]['label'] = ''.join(text_segments)\n",
    "                        \n",
    "                mrp_jsons.append(mrp_json)\n",
    "        dataset_name = dataset_name.split('.')[0]\n",
    "        dataset2mrp_jsons[dataset_name] = mrp_jsons\n",
    "                \n",
    "    framework2dataset2mrp_jsons[framework] = dataset2mrp_jsons"
   ]
  },
  {
   "cell_type": "code",
   "execution_count": 11,
   "metadata": {},
   "outputs": [
    {
     "name": "stderr",
     "output_type": "stream",
     "text": [
      "INFO:__main__:ucca\n",
      "INFO:__main__:['wiki', 'ewt']\n",
      "INFO:__main__:psd\n",
      "INFO:__main__:['wsj']\n",
      "INFO:__main__:eds\n",
      "INFO:__main__:['wsj']\n",
      "INFO:__main__:dm\n",
      "INFO:__main__:['wsj']\n",
      "INFO:__main__:amr\n",
      "INFO:__main__:['xinhua', 'wsj', 'wiki', 'wb', 'rte', 'proxy', 'mt09sdl', 'lorelei', 'fables', 'dfb', 'dfa', 'cctv', 'bolt', 'amr-guidelines']\n"
     ]
    }
   ],
   "source": [
    "for framework in framework2dataset2mrp_jsons:\n",
    "    logger.info(framework)\n",
    "    logger.info(list(framework2dataset2mrp_jsons[framework].keys()))"
   ]
  },
  {
   "cell_type": "code",
   "execution_count": null,
   "metadata": {},
   "outputs": [],
   "source": []
  },
  {
   "cell_type": "markdown",
   "metadata": {},
   "source": [
    "### Data Preprocessing companion"
   ]
  },
  {
   "cell_type": "code",
   "execution_count": 12,
   "metadata": {},
   "outputs": [
    {
     "name": "stderr",
     "output_type": "stream",
     "text": [
      "dataset: 100%|██████████| 13/13 [00:03<00:00,  3.91it/s]\n",
      "dataset: 100%|██████████| 5/5 [00:01<00:00,  4.31it/s]\n",
      "dataset: 100%|██████████| 6/6 [00:00<00:00, 32.31it/s]\n"
     ]
    }
   ],
   "source": [
    "dataset2cid2parse = {}\n",
    "for framework in os.listdir(args.companion_sub_dir):\n",
    "    framework_dir = os.path.join(args.companion_sub_dir, framework)\n",
    "    if not os.path.isdir(framework_dir):\n",
    "        continue\n",
    "    for dataset in tqdm(os.listdir(framework_dir), desc='dataset'):\n",
    "        if not dataset.endswith(args.companion_file_extension):\n",
    "            continue\n",
    "        dataset_name = dataset.split('.')[0].rstrip(string.digits)\n",
    "        cid2parse = {}\n",
    "        with open(os.path.join(framework_dir, dataset)) as rf:\n",
    "            parse = []\n",
    "            for line in rf:\n",
    "                line = line.strip()\n",
    "                if not line:\n",
    "                    cid2parse[cid] = parse\n",
    "                    parse = []\n",
    "                    cid = ''\n",
    "                elif line.startswith('#'):\n",
    "                    cid = line[1:]\n",
    "                else:\n",
    "                    parse.append(line.split('\\t'))\n",
    "        dataset2cid2parse[dataset_name] = cid2parse"
   ]
  },
  {
   "cell_type": "code",
   "execution_count": 13,
   "metadata": {},
   "outputs": [
    {
     "data": {
      "text/plain": [
       "dict_keys(['amr-guidelines', 'bolt', 'cctv', 'dfa', 'dfb', 'fables', 'lorelei', 'mt09sdl', 'proxy', 'rte', 'wb', 'wiki', 'xinhua', 'wsj', 'ewt'])"
      ]
     },
     "execution_count": 13,
     "metadata": {},
     "output_type": "execute_result"
    }
   ],
   "source": [
    "dataset2cid2parse.keys()"
   ]
  },
  {
   "cell_type": "code",
   "execution_count": 14,
   "metadata": {},
   "outputs": [
    {
     "data": {
      "text/plain": [
       "False"
      ]
     },
     "execution_count": 14,
     "metadata": {},
     "output_type": "execute_result"
    }
   ],
   "source": [
    "'20003001' in dataset2cid2parse['wsj']"
   ]
  },
  {
   "cell_type": "code",
   "execution_count": 15,
   "metadata": {},
   "outputs": [
    {
     "data": {
      "text/plain": [
       "['ucca', 'psd', 'eds', 'dm', 'amr']"
      ]
     },
     "execution_count": 15,
     "metadata": {},
     "output_type": "execute_result"
    }
   ],
   "source": [
    "frameworks"
   ]
  },
  {
   "cell_type": "code",
   "execution_count": 19,
   "metadata": {},
   "outputs": [
    {
     "name": "stdout",
     "output_type": "stream",
     "text": [
      "1 Bowie and Visconti continued their collaboration , producing a new album of completely original songs instead : the result of the sessions was the 2002 album Heathen .\n",
      "http://localhost:8000/files/proj29_ds1/home/slai/mrp2019/graphviz/ucca/wiki.mrp/509011.png\n",
      "http://localhost:8000/files/proj29_ds1/home/slai/mrp2019/graphviz/wiki/509011.png\n"
     ]
    }
   ],
   "source": [
    "dataset = 'wiki'\n",
    "framework = 'dm'\n",
    "framework = 'eds'\n",
    "framework = 'psd'\n",
    "framework = 'ucca'\n",
    "# framework = 'amr'\n",
    "mrp_index = 0\n",
    "parse = None\n",
    "while not parse:\n",
    "    mrp_index += 1\n",
    "    cid = framework2dataset2mrp_jsons[framework][dataset][mrp_index]['id']\n",
    "    parse = dataset2cid2parse[dataset].get(cid)\n",
    "    \n",
    "print(mrp_index, ' '.join([word_record[1] for word_record in parse]))\n",
    "\n",
    "for framework in frameworks:\n",
    "    if dataset not in framework2dataset2mrp_jsons[framework]:\n",
    "        continue\n",
    "    if len(framework2dataset2mrp_jsons[framework][dataset]) <= mrp_index:\n",
    "        continue\n",
    "    if framework2dataset2mrp_jsons[framework][dataset][mrp_index]['id'] == cid:\n",
    "        print(args.graphviz_file_template.format(framework, dataset, cid))\n",
    "\n",
    "parse_dg = plot_util.parse_to_directed_graph(parse)\n",
    "dataset_dir = os.path.join(args.graphviz_dir, dataset)\n",
    "image_path = os.path.join(dataset_dir,  cid + '.png')\n",
    "os.makedirs(dataset_dir, exist_ok=True)\n",
    "plot_util.directed_graph_to_graphviz_image(parse_dg, image_path)\n",
    "print(os.path.join('http://localhost:8000/files/proj29_ds1/home/slai/mrp2019', image_path))"
   ]
  },
  {
   "cell_type": "code",
   "execution_count": null,
   "metadata": {},
   "outputs": [],
   "source": []
  },
  {
   "cell_type": "code",
   "execution_count": null,
   "metadata": {},
   "outputs": [],
   "source": []
  },
  {
   "cell_type": "code",
   "execution_count": null,
   "metadata": {},
   "outputs": [],
   "source": []
  },
  {
   "cell_type": "code",
   "execution_count": null,
   "metadata": {},
   "outputs": [],
   "source": []
  },
  {
   "cell_type": "code",
   "execution_count": null,
   "metadata": {},
   "outputs": [],
   "source": []
  },
  {
   "cell_type": "code",
   "execution_count": 30,
   "metadata": {
    "scrolled": true
   },
   "outputs": [
    {
     "data": {
      "text/plain": [
       "(177,\n",
       " 'Mrs. Hills said many of the 25 countries that she placed under varying degrees of scrutiny have made “ genuine progress ” on this touchy issue .',\n",
       " [['1',\n",
       "   'Mrs.',\n",
       "   'Mrs.',\n",
       "   'PROPN',\n",
       "   'NNP',\n",
       "   '_',\n",
       "   '2',\n",
       "   'compound',\n",
       "   '_',\n",
       "   'TokenRange=0:4'],\n",
       "  ['2',\n",
       "   'Hills',\n",
       "   'Hills',\n",
       "   'PROPN',\n",
       "   'NNP',\n",
       "   '_',\n",
       "   '3',\n",
       "   'nsubj',\n",
       "   '_',\n",
       "   'TokenRange=5:10'],\n",
       "  ['3',\n",
       "   'said',\n",
       "   'say',\n",
       "   'VERB',\n",
       "   'VBD',\n",
       "   '_',\n",
       "   '0',\n",
       "   'root',\n",
       "   '_',\n",
       "   'TokenRange=11:15'],\n",
       "  ['4',\n",
       "   'many',\n",
       "   'many',\n",
       "   'ADJ',\n",
       "   'JJ',\n",
       "   '_',\n",
       "   '18',\n",
       "   'nsubj',\n",
       "   '_',\n",
       "   'TokenRange=16:20'],\n",
       "  ['5', 'of', 'of', 'ADP', 'IN', '_', '8', 'case', '_', 'TokenRange=21:23'],\n",
       "  ['6', 'the', 'the', 'DET', 'DT', '_', '8', 'det', '_', 'TokenRange=24:27'],\n",
       "  ['7', '25', '25', 'NUM', 'CD', '_', '8', 'nummod', '_', 'TokenRange=28:30'],\n",
       "  ['8',\n",
       "   'countries',\n",
       "   'country',\n",
       "   'NOUN',\n",
       "   'NNS',\n",
       "   '_',\n",
       "   '4',\n",
       "   'nmod',\n",
       "   '_',\n",
       "   'TokenRange=31:40'],\n",
       "  ['9',\n",
       "   'that',\n",
       "   'that',\n",
       "   'ADP',\n",
       "   'IN',\n",
       "   '_',\n",
       "   '11',\n",
       "   'obj',\n",
       "   '_',\n",
       "   'TokenRange=41:45'],\n",
       "  ['10',\n",
       "   'she',\n",
       "   'she',\n",
       "   'PRON',\n",
       "   'PRP',\n",
       "   '_',\n",
       "   '11',\n",
       "   'nsubj',\n",
       "   '_',\n",
       "   'TokenRange=46:49'],\n",
       "  ['11',\n",
       "   'placed',\n",
       "   'place',\n",
       "   'VERB',\n",
       "   'VBD',\n",
       "   '_',\n",
       "   '8',\n",
       "   'acl:relcl',\n",
       "   '_',\n",
       "   'TokenRange=50:56'],\n",
       "  ['12',\n",
       "   'under',\n",
       "   'under',\n",
       "   'ADP',\n",
       "   'IN',\n",
       "   '_',\n",
       "   '14',\n",
       "   'case',\n",
       "   '_',\n",
       "   'TokenRange=57:62'],\n",
       "  ['13',\n",
       "   'varying',\n",
       "   'vary',\n",
       "   'VERB',\n",
       "   'VBG',\n",
       "   '_',\n",
       "   '14',\n",
       "   'amod',\n",
       "   '_',\n",
       "   'TokenRange=63:70'],\n",
       "  ['14',\n",
       "   'degrees',\n",
       "   'degree',\n",
       "   'NOUN',\n",
       "   'NNS',\n",
       "   '_',\n",
       "   '11',\n",
       "   'obl',\n",
       "   '_',\n",
       "   'TokenRange=71:78'],\n",
       "  ['15', 'of', 'of', 'ADP', 'IN', '_', '16', 'case', '_', 'TokenRange=79:81'],\n",
       "  ['16',\n",
       "   'scrutiny',\n",
       "   'scrutiny',\n",
       "   'NOUN',\n",
       "   'NN',\n",
       "   '_',\n",
       "   '14',\n",
       "   'nmod',\n",
       "   '_',\n",
       "   'TokenRange=82:90'],\n",
       "  ['17',\n",
       "   'have',\n",
       "   'have',\n",
       "   'AUX',\n",
       "   'VBP',\n",
       "   '_',\n",
       "   '18',\n",
       "   'aux',\n",
       "   '_',\n",
       "   'TokenRange=91:95'],\n",
       "  ['18',\n",
       "   'made',\n",
       "   'make',\n",
       "   'VERB',\n",
       "   'VBN',\n",
       "   '_',\n",
       "   '3',\n",
       "   'ccomp',\n",
       "   '_',\n",
       "   'TokenRange=96:100'],\n",
       "  ['19',\n",
       "   '“',\n",
       "   '“',\n",
       "   'PUNCT',\n",
       "   '``',\n",
       "   '_',\n",
       "   '18',\n",
       "   'punct',\n",
       "   '_',\n",
       "   'TokenRange=101:102'],\n",
       "  ['20',\n",
       "   'genuine',\n",
       "   'genuine',\n",
       "   'ADJ',\n",
       "   'JJ',\n",
       "   '_',\n",
       "   '21',\n",
       "   'amod',\n",
       "   '_',\n",
       "   'TokenRange=102:109'],\n",
       "  ['21',\n",
       "   'progress',\n",
       "   'progress',\n",
       "   'NOUN',\n",
       "   'NN',\n",
       "   '_',\n",
       "   '18',\n",
       "   'obj',\n",
       "   '_',\n",
       "   'TokenRange=110:118'],\n",
       "  ['22',\n",
       "   '”',\n",
       "   '”',\n",
       "   'PUNCT',\n",
       "   \"''\",\n",
       "   '_',\n",
       "   '21',\n",
       "   'punct',\n",
       "   '_',\n",
       "   'TokenRange=118:119'],\n",
       "  ['23',\n",
       "   'on',\n",
       "   'on',\n",
       "   'ADP',\n",
       "   'IN',\n",
       "   '_',\n",
       "   '26',\n",
       "   'case',\n",
       "   '_',\n",
       "   'TokenRange=120:122'],\n",
       "  ['24',\n",
       "   'this',\n",
       "   'this',\n",
       "   'DET',\n",
       "   'DT',\n",
       "   '_',\n",
       "   '26',\n",
       "   'det',\n",
       "   '_',\n",
       "   'TokenRange=123:127'],\n",
       "  ['25',\n",
       "   'touchy',\n",
       "   'touchy',\n",
       "   'ADJ',\n",
       "   'JJ',\n",
       "   '_',\n",
       "   '26',\n",
       "   'amod',\n",
       "   '_',\n",
       "   'TokenRange=128:134'],\n",
       "  ['26',\n",
       "   'issue',\n",
       "   'issue',\n",
       "   'NOUN',\n",
       "   'NN',\n",
       "   '_',\n",
       "   '18',\n",
       "   'obl',\n",
       "   '_',\n",
       "   'TokenRange=135:140'],\n",
       "  ['27',\n",
       "   '.',\n",
       "   '.',\n",
       "   'PUNCT',\n",
       "   '.',\n",
       "   '_',\n",
       "   '3',\n",
       "   'punct',\n",
       "   '_',\n",
       "   'TokenRange=140:141']])"
      ]
     },
     "execution_count": 30,
     "metadata": {},
     "output_type": "execute_result"
    }
   ],
   "source": [
    "dataset = 'wsj'\n",
    "framework = 'dm'\n",
    "framework = 'eds'\n",
    "# framework = 'psd'\n",
    "# framework = 'ucca'\n",
    "# framework = 'amr'\n",
    "mrp_index = 170\n",
    "parse = None\n",
    "while not parse:\n",
    "    mrp_index += 1\n",
    "    cid = framework2dataset2mrp_jsons[framework][dataset][mrp_index]['id']\n",
    "    parse = dataset2cid2parse[dataset].get(cid)\n",
    "    \n",
    "(mrp_index, ' '.join([word_record[1] for word_record in parse]), parse)"
   ]
  },
  {
   "cell_type": "code",
   "execution_count": 32,
   "metadata": {},
   "outputs": [
    {
     "data": {
      "text/plain": [
       "{'id': '20020004',\n",
       " 'flavor': 1,\n",
       " 'framework': 'eds',\n",
       " 'version': 0.9,\n",
       " 'time': '2019-04-10 (20:21)',\n",
       " 'input': 'Mrs. Hills said many of the 25 countries that she placed under varying degrees of scrutiny have made \"genuine progress\" on this touchy issue.',\n",
       " 'tops': [5],\n",
       " 'nodes': [{'id': 0, 'label': 'proper_q', 'anchors': [{'from': 0, 'to': 10}]},\n",
       "  {'id': 1, 'label': 'compound', 'anchors': [{'from': 0, 'to': 10}]},\n",
       "  {'id': 2, 'label': 'udef_q', 'anchors': [{'from': 0, 'to': 4}]},\n",
       "  {'id': 3, 'label': '_missus_n_1', 'anchors': [{'from': 0, 'to': 4}]},\n",
       "  {'id': 4,\n",
       "   'label': 'named',\n",
       "   'properties': ['carg'],\n",
       "   'values': ['Hills'],\n",
       "   'anchors': [{'from': 5, 'to': 10}]},\n",
       "  {'id': 5, 'label': '_say_v_to', 'anchors': [{'from': 11, 'to': 15}]},\n",
       "  {'id': 6, 'label': 'part_of', 'anchors': [{'from': 16, 'to': 20}]},\n",
       "  {'id': 7, 'label': 'udef_q', 'anchors': [{'from': 16, 'to': 20}]},\n",
       "  {'id': 8, 'label': 'much-many_a', 'anchors': [{'from': 16, 'to': 20}]},\n",
       "  {'id': 9, 'label': '_the_q', 'anchors': [{'from': 24, 'to': 27}]},\n",
       "  {'id': 10,\n",
       "   'label': 'card',\n",
       "   'properties': ['carg'],\n",
       "   'values': ['25'],\n",
       "   'anchors': [{'from': 28, 'to': 30}]},\n",
       "  {'id': 11, 'label': '_country_n_of', 'anchors': [{'from': 31, 'to': 40}]},\n",
       "  {'id': 12, 'label': 'pron', 'anchors': [{'from': 46, 'to': 49}]},\n",
       "  {'id': 13, 'label': 'pronoun_q', 'anchors': [{'from': 46, 'to': 49}]},\n",
       "  {'id': 14, 'label': '_place_v_1', 'anchors': [{'from': 50, 'to': 56}]},\n",
       "  {'id': 15, 'label': '_under_p', 'anchors': [{'from': 57, 'to': 62}]},\n",
       "  {'id': 16, 'label': 'udef_q', 'anchors': [{'from': 63, 'to': 90}]},\n",
       "  {'id': 17, 'label': '_vary_v_1', 'anchors': [{'from': 63, 'to': 70}]},\n",
       "  {'id': 18, 'label': '_degree_n_of', 'anchors': [{'from': 71, 'to': 78}]},\n",
       "  {'id': 19, 'label': 'udef_q', 'anchors': [{'from': 82, 'to': 90}]},\n",
       "  {'id': 20, 'label': '_scrutiny_n_of', 'anchors': [{'from': 82, 'to': 90}]},\n",
       "  {'id': 21, 'label': '_make_v_1', 'anchors': [{'from': 96, 'to': 100}]},\n",
       "  {'id': 22, 'label': 'udef_q', 'anchors': [{'from': 101, 'to': 141}]},\n",
       "  {'id': 23, 'label': '_genuine_a_1', 'anchors': [{'from': 101, 'to': 109}]},\n",
       "  {'id': 24, 'label': '_progress_n_1', 'anchors': [{'from': 110, 'to': 119}]},\n",
       "  {'id': 25, 'label': '_on_p', 'anchors': [{'from': 120, 'to': 122}]},\n",
       "  {'id': 26, 'label': '_this_q_dem', 'anchors': [{'from': 123, 'to': 127}]},\n",
       "  {'id': 27,\n",
       "   'label': '_touchy_a_unknown',\n",
       "   'anchors': [{'from': 128, 'to': 134}]},\n",
       "  {'id': 28, 'label': '_issue_n_1', 'anchors': [{'from': 135, 'to': 141}]}],\n",
       " 'edges': [{'source': 21, 'target': 6, 'label': 'ARG1'},\n",
       "  {'source': 22, 'target': 24, 'label': 'BV'},\n",
       "  {'source': 26, 'target': 28, 'label': 'BV'},\n",
       "  {'source': 6, 'target': 11, 'label': 'ARG1'},\n",
       "  {'source': 14, 'target': 11, 'label': 'ARG2'},\n",
       "  {'source': 14, 'target': 12, 'label': 'ARG1'},\n",
       "  {'source': 0, 'target': 4, 'label': 'BV'},\n",
       "  {'source': 5, 'target': 21, 'label': 'ARG2'},\n",
       "  {'source': 14, 'target': 15, 'label': 'ARG3'},\n",
       "  {'source': 27, 'target': 28, 'label': 'ARG1'},\n",
       "  {'source': 7, 'target': 6, 'label': 'BV'},\n",
       "  {'source': 18, 'target': 20, 'label': 'ARG1'},\n",
       "  {'source': 8, 'target': 6, 'label': 'ARG1'},\n",
       "  {'source': 10, 'target': 11, 'label': 'ARG1'},\n",
       "  {'source': 17, 'target': 18, 'label': 'ARG1'},\n",
       "  {'source': 16, 'target': 18, 'label': 'BV'},\n",
       "  {'source': 15, 'target': 18, 'label': 'ARG2'},\n",
       "  {'source': 25, 'target': 24, 'label': 'ARG1'},\n",
       "  {'source': 5, 'target': 4, 'label': 'ARG1'},\n",
       "  {'source': 9, 'target': 11, 'label': 'BV'},\n",
       "  {'source': 13, 'target': 12, 'label': 'BV'},\n",
       "  {'source': 21, 'target': 24, 'label': 'ARG2'},\n",
       "  {'source': 25, 'target': 28, 'label': 'ARG2'},\n",
       "  {'source': 1, 'target': 4, 'label': 'ARG1'},\n",
       "  {'source': 1, 'target': 3, 'label': 'ARG2'},\n",
       "  {'source': 15, 'target': 11, 'label': 'ARG1'},\n",
       "  {'source': 2, 'target': 3, 'label': 'BV'},\n",
       "  {'source': 19, 'target': 20, 'label': 'BV'},\n",
       "  {'source': 23, 'target': 24, 'label': 'ARG1'}]}"
      ]
     },
     "execution_count": 32,
     "metadata": {},
     "output_type": "execute_result"
    }
   ],
   "source": [
    "framework2dataset2mrp_jsons[framework][dataset][mrp_index]"
   ]
  },
  {
   "cell_type": "code",
   "execution_count": 38,
   "metadata": {},
   "outputs": [
    {
     "name": "stdout",
     "output_type": "stream",
     "text": [
      "http://localhost:8000/files/proj29_ds1/home/slai/mrp2019/graphviz/psd/wsj.mrp/20020004.png\n",
      "http://localhost:8000/files/proj29_ds1/home/slai/mrp2019/graphviz/eds/wsj.mrp/20020004.png\n",
      "http://localhost:8000/files/proj29_ds1/home/slai/mrp2019/graphviz/dm/wsj.mrp/20020004.png\n",
      "http://localhost:8000/files/proj29_ds1/home/slai/mrp2019/graphviz/wsj/20020004.png\n"
     ]
    }
   ],
   "source": [
    "for framework in frameworks:\n",
    "    if dataset not in framework2dataset2mrp_jsons[framework]:\n",
    "        continue\n",
    "    if len(framework2dataset2mrp_jsons[framework][dataset]) <= mrp_index:\n",
    "        continue\n",
    "    if framework2dataset2mrp_jsons[framework][dataset][mrp_index]['id'] == cid:\n",
    "        print(args.graphviz_file_template.format(framework, dataset, cid))\n",
    "\n",
    "parse_dg = plot_util.parse_to_directed_graph(parse)\n",
    "dataset_dir = os.path.join(args.graphviz_dir, dataset)\n",
    "image_path = os.path.join(dataset_dir,  cid + '.png')\n",
    "os.makedirs(dataset_dir, exist_ok=True)\n",
    "plot_util.directed_graph_to_graphviz_image(parse_dg, image_path)\n",
    "print(os.path.join('http://localhost:8000/files/proj29_ds1/home/slai/mrp2019', image_path))"
   ]
  },
  {
   "cell_type": "code",
   "execution_count": null,
   "metadata": {},
   "outputs": [],
   "source": []
  },
  {
   "cell_type": "code",
   "execution_count": null,
   "metadata": {},
   "outputs": [],
   "source": []
  },
  {
   "cell_type": "code",
   "execution_count": null,
   "metadata": {},
   "outputs": [],
   "source": []
  },
  {
   "cell_type": "code",
   "execution_count": null,
   "metadata": {},
   "outputs": [],
   "source": []
  },
  {
   "cell_type": "markdown",
   "metadata": {},
   "source": [
    "### Generate NER data"
   ]
  },
  {
   "cell_type": "code",
   "execution_count": null,
   "metadata": {},
   "outputs": [],
   "source": [
    "dataset"
   ]
  },
  {
   "cell_type": "code",
   "execution_count": null,
   "metadata": {},
   "outputs": [],
   "source": [
    "cid = list(dataset2cid2parse[dataset])[0]"
   ]
  },
  {
   "cell_type": "code",
   "execution_count": null,
   "metadata": {},
   "outputs": [],
   "source": [
    "dataset2cid2parse[dataset][cid]"
   ]
  },
  {
   "cell_type": "code",
   "execution_count": null,
   "metadata": {},
   "outputs": [],
   "source": [
    "for dataset, cid2parse in dataset2cid2parse.items():\n",
    "    for cid, parse in cid2parse.items():\n",
    "        for word_record in parse:\n",
    "            "
   ]
  },
  {
   "cell_type": "code",
   "execution_count": null,
   "metadata": {},
   "outputs": [],
   "source": []
  },
  {
   "cell_type": "code",
   "execution_count": null,
   "metadata": {},
   "outputs": [],
   "source": []
  },
  {
   "cell_type": "code",
   "execution_count": null,
   "metadata": {},
   "outputs": [],
   "source": []
  },
  {
   "cell_type": "code",
   "execution_count": null,
   "metadata": {},
   "outputs": [],
   "source": []
  },
  {
   "cell_type": "code",
   "execution_count": null,
   "metadata": {},
   "outputs": [],
   "source": []
  },
  {
   "cell_type": "code",
   "execution_count": null,
   "metadata": {},
   "outputs": [],
   "source": []
  },
  {
   "cell_type": "code",
   "execution_count": null,
   "metadata": {},
   "outputs": [],
   "source": []
  },
  {
   "cell_type": "code",
   "execution_count": null,
   "metadata": {},
   "outputs": [],
   "source": []
  },
  {
   "cell_type": "code",
   "execution_count": null,
   "metadata": {},
   "outputs": [],
   "source": []
  },
  {
   "cell_type": "code",
   "execution_count": null,
   "metadata": {},
   "outputs": [],
   "source": []
  }
 ],
 "metadata": {
  "kernelspec": {
   "display_name": "mrp",
   "language": "python",
   "name": "mrp"
  },
  "language_info": {
   "codemirror_mode": {
    "name": "ipython",
    "version": 3
   },
   "file_extension": ".py",
   "mimetype": "text/x-python",
   "name": "python",
   "nbconvert_exporter": "python",
   "pygments_lexer": "ipython3",
   "version": "3.7.2"
  }
 },
 "nbformat": 4,
 "nbformat_minor": 2
}
