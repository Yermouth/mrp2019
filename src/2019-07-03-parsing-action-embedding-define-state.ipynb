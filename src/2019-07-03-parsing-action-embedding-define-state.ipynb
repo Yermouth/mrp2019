{
 "cells": [
  {
   "cell_type": "code",
   "execution_count": 1,
   "metadata": {},
   "outputs": [],
   "source": [
    "try:\n",
    "    __IPYTHON__\n",
    "    USING_IPYTHON = True\n",
    "    %load_ext autoreload\n",
    "    %autoreload 2\n",
    "except NameError:\n",
    "    USING_IPYTHON = False"
   ]
  },
  {
   "cell_type": "markdown",
   "metadata": {},
   "source": [
    "#### Argparse"
   ]
  },
  {
   "cell_type": "code",
   "execution_count": 2,
   "metadata": {},
   "outputs": [],
   "source": [
    "import argparse\n",
    "ap = argparse.ArgumentParser()\n",
    "ap.add_argument('project_root', help='')\n",
    "ap.add_argument('--mrp-data-dir', default='data', help='')\n",
    "ap.add_argument('--graphviz-sub-dir', default='visualization/graphviz', help='')\n",
    "ap.add_argument('--train-sub-dir', default='training', help='')\n",
    "ap.add_argument('--companion-sub-dir', default='companion')\n",
    "ap.add_argument('--jamr-alignment-file', default='jamr.mrp')\n",
    "\n",
    "\n",
    "ap.add_argument('--mrp-file-extension', default='.mrp')\n",
    "ap.add_argument('--companion-file-extension', default='.conllu')\n",
    "ap.add_argument('--graphviz-file-template', default='http://localhost:8000/files/proj29_ds1/home/slai/mrp2019/visualization/graphviz/{}/{}.mrp/{}.png')\n",
    "arg_string = \"\"\"\n",
    "    /data/proj29_ds1/home/slai/mrp2019\n",
    "\"\"\"\n",
    "arguments = [arg for arg_line in arg_string.split(r'\\\\n') for arg in arg_line.split()]"
   ]
  },
  {
   "cell_type": "code",
   "execution_count": 3,
   "metadata": {},
   "outputs": [],
   "source": [
    "if USING_IPYTHON:\n",
    "    args = ap.parse_args(arguments)\n",
    "else:\n",
    "    args = ap.parse_args()"
   ]
  },
  {
   "cell_type": "code",
   "execution_count": 4,
   "metadata": {},
   "outputs": [
    {
     "data": {
      "text/plain": [
       "Namespace(companion_file_extension='.conllu', companion_sub_dir='companion', graphviz_file_template='http://localhost:8000/files/proj29_ds1/home/slai/mrp2019/visualization/graphviz/{}/{}.mrp/{}.png', graphviz_sub_dir='visualization/graphviz', jamr_alignment_file='jamr.mrp', mrp_data_dir='data', mrp_file_extension='.mrp', project_root='/data/proj29_ds1/home/slai/mrp2019', train_sub_dir='training')"
      ]
     },
     "execution_count": 4,
     "metadata": {},
     "output_type": "execute_result"
    }
   ],
   "source": [
    "args"
   ]
  },
  {
   "cell_type": "markdown",
   "metadata": {},
   "source": [
    "#### Library imports"
   ]
  },
  {
   "cell_type": "code",
   "execution_count": 533,
   "metadata": {},
   "outputs": [],
   "source": [
    "import json\n",
    "import logging\n",
    "import os\n",
    "import pprint\n",
    "import string\n",
    "from collections import Counter, defaultdict, deque\n",
    "\n",
    "import matplotlib.pyplot as plt\n",
    "import networkx as nx\n",
    "import numpy as np\n",
    "import plot_util\n",
    "from preprocessing import (CompanionParseDataset, MrpDataset, JamrAlignmentDataset, \n",
    "                           mrp_json2parser_states)\n",
    "from tqdm import tqdm"
   ]
  },
  {
   "cell_type": "markdown",
   "metadata": {},
   "source": [
    "#### ipython notebook specific imports"
   ]
  },
  {
   "cell_type": "code",
   "execution_count": 6,
   "metadata": {},
   "outputs": [],
   "source": [
    "if USING_IPYTHON:\n",
    "    # matplotlib config\n",
    "    %matplotlib inline"
   ]
  },
  {
   "cell_type": "code",
   "execution_count": 7,
   "metadata": {},
   "outputs": [],
   "source": [
    "sh = logging.StreamHandler()\n",
    "formatter = logging.Formatter('%(name)s - %(levelname)s - %(message)s')\n",
    "sh.setFormatter(formatter)\n",
    "logging.basicConfig(level=logging.INFO, handlers=[sh])\n",
    "logger = logging.getLogger(__name__)  # pylint: disable=invalid-name\n",
    "logger.setLevel(logging.INFO)"
   ]
  },
  {
   "cell_type": "markdown",
   "metadata": {},
   "source": [
    "### Constants"
   ]
  },
  {
   "cell_type": "code",
   "execution_count": 8,
   "metadata": {},
   "outputs": [],
   "source": [
    "UNKWOWN = 'UNKWOWN'"
   ]
  },
  {
   "cell_type": "markdown",
   "metadata": {},
   "source": [
    "### Load data"
   ]
  },
  {
   "cell_type": "code",
   "execution_count": 9,
   "metadata": {},
   "outputs": [],
   "source": [
    "train_dir = os.path.join(args.project_root, args.mrp_data_dir, args.train_sub_dir)"
   ]
  },
  {
   "cell_type": "code",
   "execution_count": 10,
   "metadata": {},
   "outputs": [],
   "source": [
    "mrp_dataset = MrpDataset()"
   ]
  },
  {
   "cell_type": "code",
   "execution_count": 11,
   "metadata": {},
   "outputs": [
    {
     "name": "stderr",
     "output_type": "stream",
     "text": [
      "frameworks:   0%|          | 0/5 [00:00<?, ?it/s]\n",
      "dataset_name:   0%|          | 0/2 [00:00<?, ?it/s]\u001b[A\n",
      "dataset_name:  50%|█████     | 1/2 [00:00<00:00,  2.81it/s]\u001b[A\n",
      "frameworks:  20%|██        | 1/5 [00:00<00:02,  1.45it/s]s]\u001b[A\n",
      "dataset_name:   0%|          | 0/1 [00:00<?, ?it/s]\u001b[A\n",
      "frameworks:  40%|████      | 2/5 [00:04<00:04,  1.57s/it]t]\u001b[A\n",
      "dataset_name:   0%|          | 0/1 [00:00<?, ?it/s]\u001b[A\n",
      "frameworks:  60%|██████    | 3/5 [00:08<00:04,  2.48s/it]t]\u001b[A\n",
      "dataset_name:   0%|          | 0/1 [00:00<?, ?it/s]\u001b[A\n",
      "frameworks:  80%|████████  | 4/5 [00:13<00:03,  3.25s/it]t]\u001b[A\n",
      "dataset_name:   0%|          | 0/14 [00:00<?, ?it/s]\u001b[A\n",
      "dataset_name:  36%|███▌      | 5/14 [00:00<00:00, 43.86it/s]\u001b[A\n",
      "dataset_name:  50%|█████     | 7/14 [00:00<00:00, 17.95it/s]\u001b[A\n",
      "dataset_name:  64%|██████▍   | 9/14 [00:00<00:00, 15.34it/s]\u001b[A\n",
      "dataset_name:  79%|███████▊  | 11/14 [00:01<00:00,  5.03it/s]\u001b[A\n",
      "frameworks: 100%|██████████| 5/5 [00:15<00:00,  2.77s/it]t/s]\u001b[A\n"
     ]
    }
   ],
   "source": [
    "frameworks, framework2dataset2mrp_jsons = mrp_dataset.load_mrp_json_dir(\n",
    "    train_dir, args.mrp_file_extension)"
   ]
  },
  {
   "cell_type": "code",
   "execution_count": null,
   "metadata": {},
   "outputs": [],
   "source": []
  },
  {
   "cell_type": "markdown",
   "metadata": {},
   "source": [
    "### Data Preprocessing companion"
   ]
  },
  {
   "cell_type": "code",
   "execution_count": 12,
   "metadata": {},
   "outputs": [],
   "source": [
    "companion_dir = os.path.join(args.project_root, args.mrp_data_dir, args.companion_sub_dir)"
   ]
  },
  {
   "cell_type": "code",
   "execution_count": 13,
   "metadata": {},
   "outputs": [],
   "source": [
    "cparse_dataset = CompanionParseDataset()"
   ]
  },
  {
   "cell_type": "code",
   "execution_count": 14,
   "metadata": {},
   "outputs": [
    {
     "name": "stderr",
     "output_type": "stream",
     "text": [
      "preprocessing - INFO - framework amr found\n",
      "dataset: 100%|██████████| 13/13 [00:03<00:00,  3.38it/s]\n",
      "preprocessing - INFO - framework dm found\n",
      "dataset: 100%|██████████| 5/5 [00:01<00:00,  4.33it/s]\n",
      "preprocessing - INFO - framework ucca found\n",
      "dataset: 100%|██████████| 6/6 [00:00<00:00, 25.47it/s]\n"
     ]
    }
   ],
   "source": [
    "dataset2cid2parse = cparse_dataset.load_companion_parse_dir(companion_dir, args.companion_file_extension)"
   ]
  },
  {
   "cell_type": "code",
   "execution_count": 15,
   "metadata": {},
   "outputs": [
    {
     "data": {
      "text/plain": [
       "dict_keys(['amr-guidelines', 'bolt', 'cctv', 'dfa', 'dfb', 'fables', 'lorelei', 'mt09sdl', 'proxy', 'rte', 'wb', 'wiki', 'xinhua', 'wsj', 'ewt'])"
      ]
     },
     "execution_count": 15,
     "metadata": {},
     "output_type": "execute_result"
    }
   ],
   "source": [
    "dataset2cid2parse.keys()"
   ]
  },
  {
   "cell_type": "code",
   "execution_count": 16,
   "metadata": {
    "scrolled": false
   },
   "outputs": [
    {
     "data": {
      "text/plain": [
       "False"
      ]
     },
     "execution_count": 16,
     "metadata": {},
     "output_type": "execute_result"
    }
   ],
   "source": [
    "# Some data is missing\n",
    "'20003001' in dataset2cid2parse['wsj']"
   ]
  },
  {
   "cell_type": "markdown",
   "metadata": {},
   "source": [
    "### Load JAMR alignment data"
   ]
  },
  {
   "cell_type": "code",
   "execution_count": 17,
   "metadata": {},
   "outputs": [],
   "source": [
    "jalignment_dataset = JamrAlignmentDataset()source_id"
   ]
  },
  {
   "cell_type": "code",
   "execution_count": 18,
   "metadata": {},
   "outputs": [],
   "source": [
    "cid2alignment = jalignment_dataset.load_jamr_alignment_file(os.path.join(\n",
    "    args.project_root,\n",
    "    args.mrp_data_dir,\n",
    "    args.companion_sub_dir,\n",
    "    args.jamr_alignment_file\n",
    "))"
   ]
  },
  {
   "cell_type": "markdown",
   "metadata": {},
   "source": [
    "### Define the state at each step"
   ]
  },
  {
   "cell_type": "code",
   "execution_count": 19,
   "metadata": {},
   "outputs": [
    {
     "name": "stderr",
     "output_type": "stream",
     "text": [
      "__main__ - INFO - ucca\n",
      "__main__ - INFO - ['wiki', 'ewt']\n",
      "__main__ - INFO - psd\n",
      "__main__ - INFO - ['wsj']\n",
      "__main__ - INFO - eds\n",
      "__main__ - INFO - ['wsj']\n",
      "__main__ - INFO - dm\n",
      "__main__ - INFO - ['wsj']\n",
      "__main__ - INFO - amr\n",
      "__main__ - INFO - ['xinhua', 'wsj', 'wiki', 'wb', 'rte', 'proxy', 'mt09sdl', 'lorelei', 'fables', 'dfb', 'dfa', 'cctv', 'bolt', 'amr-guidelines']\n"
     ]
    }
   ],
   "source": [
    "for framework in framework2dataset2mrp_jsons:\n",
    "    logger.info(framework)\n",
    "    logger.info(list(framework2dataset2mrp_jsons[framework].keys()))"
   ]
  },
  {
   "cell_type": "code",
   "execution_count": 500,
   "metadata": {},
   "outputs": [
    {
     "data": {
      "text/plain": [
       "('amr', 'wsj')"
      ]
     },
     "execution_count": 500,
     "metadata": {},
     "output_type": "execute_result"
    }
   ],
   "source": [
    "framework, dataset = [\n",
    "    ('dm', 'wsj'),\n",
    "    ('psd', 'wsj'),\n",
    "    ('eds', 'wsj'),\n",
    "    ('ucca', 'wiki'),\n",
    "    ('amr', 'wsj'),\n",
    "    ('amr', 'wiki'),\n",
    "][4]\n",
    "\n",
    "mrp_jsons = framework2dataset2mrp_jsons[framework][dataset]\n",
    "framework, dataset"
   ]
  },
  {
   "cell_type": "code",
   "execution_count": 501,
   "metadata": {},
   "outputs": [],
   "source": [
    "mrp_json = mrp_jsons[1]"
   ]
  },
  {
   "cell_type": "code",
   "execution_count": 502,
   "metadata": {},
   "outputs": [
    {
     "data": {
      "text/plain": [
       "'Mr. Vinken is chairman of Elsevier N.V., the Dutch publishing group.'"
      ]
     },
     "execution_count": 502,
     "metadata": {},
     "output_type": "execute_result"
    }
   ],
   "source": [
    "mrp_json['input']"
   ]
  },
  {
   "cell_type": "code",
   "execution_count": 503,
   "metadata": {},
   "outputs": [
    {
     "name": "stderr",
     "output_type": "stream",
     "text": [
      "__main__ - INFO - http://localhost:8000/files/proj29_ds1/home/slai/mrp2019/visualization/graphviz/amr/wsj.mrp/20001002.png\n"
     ]
    }
   ],
   "source": [
    "logger.info(args.graphviz_file_template.format(\n",
    "    framework, dataset, mrp_json.get('id')))"
   ]
  },
  {
   "cell_type": "code",
   "execution_count": 504,
   "metadata": {},
   "outputs": [],
   "source": [
    "nodes = mrp_json['nodes']\n",
    "edges = mrp_json['edges']\n",
    "\n",
    "node_id2node = {node.get('id', -1):node for node in nodes}\n",
    "edge_id2edge = {edge_id: edge for edge_id, edge in enumerate(edges)}"
   ]
  },
  {
   "cell_type": "markdown",
   "metadata": {},
   "source": [
    "By observation, \n",
    "\n",
    "edges of **PSD, UCCA and AMR** are from parent to leaf\n",
    "\n",
    "edges of **EDS and DM** are from leaf to parent"
   ]
  },
  {
   "cell_type": "code",
   "execution_count": 505,
   "metadata": {},
   "outputs": [],
   "source": [
    "node_id2indegree = Counter()\n",
    "node_id2neig_id_set = defaultdict(set)\n",
    "node_id2edge_id_set = defaultdict(set)\n",
    "\n",
    "parent_to_leaf_framework_set = {'psd', 'ucca', 'amr'}\n",
    "leaf_to_parent_framework_set = {'eds', 'dm'}\n",
    "\n",
    "for edge_id, edge in enumerate(edges):\n",
    "#     if framework in parent_to_leaf_framework_set:\n",
    "#         source = edge.get('source')\n",
    "#         target = edge.get('target')\n",
    "#     else:\n",
    "#         source = edge.get('target')\n",
    "#         target = edge.get('source')\n",
    "    source_id = edge.get('source')\n",
    "    target_id = edge.get('target')\n",
    "    node_id2neig_id_set[source_id].add(target_id)\n",
    "    node_id2edge_id_set[source_id].add(edge_id)\n",
    "    node_id2edge_id_set[target_id].add(edge_id)\n",
    "    node_id2indegree[target_id] += 1"
   ]
  },
  {
   "cell_type": "code",
   "execution_count": null,
   "metadata": {},
   "outputs": [],
   "source": []
  },
  {
   "cell_type": "code",
   "execution_count": 512,
   "metadata": {},
   "outputs": [],
   "source": [
    "# Handle diminished node\n",
    "\n",
    "# For **eds**, nodes connected only with one 'BV' edge \n",
    "# is considered diminished\n",
    "\n",
    "if framework == 'eds':\n",
    "    # Split nodes to diminished and anchored set\n",
    "    diminished_node_id_set = set()\n",
    "    anchored_nodes = []\n",
    "    for node in nodes:\n",
    "        node_id = node.get('id', -1)\n",
    "        indegree = node_id2indegree[node_id]\n",
    "        if not indegree and all(\n",
    "            edges[edge_id].get('label') == 'BV' \n",
    "            for edge_id in node_id2edge_id_set[node_id]\n",
    "        ):\n",
    "            diminished_node_id_set.add(node_id)\n",
    "        else:\n",
    "            anchored_nodes.append(node)\n",
    "            \n",
    "    assert all(len(node.get('anchors', [])) == 1 for node in anchored_nodes)\n",
    "    assert all('from' in node.get('anchors')[0] for node in anchored_nodes)\n",
    "    assert all('to' in node.get('anchors')[0] for node in anchored_nodes)\n",
    "    \n",
    "    # Sort nodes according to anchor range\n",
    "    anchored_nodes.sort(key=lambda node: (\n",
    "        node['anchors'][0]['to'], \n",
    "        -node['anchors'][0]['from']\n",
    "    ))\n",
    "            \n",
    "# For **ucca**, nodes without anchors \n",
    "# is considered diminished\n",
    "elif framework == 'ucca':\n",
    "    diminished_node_id_set = set()\n",
    "    anchored_nodes = []\n",
    "    \n",
    "    for node in nodes:\n",
    "        if 'anchors' in node:\n",
    "            anchored_nodes.append(node)\n",
    "        else:\n",
    "            diminished_node_id_set.add(node.get('id', -1))\n",
    "    \n",
    "    assert all(len(node.get('anchors', [])) == 1 for node in anchored_nodes)\n",
    "    assert all('from' in node.get('anchors')[0] for node in anchored_nodes)\n",
    "    assert all('to' in node.get('anchors')[0] for node in anchored_nodes)\n",
    "    \n",
    "    # Sort nodes according to anchor range\n",
    "    anchored_nodes.sort(key=lambda node: (\n",
    "        node['anchors'][0]['to'], \n",
    "        -node['anchors'][0]['from']\n",
    "    ))\n",
    "    \n",
    "# For **amr**, nodes without token anchor in jamr alignment\n",
    "# is considered diminished\n",
    "\n",
    "# TODO(Sunny): the jamr alignment sometime miss tokens\n",
    "elif framework == 'amr':\n",
    "    diminished_node_id_set = set()\n",
    "    anchored_nodes = []\n",
    "    \n",
    "    cid = mrp_json.get('id', '')\n",
    "    alignment = cid2alignment[cid]\n",
    "    node_id2token_poss = {}\n",
    "    for node in alignment.get('nodes', []):\n",
    "        node_id = node.get('id', -1)\n",
    "        token_poss = node.get('label', [])\n",
    "        node_id2token_poss[node_id] = token_poss\n",
    "    \n",
    "    for node in nodes:\n",
    "        node_id = node.get('id', -1)\n",
    "        if node_id in node_id2token_poss:\n",
    "            anchored_nodes.append(node)\n",
    "        else:\n",
    "            diminished_node_id_set.add(node_id)\n",
    "    \n",
    "    assert all(\n",
    "        len(node_id2token_poss.get(node.get('id', -1), [])) >= 1 \n",
    "        for node in anchored_nodes\n",
    "    )\n",
    "    \n",
    "    anchored_nodes.sort(key=lambda node: (\n",
    "        max(node_id2token_poss[node.get('id', -1)]),\n",
    "        -min(node_id2token_poss[node.get('id', -1)]),\n",
    "    ))"
   ]
  },
  {
   "cell_type": "code",
   "execution_count": null,
   "metadata": {},
   "outputs": [],
   "source": []
  },
  {
   "cell_type": "code",
   "execution_count": 516,
   "metadata": {},
   "outputs": [
    {
     "data": {
      "text/plain": [
       "{'id': '20001002',\n",
       " 'flavor': 2,\n",
       " 'framework': 'alignment',\n",
       " 'version': 1.0,\n",
       " 'time': '2019-06-24',\n",
       " 'nodes': [{'id': 0, 'label': [3]},\n",
       "  {'id': 1, 'label': [0, 1]},\n",
       "  {'id': 2,\n",
       "   'label': [0, 1],\n",
       "   'properties': ['op1', 'op2'],\n",
       "   'values': [[0, 1], [0, 1]]},\n",
       "  {'id': 3, 'label': [11]},\n",
       "  {'id': 4,\n",
       "   'label': [5, 6],\n",
       "   'properties': ['op1', 'op2'],\n",
       "   'values': [[5, 6], [5, 6]]},\n",
       "  {'id': 7, 'label': [10]},\n",
       "  {'id': 8, 'label': [3]}]}"
      ]
     },
     "execution_count": 516,
     "metadata": {},
     "output_type": "execute_result"
    }
   ],
   "source": [
    "alignment"
   ]
  },
  {
   "cell_type": "code",
   "execution_count": 517,
   "metadata": {},
   "outputs": [
    {
     "data": {
      "text/plain": [
       "{0: [3], 1: [0, 1], 2: [0, 1], 3: [11], 4: [5, 6], 7: [10], 8: [3]}"
      ]
     },
     "execution_count": 517,
     "metadata": {},
     "output_type": "execute_result"
    }
   ],
   "source": [
    "node_id2token_poss"
   ]
  },
  {
   "cell_type": "code",
   "execution_count": null,
   "metadata": {},
   "outputs": [],
   "source": []
  },
  {
   "cell_type": "markdown",
   "metadata": {},
   "source": [
    "We only add the edge when both nodes are seen"
   ]
  },
  {
   "cell_type": "code",
   "execution_count": 518,
   "metadata": {},
   "outputs": [
    {
     "data": {
      "text/plain": [
       "['Mr.',\n",
       " 'Vinken',\n",
       " 'is',\n",
       " 'chairman',\n",
       " 'of',\n",
       " 'Elsevier',\n",
       " 'N.V.,',\n",
       " 'the',\n",
       " 'Dutch',\n",
       " 'publishing',\n",
       " 'group.']"
      ]
     },
     "execution_count": 518,
     "metadata": {},
     "output_type": "execute_result"
    }
   ],
   "source": [
    "mrp_json['input'].split()"
   ]
  },
  {
   "cell_type": "code",
   "execution_count": 519,
   "metadata": {},
   "outputs": [
    {
     "data": {
      "text/plain": [
       "[{'source': 5, 'target': 6, 'label': 'name'},\n",
       " {'source': 3, 'target': 7, 'label': 'ARG0-of', 'normal': 'ARG0'},\n",
       " {'source': 0, 'target': 1, 'label': 'ARG0'},\n",
       " {'source': 3, 'target': 4, 'label': 'name'},\n",
       " {'source': 0, 'target': 3, 'label': 'ARG1'},\n",
       " {'source': 3, 'target': 5, 'label': 'mod', 'normal': 'domain'},\n",
       " {'source': 0, 'target': 8, 'label': 'ARG2'},\n",
       " {'source': 1, 'target': 2, 'label': 'name'}]"
      ]
     },
     "execution_count": 519,
     "metadata": {},
     "output_type": "execute_result"
    }
   ],
   "source": [
    "edges"
   ]
  },
  {
   "cell_type": "code",
   "execution_count": 520,
   "metadata": {},
   "outputs": [
    {
     "data": {
      "text/plain": [
       "{'id': '20001002',\n",
       " 'flavor': 2,\n",
       " 'framework': 'alignment',\n",
       " 'version': 1.0,\n",
       " 'time': '2019-06-24',\n",
       " 'nodes': [{'id': 0, 'label': [3]},\n",
       "  {'id': 1, 'label': [0, 1]},\n",
       "  {'id': 2,\n",
       "   'label': [0, 1],\n",
       "   'properties': ['op1', 'op2'],\n",
       "   'values': [[0, 1], [0, 1]]},\n",
       "  {'id': 3, 'label': [11]},\n",
       "  {'id': 4,\n",
       "   'label': [5, 6],\n",
       "   'properties': ['op1', 'op2'],\n",
       "   'values': [[5, 6], [5, 6]]},\n",
       "  {'id': 7, 'label': [10]},\n",
       "  {'id': 8, 'label': [3]}]}"
      ]
     },
     "execution_count": 520,
     "metadata": {},
     "output_type": "execute_result"
    }
   ],
   "source": [
    "alignment"
   ]
  },
  {
   "cell_type": "code",
   "execution_count": null,
   "metadata": {},
   "outputs": [],
   "source": []
  },
  {
   "cell_type": "code",
   "execution_count": 521,
   "metadata": {},
   "outputs": [
    {
     "data": {
      "text/plain": [
       "{5, 6}"
      ]
     },
     "execution_count": 521,
     "metadata": {},
     "output_type": "execute_result"
    }
   ],
   "source": [
    "diminished_node_id_set"
   ]
  },
  {
   "cell_type": "code",
   "execution_count": 522,
   "metadata": {},
   "outputs": [],
   "source": [
    "seen_node_id_set = set()\n",
    "seen_edge_id_set = set()\n",
    "parser_states = []"
   ]
  },
  {
   "cell_type": "code",
   "execution_count": 523,
   "metadata": {},
   "outputs": [],
   "source": [
    "node_queue = deque(anchored_nodes)"
   ]
  },
  {
   "cell_type": "code",
   "execution_count": 524,
   "metadata": {},
   "outputs": [],
   "source": [
    "while node_queue:\n",
    "    node = node_queue.popleft()\n",
    "    edge_state = []\n",
    "    diminished_node_state = []\n",
    "    node_id = node.get('id', -1)\n",
    "    seen_node_id_set.add(node_id)\n",
    "    \n",
    "    for edge_id in node_id2edge_id_set[node_id]:\n",
    "        edge = edges[edge_id]\n",
    "        \n",
    "        source_id = edge.get('source', -1)\n",
    "        target_id = edge.get('target', -1)\n",
    "        \n",
    "        is_remote_edge = 'properties' in edge and 'remote' in edge['properties']\n",
    "        \n",
    "        # Handle diminished nodes if not remote edge\n",
    "        # TODO(Sunny): This cannot handle the case of a node having\n",
    "        #                All childs as diminished_node\n",
    "        if not is_remote_edge and node_id not in diminished_node_id_set:\n",
    "            if source_id in diminished_node_id_set and source_id not in seen_node_id_set:\n",
    "                diminished_node_state.append(source_id)\n",
    "                seen_node_id_set.add(source_id)\n",
    "                node_queue.appendleft(node_id2node[source_id])\n",
    "            if target_id in diminished_node_id_set and target_id not in seen_node_id_set:\n",
    "                diminished_node_state.append(target_id)\n",
    "                seen_node_id_set.add(target_id)\n",
    "                node_queue.appendleft(node_id2node[target_id])\n",
    "\n",
    "        edge_not_seen = edge_id not in seen_edge_id_set\n",
    "        edge_nodes_seen = all([\n",
    "            source_id in seen_node_id_set,\n",
    "            target_id in seen_node_id_set,\n",
    "        ])\n",
    "        \n",
    "        # add edge if edge not seen and both ends seen\n",
    "        if edge_not_seen and edge_nodes_seen:\n",
    "            edge_state.append(edge_id)\n",
    "            seen_edge_id_set.add(edge_id)\n",
    "    parser_states.append((node_id, edge_state, diminished_node_state))"
   ]
  },
  {
   "cell_type": "code",
   "execution_count": 525,
   "metadata": {
    "scrolled": true
   },
   "outputs": [
    {
     "data": {
      "text/plain": [
       "'Mr. Vinken is chairman of Elsevier N.V., the Dutch publishing group.'"
      ]
     },
     "execution_count": 525,
     "metadata": {},
     "output_type": "execute_result"
    }
   ],
   "source": [
    "mrp_json['input']"
   ]
  },
  {
   "cell_type": "code",
   "execution_count": 530,
   "metadata": {},
   "outputs": [
    {
     "data": {
      "text/plain": [
       "{'id': '20001002',\n",
       " 'flavor': 2,\n",
       " 'framework': 'alignment',\n",
       " 'version': 1.0,\n",
       " 'time': '2019-06-24',\n",
       " 'nodes': [{'id': 0, 'label': [3]},\n",
       "  {'id': 1, 'label': [0, 1]},\n",
       "  {'id': 2,\n",
       "   'label': [0, 1],\n",
       "   'properties': ['op1', 'op2'],\n",
       "   'values': [[0, 1], [0, 1]]},\n",
       "  {'id': 3, 'label': [11]},\n",
       "  {'id': 4,\n",
       "   'label': [5, 6],\n",
       "   'properties': ['op1', 'op2'],\n",
       "   'values': [[5, 6], [5, 6]]},\n",
       "  {'id': 7, 'label': [10]},\n",
       "  {'id': 8, 'label': [3]}]}"
      ]
     },
     "execution_count": 530,
     "metadata": {},
     "output_type": "execute_result"
    }
   ],
   "source": [
    "alignment"
   ]
  },
  {
   "cell_type": "code",
   "execution_count": 529,
   "metadata": {},
   "outputs": [
    {
     "data": {
      "text/plain": [
       "[{'id': 0, 'label': 'have-org-role-91'},\n",
       " {'id': 1, 'label': 'person'},\n",
       " {'id': 2,\n",
       "  'label': 'name',\n",
       "  'properties': ['op1', 'op2'],\n",
       "  'values': ['Mr.', 'Vinken']},\n",
       " {'id': 3, 'label': 'group'},\n",
       " {'id': 4,\n",
       "  'label': 'name',\n",
       "  'properties': ['op1', 'op2'],\n",
       "  'values': ['Elsevier', 'N.V.']},\n",
       " {'id': 5, 'label': 'country'},\n",
       " {'id': 6, 'label': 'name', 'properties': ['op1'], 'values': ['Netherlands']},\n",
       " {'id': 7, 'label': 'publish-01'},\n",
       " {'id': 8, 'label': 'chairman'}]"
      ]
     },
     "execution_count": 529,
     "metadata": {},
     "output_type": "execute_result"
    }
   ],
   "source": [
    "nodes"
   ]
  },
  {
   "cell_type": "code",
   "execution_count": 526,
   "metadata": {},
   "outputs": [
    {
     "name": "stdout",
     "output_type": "stream",
     "text": [
      "1 person [] []\n",
      "2 name ['name'] []\n",
      "0 have-org-role-91 ['ARG0'] []\n",
      "8 chairman ['ARG2'] []\n",
      "4 name [] []\n",
      "7 publish-01 [] []\n",
      "3 group ['ARG0-of', 'name', 'ARG1', 'mod'] [5]\n",
      "5 country [] []\n"
     ]
    },
    {
     "ename": "AssertionError",
     "evalue": "",
     "output_type": "error",
     "traceback": [
      "\u001b[0;31m---------------------------------------------------------------------------\u001b[0m",
      "\u001b[0;31mAssertionError\u001b[0m                            Traceback (most recent call last)",
      "\u001b[0;32m<ipython-input-526-b2ee546682d1>\u001b[0m in \u001b[0;36m<module>\u001b[0;34m\u001b[0m\n\u001b[1;32m     15\u001b[0m     )\n\u001b[1;32m     16\u001b[0m \u001b[0;34m\u001b[0m\u001b[0m\n\u001b[0;32m---> 17\u001b[0;31m \u001b[0;32massert\u001b[0m \u001b[0mlen\u001b[0m\u001b[0;34m(\u001b[0m\u001b[0mparser_node_id_set\u001b[0m\u001b[0;34m)\u001b[0m \u001b[0;34m==\u001b[0m \u001b[0mlen\u001b[0m\u001b[0;34m(\u001b[0m\u001b[0mnodes\u001b[0m\u001b[0;34m)\u001b[0m\u001b[0;34m\u001b[0m\u001b[0;34m\u001b[0m\u001b[0m\n\u001b[0m\u001b[1;32m     18\u001b[0m \u001b[0;32massert\u001b[0m \u001b[0mlen\u001b[0m\u001b[0;34m(\u001b[0m\u001b[0mparser_edge_id_set\u001b[0m\u001b[0;34m)\u001b[0m \u001b[0;34m==\u001b[0m \u001b[0mlen\u001b[0m\u001b[0;34m(\u001b[0m\u001b[0medges\u001b[0m\u001b[0;34m)\u001b[0m\u001b[0;34m\u001b[0m\u001b[0;34m\u001b[0m\u001b[0m\n",
      "\u001b[0;31mAssertionError\u001b[0m: "
     ]
    }
   ],
   "source": [
    "parser_node_id_set = set()\n",
    "parser_edge_id_set = set()\n",
    "for node_id, edge_state, diminished_node_state in parser_states:\n",
    "    parser_node_id_set.add(node_id)\n",
    "    for edge_id in edge_state:\n",
    "        parser_edge_id_set.add(edge_id)\n",
    "    \n",
    "    node = node_id2node[node_id]\n",
    "    node_edges = [edge_id2edge[edge_id] for edge_id in edge_state]\n",
    "    print(\n",
    "        node.get('id'),\n",
    "        node.get('label'), \n",
    "        [edge.get('label') for edge in node_edges], \n",
    "        diminished_node_state,\n",
    "    )\n",
    "    \n",
    "assert len(parser_node_id_set) == len(nodes)\n",
    "assert len(parser_edge_id_set) == len(edges)"
   ]
  },
  {
   "cell_type": "markdown",
   "metadata": {},
   "source": [
    "### Test module"
   ]
  },
  {
   "cell_type": "code",
   "execution_count": 591,
   "metadata": {},
   "outputs": [],
   "source": [
    "from preprocessing import mrp_json2parser_states"
   ]
  },
  {
   "cell_type": "code",
   "execution_count": 592,
   "metadata": {},
   "outputs": [
    {
     "data": {
      "text/plain": [
       "('ucca', 'wiki')"
      ]
     },
     "execution_count": 592,
     "metadata": {},
     "output_type": "execute_result"
    }
   ],
   "source": [
    "framework, dataset = [\n",
    "    ('dm', 'wsj'),\n",
    "    ('psd', 'wsj'),\n",
    "    ('eds', 'wsj'),\n",
    "    ('ucca', 'wiki'),\n",
    "    ('amr', 'wsj'),\n",
    "    ('amr', 'wiki'),\n",
    "][3]\n",
    "\n",
    "mrp_jsons = framework2dataset2mrp_jsons[framework][dataset]\n",
    "framework, dataset"
   ]
  },
  {
   "cell_type": "code",
   "execution_count": 593,
   "metadata": {},
   "outputs": [],
   "source": [
    "mrp_json = mrp_jsons[-1]"
   ]
  },
  {
   "cell_type": "code",
   "execution_count": 594,
   "metadata": {},
   "outputs": [],
   "source": [
    "alignment = {}\n",
    "if framework == 'amr':\n",
    "    cid = mrp_json.get('id', '')\n",
    "    alignment = cid2alignment[cid]"
   ]
  },
  {
   "cell_type": "code",
   "execution_count": 595,
   "metadata": {},
   "outputs": [
    {
     "data": {
      "text/plain": [
       "{'id': '496020',\n",
       " 'flavor': 1,\n",
       " 'framework': 'ucca',\n",
       " 'version': 0.9,\n",
       " 'time': '2019-04-11 (22:05)',\n",
       " 'input': 'Not long after, in a move that resulted in years of litigation, at the conclusion of which Bowie was forced to pay Pitt compensation, the singer fired his manager, replacing him with Tony Defries.',\n",
       " 'tops': [36],\n",
       " 'nodes': [{'id': 0,\n",
       "   'anchors': [{'from': 0, 'to': 3},\n",
       "    {'from': 4, 'to': 8},\n",
       "    {'from': 9, 'to': 14}],\n",
       "   'label': 'Notlongafter'},\n",
       "  {'id': 1, 'anchors': [{'from': 14, 'to': 15}], 'label': ','},\n",
       "  {'id': 2, 'anchors': [{'from': 16, 'to': 18}], 'label': 'in'},\n",
       "  {'id': 3, 'anchors': [{'from': 19, 'to': 20}], 'label': 'a'},\n",
       "  {'id': 4, 'anchors': [{'from': 21, 'to': 25}], 'label': 'move'},\n",
       "  {'id': 5, 'anchors': [{'from': 26, 'to': 30}], 'label': 'that'},\n",
       "  {'id': 6, 'anchors': [{'from': 31, 'to': 39}], 'label': 'resulted'},\n",
       "  {'id': 7, 'anchors': [{'from': 40, 'to': 42}], 'label': 'in'},\n",
       "  {'id': 8, 'anchors': [{'from': 43, 'to': 48}], 'label': 'years'},\n",
       "  {'id': 9, 'anchors': [{'from': 49, 'to': 51}], 'label': 'of'},\n",
       "  {'id': 10, 'anchors': [{'from': 52, 'to': 62}], 'label': 'litigation'},\n",
       "  {'id': 11, 'anchors': [{'from': 62, 'to': 63}], 'label': ','},\n",
       "  {'id': 12, 'anchors': [{'from': 64, 'to': 66}], 'label': 'at'},\n",
       "  {'id': 13, 'anchors': [{'from': 67, 'to': 70}], 'label': 'the'},\n",
       "  {'id': 14, 'anchors': [{'from': 71, 'to': 81}], 'label': 'conclusion'},\n",
       "  {'id': 15, 'anchors': [{'from': 82, 'to': 84}], 'label': 'of'},\n",
       "  {'id': 16, 'anchors': [{'from': 85, 'to': 90}], 'label': 'which'},\n",
       "  {'id': 17, 'anchors': [{'from': 91, 'to': 96}], 'label': 'Bowie'},\n",
       "  {'id': 18, 'anchors': [{'from': 97, 'to': 100}], 'label': 'was'},\n",
       "  {'id': 19, 'anchors': [{'from': 101, 'to': 107}], 'label': 'forced'},\n",
       "  {'id': 20, 'anchors': [{'from': 108, 'to': 110}], 'label': 'to'},\n",
       "  {'id': 21, 'anchors': [{'from': 111, 'to': 114}], 'label': 'pay'},\n",
       "  {'id': 22, 'anchors': [{'from': 115, 'to': 119}], 'label': 'Pitt'},\n",
       "  {'id': 23, 'anchors': [{'from': 120, 'to': 132}], 'label': 'compensation'},\n",
       "  {'id': 24, 'anchors': [{'from': 132, 'to': 133}], 'label': ','},\n",
       "  {'id': 25, 'anchors': [{'from': 134, 'to': 137}], 'label': 'the'},\n",
       "  {'id': 26, 'anchors': [{'from': 138, 'to': 144}], 'label': 'singer'},\n",
       "  {'id': 27, 'anchors': [{'from': 145, 'to': 150}], 'label': 'fired'},\n",
       "  {'id': 28, 'anchors': [{'from': 151, 'to': 154}], 'label': 'his'},\n",
       "  {'id': 29, 'anchors': [{'from': 155, 'to': 162}], 'label': 'manager'},\n",
       "  {'id': 30, 'anchors': [{'from': 162, 'to': 163}], 'label': ','},\n",
       "  {'id': 31, 'anchors': [{'from': 164, 'to': 173}], 'label': 'replacing'},\n",
       "  {'id': 32, 'anchors': [{'from': 174, 'to': 177}], 'label': 'him'},\n",
       "  {'id': 33, 'anchors': [{'from': 178, 'to': 182}], 'label': 'with'},\n",
       "  {'id': 34,\n",
       "   'anchors': [{'from': 183, 'to': 187}, {'from': 188, 'to': 195}],\n",
       "   'label': 'TonyDefries'},\n",
       "  {'id': 35, 'anchors': [{'from': 195, 'to': 196}], 'label': '.'},\n",
       "  {'id': 36},\n",
       "  {'id': 37},\n",
       "  {'id': 38},\n",
       "  {'id': 39},\n",
       "  {'id': 40},\n",
       "  {'id': 41},\n",
       "  {'id': 42},\n",
       "  {'id': 43},\n",
       "  {'id': 44},\n",
       "  {'id': 45},\n",
       "  {'id': 46},\n",
       "  {'id': 47},\n",
       "  {'id': 48},\n",
       "  {'id': 49}],\n",
       " 'edges': [{'source': 47, 'target': 29, 'label': 'S'},\n",
       "  {'source': 43, 'target': 17, 'label': 'A'},\n",
       "  {'source': 42, 'target': 15, 'label': 'F'},\n",
       "  {'source': 48, 'target': 32, 'label': 'A'},\n",
       "  {'source': 40, 'target': 8, 'label': 'C'},\n",
       "  {'source': 43, 'target': 19, 'label': 'D'},\n",
       "  {'source': 38, 'target': 39, 'label': 'A'},\n",
       "  {'source': 39, 'target': 43, 'label': 'H'},\n",
       "  {'source': 37, 'target': 3, 'label': 'E'},\n",
       "  {'source': 38, 'target': 37, 'label': 'A'},\n",
       "  {'source': 42, 'target': 14, 'label': 'C'},\n",
       "  {'source': 48, 'target': 31, 'label': 'P'},\n",
       "  {'source': 42, 'target': 13, 'label': 'E'},\n",
       "  {'source': 46, 'target': 47, 'label': 'A'},\n",
       "  {'source': 43, 'target': 22, 'label': 'A'},\n",
       "  {'source': 37, 'target': 4, 'label': 'C'},\n",
       "  {'source': 39, 'target': 7, 'label': 'R'},\n",
       "  {'source': 39, 'target': 11, 'label': 'U'},\n",
       "  {'source': 36, 'target': 0, 'label': 'L'},\n",
       "  {'source': 41, 'target': 40, 'label': 'T'},\n",
       "  {'source': 42, 'target': 12, 'label': 'R'},\n",
       "  {'source': 43, 'target': 20, 'label': 'F'},\n",
       "  {'source': 36, 'target': 38, 'label': 'H'},\n",
       "  {'source': 47, 'target': 28, 'label': 'A'},\n",
       "  {'source': 39, 'target': 41, 'label': 'H'},\n",
       "  {'source': 40, 'target': 9, 'label': 'R'},\n",
       "  {'source': 41, 'target': 10, 'label': 'P'},\n",
       "  {'source': 36, 'target': 1, 'label': 'U'},\n",
       "  {'source': 38, 'target': 5, 'label': 'F'},\n",
       "  {'source': 49, 'target': 33, 'label': 'R'},\n",
       "  {'source': 45, 'target': 25, 'label': 'E'},\n",
       "  {'source': 43, 'target': 21, 'label': 'P'},\n",
       "  {'source': 36, 'target': 30, 'label': 'U'},\n",
       "  {'source': 47, 'target': 29, 'label': 'A'},\n",
       "  {'source': 36, 'target': 24, 'label': 'U'},\n",
       "  {'source': 44, 'target': 45, 'label': 'S'},\n",
       "  {'source': 36, 'target': 48, 'label': 'H'},\n",
       "  {'source': 36, 'target': 2, 'label': 'L'},\n",
       "  {'source': 46, 'target': 44, 'label': 'A'},\n",
       "  {'source': 38, 'target': 6, 'label': 'P'},\n",
       "  {'source': 45, 'target': 26, 'label': 'C'},\n",
       "  {'source': 48, 'target': 49, 'label': 'A'},\n",
       "  {'source': 43, 'target': 18, 'label': 'F'},\n",
       "  {'source': 48,\n",
       "   'target': 44,\n",
       "   'label': 'A',\n",
       "   'properties': ['remote'],\n",
       "   'values': [True]},\n",
       "  {'source': 44, 'target': 45, 'label': 'A'},\n",
       "  {'source': 46, 'target': 27, 'label': 'P'},\n",
       "  {'source': 49, 'target': 34, 'label': 'C'},\n",
       "  {'source': 39, 'target': 42, 'label': 'L'},\n",
       "  {'source': 43, 'target': 23, 'label': 'A'},\n",
       "  {'source': 42, 'target': 16, 'label': 'F'},\n",
       "  {'source': 36, 'target': 46, 'label': 'H'},\n",
       "  {'source': 49, 'target': 35, 'label': 'U'}]}"
      ]
     },
     "execution_count": 595,
     "metadata": {},
     "output_type": "execute_result"
    }
   ],
   "source": [
    "mrp_json"
   ]
  },
  {
   "cell_type": "code",
   "execution_count": 596,
   "metadata": {},
   "outputs": [
    {
     "name": "stderr",
     "output_type": "stream",
     "text": [
      "__main__ - INFO - http://localhost:8000/files/proj29_ds1/home/slai/mrp2019/visualization/graphviz/ucca/wiki.mrp/496020.png\n"
     ]
    }
   ],
   "source": [
    "logger.info(args.graphviz_file_template.format(\n",
    "    framework, dataset, mrp_json.get('id')))"
   ]
  },
  {
   "cell_type": "code",
   "execution_count": 597,
   "metadata": {},
   "outputs": [],
   "source": [
    "parser_states, meta_data = mrp_json2parser_states(mrp_json, framework, alignment)"
   ]
  },
  {
   "cell_type": "code",
   "execution_count": 598,
   "metadata": {},
   "outputs": [],
   "source": [
    "(node_id2node, edge_id2edge) = meta_data"
   ]
  },
  {
   "cell_type": "code",
   "execution_count": 610,
   "metadata": {},
   "outputs": [
    {
     "data": {
      "text/plain": [
       "{44}"
      ]
     },
     "execution_count": 610,
     "metadata": {},
     "output_type": "execute_result"
    }
   ],
   "source": [
    "set([node.get('id') for node in mrp_json.get('nodes')]) - parser_node_id_set"
   ]
  },
  {
   "cell_type": "code",
   "execution_count": 606,
   "metadata": {
    "scrolled": true
   },
   "outputs": [
    {
     "data": {
      "text/plain": [
       "49"
      ]
     },
     "execution_count": 606,
     "metadata": {},
     "output_type": "execute_result"
    }
   ],
   "source": [
    "parser_node_id_set"
   ]
  },
  {
   "cell_type": "code",
   "execution_count": 603,
   "metadata": {},
   "outputs": [
    {
     "name": "stdout",
     "output_type": "stream",
     "text": [
      "0 Notlongafter ['L'] [36]\n",
      "36 None [] []\n",
      "1 , ['U'] []\n",
      "2 in ['L'] []\n",
      "3 a ['E'] [37]\n",
      "37 None [] []\n",
      "4 move ['C'] []\n",
      "5 that ['F'] [38]\n",
      "38 None ['A', 'H'] []\n",
      "6 resulted ['P'] []\n",
      "7 in ['R'] [39]\n",
      "39 None ['A'] []\n",
      "8 years ['C'] [40]\n",
      "40 None [] []\n",
      "9 of ['R'] []\n",
      "10 litigation ['P'] [41]\n",
      "41 None ['H', 'T'] []\n",
      "11 , ['U'] []\n",
      "12 at ['R'] [42]\n",
      "42 None ['L'] []\n",
      "13 the ['E'] []\n",
      "14 conclusion ['C'] []\n",
      "15 of ['F'] []\n",
      "16 which ['F'] []\n",
      "17 Bowie ['A'] [43]\n",
      "43 None ['H'] []\n",
      "18 was ['F'] []\n",
      "19 forced ['D'] []\n",
      "20 to ['F'] []\n",
      "21 pay ['P'] []\n",
      "22 Pitt ['A'] []\n",
      "23 compensation ['A'] []\n",
      "24 , ['U'] []\n",
      "25 the ['E'] [45]\n",
      "45 None [] []\n",
      "26 singer ['C'] []\n",
      "27 fired ['P'] [46]\n",
      "46 None ['H'] []\n",
      "28 his ['A'] [47]\n",
      "47 None ['A'] []\n",
      "29 manager ['S', 'A'] []\n",
      "30 , ['U'] []\n",
      "31 replacing ['P'] [48]\n",
      "48 None ['H'] []\n",
      "32 him ['A'] []\n",
      "33 with ['R'] [49]\n",
      "49 None ['A'] []\n",
      "34 TonyDefries ['C'] []\n",
      "35 . ['U'] []\n"
     ]
    },
    {
     "ename": "AssertionError",
     "evalue": "",
     "output_type": "error",
     "traceback": [
      "\u001b[0;31m---------------------------------------------------------------------------\u001b[0m",
      "\u001b[0;31mAssertionError\u001b[0m                            Traceback (most recent call last)",
      "\u001b[0;32m<ipython-input-603-b80abe5cf6bc>\u001b[0m in \u001b[0;36m<module>\u001b[0;34m\u001b[0m\n\u001b[1;32m     15\u001b[0m     )\n\u001b[1;32m     16\u001b[0m \u001b[0;34m\u001b[0m\u001b[0m\n\u001b[0;32m---> 17\u001b[0;31m \u001b[0;32massert\u001b[0m \u001b[0mlen\u001b[0m\u001b[0;34m(\u001b[0m\u001b[0mparser_node_id_set\u001b[0m\u001b[0;34m)\u001b[0m \u001b[0;34m==\u001b[0m \u001b[0mlen\u001b[0m\u001b[0;34m(\u001b[0m\u001b[0mmrp_json\u001b[0m\u001b[0;34m.\u001b[0m\u001b[0mget\u001b[0m\u001b[0;34m(\u001b[0m\u001b[0;34m'nodes'\u001b[0m\u001b[0;34m)\u001b[0m\u001b[0;34m)\u001b[0m\u001b[0;34m\u001b[0m\u001b[0;34m\u001b[0m\u001b[0m\n\u001b[0m\u001b[1;32m     18\u001b[0m \u001b[0;32massert\u001b[0m \u001b[0mlen\u001b[0m\u001b[0;34m(\u001b[0m\u001b[0mparser_edge_id_set\u001b[0m\u001b[0;34m)\u001b[0m \u001b[0;34m==\u001b[0m \u001b[0mlen\u001b[0m\u001b[0;34m(\u001b[0m\u001b[0mmrp_json\u001b[0m\u001b[0;34m.\u001b[0m\u001b[0mget\u001b[0m\u001b[0;34m(\u001b[0m\u001b[0;34m'edges'\u001b[0m\u001b[0;34m)\u001b[0m\u001b[0;34m)\u001b[0m\u001b[0;34m\u001b[0m\u001b[0;34m\u001b[0m\u001b[0m\n",
      "\u001b[0;31mAssertionError\u001b[0m: "
     ]
    }
   ],
   "source": [
    "parser_node_id_set = set()\n",
    "parser_edge_id_set = set()\n",
    "for node_id, edge_state, diminished_node_state in parser_states:\n",
    "    parser_node_id_set.add(node_id)\n",
    "    for edge_id in edge_state:\n",
    "        parser_edge_id_set.add(edge_id)\n",
    "    \n",
    "    node = node_id2node[node_id]\n",
    "    node_edges = [edge_id2edge[edge_id] for edge_id in edge_state]\n",
    "    print(\n",
    "        node.get('id'),\n",
    "        node.get('label'), \n",
    "        [edge.get('label') for edge in node_edges], \n",
    "        diminished_node_state,\n",
    "    )\n",
    "    \n",
    "assert len(parser_node_id_set) == len(mrp_json.get('nodes'))\n",
    "assert len(parser_edge_id_set) == len(mrp_json.get('edges'))"
   ]
  },
  {
   "cell_type": "code",
   "execution_count": null,
   "metadata": {},
   "outputs": [],
   "source": []
  },
  {
   "cell_type": "code",
   "execution_count": null,
   "metadata": {},
   "outputs": [],
   "source": []
  },
  {
   "cell_type": "code",
   "execution_count": 552,
   "metadata": {},
   "outputs": [
    {
     "data": {
      "text/plain": [
       "('amr', 'wsj')"
      ]
     },
     "execution_count": 552,
     "metadata": {},
     "output_type": "execute_result"
    }
   ],
   "source": [
    "framework, dataset = [\n",
    "    ('dm', 'wsj'),\n",
    "    ('psd', 'wsj'),\n",
    "    ('eds', 'wsj'),\n",
    "    ('ucca', 'wiki'),\n",
    "    ('amr', 'wsj'),\n",
    "    ('amr', 'wiki'),\n",
    "][4]\n",
    "\n",
    "mrp_jsons = framework2dataset2mrp_jsons[framework][dataset]\n",
    "framework, dataset"
   ]
  },
  {
   "cell_type": "code",
   "execution_count": 553,
   "metadata": {},
   "outputs": [],
   "source": [
    "mrp_json = mrp_jsons[1]"
   ]
  },
  {
   "cell_type": "code",
   "execution_count": 554,
   "metadata": {},
   "outputs": [],
   "source": [
    "alignment = {}\n",
    "if framework == 'amr':\n",
    "    cid = mrp_json.get('id', '')\n",
    "    alignment = cid2alignment[cid]"
   ]
  },
  {
   "cell_type": "code",
   "execution_count": 555,
   "metadata": {},
   "outputs": [],
   "source": [
    "parser_states = mrp_json2parser_states(mrp_json, framework, alignment)"
   ]
  },
  {
   "cell_type": "code",
   "execution_count": 556,
   "metadata": {},
   "outputs": [
    {
     "data": {
      "text/plain": [
       "[(1, [], []),\n",
       " (2, [7], []),\n",
       " (0, [2], []),\n",
       " (8, [6], []),\n",
       " (4, [], []),\n",
       " (7, [], []),\n",
       " (3, [1, 3, 4, 5], [5]),\n",
       " (5, [], [])]"
      ]
     },
     "execution_count": 556,
     "metadata": {},
     "output_type": "execute_result"
    }
   ],
   "source": [
    "parser_states"
   ]
  },
  {
   "cell_type": "code",
   "execution_count": 557,
   "metadata": {},
   "outputs": [
    {
     "name": "stdout",
     "output_type": "stream",
     "text": [
      "1 person [] []\n",
      "2 name ['name'] []\n",
      "0 have-org-role-91 ['ARG0'] []\n",
      "8 chairman ['ARG2'] []\n",
      "4 name [] []\n",
      "7 publish-01 [] []\n",
      "3 group ['ARG0-of', 'name', 'ARG1', 'mod'] [5]\n",
      "5 country [] []\n"
     ]
    },
    {
     "ename": "AssertionError",
     "evalue": "",
     "output_type": "error",
     "traceback": [
      "\u001b[0;31m---------------------------------------------------------------------------\u001b[0m",
      "\u001b[0;31mAssertionError\u001b[0m                            Traceback (most recent call last)",
      "\u001b[0;32m<ipython-input-557-b2ee546682d1>\u001b[0m in \u001b[0;36m<module>\u001b[0;34m\u001b[0m\n\u001b[1;32m     15\u001b[0m     )\n\u001b[1;32m     16\u001b[0m \u001b[0;34m\u001b[0m\u001b[0m\n\u001b[0;32m---> 17\u001b[0;31m \u001b[0;32massert\u001b[0m \u001b[0mlen\u001b[0m\u001b[0;34m(\u001b[0m\u001b[0mparser_node_id_set\u001b[0m\u001b[0;34m)\u001b[0m \u001b[0;34m==\u001b[0m \u001b[0mlen\u001b[0m\u001b[0;34m(\u001b[0m\u001b[0mnodes\u001b[0m\u001b[0;34m)\u001b[0m\u001b[0;34m\u001b[0m\u001b[0;34m\u001b[0m\u001b[0m\n\u001b[0m\u001b[1;32m     18\u001b[0m \u001b[0;32massert\u001b[0m \u001b[0mlen\u001b[0m\u001b[0;34m(\u001b[0m\u001b[0mparser_edge_id_set\u001b[0m\u001b[0;34m)\u001b[0m \u001b[0;34m==\u001b[0m \u001b[0mlen\u001b[0m\u001b[0;34m(\u001b[0m\u001b[0medges\u001b[0m\u001b[0;34m)\u001b[0m\u001b[0;34m\u001b[0m\u001b[0;34m\u001b[0m\u001b[0m\n",
      "\u001b[0;31mAssertionError\u001b[0m: "
     ]
    }
   ],
   "source": [
    "parser_node_id_set = set()\n",
    "parser_edge_id_set = set()\n",
    "for node_id, edge_state, diminished_node_state in parser_states:\n",
    "    parser_node_id_set.add(node_id)\n",
    "    for edge_id in edge_state:\n",
    "        parser_edge_id_set.add(edge_id)\n",
    "    \n",
    "    node = node_id2node[node_id]\n",
    "    node_edges = [edge_id2edge[edge_id] for edge_id in edge_state]\n",
    "    print(\n",
    "        node.get('id'),\n",
    "        node.get('label'), \n",
    "        [edge.get('label') for edge in node_edges], \n",
    "        diminished_node_state,\n",
    "    )\n",
    "    \n",
    "assert len(parser_node_id_set) == len(nodes)\n",
    "assert len(parser_edge_id_set) == len(edges)"
   ]
  },
  {
   "cell_type": "code",
   "execution_count": null,
   "metadata": {},
   "outputs": [],
   "source": []
  },
  {
   "cell_type": "markdown",
   "metadata": {},
   "source": [
    "### Problems to be solved:\n",
    "\n",
    "1. missing alignment id in jamr alignment tools\n",
    "  - e.g. some node values have no anchor\n",
    "  \n",
    "  \n",
    "2. Order of producing high level node\n",
    "  - i.e. when should we produce high level node \n",
    "    - when **one** of its children is reached or \n",
    "    - when **all** of its children are reached (For this case, how we train the parser to determine when to finish)"
   ]
  },
  {
   "cell_type": "code",
   "execution_count": null,
   "metadata": {},
   "outputs": [],
   "source": []
  }
 ],
 "metadata": {
  "kernelspec": {
   "display_name": "mrp",
   "language": "python",
   "name": "mrp"
  },
  "language_info": {
   "codemirror_mode": {
    "name": "ipython",
    "version": 3
   },
   "file_extension": ".py",
   "mimetype": "text/x-python",
   "name": "python",
   "nbconvert_exporter": "python",
   "pygments_lexer": "ipython3",
   "version": "3.7.2"
  }
 },
 "nbformat": 4,
 "nbformat_minor": 2
}
