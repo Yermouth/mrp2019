{
 "cells": [
  {
   "cell_type": "code",
   "execution_count": 1,
   "metadata": {},
   "outputs": [],
   "source": [
    "try:\n",
    "    __IPYTHON__\n",
    "    USING_IPYTHON = True\n",
    "    %load_ext autoreload\n",
    "    %autoreload 2\n",
    "except NameError:\n",
    "    USING_IPYTHON = False"
   ]
  },
  {
   "cell_type": "markdown",
   "metadata": {},
   "source": [
    "#### Argparse"
   ]
  },
  {
   "cell_type": "code",
   "execution_count": 159,
   "metadata": {},
   "outputs": [],
   "source": [
    "import argparse\n",
    "ap = argparse.ArgumentParser()\n",
    "ap.add_argument('project_root', help='')\n",
    "ap.add_argument('--mrp-data-dir', default='data', help='')\n",
    "ap.add_argument('--graphviz-sub-dir', default='visualization/graphviz', help='')\n",
    "ap.add_argument('--train-sub-dir', default='training', help='')\n",
    "ap.add_argument('--companion-sub-dir', default='companion')\n",
    "ap.add_argument('--jamr-alignment-file', default='jamr.mrp')\n",
    "\n",
    "\n",
    "ap.add_argument('--mrp-file-extension', default='.mrp')\n",
    "ap.add_argument('--companion-file-extension', default='.conllu')\n",
    "ap.add_argument('--graphviz-file-template', default='http://localhost:8000/files/proj29_ds1/home/slai/mrp2019/visualization/graphviz/{}/{}.mrp/{}.png')\n",
    "arg_string = \"\"\"\n",
    "    /data/proj29_ds1/home/slai/mrp2019\n",
    "\"\"\"\n",
    "arguments = [arg for arg_line in arg_string.split(r'\\\\n') for arg in arg_line.split()]"
   ]
  },
  {
   "cell_type": "code",
   "execution_count": 160,
   "metadata": {},
   "outputs": [],
   "source": [
    "if USING_IPYTHON:\n",
    "    args = ap.parse_args(arguments)\n",
    "else:\n",
    "    args = ap.parse_args()"
   ]
  },
  {
   "cell_type": "code",
   "execution_count": 161,
   "metadata": {},
   "outputs": [
    {
     "data": {
      "text/plain": [
       "Namespace(companion_file_extension='.conllu', companion_sub_dir='companion', graphviz_file_template='http://localhost:8000/files/proj29_ds1/home/slai/mrp2019/visualization/graphviz/{}/{}.mrp/{}.png', graphviz_sub_dir='visualization/graphviz', jamr_alignment_file='jamr.mrp', mrp_data_dir='data', mrp_file_extension='.mrp', project_root='/data/proj29_ds1/home/slai/mrp2019', train_sub_dir='training')"
      ]
     },
     "execution_count": 161,
     "metadata": {},
     "output_type": "execute_result"
    }
   ],
   "source": [
    "args"
   ]
  },
  {
   "cell_type": "markdown",
   "metadata": {},
   "source": [
    "#### Library imports"
   ]
  },
  {
   "cell_type": "code",
   "execution_count": 163,
   "metadata": {},
   "outputs": [],
   "source": [
    "import json\n",
    "import logging\n",
    "import os\n",
    "import pprint\n",
    "import string\n",
    "from collections import Counter, defaultdict\n",
    "\n",
    "import matplotlib.pyplot as plt\n",
    "import networkx as nx\n",
    "import numpy as np\n",
    "import plot_util\n",
    "from preprocessing import CompanionParseDataset, MrpDataset, JamrAlignmentDataset\n",
    "from tqdm import tqdm"
   ]
  },
  {
   "cell_type": "markdown",
   "metadata": {},
   "source": [
    "#### ipython notebook specific imports"
   ]
  },
  {
   "cell_type": "code",
   "execution_count": 6,
   "metadata": {},
   "outputs": [],
   "source": [
    "if USING_IPYTHON:\n",
    "    # matplotlib config\n",
    "    %matplotlib inline"
   ]
  },
  {
   "cell_type": "code",
   "execution_count": 7,
   "metadata": {},
   "outputs": [],
   "source": [
    "sh = logging.StreamHandler()\n",
    "formatter = logging.Formatter('%(name)s - %(levelname)s - %(message)s')\n",
    "sh.setFormatter(formatter)\n",
    "logging.basicConfig(level=logging.INFO, handlers=[sh])\n",
    "logger = logging.getLogger(__name__)  # pylint: disable=invalid-name\n",
    "logger.setLevel(logging.INFO)"
   ]
  },
  {
   "cell_type": "markdown",
   "metadata": {},
   "source": [
    "### Constants"
   ]
  },
  {
   "cell_type": "code",
   "execution_count": 75,
   "metadata": {},
   "outputs": [],
   "source": [
    "UNKWOWN = 'UNKWOWN'"
   ]
  },
  {
   "cell_type": "markdown",
   "metadata": {},
   "source": [
    "### Load data"
   ]
  },
  {
   "cell_type": "code",
   "execution_count": 8,
   "metadata": {},
   "outputs": [],
   "source": [
    "train_dir = os.path.join(args.project_root, args.mrp_data_dir, args.train_sub_dir)"
   ]
  },
  {
   "cell_type": "code",
   "execution_count": 9,
   "metadata": {},
   "outputs": [],
   "source": [
    "mrp_dataset = MrpDataset()"
   ]
  },
  {
   "cell_type": "code",
   "execution_count": 10,
   "metadata": {},
   "outputs": [
    {
     "name": "stderr",
     "output_type": "stream",
     "text": [
      "frameworks:   0%|          | 0/5 [00:00<?, ?it/s]\n",
      "dataset_name:   0%|          | 0/2 [00:00<?, ?it/s]\u001b[A\n",
      "dataset_name:  50%|█████     | 1/2 [00:00<00:00,  2.74it/s]\u001b[A\n",
      "frameworks:  20%|██        | 1/5 [00:00<00:02,  1.40it/s]s]\u001b[A\n",
      "dataset_name:   0%|          | 0/1 [00:00<?, ?it/s]\u001b[A\n",
      "frameworks:  40%|████      | 2/5 [00:04<00:04,  1.64s/it]t]\u001b[A\n",
      "dataset_name:   0%|          | 0/1 [00:00<?, ?it/s]\u001b[A\n",
      "frameworks:  60%|██████    | 3/5 [00:09<00:05,  2.50s/it]t]\u001b[A\n",
      "dataset_name:   0%|          | 0/1 [00:00<?, ?it/s]\u001b[A\n",
      "frameworks:  80%|████████  | 4/5 [00:14<00:03,  3.37s/it]t]\u001b[A\n",
      "dataset_name:   0%|          | 0/14 [00:00<?, ?it/s]\u001b[A\n",
      "dataset_name:  36%|███▌      | 5/14 [00:00<00:00, 45.96it/s]\u001b[A\n",
      "dataset_name:  50%|█████     | 7/14 [00:00<00:00, 18.30it/s]\u001b[A\n",
      "dataset_name:  64%|██████▍   | 9/14 [00:00<00:00, 15.51it/s]\u001b[A\n",
      "dataset_name:  79%|███████▊  | 11/14 [00:01<00:00,  5.22it/s]\u001b[A\n",
      "frameworks: 100%|██████████| 5/5 [00:16<00:00,  2.83s/it]t/s]\u001b[A\n"
     ]
    }
   ],
   "source": [
    "frameworks, framework2dataset2mrp_jsons = mrp_dataset.load_mrp_json_dir(\n",
    "    train_dir, args.mrp_file_extension)"
   ]
  },
  {
   "cell_type": "code",
   "execution_count": null,
   "metadata": {},
   "outputs": [],
   "source": []
  },
  {
   "cell_type": "markdown",
   "metadata": {},
   "source": [
    "### Data Preprocessing companion"
   ]
  },
  {
   "cell_type": "code",
   "execution_count": 12,
   "metadata": {},
   "outputs": [],
   "source": [
    "companion_dir = os.path.join(args.project_root, args.mrp_data_dir, args.companion_sub_dir)"
   ]
  },
  {
   "cell_type": "code",
   "execution_count": 13,
   "metadata": {},
   "outputs": [],
   "source": [
    "cparse_dataset = CompanionParseDataset()"
   ]
  },
  {
   "cell_type": "code",
   "execution_count": 14,
   "metadata": {},
   "outputs": [
    {
     "name": "stderr",
     "output_type": "stream",
     "text": [
      "preprocessing - INFO - framework amr found\n",
      "dataset: 100%|██████████| 13/13 [00:04<00:00,  3.09it/s]\n",
      "preprocessing - INFO - framework dm found\n",
      "dataset: 100%|██████████| 5/5 [00:01<00:00,  4.41it/s]\n",
      "preprocessing - INFO - framework ucca found\n",
      "dataset: 100%|██████████| 6/6 [00:00<00:00, 33.56it/s]\n"
     ]
    }
   ],
   "source": [
    "dataset2cid2parse = cparse_dataset.load_companion_parse_dir(companion_dir, args.companion_file_extension)"
   ]
  },
  {
   "cell_type": "code",
   "execution_count": 15,
   "metadata": {},
   "outputs": [
    {
     "data": {
      "text/plain": [
       "dict_keys(['amr-guidelines', 'bolt', 'cctv', 'dfa', 'dfb', 'fables', 'lorelei', 'mt09sdl', 'proxy', 'rte', 'wb', 'wiki', 'xinhua', 'wsj', 'ewt'])"
      ]
     },
     "execution_count": 15,
     "metadata": {},
     "output_type": "execute_result"
    }
   ],
   "source": [
    "dataset2cid2parse.keys()"
   ]
  },
  {
   "cell_type": "code",
   "execution_count": 16,
   "metadata": {
    "scrolled": false
   },
   "outputs": [
    {
     "data": {
      "text/plain": [
       "False"
      ]
     },
     "execution_count": 16,
     "metadata": {},
     "output_type": "execute_result"
    }
   ],
   "source": [
    "# Some data is missing\n",
    "'20003001' in dataset2cid2parse['wsj']"
   ]
  },
  {
   "cell_type": "markdown",
   "metadata": {},
   "source": [
    "### Load JAMR alignment data"
   ]
  },
  {
   "cell_type": "code",
   "execution_count": 164,
   "metadata": {},
   "outputs": [],
   "source": [
    "jalignment_dataset = JamrAlignmentDataset()"
   ]
  },
  {
   "cell_type": "code",
   "execution_count": 166,
   "metadata": {},
   "outputs": [],
   "source": [
    "cid2alignment = jalignment_dataset.load_jamr_alignment_file(os.path.join(\n",
    "    args.project_root,\n",
    "    args.mrp_data_dir,\n",
    "    args.companion_sub_dir,\n",
    "    args.jamr_alignment_file\n",
    "))"
   ]
  },
  {
   "cell_type": "markdown",
   "metadata": {},
   "source": [
    "### Define the state at each step"
   ]
  },
  {
   "cell_type": "code",
   "execution_count": 18,
   "metadata": {},
   "outputs": [
    {
     "name": "stderr",
     "output_type": "stream",
     "text": [
      "__main__ - INFO - ucca\n",
      "__main__ - INFO - ['wiki', 'ewt']\n",
      "__main__ - INFO - psd\n",
      "__main__ - INFO - ['wsj']\n",
      "__main__ - INFO - eds\n",
      "__main__ - INFO - ['wsj']\n",
      "__main__ - INFO - dm\n",
      "__main__ - INFO - ['wsj']\n",
      "__main__ - INFO - amr\n",
      "__main__ - INFO - ['xinhua', 'wsj', 'wiki', 'wb', 'rte', 'proxy', 'mt09sdl', 'lorelei', 'fables', 'dfb', 'dfa', 'cctv', 'bolt', 'amr-guidelines']\n"
     ]
    }
   ],
   "source": [
    "for framework in framework2dataset2mrp_jsons:\n",
    "    logger.info(framework)\n",
    "    logger.info(list(framework2dataset2mrp_jsons[framework].keys()))"
   ]
  },
  {
   "cell_type": "code",
   "execution_count": 255,
   "metadata": {},
   "outputs": [],
   "source": [
    "framework = 'dm'\n",
    "# framework = 'psd'\n",
    "framework = 'eds'\n",
    "# framework = 'ucca'\n",
    "# framework = 'amr'\n",
    "\n",
    "dataset = 'wsj'\n",
    "# dataset = 'wsj'\n",
    "# dataset = 'cctv'\n",
    "mrp_jsons = framework2dataset2mrp_jsons[framework][dataset]"
   ]
  },
  {
   "cell_type": "code",
   "execution_count": 256,
   "metadata": {},
   "outputs": [],
   "source": [
    "mrp_json = mrp_jsons[0]"
   ]
  },
  {
   "cell_type": "code",
   "execution_count": 257,
   "metadata": {},
   "outputs": [
    {
     "data": {
      "text/plain": [
       "'Pierre Vinken, 61 years old, will join the board as a nonexecutive director Nov. 29.'"
      ]
     },
     "execution_count": 257,
     "metadata": {},
     "output_type": "execute_result"
    }
   ],
   "source": [
    "mrp_json['input']"
   ]
  },
  {
   "cell_type": "code",
   "execution_count": 258,
   "metadata": {},
   "outputs": [
    {
     "name": "stderr",
     "output_type": "stream",
     "text": [
      "__main__ - INFO - http://localhost:8000/files/proj29_ds1/home/slai/mrp2019/visualization/graphviz/eds/wsj.mrp/20001001.png\n"
     ]
    }
   ],
   "source": [
    "logger.info(args.graphviz_file_template.format(\n",
    "    framework, dataset, mrp_json.get('id')))"
   ]
  },
  {
   "cell_type": "code",
   "execution_count": 259,
   "metadata": {},
   "outputs": [],
   "source": [
    "nodes = mrp_json['nodes']\n",
    "edges = mrp_json['edges']"
   ]
  },
  {
   "cell_type": "markdown",
   "metadata": {},
   "source": [
    "By observation, \n",
    "\n",
    "edges of **PSD, UCCA and AMR** are from parent to leaf\n",
    "\n",
    "edges of **EDS and DM** are from leaf to parent"
   ]
  },
  {
   "cell_type": "code",
   "execution_count": 260,
   "metadata": {},
   "outputs": [],
   "source": [
    "node_id2indegree = Counter()\n",
    "node_id2neig_id_set = defaultdict(set)\n",
    "node_id2edge_id_set = defaultdict(set)\n",
    "\n",
    "parent_to_leaf_framework_set = {'psd', 'ucca', 'amr'}\n",
    "leaf_to_parent_framework_set = {'eds', 'dm'}\n",
    "\n",
    "for edge_id, edge in enumerate(edges):\n",
    "    if framework in parent_to_leaf_framework_set:\n",
    "        source = edge.get('source')\n",
    "        target = edge.get('target')\n",
    "    else:\n",
    "        source = edge.get('target')\n",
    "        target = edge.get('source')\n",
    "    node_id2neig_id_set[source].add(target)\n",
    "    node_id2edge_id_set[source].add(edge_id)\n",
    "    node_id2edge_id_set[target].add(edge_id)\n",
    "    node_id2indegree[target] += 1"
   ]
  },
  {
   "cell_type": "markdown",
   "metadata": {},
   "source": [
    "We only add the edge when both nodes are seen"
   ]
  },
  {
   "cell_type": "code",
   "execution_count": 261,
   "metadata": {},
   "outputs": [],
   "source": [
    "seen_node_id_set = set()\n",
    "seen_edge_id_set = set()\n",
    "parser_states = []"
   ]
  },
  {
   "cell_type": "code",
   "execution_count": 262,
   "metadata": {},
   "outputs": [],
   "source": [
    "for node in nodes:\n",
    "    edge_state = []\n",
    "    node_id = node.get('id', -1)\n",
    "    seen_node_id_set.add(node_id)\n",
    "    for edge_id in node_id2edge_id_set[node_id]:\n",
    "        edge = edges[edge_id]\n",
    "        edge_not_seen = edge_id not in seen_edge_id_set\n",
    "        edge_nodes_seen = all([\n",
    "            edge.get('source', -1) in seen_node_id_set,\n",
    "            edge.get('target', -1) in seen_node_id_set,\n",
    "        ])\n",
    "        \n",
    "        # add edge if edge not seen and both ends seen\n",
    "        if edge_not_seen and edge_nodes_seen:\n",
    "            edge_state.append(edge_id)\n",
    "            seen_edge_id_set.add(edge_id)\n",
    "    parser_states.append((node_id, edge_state))"
   ]
  },
  {
   "cell_type": "code",
   "execution_count": 264,
   "metadata": {},
   "outputs": [
    {
     "data": {
      "text/plain": [
       "[{'id': 0, 'label': 'proper_q', 'anchors': [{'from': 0, 'to': 28}]},\n",
       " {'id': 1, 'label': 'compound', 'anchors': [{'from': 0, 'to': 14}]},\n",
       " {'id': 2, 'label': 'proper_q', 'anchors': [{'from': 0, 'to': 6}]},\n",
       " {'id': 3,\n",
       "  'label': 'named',\n",
       "  'properties': ['carg'],\n",
       "  'values': ['Pierre'],\n",
       "  'anchors': [{'from': 0, 'to': 6}]},\n",
       " {'id': 4,\n",
       "  'label': 'named',\n",
       "  'properties': ['carg'],\n",
       "  'values': ['Vinken'],\n",
       "  'anchors': [{'from': 7, 'to': 14}]},\n",
       " {'id': 5, 'label': 'measure', 'anchors': [{'from': 15, 'to': 23}]},\n",
       " {'id': 6, 'label': 'udef_q', 'anchors': [{'from': 15, 'to': 23}]},\n",
       " {'id': 7,\n",
       "  'label': 'card',\n",
       "  'properties': ['carg'],\n",
       "  'values': ['61'],\n",
       "  'anchors': [{'from': 15, 'to': 17}]},\n",
       " {'id': 8, 'label': '_year_n_1', 'anchors': [{'from': 18, 'to': 23}]},\n",
       " {'id': 9, 'label': '_old_a_1', 'anchors': [{'from': 24, 'to': 28}]},\n",
       " {'id': 10, 'label': '_join_v_1', 'anchors': [{'from': 34, 'to': 38}]},\n",
       " {'id': 11, 'label': '_the_q', 'anchors': [{'from': 39, 'to': 42}]},\n",
       " {'id': 12, 'label': '_board_n_of', 'anchors': [{'from': 43, 'to': 48}]},\n",
       " {'id': 13, 'label': '_as_p', 'anchors': [{'from': 49, 'to': 51}]},\n",
       " {'id': 14, 'label': '_a_q', 'anchors': [{'from': 52, 'to': 53}]},\n",
       " {'id': 15,\n",
       "  'label': '_nonexecutive_a_unknown',\n",
       "  'anchors': [{'from': 54, 'to': 66}]},\n",
       " {'id': 16, 'label': '_director_n_of', 'anchors': [{'from': 67, 'to': 75}]},\n",
       " {'id': 17, 'label': 'loc_nonsp', 'anchors': [{'from': 76, 'to': 84}]},\n",
       " {'id': 18,\n",
       "  'label': 'mofy',\n",
       "  'properties': ['carg'],\n",
       "  'values': ['Nov'],\n",
       "  'anchors': [{'from': 76, 'to': 80}]},\n",
       " {'id': 19, 'label': 'def_explicit_q', 'anchors': [{'from': 76, 'to': 80}]},\n",
       " {'id': 20, 'label': 'of_p', 'anchors': [{'from': 76, 'to': 80}]},\n",
       " {'id': 21, 'label': 'def_implicit_q', 'anchors': [{'from': 76, 'to': 80}]},\n",
       " {'id': 22,\n",
       "  'label': 'dofm',\n",
       "  'properties': ['carg'],\n",
       "  'values': ['29'],\n",
       "  'anchors': [{'from': 81, 'to': 84}]}]"
      ]
     },
     "execution_count": 264,
     "metadata": {},
     "output_type": "execute_result"
    }
   ],
   "source": [
    "nodes"
   ]
  },
  {
   "cell_type": "code",
   "execution_count": 263,
   "metadata": {},
   "outputs": [
    {
     "name": "stdout",
     "output_type": "stream",
     "text": [
      "0 []\n",
      "1 []\n",
      "2 []\n",
      "3 [17, 19]\n",
      "4 [15, 6]\n",
      "5 []\n",
      "6 []\n",
      "7 []\n",
      "8 [1, 11, 5]\n",
      "9 [18, 7]\n",
      "10 [3]\n",
      "11 []\n",
      "12 [20, 14]\n",
      "13 [12]\n",
      "14 []\n",
      "15 []\n",
      "16 [21, 4, 13]\n",
      "17 [8]\n",
      "18 []\n",
      "19 []\n",
      "20 [2]\n",
      "21 [10]\n",
      "22 [0, 9, 16]\n"
     ]
    }
   ],
   "source": [
    "for node_id, edge_state in parser_states:\n",
    "    print(node_id, edge_state)"
   ]
  },
  {
   "cell_type": "code",
   "execution_count": null,
   "metadata": {},
   "outputs": [],
   "source": []
  },
  {
   "cell_type": "code",
   "execution_count": null,
   "metadata": {},
   "outputs": [],
   "source": []
  }
 ],
 "metadata": {
  "kernelspec": {
   "display_name": "mrp",
   "language": "python",
   "name": "mrp"
  },
  "language_info": {
   "codemirror_mode": {
    "name": "ipython",
    "version": 3
   },
   "file_extension": ".py",
   "mimetype": "text/x-python",
   "name": "python",
   "nbconvert_exporter": "python",
   "pygments_lexer": "ipython3",
   "version": "3.7.2"
  }
 },
 "nbformat": 4,
 "nbformat_minor": 2
}
