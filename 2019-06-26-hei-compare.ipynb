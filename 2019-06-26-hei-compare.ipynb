{
 "cells": [
  {
   "cell_type": "code",
   "execution_count": 1,
   "metadata": {},
   "outputs": [],
   "source": [
    "try:\n",
    "    __IPYTHON__\n",
    "    USING_IPYTHON = True\n",
    "except NameError:\n",
    "    USING_IPYTHON = False"
   ]
  },
  {
   "cell_type": "markdown",
   "metadata": {},
   "source": [
    "#### Argparse"
   ]
  },
  {
   "cell_type": "code",
   "execution_count": 2,
   "metadata": {},
   "outputs": [],
   "source": [
    "import argparse\n",
    "ap = argparse.ArgumentParser()\n",
    "ap.add_argument('mrp_data_dir', help='')\n",
    "ap.add_argument('--train-sub-dir', default='training', help='')\n",
    "ap.add_argument('--graphviz-dir', default='graphviz', help='')\n",
    "ap.add_argument('--companion-sub-dir', default='./mrp-companion/2019/companion')\n",
    "ap.add_argument('--mrp-file-extension', default='.mrp')\n",
    "ap.add_argument('--companion-file-extension', default='.conllu')\n",
    "arg_string = \"\"\"\n",
    "    ./data/\n",
    "\"\"\"\n",
    "arguments = [arg for arg_line in arg_string.split(r'\\\\n') for arg in arg_line.split()]"
   ]
  },
  {
   "cell_type": "code",
   "execution_count": 3,
   "metadata": {},
   "outputs": [],
   "source": [
    "if USING_IPYTHON:\n",
    "    args = ap.parse_args(arguments)\n",
    "else:\n",
    "    args = ap.parse_args()"
   ]
  },
  {
   "cell_type": "code",
   "execution_count": 4,
   "metadata": {},
   "outputs": [
    {
     "data": {
      "text/plain": [
       "Namespace(companion_file_extension='.conllu', companion_sub_dir='./mrp-companion/2019/companion', graphviz_dir='graphviz', mrp_data_dir='./data/', mrp_file_extension='.mrp', train_sub_dir='training')"
      ]
     },
     "execution_count": 4,
     "metadata": {},
     "output_type": "execute_result"
    }
   ],
   "source": [
    "args"
   ]
  },
  {
   "cell_type": "markdown",
   "metadata": {},
   "source": [
    "#### Library imports"
   ]
  },
  {
   "cell_type": "code",
   "execution_count": 5,
   "metadata": {},
   "outputs": [],
   "source": [
    "import json\n",
    "import logging\n",
    "import os\n",
    "\n",
    "from PIL import Image\n",
    "from matplotlib.pyplot import figure\n",
    "from networkx.drawing.nx_agraph import to_agraph\n",
    "from tqdm import tqdm\n",
    "import matplotlib.pyplot as plt\n",
    "import networkx as nx\n",
    "import numpy as np\n",
    "import plotly.graph_objs as go\n",
    "from pprint import pprint\n",
    "import string"
   ]
  },
  {
   "cell_type": "markdown",
   "metadata": {},
   "source": [
    "#### ipython notebook specific imports"
   ]
  },
  {
   "cell_type": "code",
   "execution_count": 6,
   "metadata": {},
   "outputs": [
    {
     "data": {
      "text/html": [
       "<script type=\"text/javascript\">window.PlotlyConfig = {MathJaxConfig: 'local'};</script><script type=\"text/javascript\">if (window.MathJax) {MathJax.Hub.Config({SVG: {font: \"STIX-Web\"}});}</script><script>requirejs.config({paths: { 'plotly': ['https://cdn.plot.ly/plotly-latest.min']},});if(!window._Plotly) {require(['plotly'],function(plotly) {window._Plotly=plotly;});}</script>"
      ],
      "text/vnd.plotly.v1+html": [
       "<script type=\"text/javascript\">window.PlotlyConfig = {MathJaxConfig: 'local'};</script><script type=\"text/javascript\">if (window.MathJax) {MathJax.Hub.Config({SVG: {font: \"STIX-Web\"}});}</script><script>requirejs.config({paths: { 'plotly': ['https://cdn.plot.ly/plotly-latest.min']},});if(!window._Plotly) {require(['plotly'],function(plotly) {window._Plotly=plotly;});}</script>"
      ]
     },
     "metadata": {},
     "output_type": "display_data"
    }
   ],
   "source": [
    "if USING_IPYTHON:\n",
    "    # matplotlib config\n",
    "    %matplotlib inline\n",
    "    \n",
    "    # ipython notebook plotly config\n",
    "    from plotly.offline import download_plotlyjs, init_notebook_mode, plot, iplot\n",
    "    init_notebook_mode(connected=True)\n",
    "else:\n",
    "    from plotly.plotly import plot, iplot"
   ]
  },
  {
   "cell_type": "code",
   "execution_count": 7,
   "metadata": {},
   "outputs": [],
   "source": [
    "logging.basicConfig(level=logging.INFO, handlers=[logging.StreamHandler()])\n",
    "logger = logging.getLogger(__name__)  # pylint: disable=invalid-name\n",
    "logger.setLevel(logging.INFO)"
   ]
  },
  {
   "cell_type": "markdown",
   "metadata": {},
   "source": [
    "### Constants"
   ]
  },
  {
   "cell_type": "code",
   "execution_count": 8,
   "metadata": {},
   "outputs": [],
   "source": [
    "UNKWOWN = 'UNKWOWN'"
   ]
  },
  {
   "cell_type": "markdown",
   "metadata": {},
   "source": [
    "### Load data"
   ]
  },
  {
   "cell_type": "code",
   "execution_count": 9,
   "metadata": {},
   "outputs": [
    {
     "data": {
      "text/plain": [
       "['amr', 'eds', 'psd', 'ucca', 'dm']"
      ]
     },
     "execution_count": 9,
     "metadata": {},
     "output_type": "execute_result"
    }
   ],
   "source": [
    "train_dir = os.path.join(args.mrp_data_dir, args.train_sub_dir)\n",
    "frameworks = [sub_dir for sub_dir in os.listdir(train_dir) if os.path.isdir(os.path.join(train_dir, sub_dir))]\n",
    "frameworks"
   ]
  },
  {
   "cell_type": "code",
   "execution_count": 10,
   "metadata": {
    "scrolled": true
   },
   "outputs": [
    {
     "name": "stderr",
     "output_type": "stream",
     "text": [
      "frameworks:   0%|          | 0/5 [00:00<?, ?it/s]\n",
      "dataset_name:   0%|          | 0/14 [00:00<?, ?it/s]\u001b[A\n",
      "dataset_name:   7%|▋         | 1/14 [00:00<00:03,  3.39it/s]\u001b[A\n",
      "dataset_name:  36%|███▌      | 5/14 [00:00<00:01,  4.66it/s]\u001b[A\n",
      "dataset_name:  57%|█████▋    | 8/14 [00:00<00:00,  6.02it/s]\u001b[A\n",
      "dataset_name:  71%|███████▏  | 10/14 [00:00<00:00,  5.87it/s]\u001b[A\n",
      "dataset_name:  86%|████████▌ | 12/14 [00:02<00:00,  2.51it/s]\u001b[A\n",
      "frameworks:  20%|██        | 1/5 [00:02<00:11,  2.84s/it]t/s]\u001b[A\n",
      "dataset_name:   0%|          | 0/1 [00:00<?, ?it/s]\u001b[A\n",
      "dataset_name: 100%|██████████| 1/1 [00:09<00:00,  9.41s/it]\u001b[A\n",
      "frameworks:  40%|████      | 2/5 [00:12<00:14,  4.82s/it]\n",
      "dataset_name:   0%|          | 0/1 [00:00<?, ?it/s]\u001b[A\n",
      "dataset_name: 100%|██████████| 1/1 [00:04<00:00,  4.63s/it]\u001b[A\n",
      "frameworks:  60%|██████    | 3/5 [00:16<00:09,  4.77s/it]\n",
      "dataset_name:   0%|          | 0/2 [00:00<?, ?it/s]\u001b[A\n",
      "dataset_name:  50%|█████     | 1/2 [00:00<00:00,  2.32it/s]\u001b[A\n",
      "dataset_name: 100%|██████████| 2/2 [00:00<00:00,  2.51it/s]\u001b[A\n",
      "frameworks:  80%|████████  | 4/5 [00:17<00:03,  3.57s/it]\n",
      "dataset_name:   0%|          | 0/1 [00:00<?, ?it/s]\u001b[A\n",
      "dataset_name: 100%|██████████| 1/1 [00:05<00:00,  5.32s/it]\u001b[A\n",
      "frameworks: 100%|██████████| 5/5 [00:23<00:00,  4.10s/it]\n"
     ]
    }
   ],
   "source": [
    "framework2dataset2mrp_jsons = {}\n",
    "framework2id2mrp_jsons = {}\n",
    "#id2mrp_jsons = {}\n",
    "for framework in tqdm(frameworks, desc='frameworks'):\n",
    "    dataset2mrp_jsons = {}\n",
    "    id2mrp_jsons_perFram = {}\n",
    "    framework_dir = os.path.join(train_dir, framework)\n",
    "    dataset_names = os.listdir(framework_dir)\n",
    "    \n",
    "    for dataset_name in tqdm(dataset_names, desc='dataset_name'):\n",
    "        mrp_jsons = []\n",
    "        if not dataset_name.endswith(args.mrp_file_extension):\n",
    "            continue\n",
    "        with open(os.path.join(framework_dir, dataset_name)) as rf:\n",
    "            for line in rf:\n",
    "                mrp_json = json.loads(line.strip())\n",
    "                if framework == 'ucca' and 'nodes' in mrp_json and 'input' in mrp_json:\n",
    "                    input_text = mrp_json['input']\n",
    "                    nodes = mrp_json['nodes']\n",
    "                    for i, node in enumerate(nodes):\n",
    "                        if 'anchors' not in node:\n",
    "                            continue\n",
    "                        text_segments = []\n",
    "                        for anchor in node['anchors']:\n",
    "                            text_segments.append(input_text[anchor.get('from', -1): anchor.get('to', -1)])\n",
    "                        mrp_json['nodes'][i]['label'] = ''.join(text_segments)\n",
    "                        \n",
    "                mrp_jsons.append(mrp_json)\n",
    "                if mrp_json['id'].startswith(\"reviews-\"):\n",
    "                    id2mrp_jsons_perFram[mrp_json['id'][8:]] = mrp_json\n",
    "                else:\n",
    "                    id2mrp_jsons_perFram[mrp_json['id']] = mrp_json\n",
    "                #id2mrp_jsons[mrp_json['id']] = mrp_json\n",
    "        dataset_name = dataset_name.split('.')[0]\n",
    "        dataset2mrp_jsons[dataset_name] = mrp_jsons\n",
    "    framework2dataset2mrp_jsons[framework] = dataset2mrp_jsons\n",
    "    framework2id2mrp_jsons[framework] = id2mrp_jsons_perFram"
   ]
  },
  {
   "cell_type": "code",
   "execution_count": 11,
   "metadata": {},
   "outputs": [
    {
     "name": "stderr",
     "output_type": "stream",
     "text": [
      "INFO:__main__:amr\n",
      "INFO:__main__:['lorelei', 'bolt', 'wiki', 'mt09sdl', 'rte', 'cctv', 'xinhua', 'amr-guidelines', 'proxy', 'wsj', 'dfb', 'dfa', 'fables', 'wb']\n",
      "INFO:__main__:eds\n",
      "INFO:__main__:['wsj']\n",
      "INFO:__main__:psd\n",
      "INFO:__main__:['wsj']\n",
      "INFO:__main__:ucca\n",
      "INFO:__main__:['wiki', 'ewt']\n",
      "INFO:__main__:dm\n",
      "INFO:__main__:['wsj']\n"
     ]
    }
   ],
   "source": [
    "for framework in framework2dataset2mrp_jsons:\n",
    "    logger.info(framework)\n",
    "    logger.info(list(framework2dataset2mrp_jsons[framework].keys()))"
   ]
  },
  {
   "cell_type": "markdown",
   "metadata": {},
   "source": [
    "### Load companion"
   ]
  },
  {
   "cell_type": "code",
   "execution_count": 12,
   "metadata": {},
   "outputs": [
    {
     "name": "stderr",
     "output_type": "stream",
     "text": [
      "dataset:  31%|███       | 4/13 [00:00<00:00, 31.98it/s]"
     ]
    },
    {
     "name": "stdout",
     "output_type": "stream",
     "text": [
      "amr\n",
      "rte.conllu\n",
      "fables.conllu\n",
      "amr-guidelines.conllu\n",
      "cctv.conllu\n",
      "wb.conllu\n",
      "dfa.conllu\n"
     ]
    },
    {
     "name": "stderr",
     "output_type": "stream",
     "text": [
      "dataset:  69%|██████▉   | 9/13 [00:00<00:00, 16.52it/s]"
     ]
    },
    {
     "name": "stdout",
     "output_type": "stream",
     "text": [
      "wiki.conllu\n",
      "bolt.conllu\n",
      "xinhua.conllu\n",
      "dfb.conllu\n",
      "proxy.conllu\n"
     ]
    },
    {
     "name": "stderr",
     "output_type": "stream",
     "text": [
      "dataset: 100%|██████████| 13/13 [00:02<00:00,  5.05it/s]"
     ]
    },
    {
     "name": "stdout",
     "output_type": "stream",
     "text": [
      "mt09sdl.conllu\n",
      "lorelei.conllu\n"
     ]
    },
    {
     "name": "stderr",
     "output_type": "stream",
     "text": [
      "\n",
      "\r",
      "dataset:   0%|          | 0/6 [00:00<?, ?it/s]"
     ]
    },
    {
     "name": "stdout",
     "output_type": "stream",
     "text": [
      ".DS_Store\n",
      "ucca\n",
      "ewt04.conllu\n",
      "ewt00.conllu\n",
      "ewt02.conllu\n",
      "wiki.conllu\n"
     ]
    },
    {
     "name": "stderr",
     "output_type": "stream",
     "text": [
      "dataset: 100%|██████████| 6/6 [00:01<00:00,  3.07it/s]\n",
      "dataset:   0%|          | 0/5 [00:00<?, ?it/s]"
     ]
    },
    {
     "name": "stdout",
     "output_type": "stream",
     "text": [
      "ewt01.conllu\n",
      "ewt03.conllu\n",
      "Makefile\n",
      "udpipe.mrp\n",
      "jamr.mrp\n",
      "dm\n",
      "wsj04.conllu\n"
     ]
    },
    {
     "name": "stderr",
     "output_type": "stream",
     "text": [
      "\r",
      "dataset:  20%|██        | 1/5 [00:00<00:01,  3.39it/s]"
     ]
    },
    {
     "name": "stdout",
     "output_type": "stream",
     "text": [
      "wsj02.conllu\n"
     ]
    },
    {
     "name": "stderr",
     "output_type": "stream",
     "text": [
      "\r",
      "dataset:  40%|████      | 2/5 [00:00<00:00,  3.11it/s]"
     ]
    },
    {
     "name": "stdout",
     "output_type": "stream",
     "text": [
      "wsj00.conllu\n"
     ]
    },
    {
     "name": "stderr",
     "output_type": "stream",
     "text": [
      "\r",
      "dataset:  60%|██████    | 3/5 [00:01<00:00,  2.87it/s]"
     ]
    },
    {
     "name": "stdout",
     "output_type": "stream",
     "text": [
      "wsj03.conllu\n"
     ]
    },
    {
     "name": "stderr",
     "output_type": "stream",
     "text": [
      "\r",
      "dataset:  80%|████████  | 4/5 [00:01<00:00,  2.87it/s]"
     ]
    },
    {
     "name": "stdout",
     "output_type": "stream",
     "text": [
      "wsj01.conllu\n"
     ]
    },
    {
     "name": "stderr",
     "output_type": "stream",
     "text": [
      "\r",
      "dataset: 100%|██████████| 5/5 [00:01<00:00,  2.94it/s]"
     ]
    },
    {
     "name": "stdout",
     "output_type": "stream",
     "text": [
      "README.txt\n",
      "isi.mrp\n"
     ]
    },
    {
     "name": "stderr",
     "output_type": "stream",
     "text": [
      "\n"
     ]
    }
   ],
   "source": [
    "dataset2cid2parse = {}\n",
    "framework2cid2parse = {}\n",
    "cid2parse = {}\n",
    "for framework in os.listdir(args.companion_sub_dir):\n",
    "    print (framework)\n",
    "    framework_dir = os.path.join(args.companion_sub_dir, framework)\n",
    "    if not os.path.isdir(framework_dir):\n",
    "        continue\n",
    "    cid2parse_perFram = {}\n",
    "    for dataset in tqdm(os.listdir(framework_dir), desc='dataset'):\n",
    "        if not dataset.endswith(args.companion_file_extension):\n",
    "            continue\n",
    "        dataset_name = dataset.split('.')[0].rstrip(string.digits)\n",
    "        cid2parse_perDataset = {}\n",
    "        print (dataset)\n",
    "        with open(os.path.join(framework_dir, dataset)) as rf:\n",
    "            parse = []\n",
    "            for line in rf:\n",
    "                line = line.strip()\n",
    "                if not line:\n",
    "                    cid2parse_perDataset[cid] = parse\n",
    "                    cid2parse_perFram[cid] = parse\n",
    "                    cid2parse[cid] = parse\n",
    "                    parse = []\n",
    "                    cid = ''\n",
    "                elif line.startswith('#'):\n",
    "                    cid = line[1:]\n",
    "                else:\n",
    "                    parse.append(line.split('\\t'))\n",
    "        dataset2cid2parse[dataset_name] = cid2parse_perDataset\n",
    "    framework2cid2parse[framework] = cid2parse_perFram\n",
    "    if framework=='dm':\n",
    "        framework2cid2parse['psd'] = cid2parse_perFram\n",
    "        framework2cid2parse['eds'] = cid2parse_perFram"
   ]
  },
  {
   "cell_type": "code",
   "execution_count": 13,
   "metadata": {},
   "outputs": [
    {
     "data": {
      "text/plain": [
       "dict_keys(['amr', 'eds', 'psd', 'ucca', 'dm'])"
      ]
     },
     "execution_count": 13,
     "metadata": {},
     "output_type": "execute_result"
    }
   ],
   "source": [
    "framework2dataset2mrp_jsons.keys()"
   ]
  },
  {
   "cell_type": "code",
   "execution_count": 14,
   "metadata": {
    "scrolled": true
   },
   "outputs": [
    {
     "data": {
      "text/plain": [
       "(129,\n",
       " 'Last year Commonwealth Edison had to refund $ 72.7 million for poor performance of its LaSalle I nuclear plant .',\n",
       " [['1', 'Last', 'last', 'ADJ', 'JJ', '_', '2', 'amod', '_', 'TokenRange=0:4'],\n",
       "  ['2',\n",
       "   'year',\n",
       "   'year',\n",
       "   'NOUN',\n",
       "   'NN',\n",
       "   '_',\n",
       "   '5',\n",
       "   'obl:tmod',\n",
       "   '_',\n",
       "   'TokenRange=5:9'],\n",
       "  ['3',\n",
       "   'Commonwealth',\n",
       "   'Commonwealth',\n",
       "   'PROPN',\n",
       "   'NNP',\n",
       "   '_',\n",
       "   '4',\n",
       "   'compound',\n",
       "   '_',\n",
       "   'TokenRange=10:22'],\n",
       "  ['4',\n",
       "   'Edison',\n",
       "   'Edison',\n",
       "   'PROPN',\n",
       "   'NNP',\n",
       "   '_',\n",
       "   '5',\n",
       "   'nsubj',\n",
       "   '_',\n",
       "   'TokenRange=23:29'],\n",
       "  ['5',\n",
       "   'had',\n",
       "   'have',\n",
       "   'VERB',\n",
       "   'VBD',\n",
       "   '_',\n",
       "   '0',\n",
       "   'root',\n",
       "   '_',\n",
       "   'TokenRange=30:33'],\n",
       "  ['6', 'to', 'to', 'PART', 'TO', '_', '7', 'mark', '_', 'TokenRange=34:36'],\n",
       "  ['7',\n",
       "   'refund',\n",
       "   'refund',\n",
       "   'VERB',\n",
       "   'VB',\n",
       "   '_',\n",
       "   '5',\n",
       "   'xcomp',\n",
       "   '_',\n",
       "   'TokenRange=37:43'],\n",
       "  ['8', '$', '$', 'SYM', '$', '_', '7', 'obj', '_', 'TokenRange=44:45'],\n",
       "  ['9',\n",
       "   '72.7',\n",
       "   '72.7',\n",
       "   'NUM',\n",
       "   'CD',\n",
       "   '_',\n",
       "   '10',\n",
       "   'compound',\n",
       "   '_',\n",
       "   'TokenRange=45:49'],\n",
       "  ['10',\n",
       "   'million',\n",
       "   'million',\n",
       "   'NUM',\n",
       "   'CD',\n",
       "   '_',\n",
       "   '8',\n",
       "   'nummod',\n",
       "   '_',\n",
       "   'TokenRange=50:57'],\n",
       "  ['11',\n",
       "   'for',\n",
       "   'for',\n",
       "   'ADP',\n",
       "   'IN',\n",
       "   '_',\n",
       "   '13',\n",
       "   'case',\n",
       "   '_',\n",
       "   'TokenRange=58:61'],\n",
       "  ['12',\n",
       "   'poor',\n",
       "   'poor',\n",
       "   'ADJ',\n",
       "   'JJ',\n",
       "   '_',\n",
       "   '13',\n",
       "   'amod',\n",
       "   '_',\n",
       "   'TokenRange=62:66'],\n",
       "  ['13',\n",
       "   'performance',\n",
       "   'performance',\n",
       "   'NOUN',\n",
       "   'NN',\n",
       "   '_',\n",
       "   '7',\n",
       "   'obl',\n",
       "   '_',\n",
       "   'TokenRange=67:78'],\n",
       "  ['14', 'of', 'of', 'ADP', 'IN', '_', '19', 'case', '_', 'TokenRange=79:81'],\n",
       "  ['15',\n",
       "   'its',\n",
       "   'its',\n",
       "   'PRON',\n",
       "   'PRP$',\n",
       "   '_',\n",
       "   '19',\n",
       "   'nmod:poss',\n",
       "   '_',\n",
       "   'TokenRange=82:85'],\n",
       "  ['16',\n",
       "   'LaSalle',\n",
       "   'LaSalle',\n",
       "   'PROPN',\n",
       "   'NNP',\n",
       "   '_',\n",
       "   '19',\n",
       "   'compound',\n",
       "   '_',\n",
       "   'TokenRange=86:93'],\n",
       "  ['17',\n",
       "   'I',\n",
       "   'I',\n",
       "   'PROPN',\n",
       "   'NNP',\n",
       "   '_',\n",
       "   '19',\n",
       "   'compound',\n",
       "   '_',\n",
       "   'TokenRange=94:95'],\n",
       "  ['18',\n",
       "   'nuclear',\n",
       "   'nuclear',\n",
       "   'ADJ',\n",
       "   'JJ',\n",
       "   '_',\n",
       "   '19',\n",
       "   'amod',\n",
       "   '_',\n",
       "   'TokenRange=96:103'],\n",
       "  ['19',\n",
       "   'plant',\n",
       "   'plant',\n",
       "   'NOUN',\n",
       "   'NN',\n",
       "   '_',\n",
       "   '13',\n",
       "   'nmod',\n",
       "   '_',\n",
       "   'TokenRange=104:109'],\n",
       "  ['20',\n",
       "   '.',\n",
       "   '.',\n",
       "   'PUNCT',\n",
       "   '.',\n",
       "   '_',\n",
       "   '5',\n",
       "   'punct',\n",
       "   '_',\n",
       "   'TokenRange=109:110']])"
      ]
     },
     "execution_count": 14,
     "metadata": {},
     "output_type": "execute_result"
    }
   ],
   "source": [
    "dataset = 'wsj'\n",
    "framework = 'dm'\n",
    "mrp_index = 128\n",
    "parse = None\n",
    "while not parse:\n",
    "    mrp_index += 1\n",
    "    cid = framework2dataset2mrp_jsons[framework][dataset][mrp_index]['id']\n",
    "    parse = dataset2cid2parse[dataset].get(cid)\n",
    "    \n",
    "(mrp_index, ' '.join([word_record[1] for word_record in parse]), parse)"
   ]
  },
  {
   "cell_type": "code",
   "execution_count": null,
   "metadata": {},
   "outputs": [],
   "source": [
    "cid"
   ]
  },
  {
   "cell_type": "code",
   "execution_count": null,
   "metadata": {},
   "outputs": [],
   "source": [
    "framework2dataset2mrp_jsons[framework][dataset][mrp_index]"
   ]
  },
  {
   "cell_type": "code",
   "execution_count": 18,
   "metadata": {
    "scrolled": true
   },
   "outputs": [
    {
     "ename": "KeyError",
     "evalue": "'isi.mrp'",
     "output_type": "error",
     "traceback": [
      "\u001b[0;31m---------------------------------------------------------------------------\u001b[0m",
      "\u001b[0;31mKeyError\u001b[0m                                  Traceback (most recent call last)",
      "\u001b[0;32m<ipython-input-18-dbb801da425b>\u001b[0m in \u001b[0;36m<module>\u001b[0;34m\u001b[0m\n\u001b[1;32m      1\u001b[0m print(' '.join([\n\u001b[1;32m      2\u001b[0m     \u001b[0mnode\u001b[0m\u001b[0;34m.\u001b[0m\u001b[0mget\u001b[0m\u001b[0;34m(\u001b[0m\u001b[0;34m'label'\u001b[0m\u001b[0;34m,\u001b[0m \u001b[0;34m''\u001b[0m\u001b[0;34m)\u001b[0m\u001b[0;34m\u001b[0m\u001b[0;34m\u001b[0m\u001b[0m\n\u001b[0;32m----> 3\u001b[0;31m     \u001b[0;32mfor\u001b[0m \u001b[0mnode\u001b[0m \u001b[0;32min\u001b[0m \u001b[0msorted\u001b[0m\u001b[0;34m(\u001b[0m\u001b[0mframework2dataset2mrp_jsons\u001b[0m\u001b[0;34m[\u001b[0m\u001b[0mframework\u001b[0m\u001b[0;34m]\u001b[0m\u001b[0;34m[\u001b[0m\u001b[0mdataset\u001b[0m\u001b[0;34m]\u001b[0m\u001b[0;34m[\u001b[0m\u001b[0mmrp_index\u001b[0m\u001b[0;34m]\u001b[0m\u001b[0;34m[\u001b[0m\u001b[0;34m'nodes'\u001b[0m\u001b[0;34m]\u001b[0m\u001b[0;34m,\u001b[0m \u001b[0mkey\u001b[0m\u001b[0;34m=\u001b[0m\u001b[0;32mlambda\u001b[0m \u001b[0mx\u001b[0m\u001b[0;34m:\u001b[0m\u001b[0mx\u001b[0m\u001b[0;34m[\u001b[0m\u001b[0;34m'id'\u001b[0m\u001b[0;34m]\u001b[0m\u001b[0;34m)\u001b[0m\u001b[0;34m\u001b[0m\u001b[0;34m\u001b[0m\u001b[0m\n\u001b[0m\u001b[1;32m      4\u001b[0m ]))\n\u001b[1;32m      5\u001b[0m \u001b[0mprint\u001b[0m\u001b[0;34m(\u001b[0m\u001b[0;34m'http://localhost:8000/tree/proj29_ds1/home/slai/mrp/graphviz/{}/{}.mrp/{}.png'\u001b[0m\u001b[0;34m.\u001b[0m\u001b[0mformat\u001b[0m\u001b[0;34m(\u001b[0m\u001b[0mframework\u001b[0m\u001b[0;34m,\u001b[0m \u001b[0mdataset\u001b[0m\u001b[0;34m,\u001b[0m \u001b[0mcid\u001b[0m\u001b[0;34m)\u001b[0m\u001b[0;34m)\u001b[0m\u001b[0;34m\u001b[0m\u001b[0;34m\u001b[0m\u001b[0m\n",
      "\u001b[0;31mKeyError\u001b[0m: 'isi.mrp'"
     ]
    }
   ],
   "source": [
    "print(' '.join([\n",
    "    node.get('label', '') \n",
    "    for node in sorted(framework2dataset2mrp_jsons[framework][dataset][mrp_index]['nodes'], key=lambda x:x['id'])\n",
    "]))\n",
    "print('http://localhost:8000/tree/proj29_ds1/home/slai/mrp/graphviz/{}/{}.mrp/{}.png'.format(framework, dataset, cid))"
   ]
  },
  {
   "cell_type": "code",
   "execution_count": 16,
   "metadata": {
    "scrolled": true
   },
   "outputs": [
    {
     "name": "stdout",
     "output_type": "stream",
     "text": [
      "amr\n",
      "56236\n",
      "eds\n",
      "35656\n",
      "psd\n",
      "35656\n",
      "ucca\n",
      "4939\n",
      "dm\n",
      "35656\n"
     ]
    }
   ],
   "source": [
    "for key in framework2id2mrp_jsons:\n",
    "    print (key)\n",
    "    print (len(framework2id2mrp_jsons[key].keys()))\n",
    "    "
   ]
  },
  {
   "cell_type": "code",
   "execution_count": 17,
   "metadata": {
    "scrolled": true
   },
   "outputs": [
    {
     "name": "stdout",
     "output_type": "stream",
     "text": [
      "amr\n",
      "56149\n",
      "ucca\n",
      "6485\n",
      "dm\n",
      "35656\n",
      "psd\n",
      "35656\n",
      "eds\n",
      "35656\n"
     ]
    }
   ],
   "source": [
    "for key in framework2cid2parse:\n",
    "    print (key)\n",
    "    print (len(framework2cid2parse[key].keys()))\n",
    "    "
   ]
  },
  {
   "cell_type": "code",
   "execution_count": 117,
   "metadata": {
    "collapsed": true
   },
   "outputs": [
    {
     "name": "stdout",
     "output_type": "stream",
     "text": [
      "dm\n",
      "1546\n",
      "{'644010', '536007', '146012', '537012', '148002', '491003', '141004', '618018', '147010', '216281-0007', '081116-0001', '642008', '489001', '138005', '193007', '171255-0002', '629004', '191012', '001325-0001', '143008', '630009', '648014', '144002', '252791-0001', '107608-0001', '343336-0002', '325741-0002', '149003', '489003', '363428-0002', '135005', '304759-0002', '058878-0002', '487004', '193005', '654001', '054269-0002', '652018', '643014', '617011', '357217-0004', '137010', '631002', '048201-0002', '307170-0003', '648010', '142004', '191002', '190003', '126134-0001', '363428-0004', '642012', '275595-0003', '389298-0001', '616003', '191003', '132000', '558017', '631000', '146007', '115008', '048201-0001', '489012', '630011', '616000', '130216-0002', '618014', '618010', '133002', '545008', '646003', '648006', '124011', '118668-0004', '486001', '490007', '189012', '255757-0001', '642010', '490022', '490011', '646011', '645013', '287360-0004', '147009', '485002', '229442-0001', '374344-0006', '645000', '116007', '048201-0003', '363482-0002', '175434-0002', '061721-0004', '030395-0001', '128808-0002', '607012', '133004', '212369-0003', '128012', '114003', '148015', '133010', '148019', '059685-0001', '268952-0003', '143013', '114008', '392826-0004', '186000', '652014', '148007', '186235-0002', '604001', '137012', '490009', '618008', '649011', '189003', '490002', '325330-0002', '150001', '374344-0003', '190002', '155050-0002', '025894-0003', '140014', '002288-0001', '192005', '537011', '140002', '014764-0003', '141007', '146003', '144007', '216281-0003', '604015', '178726-0003', '374344-0007', '538009', '125016', '129000', '128808-0001', '185001', '207348-0001', '136007', '655008', '128007', '206303-0003', '605005', '648011', '148000', '374344-0002', '558003', '149006', '129013', '187005', '632002', '646007', '163250-0002', '193008', '034320-0003', '558006', '351950-0001', '124010', '216281-0001', '080814-0003', '343813-0002', '558004', '137009', '604002', '129004', '103519-0002', '125017', '632004', '647011', '642005', '648007', '617000', '122564-0001', '485006', '225861-0003', '647001', '131004', '488012', '490010', '216281-0005', '630002', '644008', '653003', '252791-0003', '491006', '147000', '210153-0001', '606004', '538003', '126086-0001', '490001', '650006', '645015', '545010', '646004', '139009', '652019', '251755-0004', '191009', '491007', '148001', '287360-0005', '617009', '187001', '647010', '486002', '490008', '088954-0001', '341750-0006', '136004', '618022', '604014', '646008', '299169-0003', '194000', '629010', '268952-0002', '645009', '136005', '128006', '138011', '148008', '144010', '606001', '275595-0004', '214912-0002', '192399-0003', '631007', '354474-0005', '024306-0001', '643012', '185005', '647012', '118679-0002', '644002', '132001', '140009', '645001', '212369-0002', '654000', '200668-0001', '629000', '354474-0004', '125004', '144006', '314880-0002', '489013', '648008', '354474-0003', '211933-0001', '558023', '189010', '538004', '141006', '538008', '630010', '605007', '488010', '139005', '649001', '616005', '245928-0001', '133008', '631005', '116010', '149005', '489006', '145007', '061721-0003', '128004', '647009', '649002', '558013', '142010', '229100-0002', '655002', '189004', '188382-0001', '656000', '056408-0001', '229100-0008', '144009', '104703-0001', '643009', '607010', '313126-0002', '487009', '022273-0002', '654004', '148016', '192009', '002317-0001', '188000', '251755-0003', '537000', '133005', '187163-0002', '346074-0001', '645008', '145003', '178726-0004', '153921-0001', '210153-0004', '486005', '617001', '127007', '217747-0004', '652004', '617004', '336285-0003', '061721-0005', '025516-0002', '647000', '227515-0004', '030395-0002', '536005', '163250-0004', '124013', '607002', '487010', '186001', '135004', '149004', '192004', '538001', '135008', '488001', '335490-0003', '270889-0001', '485005', '289763-0001', '155050-0001', '643001', '190001', '148017', '607000', '142006', '127004', '357217-0002', '618023', '656003', '146008', '485004', '130647-0003', '645010', '545009', '192007', '605004', '163250-0001', '058009-0001', '490013', '011806-0002', '089136-0003', '194002', '631004', '241108-0003', '605008', '045972-0001', '654010', '488007', '287360-0001', '558022', '200668-0002', '302465-0003', '538013', '346563-0004', '538014', '192006', '138008', '647003', '116011', '491008', '545001', '651001', '191010', '652006', '229100-0006', '283903-0001', '558011', '147012', '656006', '124009', '142014', '646009', '491005', '142000', '643006', '618000', '648005', '034320-0004', '131013', '618005', '127002', '133011', '558002', '256677-0005', '114009', '148005', '144008', '648000', '558024', '606000', '193000', '270889-0002', '127005', '229442-0003', '189006', '642016', '191000', '388121-0001', '654009', '125013', '644005', '146013', '125015', '536008', '558005', '135010', '491009', '558020', '216281-0004', '122564-0004', '643003', '125007', '048644-0005', '083563-0002', '042085-0004', '141003', '341750-0002', '219984-0001', '489005', '127003', '126011', '141001', '490023', '538012', '138012', '186008', '116009', '647008', '307170-0001', '139001', '616002', '617012', '643011', '545006', '187163-0003', '241108-0004', '395218-0002', '192002', '333628-0001', '302465-0004', '538000', '491000', '001325-0004', '390330-0001', '336285-0001', '653008', '133009', '491001', '139007', '059655-0001', '537003', '607004', '656002', '137006', '263909-0001', '097548-0001', '647014', '488005', '210875-0001', '124492-0002', '131008', '651006', '616012', '125008', '645003', '651000', '264993-0004', '145004', '212369-0001', '655007', '143000', '149011', '604010', '005760-0004', '536010', '030395-0004', '005265-0002', '655005', '132008', '149000', '131009', '604012', '192399-0004', '140005', '030430-0003', '652020', '647005', '245928-0002', '187000', '118668-0003', '138249-0003', '142011', '128010', '083563-0003', '618017', '140001', '200566-0002', '277703-0001', '545003', '139014', '192399-0001', '171120-0001', '126134-0002', '188005', '224117-0001', '132011', '643008', '140003', '152281-0002', '630008', '334928-0001', '115001', '148012', '030395-0003', '115000', '143002', '343813-0004', '254908-0001', '129010', '115006', '647018', '384229-0003', '132003', '147002', '147006', '617003', '226715-0001', '652001', '038523-0002', '136011', '485003', '187004', '650002', '645006', '146009', '128013', '188001', '132002', '124492-0001', '227515-0001', '145645-0001', '630000', '489004', '335490-0004', '232278-0001', '184290-0001', '604016', '200566-0001', '138006', '357217-0005', '147014', '148013', '616014', '286172-0003', '304759-0001', '655006', '343336-0001', '642007', '264993-0002', '126009', '645002', '120724-0001', '392826-0002', '149014', '632008', '643004', '290238-0002', '651005', '395640-0002', '115003', '537013', '642014', '643002', '489014', '374344-0005', '144005', '148018', '206303-0002', '648004', '266955-0001', '346563-0007', '538010', '486000', '604006', '235190-0001', '487014', '314711-0001', '336305-0001', '114005', '042530-0002', '025894-0001', '299169-0001', '133001', '206303-0001', '103878-0001', '652000', '290238-0003', '137007', '645011', '649012', '618004', '618012', '153921-0002', '263909-0003', '193009', '188382-0003', '187002', '617008', '126002', '346563-0001', '229442-0002', '146002', '048644-0002', '101864-0004', '648002', '329807-0004', '046500-0002', '536000', '647006', '607006', '148010', '642011', '487000', '653001', '653000', '149008', '037179-0001', '263909-0002', '545004', '191013', '654008', '169610-0002', '085009-0001', '116012', '369608-0003', '650001', '130647-0002', '642004', '488004', '126010', '104703-0002', '030430-0004', '629008', '025894-0004', '211709-0001', '630006', '309258-0003', '192000', '054269-0001', '143005', '115009', '558009', '343813-0003', '537009', '042085-0003', '128001', '295935-0001', '644001', '302465-0001', '214912-0004', '644003', '489008', '035993-0001', '647007', '537004', '630004', '037179-0002', '146015', '604007', '490020', '490014', '266955-0002', '107608-0004', '107608-0003', '654002', '327867-0001', '332068-0002', '138003', '363482-0001', '618025', '116004', '618021', '644000', '343813-0006', '126003', '140011', '141002', '116001', '118668-0002', '136010', '126001', '125014', '193001', '190007', '353891-0003', '146006', '034858-0002', '128808-0003', '142007', '607007', '193257-0003', '490003', '649008', '617002', '351950-0002', '132007', '604005', '137004', '114006', '617005', '139152-0001', '536011', '148004', '133007', '490017', '139003', '178726-0005', '302465-0005', '185004', '144003', '139010', '192399-0002', '486008', '142002', '485010', '607008', '146820-0003', '286172-0001', '655000', '651003', '632003', '186002', '186004', '125005', '136003', '042530-0004', '194004', '336285-0002', '275595-0002', '025894-0002', '131007', '256677-0001', '139152-0003', '545007', '642013', '133006', '030430-0002', '396046-0001', '153921-0004', '146011', '166983-0001', '210153-0003', '630007', '558010', '126006', '487006', '028996-0002', '058878-0001', '141008', '341750-0001', '225861-0001', '225861-0004', '087368-0002', '143009', '145001', '346563-0006', '617010', '363428-0003', '652008', '486012', '606007', '139013', '629009', '384229-0002', '618024', '485009', '607001', '138007', '131005', '651007', '229100-0001', '118668-0005', '314024-0002', '558016', '149013', '135009', '126004', '147013', '346074-0002', '191015', '127008', '256677-0002', '146004', '181696-0003', '226715-0002', '163250-0003', '115004', '335490-0002', '264993-0001', '618019', '644004', '214912-0001', '131000', '122564-0002', '648012', '645012', '149001', '486004', '143004', '536012', '649000', '131965-0001', '190005', '193006', '149009', '363428-0001', '193003', '286172-0002', '630005', '489000', '632007', '125018', '649003', '137000', '191005', '190006', '012047-0003', '618020', '651002', '335490-0005', '206303-0005', '038523-0003', '047891-0002', '122514-0001', '178726-0007', '118679-0001', '558007', '648015', '618009', '169610-0003', '646001', '191008', '389298-0002', '133000', '135001', '485007', '616006', '002317-0003', '129001', '536004', '059655-0003', '125000', '395218-0001', '145645-0003', '251755-0005', '558018', '034320-0001', '150002', '116000', '270889-0003', '024306-0003', '617006', '283903-0002', '616009', '125001', '012047-0002', '171877-0002', '035993-0002', '187008', '143001', '632001', '087368-0001', '487005', '652003', '138000', '131002', '144000', '294978-0003', '136000', '229100-0003', '229100-0004', '650003', '138009', '145006', '148003', '290238-0004', '193257-0002', '655004', '309258-0001', '644006', '652002', '085009-0004', '607011', '652016', '184290-0002', '124008', '103878-0002', '124001', '654007', '138110-0002', '114000', '130647-0001', '046500-0001', '275595-0001', '146010', '014764-0001', '343813-0001', '138002', '149002', '086914-0002', '354474-0001', '061721-0002', '217747-0003', '604009', '224117-0002', '042530-0001', '042530-0003', '654012', '538002', '604004', '538005', '314938-0001', '618001', '489007', '487008', '329807-0003', '653007', '618011', '189005', '192001', '136009', '606009', '136002', '536006', '148006', '147004', '536002', '651010', '604000', '353891-0002', '191001', '487011', '629002', '647015', '650008', '178726-0006', '490021', '124003', '487013', '650007', '146000', '135003', '125012', '647016', '649009', '148009', '061079-0001', '147001', '114007', '653006', '606008', '643010', '129011', '631006', '024306-0002', '287360-0006', '206303-0004', '132010', '186235-0001', '346563-0003', '137011', '227515-0003', '632000', '116008', '642000', '126000', '654003', '131003', '362073-0001', '193002', '538006', '545002', '116003', '149007', '185011', '116006', '189009', '186006', '655009', '137003', '642003', '491002', '191011', '030430-0001', '138001', '186007', '332068-0001', '189001', '536009', '188004', '537002', '185008', '632005', '210875-0002', '139008', '147011', '325741-0004', '537007', '104703-0003', '193004', '650005', '114001', '646005', '607015', '189008', '089136-0002', '131011', '125006', '188382-0002', '264993-0003', '165032-0003', '178726-0001', '645004', '652013', '185006', '143003', '488006', '346563-0002', '346563-0005', '135007', '188003', '139152-0004', '558012', '128011', '491012', '652010', '142005', '489009', '299524-0001', '357217-0001', '241108-0002', '558008', '191007', '283903-0003', '147015', '235190-0003', '490006', '005760-0001', '139011', '607014', '101864-0001', '214912-0003', '299169-0002', '125011', '115007', '558014', '490004', '647013', '536003', '652017', '034995-0001', '605003', '487007', '145000', '618007', '486007', '656007', '189002', '255757-0002', '490015', '490005', '655003', '148014', '145002', '646000', '656001', '187007', '140012', '629003', '649006', '488009', '146820-0001', '490016', '229100-0007', '606003', '085009-0002', '133003', '612012', '334808-0001', '287360-0007', '607016', '129008', '058878-0003', '139152-0002', '651009', '211933-0003', '101864-0002', '124007', '341750-0003', '039173-0002', '192008', '124004', '545011', '011806-0001', '138249-0001', '129009', '616008', '126007', '256677-0003', '128005', '644007', '655001', '048644-0001', '257735-0001', '646002', '488008', '605000', '116002', '652015', '137005', '642015', '646012', '194001', '042085-0001', '132009', '126008', '185010', '325330-0003', '185000', '654011', '144001', '329807-0002', '653002', '039173-0001', '487001', '485001', '115002', '174824-0001', '645005', '153921-0003', '150005', '616010', '143007', '536001', '486006', '558001', '138004', '643013', '131010', '139000', '125002', '225861-0002', '194003', '369608-0001', '252791-0002', '618006', '489011', '491004', '216281-0008', '149010', '080814-0001', '389298-0003', '325741-0001', '374344-0001', '651004', '607003', '649004', '135000', '103519-0003', '537010', '486003', '647004', '200566-0003', '048644-0003', '191014', '618015', '605001', '137008', '487003', '642006', '135002', '235190-0002', '171877-0003', '329807-0001', '618013', '538007', '140010', '537001', '490012', '129012', '107608-0002', '558000', '147008', '647002', '034995-0002', '389298-0004', '188002', '056408-0002', '256677-0004', '115005', '118668-0006', '251755-0002', '558019', '652012', '038523-0001', '129005', '141010', '616004', '254908-0003', '142013', '217747-0001', '147003', '486009', '199045-0002', '229100-0005', '132004', '488003', '185007', '139002', '087368-0003', '629007', '618003', '335490-0001', '192003', '646010', '653005', '211933-0002', '489015', '128003', '294978-0002', '488000', '149012', '268952-0001', '128808-0004', '537006', '002317-0002', '115010', '186003', '607009', '643005', '140000', '148011', '130216-0001', '189000', '045972-0002', '189007', '303728-0001', '005760-0003', '643007', '629005', '489002', '124002', '245928-0004', '187003', '128008', '144004', '199045-0001', '059655-0002', '145645-0002', '001325-0003', '545005', '648017', '537005', '158285-0001', '132005', '142003', '605002', '187163-0001', '314880-0001', '343813-0005', '139012', '141000', '257735-0003', '045972-0003', '034858-0001', '101864-0003', '307170-0002', '604003', '127001', '114002', '396046-0002', '190000', '150004', '605006', '140008', '025516-0001', '028996-0003', '223040-0001', '191006', '131965-0002', '605009', '653004', '604011', '606010', '035993-0003', '137001', '193257-0001', '141009', '135006', '189011', '538011', '216281-0002', '185002', '649010', '126005', '140004', '296357-0001', '125009', '028996-0001', '185003', '314880-0003', '354474-0002', '290238-0001', '538015', '174824-0002', '136008', '142001', '616001', '268952-0004', '150003', '125010', '014764-0002', '618002', '537008', '250878-0002', '129007', '210875-0004', '138249-0002', '001325-0002', '129006', '648009', '129003', '122564-0003', '487002', '165032-0002', '171877-0001', '047891-0001', '606002', '190004', '617007', '538017', '645014', '122514-0002', '048644-0004', '127000', '138010', '654005', '138110-0001', '142012', '186005', '083563-0001', '085009-0003', '175434-0001', '048201-0004', '607005', '124000', '178726-0002', '005265-0001', '631001', '489010', '325330-0001', '606006', '629006', '607013', '140013', '142009', '645007', '491010', '250878-0001', '139006', '616013', '488011', '313126-0001', '125003', '486010', '357217-0003', '060396-0001', '152281-0001', '294978-0001', '116013', '652009', '354555-0002', '251755-0001', '131001', '545000', '127006', '384229-0001', '334928-0002', '485000', '143006', '606005', '187006', '629001', '652007', '005760-0002', '165032-0001', '616011', '185009', '136006', '143012', '136001', '341750-0004', '648013', '649007', '080814-0002', '147007', '124012', '618016', '061721-0001', '263909-0004', '314024-0001', '012047-0001', '210875-0003', '216281-0006', '146014', '145005', '649005', '642002', '353891-0001', '642001', '654013', '128000', '341750-0005', '169610-0001', '485008', '646006', '086914-0001', '631003', '022273-0001', '487012', '558021', '146005', '146001', '140006', '630003', '354555-0001', '491011', '606011', '131006', '241108-0001', '191004', '146820-0002', '257735-0002', '171877-0004', '647017', '210153-0002', '142008', '648001', '141005', '656005', '642009', '131012', '217747-0002', '652005', '395640-0001', '392826-0001', '353891-0004', '392826-0003', '545012', '648003', '114004', '034320-0002', '227515-0002', '490019', '254908-0002', '287360-0002', '143010', '128009', '558015', '245928-0003', '490000', '648016', '287360-0003', '650004', '118679-0003', '604013', '126012', '309258-0002', '632006', '374344-0008', '129002', '025516-0003', '490018', '140007', '171255-0001', '651008', '302465-0002', '128002', '042085-0002', '181696-0002', '369608-0002', '235190-0004', '654006', '486011', '185012', '103519-0001', '118668-0001', '656004', '652011', '227605-0001', '538016', '650000', '616007', '089136-0001', '087368-0004', '143011', '116005', '150000', '139004', '124005', '025894-0005', '132006', '374344-0004', '147005', '133012', '124006', '060396-0002', '181696-0001', '185013', '630001', '643000', '178726-0008', '325741-0003', '644009', '137002', '604008', '488002'}\n"
     ]
    }
   ],
   "source": [
    "print (key)\n",
    "print (len(set(framework2cid2parse['ucca'].keys())-set(framework2id2mrp_jsons['ucca'].keys())))\n",
    "print (set(framework2cid2parse['ucca'].keys())-set(framework2id2mrp_jsons['ucca'].keys()))"
   ]
  },
  {
   "cell_type": "code",
   "execution_count": 122,
   "metadata": {
    "scrolled": true
   },
   "outputs": [
    {
     "data": {
      "text/plain": [
       "[['1', '5', '5', 'NUM', 'CD', '_', '2', 'nummod', '_', 'TokenRange=0:1'],\n",
       " ['2',\n",
       "  'star',\n",
       "  'star',\n",
       "  'NOUN',\n",
       "  'NN',\n",
       "  '_',\n",
       "  '4',\n",
       "  'compound',\n",
       "  '_',\n",
       "  'TokenRange=2:6'],\n",
       " ['3',\n",
       "  'detail',\n",
       "  'detail',\n",
       "  'NOUN',\n",
       "  'NN',\n",
       "  '_',\n",
       "  '4',\n",
       "  'compound',\n",
       "  '_',\n",
       "  'TokenRange=7:13'],\n",
       " ['4', 'job', 'job', 'NOUN', 'NN', '_', '0', 'root', '_', 'TokenRange=14:17']]"
      ]
     },
     "execution_count": 122,
     "metadata": {},
     "output_type": "execute_result"
    }
   ],
   "source": [
    "framework2cid2parse['ucca']['140302-0001']"
   ]
  },
  {
   "cell_type": "code",
   "execution_count": 121,
   "metadata": {},
   "outputs": [
    {
     "data": {
      "text/plain": [
       "{'id': 'reviews-140302-0001',\n",
       " 'flavor': 1,\n",
       " 'framework': 'ucca',\n",
       " 'version': 0.9,\n",
       " 'time': '2019-04-11 (22:03)',\n",
       " 'input': '5 star detail job',\n",
       " 'tops': [5],\n",
       " 'nodes': [{'id': 0, 'anchors': [{'from': 0, 'to': 1}], 'label': '5'},\n",
       "  {'id': 1, 'anchors': [{'from': 2, 'to': 6}], 'label': 'star'},\n",
       "  {'id': 2, 'anchors': [{'from': 7, 'to': 13}], 'label': 'detail'},\n",
       "  {'id': 3, 'anchors': [{'from': 14, 'to': 17}], 'label': 'job'},\n",
       "  {'id': 4},\n",
       "  {'id': 5},\n",
       "  {'id': 6}],\n",
       " 'edges': [{'source': 6, 'target': 2, 'label': 'D'},\n",
       "  {'source': 5, 'target': 6, 'label': 'H'},\n",
       "  {'source': 4, 'target': 0, 'label': 'Q'},\n",
       "  {'source': 6, 'target': 3, 'label': 'P'},\n",
       "  {'source': 4, 'target': 1, 'label': 'C'},\n",
       "  {'source': 6, 'target': 4, 'label': 'D'}]}"
      ]
     },
     "execution_count": 121,
     "metadata": {},
     "output_type": "execute_result"
    }
   ],
   "source": [
    "framework2id2mrp_jsons['ucca'][\"140302-0001\"]\n"
   ]
  },
  {
   "cell_type": "code",
   "execution_count": 104,
   "metadata": {},
   "outputs": [],
   "source": [
    "for key in framework2id2mrp_jsons['ucca']:\n",
    "    if \"Hepburn\" in framework2id2mrp_jsons['ucca'][key]['input']:\n",
    "        print (framework2id2mrp_jsons['ucca'][key]['input'])\n",
    "        print (\"found!\")\n",
    "        break"
   ]
  },
  {
   "cell_type": "code",
   "execution_count": 118,
   "metadata": {},
   "outputs": [
    {
     "name": "stdout",
     "output_type": "stream",
     "text": [
      "amr\n",
      "87\n",
      "{'20003019', '20009003', '20003020', '20004002', '20005001', '20003011', '20004009', '20003015', '20011004', '20008006', '20003021', '20003002', '20004017', '20003013', '20011008', '20003024', '20004010', '20003007', '20003027', '20008001', '20009001', '20010015', '20004011', '20011002', '20003001', '20012002', '20007002', '20003009', '20010010', '20004005', '20010008', '20010006', '20010020', '20004008', '20007003', '20008005', '20003026', '20003003', '20003018', '20005003', '20008003', '20009002', '20003022', '20010003', '20003008', '20004004', '20003016', '20004015', '20008002', '20010011', '20003023', '20004016', '20010013', '20004006', '20003005', '20003025', '20003014', '20004007', '20011007', '20005002', '20010018', '20011006', '20004012', '20011005', '20008004', '20001001', '20003010', '20007004', '20003029', '20010019', '20004001', '20010002', '20010001', '20010012', '20012005', '20010017', '20003028', '20012004', '20003012', '20004014', '20003017', '20003030', '20011001', '20001002', '20010007', '20009004', '20010016'}\n",
      "eds\n",
      "0\n",
      "set()\n",
      "psd\n",
      "0\n",
      "set()\n",
      "ucca\n",
      "0\n",
      "set()\n",
      "dm\n",
      "0\n",
      "set()\n"
     ]
    }
   ],
   "source": [
    "for key in framework2id2mrp_jsons:\n",
    "    print (key)\n",
    "    print (len(set(framework2id2mrp_jsons[key].keys())-set(framework2cid2parse[key].keys())))\n",
    "    print (set(framework2id2mrp_jsons[key].keys())-set(framework2cid2parse[key].keys()))"
   ]
  },
  {
   "cell_type": "markdown",
   "metadata": {},
   "source": [
    "### Visualization"
   ]
  },
  {
   "cell_type": "code",
   "execution_count": null,
   "metadata": {},
   "outputs": [],
   "source": [
    "HIDE_FIELD_SET = set(['anchors', 'source', 'target', 'label'])"
   ]
  },
  {
   "cell_type": "code",
   "execution_count": null,
   "metadata": {},
   "outputs": [],
   "source": [
    "def add_nodes_to_directed_graph(nodes, dg):\n",
    "    for node in nodes:\n",
    "        node_id = node.get('id', -1)\n",
    "        dg.add_node(node_id)\n",
    "        info_texts = [node.get('label', '')] + [str((key[:3], value)) for key, value in node.items() if key not in HIDE_FIELD_SET]\n",
    "        dg.nodes[node_id]['label'] = '\\n'.join(info_texts)\n",
    "#         for key, value in node.items():\n",
    "#             dg.nodes[node_id][key] = value"
   ]
  },
  {
   "cell_type": "code",
   "execution_count": null,
   "metadata": {},
   "outputs": [],
   "source": [
    "def add_edges_to_directed_graph(edges, dg):\n",
    "    for edge in edges:\n",
    "        edge_source = edge.get('source', -1)\n",
    "        edge_target = edge.get('target', -1)\n",
    "        dg.add_edge(edge_source, edge_target)\n",
    "        info_texts = [edge.get('label', '')] + [str((key[:3], value)) for key, value in edge.items() if key not in HIDE_FIELD_SET]\n",
    "        dg[edge_source][edge_target]['label'] = '\\n'.join(info_texts)\n",
    "#         for key, value in edge.items():\n",
    "#             dg[edge_source][edge_target][key] = value"
   ]
  },
  {
   "cell_type": "code",
   "execution_count": null,
   "metadata": {},
   "outputs": [],
   "source": [
    "def mrp_json_to_directed_graph(mrp_json):\n",
    "    dg = nx.DiGraph()\n",
    "    nodes = mrp_json.get('nodes', [])\n",
    "    edges = mrp_json.get('edges', [])\n",
    "    add_nodes_to_directed_graph(nodes, dg)\n",
    "    add_edges_to_directed_graph(edges, dg)\n",
    "    return dg"
   ]
  },
  {
   "cell_type": "code",
   "execution_count": null,
   "metadata": {},
   "outputs": [],
   "source": [
    "figure(num=None, figsize=(4, 4), dpi=500, facecolor='w', edgecolor='k')"
   ]
  },
  {
   "cell_type": "code",
   "execution_count": null,
   "metadata": {},
   "outputs": [],
   "source": [
    "def draw_graphviz(mrp_json, dataset_dir):\n",
    "    mrp_id = mrp_json.get('id', UNKWOWN)\n",
    "    dg = mrp_json_to_directed_graph(mrp_json)\n",
    "    save_name = os.path.join(dataset_dir, mrp_id)\n",
    "    dg2graphviz_image(dg, save_name)"
   ]
  },
  {
   "cell_type": "code",
   "execution_count": null,
   "metadata": {},
   "outputs": [],
   "source": [
    "def dg2graphviz_image(dg, save_name, layout='dot', verbose=0):\n",
    "    ag = to_agraph(dg)\n",
    "    ag.layout(layout)\n",
    "    image_name = '{}.png'.format(save_name)\n",
    "    ag.draw(image_name)\n",
    "    if verbose and USING_IPYTHON:\n",
    "        pil_im = Image.open(image_name, 'r')\n",
    "        plt.imshow(pil_im)"
   ]
  },
  {
   "cell_type": "code",
   "execution_count": null,
   "metadata": {},
   "outputs": [],
   "source": [
    "# draw_graphviz(mrp_json, './')"
   ]
  },
  {
   "cell_type": "code",
   "execution_count": null,
   "metadata": {
    "scrolled": true
   },
   "outputs": [],
   "source": [
    "# for framework in tqdm(frameworks, desc='frameworks'):\n",
    "#     framework_dir = os.path.join(train_dir, framework)\n",
    "#     dataset_names = os.listdir(framework_dir)\n",
    "#     graphviz_framework_dir = os.path.join(args.graphviz_dir, framework)\n",
    "#     os.makedirs(graphviz_framework_dir, exist_ok=True)\n",
    "    \n",
    "#     dataset2mrp_jsons = framework2dataset2mrp_jsons[framework]\n",
    "#     for dataset, mrp_jsons in tqdm(dataset2mrp_jsons.items(), desc='dataset_name'):\n",
    "#         graphviz_dataset_dir = os.path.join(graphviz_framework_dir, dataset)\n",
    "#         os.makedirs(graphviz_dataset_dir, exist_ok=True)\n",
    "#         for mrp_json in mrp_jsons:\n",
    "#             draw_graphviz(mrp_json, graphviz_dataset_dir)"
   ]
  },
  {
   "cell_type": "code",
   "execution_count": null,
   "metadata": {},
   "outputs": [],
   "source": []
  },
  {
   "cell_type": "code",
   "execution_count": null,
   "metadata": {
    "scrolled": true
   },
   "outputs": [],
   "source": [
    "framework2dataset2mrp_jsons.keys()"
   ]
  },
  {
   "cell_type": "code",
   "execution_count": null,
   "metadata": {
    "scrolled": true
   },
   "outputs": [],
   "source": [
    "mrp_json = framework2dataset2mrp_jsons['dm']['wsj.mrp'][1]\n",
    "mrp_json_id = mrp_json['id']\n",
    "pprint (mrp_json)"
   ]
  },
  {
   "cell_type": "code",
   "execution_count": null,
   "metadata": {},
   "outputs": [],
   "source": [
    "mrp_json_id"
   ]
  },
  {
   "cell_type": "code",
   "execution_count": null,
   "metadata": {},
   "outputs": [],
   "source": []
  },
  {
   "cell_type": "code",
   "execution_count": null,
   "metadata": {},
   "outputs": [],
   "source": [
    "dg = mrp_json_to_directed_graph(mrp_json)\n",
    "ag = to_agraph(dg)\n",
    "ag.layout('dot')\n",
    "image_name = './tmp.png'\n",
    "ag.draw(image_name)\n",
    "# if USING_IPYTHON:\n",
    "#     pil_im = Image.open(image_name, 'r')\n",
    "#     plt.figure(figsize=(50,50)) \n",
    "#     plt.imshow(pil_im)"
   ]
  },
  {
   "cell_type": "markdown",
   "metadata": {},
   "source": [
    "![title](./tmp.png)"
   ]
  },
  {
   "cell_type": "code",
   "execution_count": null,
   "metadata": {},
   "outputs": [],
   "source": [
    "\\\n"
   ]
  },
  {
   "cell_type": "markdown",
   "metadata": {},
   "source": [
    "### Interactive drawing using plotly"
   ]
  },
  {
   "cell_type": "code",
   "execution_count": null,
   "metadata": {},
   "outputs": [],
   "source": [
    "# prog list: neato, dot, twopi, circo, fdp, nop, wc, acyclic, gvpr, gvcolor, ccomps, sccmap, tred, sfdp, unflatten\n",
    "poss = nx.nx_agraph.graphviz_layout(dg, prog='dot')"
   ]
  },
  {
   "cell_type": "code",
   "execution_count": null,
   "metadata": {},
   "outputs": [],
   "source": [
    "def info_dict2plotly_text(info_dict):\n",
    "    key_value_texts = []\n",
    "    for key, value in info_dict.items():\n",
    "        key_value_texts.append('{}: {}'.format(key, value))\n",
    "    return '<br />'.join(key_value_texts)"
   ]
  },
  {
   "cell_type": "code",
   "execution_count": null,
   "metadata": {},
   "outputs": [],
   "source": [
    "# Draw Edge\n",
    "edge_trace = go.Scatter(\n",
    "    x=[],\n",
    "    y=[],\n",
    "    text=[],\n",
    "    line=dict(width=0.5,color='#888'),\n",
    "    hoverinfo='none',\n",
    "    mode='lines')\n",
    "\n",
    "for source, target in dg.edges():\n",
    "    x0, y0 = poss[source]\n",
    "    x1, y1 = poss[target]\n",
    "    edge_trace['x'] += tuple([x0, x1, None])\n",
    "    edge_trace['y'] += tuple([y0, y1, None])\n",
    "    \n",
    "# Draw Edge info node\n",
    "edge_info_node_trace = go.Scatter(\n",
    "    x=[],\n",
    "    y=[],\n",
    "    text=[],\n",
    "    hovertext=[],\n",
    "    mode='markers+text',\n",
    "    hoverinfo='text',\n",
    "    marker=dict(\n",
    "        color=[],\n",
    "        size=10,\n",
    "        opacity=0.01,\n",
    "        colorbar=dict(\n",
    "            thickness=15,\n",
    "            title='Node Connections',\n",
    "            xanchor='left',\n",
    "            titleside='right',\n",
    "        ),\n",
    "        line=dict(width=2)))\n",
    "\n",
    "for source, target in dg.edges():\n",
    "    x0, y0 = poss[source]\n",
    "    x1, y1 = poss[target]\n",
    "    edge_info_node_trace['x'] += tuple([(x0 + x1) / 2])\n",
    "    edge_info_node_trace['y'] += tuple([(y0 + y1) / 2])\n",
    "    edge_info_node_trace['text'] += tuple([dg[source][target].get('label')])\n",
    "    edge_info_node_trace['hovertext'] += tuple([info_dict2plotly_text(dg[source][target])])\n",
    "\n",
    "    \n",
    "# Draw Node\n",
    "node_trace = go.Scatter(\n",
    "    x=[],\n",
    "    y=[],\n",
    "    text=[],\n",
    "    hovertext=[],\n",
    "    mode='markers+text',\n",
    "    hoverinfo='text',\n",
    "    marker=dict(\n",
    "        showscale=True,\n",
    "        # colorscale options\n",
    "        #'Greys' | 'YlGnBu' | 'Greens' | 'YlOrRd' | 'Bluered' | 'RdBu' |\n",
    "        #'Reds' | 'Blues' | 'Picnic' | 'Rainbow' | 'Portland' | 'Jet' |\n",
    "        #'Hot' | 'Blackbody' | 'Earth' | 'Electric' | 'Viridis' |\n",
    "        colorscale='YlGnBu',\n",
    "        reversescale=True,\n",
    "        color=[],\n",
    "        size=0.5,\n",
    "        colorbar=dict(\n",
    "            thickness=15,\n",
    "            title='Node Connections',\n",
    "            xanchor='left',\n",
    "            titleside='right'\n",
    "        ),\n",
    "        line=dict(width=2)))\n",
    "\n",
    "for node in dg.nodes():\n",
    "    x, y = poss[node]\n",
    "    node_trace['x'] += tuple([x])\n",
    "    node_trace['y'] += tuple([y])\n",
    "    node_trace['text'] += tuple(['{} ({})'.format(dg.nodes[node].get('label'), dg.nodes[node].get('values', [''])[0])])\n",
    "    node_trace['hovertext'] += tuple([info_dict2plotly_text(dg.nodes[node])])\n",
    "    \n",
    "# for node, adjacencies in enumerate(dg.adjacency()):\n",
    "#     node_trace['marker']['color']+=tuple([len(adjacencies[1])])\n",
    "#     node_info = '# of connections: '+str(len(adjacencies[1]))\n",
    "#     node_trace['text']+=tuple([node_info])"
   ]
  },
  {
   "cell_type": "code",
   "execution_count": null,
   "metadata": {},
   "outputs": [],
   "source": [
    "fig = go.Figure(\n",
    "    data=[edge_trace, node_trace, edge_info_node_trace],\n",
    "    layout=go.Layout(\n",
    "    title='<br>Network graph made with Python',\n",
    "    titlefont=dict(size=16),\n",
    "    showlegend=False,\n",
    "    hovermode='closest',\n",
    "    margin=dict(b=20,l=5,r=5,t=40),\n",
    "    annotations=[ dict(\n",
    "        text=\"\"\"\n",
    "        Python code: <a href='https://plot.ly/ipython-notebooks/network-graphs/'> \n",
    "        https://plot.ly/ipython-notebooks/network-graphs/</a>\"\"\",\n",
    "        showarrow=False,\n",
    "        xref=\"paper\", yref=\"paper\",\n",
    "        x=0.005, y=-0.002 ) ],\n",
    "    xaxis=dict(showgrid=False, zeroline=False, showticklabels=False),\n",
    "    yaxis=dict(showgrid=False, zeroline=False, showticklabels=False)))\n",
    "\n",
    "iplot(fig, filename='networkx')\n",
    "print(mrp_json.get('input'))"
   ]
  },
  {
   "cell_type": "code",
   "execution_count": null,
   "metadata": {},
   "outputs": [],
   "source": []
  },
  {
   "cell_type": "code",
   "execution_count": null,
   "metadata": {},
   "outputs": [],
   "source": []
  }
 ],
 "metadata": {
  "kernelspec": {
   "display_name": "Python 3",
   "language": "python",
   "name": "python3"
  },
  "language_info": {
   "codemirror_mode": {
    "name": "ipython",
    "version": 3
   },
   "file_extension": ".py",
   "mimetype": "text/x-python",
   "name": "python",
   "nbconvert_exporter": "python",
   "pygments_lexer": "ipython3",
   "version": "3.6.8"
  }
 },
 "nbformat": 4,
 "nbformat_minor": 2
}
