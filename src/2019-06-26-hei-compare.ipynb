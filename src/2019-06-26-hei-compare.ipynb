{
 "cells": [
  {
   "cell_type": "code",
   "execution_count": 1,
   "metadata": {},
   "outputs": [],
   "source": [
    "try:\n",
    "    __IPYTHON__\n",
    "    USING_IPYTHON = True\n",
    "except NameError:\n",
    "    USING_IPYTHON = False"
   ]
  },
  {
   "cell_type": "markdown",
   "metadata": {},
   "source": [
    "#### Argparse"
   ]
  },
  {
   "cell_type": "code",
   "execution_count": 2,
   "metadata": {},
   "outputs": [],
   "source": [
    "import argparse\n",
    "ap = argparse.ArgumentParser()\n",
    "ap.add_argument('mrp_data_dir', help='')\n",
    "ap.add_argument('--train-sub-dir', default='training', help='')\n",
    "ap.add_argument('--graphviz-dir', default='../graphviz', help='')\n",
    "ap.add_argument('--companion-sub-dir', default='../mrp-companion/2019/companion')\n",
    "ap.add_argument('--mrp-file-extension', default='.mrp')\n",
    "ap.add_argument('--companion-file-extension', default='.conllu')\n",
    "arg_string = \"\"\"\n",
    "    ../data/\n",
    "\"\"\"\n",
    "arguments = [arg for arg_line in arg_string.split(r'\\\\n') for arg in arg_line.split()]"
   ]
  },
  {
   "cell_type": "code",
   "execution_count": 3,
   "metadata": {},
   "outputs": [],
   "source": [
    "if USING_IPYTHON:\n",
    "    args = ap.parse_args(arguments)\n",
    "else:\n",
    "    args = ap.parse_args()"
   ]
  },
  {
   "cell_type": "code",
   "execution_count": 4,
   "metadata": {},
   "outputs": [
    {
     "data": {
      "text/plain": [
       "Namespace(companion_file_extension='.conllu', companion_sub_dir='../mrp-companion/2019/companion', graphviz_dir='../graphviz', mrp_data_dir='../data/', mrp_file_extension='.mrp', train_sub_dir='training')"
      ]
     },
     "execution_count": 4,
     "metadata": {},
     "output_type": "execute_result"
    }
   ],
   "source": [
    "args"
   ]
  },
  {
   "cell_type": "markdown",
   "metadata": {},
   "source": [
    "#### Library imports"
   ]
  },
  {
   "cell_type": "code",
   "execution_count": 5,
   "metadata": {},
   "outputs": [],
   "source": [
    "import json\n",
    "import logging\n",
    "import os\n",
    "\n",
    "from PIL import Image\n",
    "from matplotlib.pyplot import figure\n",
    "from networkx.drawing.nx_agraph import to_agraph\n",
    "from tqdm import tqdm\n",
    "import matplotlib.pyplot as plt\n",
    "import networkx as nx\n",
    "import numpy as np\n",
    "import plotly.graph_objs as go\n",
    "from pprint import pprint\n",
    "import string"
   ]
  },
  {
   "cell_type": "markdown",
   "metadata": {},
   "source": [
    "#### ipython notebook specific imports"
   ]
  },
  {
   "cell_type": "code",
   "execution_count": 6,
   "metadata": {},
   "outputs": [
    {
     "data": {
      "text/html": [
       "<script type=\"text/javascript\">window.PlotlyConfig = {MathJaxConfig: 'local'};</script><script type=\"text/javascript\">if (window.MathJax) {MathJax.Hub.Config({SVG: {font: \"STIX-Web\"}});}</script><script>requirejs.config({paths: { 'plotly': ['https://cdn.plot.ly/plotly-latest.min']},});if(!window._Plotly) {require(['plotly'],function(plotly) {window._Plotly=plotly;});}</script>"
      ],
      "text/vnd.plotly.v1+html": [
       "<script type=\"text/javascript\">window.PlotlyConfig = {MathJaxConfig: 'local'};</script><script type=\"text/javascript\">if (window.MathJax) {MathJax.Hub.Config({SVG: {font: \"STIX-Web\"}});}</script><script>requirejs.config({paths: { 'plotly': ['https://cdn.plot.ly/plotly-latest.min']},});if(!window._Plotly) {require(['plotly'],function(plotly) {window._Plotly=plotly;});}</script>"
      ]
     },
     "metadata": {},
     "output_type": "display_data"
    }
   ],
   "source": [
    "if USING_IPYTHON:\n",
    "    # matplotlib config\n",
    "    %matplotlib inline\n",
    "    \n",
    "    # ipython notebook plotly config\n",
    "    from plotly.offline import download_plotlyjs, init_notebook_mode, plot, iplot\n",
    "    init_notebook_mode(connected=True)\n",
    "else:\n",
    "    from plotly.plotly import plot, iplot"
   ]
  },
  {
   "cell_type": "code",
   "execution_count": 7,
   "metadata": {},
   "outputs": [],
   "source": [
    "logging.basicConfig(level=logging.INFO, handlers=[logging.StreamHandler()])\n",
    "logger = logging.getLogger(__name__)  # pylint: disable=invalid-name\n",
    "logger.setLevel(logging.INFO)"
   ]
  },
  {
   "cell_type": "markdown",
   "metadata": {},
   "source": [
    "### Constants"
   ]
  },
  {
   "cell_type": "code",
   "execution_count": 8,
   "metadata": {},
   "outputs": [],
   "source": [
    "UNKWOWN = 'UNKWOWN'"
   ]
  },
  {
   "cell_type": "markdown",
   "metadata": {},
   "source": [
    "### Load data"
   ]
  },
  {
   "cell_type": "code",
   "execution_count": 9,
   "metadata": {},
   "outputs": [
    {
     "data": {
      "text/plain": [
       "['amr', 'eds', 'psd', 'ucca', 'dm']"
      ]
     },
     "execution_count": 9,
     "metadata": {},
     "output_type": "execute_result"
    }
   ],
   "source": [
    "train_dir = os.path.join(args.mrp_data_dir, args.train_sub_dir)\n",
    "frameworks = [sub_dir for sub_dir in os.listdir(train_dir) if os.path.isdir(os.path.join(train_dir, sub_dir))]\n",
    "frameworks"
   ]
  },
  {
   "cell_type": "code",
   "execution_count": 10,
   "metadata": {
    "scrolled": true
   },
   "outputs": [
    {
     "name": "stderr",
     "output_type": "stream",
     "text": [
      "frameworks:   0%|          | 0/5 [00:00<?, ?it/s]\n",
      "dataset_name:   0%|          | 0/14 [00:00<?, ?it/s]\u001b[A\n",
      "dataset_name:   7%|▋         | 1/14 [00:00<00:03,  3.91it/s]\u001b[A\n",
      "dataset_name:  36%|███▌      | 5/14 [00:00<00:01,  5.31it/s]\u001b[A\n",
      "dataset_name:  57%|█████▋    | 8/14 [00:00<00:00,  6.87it/s]\u001b[A\n",
      "dataset_name:  71%|███████▏  | 10/14 [00:00<00:00,  6.67it/s]\u001b[A\n",
      "dataset_name:  86%|████████▌ | 12/14 [00:02<00:00,  2.84it/s]\u001b[A\n",
      "frameworks:  20%|██        | 1/5 [00:02<00:10,  2.54s/it]t/s]\u001b[A\n",
      "dataset_name:   0%|          | 0/1 [00:00<?, ?it/s]\u001b[A\n",
      "dataset_name: 100%|██████████| 1/1 [00:05<00:00,  5.84s/it]\u001b[A\n",
      "frameworks:  40%|████      | 2/5 [00:08<00:10,  3.54s/it]\n",
      "dataset_name:   0%|          | 0/1 [00:00<?, ?it/s]\u001b[A\n",
      "dataset_name: 100%|██████████| 1/1 [00:03<00:00,  3.79s/it]\u001b[A\n",
      "frameworks:  60%|██████    | 3/5 [00:12<00:07,  3.62s/it]\n",
      "dataset_name:   0%|          | 0/2 [00:00<?, ?it/s]\u001b[A\n",
      "dataset_name:  50%|█████     | 1/2 [00:00<00:00,  5.15it/s]\u001b[A\n",
      "dataset_name: 100%|██████████| 2/2 [00:00<00:00,  4.99it/s]\u001b[A\n",
      "frameworks:  80%|████████  | 4/5 [00:12<00:02,  2.66s/it]\n",
      "dataset_name:   0%|          | 0/1 [00:00<?, ?it/s]\u001b[A\n",
      "dataset_name: 100%|██████████| 1/1 [00:04<00:00,  4.67s/it]\u001b[A\n",
      "frameworks: 100%|██████████| 5/5 [00:17<00:00,  3.27s/it]\n"
     ]
    }
   ],
   "source": [
    "framework2dataset2mrp_jsons = {}\n",
    "framework2id2mrp_jsons = {}\n",
    "#id2mrp_jsons = {}\n",
    "for framework in tqdm(frameworks, desc='frameworks'):\n",
    "    dataset2mrp_jsons = {}\n",
    "    id2mrp_jsons_perFram = {}\n",
    "    framework_dir = os.path.join(train_dir, framework)\n",
    "    dataset_names = os.listdir(framework_dir)\n",
    "    \n",
    "    for dataset_name in tqdm(dataset_names, desc='dataset_name'):\n",
    "        mrp_jsons = []\n",
    "        if not dataset_name.endswith(args.mrp_file_extension):\n",
    "            continue\n",
    "        with open(os.path.join(framework_dir, dataset_name)) as rf:\n",
    "            for line in rf:\n",
    "                mrp_json = json.loads(line.strip())\n",
    "                if framework == 'ucca' and 'nodes' in mrp_json and 'input' in mrp_json:\n",
    "                    input_text = mrp_json['input']\n",
    "                    nodes = mrp_json['nodes']\n",
    "                    for i, node in enumerate(nodes):\n",
    "                        if 'anchors' not in node:\n",
    "                            continue\n",
    "                        text_segments = []\n",
    "                        for anchor in node['anchors']:\n",
    "                            text_segments.append(input_text[anchor.get('from', -1): anchor.get('to', -1)])\n",
    "                        mrp_json['nodes'][i]['label'] = ''.join(text_segments)\n",
    "                        \n",
    "                mrp_jsons.append(mrp_json)\n",
    "                if mrp_json['id'].startswith(\"reviews-\"):\n",
    "                    id2mrp_jsons_perFram[mrp_json['id'][8:]] = mrp_json\n",
    "                else:\n",
    "                    id2mrp_jsons_perFram[mrp_json['id']] = mrp_json\n",
    "                #id2mrp_jsons[mrp_json['id']] = mrp_json\n",
    "        dataset_name = dataset_name.split('.')[0]\n",
    "        dataset2mrp_jsons[dataset_name] = mrp_jsons\n",
    "    framework2dataset2mrp_jsons[framework] = dataset2mrp_jsons\n",
    "    framework2id2mrp_jsons[framework] = id2mrp_jsons_perFram"
   ]
  },
  {
   "cell_type": "code",
   "execution_count": 11,
   "metadata": {},
   "outputs": [
    {
     "name": "stderr",
     "output_type": "stream",
     "text": [
      "INFO:__main__:amr\n",
      "INFO:__main__:['lorelei', 'bolt', 'wiki', 'mt09sdl', 'rte', 'cctv', 'xinhua', 'amr-guidelines', 'proxy', 'wsj', 'dfb', 'dfa', 'fables', 'wb']\n",
      "INFO:__main__:eds\n",
      "INFO:__main__:['wsj']\n",
      "INFO:__main__:psd\n",
      "INFO:__main__:['wsj']\n",
      "INFO:__main__:ucca\n",
      "INFO:__main__:['wiki', 'ewt']\n",
      "INFO:__main__:dm\n",
      "INFO:__main__:['wsj']\n"
     ]
    }
   ],
   "source": [
    "for framework in framework2dataset2mrp_jsons:\n",
    "    logger.info(framework)\n",
    "    logger.info(list(framework2dataset2mrp_jsons[framework].keys()))"
   ]
  },
  {
   "cell_type": "markdown",
   "metadata": {},
   "source": [
    "### Load companion"
   ]
  },
  {
   "cell_type": "code",
   "execution_count": 12,
   "metadata": {},
   "outputs": [
    {
     "name": "stderr",
     "output_type": "stream",
     "text": [
      "dataset:  38%|███▊      | 5/13 [00:00<00:00, 48.03it/s]"
     ]
    },
    {
     "name": "stdout",
     "output_type": "stream",
     "text": [
      "amr\n",
      "rte.conllu\n",
      "fables.conllu\n",
      "amr-guidelines.conllu\n",
      "cctv.conllu\n",
      "wb.conllu\n",
      "dfa.conllu\n"
     ]
    },
    {
     "name": "stderr",
     "output_type": "stream",
     "text": [
      "\r",
      "dataset:  54%|█████▍    | 7/13 [00:00<00:00, 19.63it/s]"
     ]
    },
    {
     "name": "stdout",
     "output_type": "stream",
     "text": [
      "wiki.conllu\n",
      "bolt.conllu\n",
      "xinhua.conllu\n",
      "dfb.conllu\n"
     ]
    },
    {
     "name": "stderr",
     "output_type": "stream",
     "text": [
      "dataset:  85%|████████▍ | 11/13 [00:01<00:00,  6.96it/s]"
     ]
    },
    {
     "name": "stdout",
     "output_type": "stream",
     "text": [
      "proxy.conllu\n",
      "mt09sdl.conllu\n"
     ]
    },
    {
     "name": "stderr",
     "output_type": "stream",
     "text": [
      "dataset: 100%|██████████| 13/13 [00:01<00:00,  8.05it/s]\n",
      "dataset:   0%|          | 0/6 [00:00<?, ?it/s]"
     ]
    },
    {
     "name": "stdout",
     "output_type": "stream",
     "text": [
      "lorelei.conllu\n",
      ".DS_Store\n",
      "ucca\n",
      "ewt04.conllu\n",
      "ewt00.conllu\n",
      "ewt02.conllu\n",
      "wiki.conllu\n"
     ]
    },
    {
     "name": "stderr",
     "output_type": "stream",
     "text": [
      "dataset: 100%|██████████| 6/6 [00:01<00:00,  3.62it/s]\n",
      "dataset:   0%|          | 0/5 [00:00<?, ?it/s]"
     ]
    },
    {
     "name": "stdout",
     "output_type": "stream",
     "text": [
      "ewt01.conllu\n",
      "ewt03.conllu\n",
      "Makefile\n",
      "udpipe.mrp\n",
      "jamr.mrp\n",
      "dm\n",
      "wsj04.conllu\n"
     ]
    },
    {
     "name": "stderr",
     "output_type": "stream",
     "text": [
      "\r",
      "dataset:  20%|██        | 1/5 [00:00<00:01,  3.87it/s]"
     ]
    },
    {
     "name": "stdout",
     "output_type": "stream",
     "text": [
      "wsj02.conllu\n"
     ]
    },
    {
     "name": "stderr",
     "output_type": "stream",
     "text": [
      "\r",
      "dataset:  40%|████      | 2/5 [00:00<00:00,  3.85it/s]"
     ]
    },
    {
     "name": "stdout",
     "output_type": "stream",
     "text": [
      "wsj00.conllu\n"
     ]
    },
    {
     "name": "stderr",
     "output_type": "stream",
     "text": [
      "\r",
      "dataset:  60%|██████    | 3/5 [00:00<00:00,  3.88it/s]"
     ]
    },
    {
     "name": "stdout",
     "output_type": "stream",
     "text": [
      "wsj03.conllu\n"
     ]
    },
    {
     "name": "stderr",
     "output_type": "stream",
     "text": [
      "\r",
      "dataset:  80%|████████  | 4/5 [00:01<00:00,  3.87it/s]"
     ]
    },
    {
     "name": "stdout",
     "output_type": "stream",
     "text": [
      "wsj01.conllu\n"
     ]
    },
    {
     "name": "stderr",
     "output_type": "stream",
     "text": [
      "\r",
      "dataset: 100%|██████████| 5/5 [00:01<00:00,  3.87it/s]"
     ]
    },
    {
     "name": "stdout",
     "output_type": "stream",
     "text": [
      "README.txt\n",
      "isi.mrp\n"
     ]
    },
    {
     "name": "stderr",
     "output_type": "stream",
     "text": [
      "\n"
     ]
    }
   ],
   "source": [
    "dataset2cid2parse = {}\n",
    "framework2cid2parse = {}\n",
    "cid2parse = {}\n",
    "for framework in os.listdir(args.companion_sub_dir):\n",
    "    print (framework)\n",
    "    framework_dir = os.path.join(args.companion_sub_dir, framework)\n",
    "    if not os.path.isdir(framework_dir):\n",
    "        continue\n",
    "    cid2parse_perFram = {}\n",
    "    for dataset in tqdm(os.listdir(framework_dir), desc='dataset'):\n",
    "        if not dataset.endswith(args.companion_file_extension):\n",
    "            continue\n",
    "        dataset_name = dataset.split('.')[0].rstrip(string.digits)\n",
    "        cid2parse_perDataset = {}\n",
    "        print (dataset)\n",
    "        with open(os.path.join(framework_dir, dataset)) as rf:\n",
    "            parse = []\n",
    "            for line in rf:\n",
    "                line = line.strip()\n",
    "                if not line:\n",
    "                    cid2parse_perDataset[cid] = parse\n",
    "                    cid2parse_perFram[cid] = parse\n",
    "                    cid2parse[cid] = parse\n",
    "                    parse = []\n",
    "                    cid = ''\n",
    "                elif line.startswith('#'):\n",
    "                    cid = line[1:]\n",
    "                else:\n",
    "                    parse.append(line.split('\\t'))\n",
    "        dataset2cid2parse[dataset_name] = cid2parse_perDataset\n",
    "    framework2cid2parse[framework] = cid2parse_perFram\n",
    "    if framework=='dm':\n",
    "        framework2cid2parse['psd'] = cid2parse_perFram\n",
    "        framework2cid2parse['eds'] = cid2parse_perFram"
   ]
  },
  {
   "cell_type": "code",
   "execution_count": 13,
   "metadata": {},
   "outputs": [
    {
     "data": {
      "text/plain": [
       "dict_keys(['amr', 'eds', 'psd', 'ucca', 'dm'])"
      ]
     },
     "execution_count": 13,
     "metadata": {},
     "output_type": "execute_result"
    }
   ],
   "source": [
    "framework2dataset2mrp_jsons.keys()"
   ]
  },
  {
   "cell_type": "code",
   "execution_count": 14,
   "metadata": {
    "scrolled": true
   },
   "outputs": [
    {
     "data": {
      "text/plain": [
       "(129,\n",
       " 'Last year Commonwealth Edison had to refund $ 72.7 million for poor performance of its LaSalle I nuclear plant .',\n",
       " [['1', 'Last', 'last', 'ADJ', 'JJ', '_', '2', 'amod', '_', 'TokenRange=0:4'],\n",
       "  ['2',\n",
       "   'year',\n",
       "   'year',\n",
       "   'NOUN',\n",
       "   'NN',\n",
       "   '_',\n",
       "   '5',\n",
       "   'obl:tmod',\n",
       "   '_',\n",
       "   'TokenRange=5:9'],\n",
       "  ['3',\n",
       "   'Commonwealth',\n",
       "   'Commonwealth',\n",
       "   'PROPN',\n",
       "   'NNP',\n",
       "   '_',\n",
       "   '4',\n",
       "   'compound',\n",
       "   '_',\n",
       "   'TokenRange=10:22'],\n",
       "  ['4',\n",
       "   'Edison',\n",
       "   'Edison',\n",
       "   'PROPN',\n",
       "   'NNP',\n",
       "   '_',\n",
       "   '5',\n",
       "   'nsubj',\n",
       "   '_',\n",
       "   'TokenRange=23:29'],\n",
       "  ['5',\n",
       "   'had',\n",
       "   'have',\n",
       "   'VERB',\n",
       "   'VBD',\n",
       "   '_',\n",
       "   '0',\n",
       "   'root',\n",
       "   '_',\n",
       "   'TokenRange=30:33'],\n",
       "  ['6', 'to', 'to', 'PART', 'TO', '_', '7', 'mark', '_', 'TokenRange=34:36'],\n",
       "  ['7',\n",
       "   'refund',\n",
       "   'refund',\n",
       "   'VERB',\n",
       "   'VB',\n",
       "   '_',\n",
       "   '5',\n",
       "   'xcomp',\n",
       "   '_',\n",
       "   'TokenRange=37:43'],\n",
       "  ['8', '$', '$', 'SYM', '$', '_', '7', 'obj', '_', 'TokenRange=44:45'],\n",
       "  ['9',\n",
       "   '72.7',\n",
       "   '72.7',\n",
       "   'NUM',\n",
       "   'CD',\n",
       "   '_',\n",
       "   '10',\n",
       "   'compound',\n",
       "   '_',\n",
       "   'TokenRange=45:49'],\n",
       "  ['10',\n",
       "   'million',\n",
       "   'million',\n",
       "   'NUM',\n",
       "   'CD',\n",
       "   '_',\n",
       "   '8',\n",
       "   'nummod',\n",
       "   '_',\n",
       "   'TokenRange=50:57'],\n",
       "  ['11',\n",
       "   'for',\n",
       "   'for',\n",
       "   'ADP',\n",
       "   'IN',\n",
       "   '_',\n",
       "   '13',\n",
       "   'case',\n",
       "   '_',\n",
       "   'TokenRange=58:61'],\n",
       "  ['12',\n",
       "   'poor',\n",
       "   'poor',\n",
       "   'ADJ',\n",
       "   'JJ',\n",
       "   '_',\n",
       "   '13',\n",
       "   'amod',\n",
       "   '_',\n",
       "   'TokenRange=62:66'],\n",
       "  ['13',\n",
       "   'performance',\n",
       "   'performance',\n",
       "   'NOUN',\n",
       "   'NN',\n",
       "   '_',\n",
       "   '7',\n",
       "   'obl',\n",
       "   '_',\n",
       "   'TokenRange=67:78'],\n",
       "  ['14', 'of', 'of', 'ADP', 'IN', '_', '19', 'case', '_', 'TokenRange=79:81'],\n",
       "  ['15',\n",
       "   'its',\n",
       "   'its',\n",
       "   'PRON',\n",
       "   'PRP$',\n",
       "   '_',\n",
       "   '19',\n",
       "   'nmod:poss',\n",
       "   '_',\n",
       "   'TokenRange=82:85'],\n",
       "  ['16',\n",
       "   'LaSalle',\n",
       "   'LaSalle',\n",
       "   'PROPN',\n",
       "   'NNP',\n",
       "   '_',\n",
       "   '19',\n",
       "   'compound',\n",
       "   '_',\n",
       "   'TokenRange=86:93'],\n",
       "  ['17',\n",
       "   'I',\n",
       "   'I',\n",
       "   'PROPN',\n",
       "   'NNP',\n",
       "   '_',\n",
       "   '19',\n",
       "   'compound',\n",
       "   '_',\n",
       "   'TokenRange=94:95'],\n",
       "  ['18',\n",
       "   'nuclear',\n",
       "   'nuclear',\n",
       "   'ADJ',\n",
       "   'JJ',\n",
       "   '_',\n",
       "   '19',\n",
       "   'amod',\n",
       "   '_',\n",
       "   'TokenRange=96:103'],\n",
       "  ['19',\n",
       "   'plant',\n",
       "   'plant',\n",
       "   'NOUN',\n",
       "   'NN',\n",
       "   '_',\n",
       "   '13',\n",
       "   'nmod',\n",
       "   '_',\n",
       "   'TokenRange=104:109'],\n",
       "  ['20',\n",
       "   '.',\n",
       "   '.',\n",
       "   'PUNCT',\n",
       "   '.',\n",
       "   '_',\n",
       "   '5',\n",
       "   'punct',\n",
       "   '_',\n",
       "   'TokenRange=109:110']])"
      ]
     },
     "execution_count": 14,
     "metadata": {},
     "output_type": "execute_result"
    }
   ],
   "source": [
    "dataset = 'wsj'\n",
    "framework = 'dm'\n",
    "mrp_index = 128\n",
    "parse = None\n",
    "while not parse:\n",
    "    mrp_index += 1\n",
    "    cid = framework2dataset2mrp_jsons[framework][dataset][mrp_index]['id']\n",
    "    parse = dataset2cid2parse[dataset].get(cid)\n",
    "    \n",
    "(mrp_index, ' '.join([word_record[1] for word_record in parse]), parse)"
   ]
  },
  {
   "cell_type": "code",
   "execution_count": 15,
   "metadata": {},
   "outputs": [
    {
     "data": {
      "text/plain": [
       "'20015024'"
      ]
     },
     "execution_count": 15,
     "metadata": {},
     "output_type": "execute_result"
    }
   ],
   "source": [
    "cid"
   ]
  },
  {
   "cell_type": "code",
   "execution_count": 16,
   "metadata": {},
   "outputs": [
    {
     "data": {
      "text/plain": [
       "{'id': '20015024',\n",
       " 'flavor': 0,\n",
       " 'framework': 'dm',\n",
       " 'version': 0.9,\n",
       " 'time': '2019-04-10 (20:16)',\n",
       " 'input': 'Last year Commonwealth Edison had to refund $72.7 million for poor performance of its LaSalle I nuclear plant.',\n",
       " 'tops': [4],\n",
       " 'nodes': [{'id': 0,\n",
       "   'label': 'last',\n",
       "   'properties': ['pos', 'frame'],\n",
       "   'values': ['JJ', 'q:i-h-h'],\n",
       "   'anchors': [{'from': 0, 'to': 4}]},\n",
       "  {'id': 1,\n",
       "   'label': 'year',\n",
       "   'properties': ['pos', 'frame'],\n",
       "   'values': ['NN', 'n:x'],\n",
       "   'anchors': [{'from': 5, 'to': 9}]},\n",
       "  {'id': 2,\n",
       "   'label': 'Commonwealth',\n",
       "   'properties': ['pos', 'frame'],\n",
       "   'values': ['NNP', 'named:x-c'],\n",
       "   'anchors': [{'from': 10, 'to': 22}]},\n",
       "  {'id': 3,\n",
       "   'label': 'Edison',\n",
       "   'properties': ['pos', 'frame'],\n",
       "   'values': ['NNP', 'named:x-c'],\n",
       "   'anchors': [{'from': 23, 'to': 29}]},\n",
       "  {'id': 4,\n",
       "   'label': 'have',\n",
       "   'properties': ['pos', 'frame'],\n",
       "   'values': ['VBD', 'v_qmodal:e-h'],\n",
       "   'anchors': [{'from': 30, 'to': 33}]},\n",
       "  {'id': 6,\n",
       "   'label': 'refund',\n",
       "   'properties': ['pos', 'frame'],\n",
       "   'values': ['VB', 'v:e-i-p'],\n",
       "   'anchors': [{'from': 37, 'to': 43}]},\n",
       "  {'id': 7,\n",
       "   'label': '$',\n",
       "   'properties': ['pos', 'frame'],\n",
       "   'values': ['$', 'n:x'],\n",
       "   'anchors': [{'from': 44, 'to': 45}]},\n",
       "  {'id': 8,\n",
       "   'label': '72.7',\n",
       "   'properties': ['pos', 'frame'],\n",
       "   'values': ['CD', 'card:i-i-c'],\n",
       "   'anchors': [{'from': 45, 'to': 49}]},\n",
       "  {'id': 9,\n",
       "   'label': 'million',\n",
       "   'properties': ['pos', 'frame'],\n",
       "   'values': ['CD', 'card:i-i-c'],\n",
       "   'anchors': [{'from': 50, 'to': 57}]},\n",
       "  {'id': 10,\n",
       "   'label': 'for',\n",
       "   'properties': ['pos', 'frame'],\n",
       "   'values': ['IN', 'p:e-u-i'],\n",
       "   'anchors': [{'from': 58, 'to': 61}]},\n",
       "  {'id': 11,\n",
       "   'label': 'poor',\n",
       "   'properties': ['pos', 'frame'],\n",
       "   'values': ['JJ', 'a:e-p'],\n",
       "   'anchors': [{'from': 62, 'to': 66}]},\n",
       "  {'id': 12,\n",
       "   'label': 'performance',\n",
       "   'properties': ['pos', 'frame'],\n",
       "   'values': ['NN', 'n:x'],\n",
       "   'anchors': [{'from': 67, 'to': 78}]},\n",
       "  {'id': 13,\n",
       "   'label': 'of',\n",
       "   'properties': ['pos', 'frame'],\n",
       "   'values': ['IN', 'p:e-x-i'],\n",
       "   'anchors': [{'from': 79, 'to': 81}]},\n",
       "  {'id': 14,\n",
       "   'label': 'its',\n",
       "   'properties': ['pos', 'frame'],\n",
       "   'values': ['PRP$', 'q:i-h-h'],\n",
       "   'anchors': [{'from': 82, 'to': 85}]},\n",
       "  {'id': 15,\n",
       "   'label': 'LaSalle',\n",
       "   'properties': ['pos', 'frame'],\n",
       "   'values': ['NNP', 'named:x-c'],\n",
       "   'anchors': [{'from': 86, 'to': 93}]},\n",
       "  {'id': 16,\n",
       "   'label': 'I',\n",
       "   'properties': ['pos', 'frame'],\n",
       "   'values': ['PRP', 'named:x-c'],\n",
       "   'anchors': [{'from': 94, 'to': 95}]},\n",
       "  {'id': 17,\n",
       "   'label': 'nuclear',\n",
       "   'properties': ['pos', 'frame'],\n",
       "   'values': ['JJ', 'a:e-p'],\n",
       "   'anchors': [{'from': 96, 'to': 103}]},\n",
       "  {'id': 18,\n",
       "   'label': 'plant',\n",
       "   'properties': ['pos', 'frame'],\n",
       "   'values': ['NN', 'n:x'],\n",
       "   'anchors': [{'from': 104, 'to': 109}]}],\n",
       " 'edges': [{'source': 13, 'target': 18, 'label': 'ARG2'},\n",
       "  {'source': 6, 'target': 3, 'label': 'ARG1'},\n",
       "  {'source': 11, 'target': 12, 'label': 'ARG1'},\n",
       "  {'source': 10, 'target': 12, 'label': 'ARG2'},\n",
       "  {'source': 9, 'target': 7, 'label': 'ARG1'},\n",
       "  {'source': 1, 'target': 4, 'label': 'loc'},\n",
       "  {'source': 0, 'target': 1, 'label': 'ARG1'},\n",
       "  {'source': 14, 'target': 18, 'label': 'poss'},\n",
       "  {'source': 6, 'target': 7, 'label': 'ARG2'},\n",
       "  {'source': 17, 'target': 18, 'label': 'ARG1'},\n",
       "  {'source': 13, 'target': 12, 'label': 'ARG1'},\n",
       "  {'source': 15, 'target': 16, 'label': 'compound'},\n",
       "  {'source': 16, 'target': 18, 'label': 'compound'},\n",
       "  {'source': 4, 'target': 6, 'label': 'ARG1'},\n",
       "  {'source': 2, 'target': 3, 'label': 'compound'},\n",
       "  {'source': 10, 'target': 6, 'label': 'ARG1'},\n",
       "  {'source': 8, 'target': 9, 'label': 'times'}]}"
      ]
     },
     "execution_count": 16,
     "metadata": {},
     "output_type": "execute_result"
    }
   ],
   "source": [
    "framework2dataset2mrp_jsons[framework][dataset][mrp_index]"
   ]
  },
  {
   "cell_type": "code",
   "execution_count": 17,
   "metadata": {
    "scrolled": true
   },
   "outputs": [
    {
     "name": "stdout",
     "output_type": "stream",
     "text": [
      "last year Commonwealth Edison have refund $ 72.7 million for poor performance of its LaSalle I nuclear plant\n",
      "http://localhost:8000/tree/proj29_ds1/home/slai/mrp/graphviz/dm/wsj.mrp/20015024.png\n"
     ]
    }
   ],
   "source": [
    "print(' '.join([\n",
    "    node.get('label', '') \n",
    "    for node in sorted(framework2dataset2mrp_jsons[framework][dataset][mrp_index]['nodes'], key=lambda x:x['id'])\n",
    "]))\n",
    "print('http://localhost:8000/tree/proj29_ds1/home/slai/mrp/graphviz/{}/{}.mrp/{}.png'.format(framework, dataset, cid))"
   ]
  },
  {
   "cell_type": "code",
   "execution_count": 18,
   "metadata": {
    "scrolled": true
   },
   "outputs": [
    {
     "name": "stdout",
     "output_type": "stream",
     "text": [
      "amr\n",
      "56236\n",
      "eds\n",
      "35656\n",
      "psd\n",
      "35656\n",
      "ucca\n",
      "4939\n",
      "dm\n",
      "35656\n"
     ]
    }
   ],
   "source": [
    "for key in framework2id2mrp_jsons:\n",
    "    print (key)\n",
    "    print (len(framework2id2mrp_jsons[key].keys()))\n",
    "    "
   ]
  },
  {
   "cell_type": "code",
   "execution_count": 19,
   "metadata": {
    "scrolled": true
   },
   "outputs": [
    {
     "name": "stdout",
     "output_type": "stream",
     "text": [
      "amr\n",
      "56149\n",
      "ucca\n",
      "6485\n",
      "dm\n",
      "35656\n",
      "psd\n",
      "35656\n",
      "eds\n",
      "35656\n"
     ]
    }
   ],
   "source": [
    "for key in framework2cid2parse:\n",
    "    print (key)\n",
    "    print (len(framework2cid2parse[key].keys()))\n",
    "    "
   ]
  },
  {
   "cell_type": "code",
   "execution_count": 20,
   "metadata": {},
   "outputs": [
    {
     "name": "stdout",
     "output_type": "stream",
     "text": [
      "eds\n",
      "1546\n",
      "{'652018', '606001', '125000', '357217-0003', '642015', '354474-0002', '085009-0004', '152281-0001', '363428-0003', '138249-0001', '175434-0001', '616000', '396046-0001', '141001', '114009', '130647-0002', '656005', '325330-0003', '604015', '143009', '287360-0006', '618011', '607011', '652007', '229100-0002', '604016', '193257-0002', '038523-0003', '148016', '653004', '652008', '148006', '651005', '142006', '125004', '257735-0002', '655007', '129012', '314938-0001', '148011', '616007', '488003', '128011', '210153-0004', '143001', '146008', '647006', '264993-0002', '538012', '118668-0004', '486000', '607002', '059655-0001', '235190-0003', '649007', '189007', '131000', '648012', '137000', '392826-0003', '491005', '536006', '275595-0003', '217747-0002', '616003', '630007', '488008', '652013', '143011', '190001', '059685-0001', '122514-0002', '536008', '652014', '654000', '140014', '335490-0001', '343813-0003', '644008', '487011', '124005', '150004', '035993-0001', '263909-0001', '130647-0003', '118668-0001', '142002', '354474-0005', '124007', '185012', '536000', '294978-0001', '616013', '130216-0002', '140002', '341750-0003', '538017', '048644-0001', '654007', '211709-0001', '336305-0001', '644003', '648002', '489005', '645008', '642009', '616004', '314880-0003', '146004', '649006', '618016', '148012', '651009', '491007', '140001', '617003', '538015', '606010', '129007', '558005', '142007', '647000', '128013', '537004', '538006', '028996-0003', '607012', '336285-0001', '537003', '115005', '605001', '652000', '374344-0004', '101864-0003', '144007', '127002', '118679-0003', '148002', '060396-0002', '606005', '192007', '653005', '152281-0002', '146014', '605007', '133002', '343813-0001', '252791-0001', '648013', '118668-0006', '263909-0002', '206303-0004', '651001', '144005', '631006', '487004', '148008', '024306-0002', '647003', '490014', '114002', '193009', '188002', '005760-0003', '653000', '149005', '037179-0002', '277703-0001', '647015', '604013', '149009', '616009', '140009', '135000', '047891-0001', '149006', '643003', '128808-0003', '537002', '302465-0005', '137001', '649002', '139000', '178726-0006', '618013', '028996-0002', '188001', '146820-0001', '014764-0003', '192004', '490008', '250878-0002', '192001', '631007', '194000', '171255-0002', '005760-0004', '135009', '299169-0003', '059655-0003', '631003', '264993-0003', '333628-0001', '080814-0002', '133004', '058878-0001', '142008', '030430-0004', '138110-0001', '558024', '487014', '268952-0004', '384229-0003', '374344-0006', '025894-0002', '650002', '144008', '650008', '270889-0001', '116002', '146820-0003', '336285-0003', '643012', '486004', '136002', '653006', '630000', '148019', '136000', '144009', '126007', '652015', '644004', '216281-0002', '346074-0001', '486010', '143007', '486009', '188382-0001', '146015', '125014', '314024-0002', '488001', '490007', '651002', '136004', '125017', '216281-0001', '227515-0004', '087368-0002', '650006', '206303-0003', '606007', '185011', '490005', '489007', '145645-0002', '193000', '654002', '290238-0002', '354555-0002', '545011', '147010', '286172-0002', '216281-0006', '647011', '136009', '126006', '210875-0001', '149012', '538001', '645003', '139007', '089136-0001', '268952-0001', '646011', '538002', '642014', '294978-0003', '138001', '191015', '255757-0002', '287360-0003', '175434-0002', '210153-0001', '646012', '005265-0001', '485010', '147011', '283903-0001', '193002', '604007', '651003', '038523-0001', '270889-0003', '618003', '558002', '646007', '140010', '645000', '115010', '124003', '363482-0001', '192006', '114007', '252791-0003', '618023', '616014', '656002', '290238-0004', '617010', '313126-0001', '189005', '005265-0002', '149003', '137011', '137005', '485007', '489012', '187001', '125012', '189006', '654013', '132005', '030430-0002', '652020', '287360-0002', '191013', '153921-0001', '486012', '139152-0002', '346563-0003', '643006', '122564-0002', '227605-0001', '618004', '142001', '486008', '325741-0003', '125015', '034320-0004', '116005', '487008', '124492-0001', '395218-0002', '225861-0002', '538005', '147006', '607015', '485008', '643001', '171877-0003', '538004', '647002', '142003', '132000', '194003', '138008', '054269-0001', '136011', '171877-0001', '645007', '118668-0003', '046500-0001', '307170-0003', '125001', '329807-0003', '127006', '606006', '190007', '545001', '132008', '146005', '374344-0002', '558013', '147012', '137006', '131003', '155050-0001', '039173-0002', '617006', '187163-0001', '648017', '128808-0001', '150000', '133001', '537007', '558010', '135003', '214912-0003', '178726-0005', '545002', '656001', '212369-0001', '642013', '647014', '127003', '025894-0003', '646000', '490021', '616001', '618018', '346563-0002', '652019', '558006', '617004', '604012', '124000', '229100-0008', '485003', '275595-0002', '644007', '125010', '649010', '169610-0001', '646005', '138004', '107608-0001', '133009', '617001', '002317-0001', '186000', '136003', '185003', '085009-0003', '649000', '187163-0002', '646004', '042085-0002', '210153-0003', '558019', '632008', '118668-0005', '035993-0002', '343813-0002', '126003', '107608-0003', '257735-0003', '061721-0001', '630005', '558014', '648008', '030395-0004', '148010', '140012', '488006', '489009', '014764-0002', '618021', '171120-0001', '645010', '192000', '362073-0001', '487010', '653003', '153921-0004', '489015', '148000', '181696-0003', '147004', '354474-0003', '116003', '335490-0003', '187000', '127007', '654012', '654001', '125009', '642016', '264993-0001', '606004', '115004', '224117-0002', '630011', '309258-0002', '335490-0002', '137007', '643013', '343813-0004', '141006', '136006', '257735-0001', '139152-0001', '125016', '354474-0004', '128808-0002', '186008', '642001', '390330-0001', '141010', '631002', '189003', '604014', '131008', '650003', '617012', '629006', '537006', '116006', '268952-0002', '653001', '655009', '256677-0001', '087368-0001', '181696-0001', '606003', '165032-0003', '651008', '487012', '192399-0002', '149014', '147002', '186005', '545005', '490003', '144010', '652009', '491006', '146010', '187163-0003', '229100-0006', '536007', '545012', '114004', '607001', '211933-0002', '537009', '124004', '163250-0004', '147003', '171255-0001', '235190-0001', '169610-0003', '270889-0002', '210875-0004', '299524-0001', '643002', '656006', '192002', '131007', '129011', '193006', '193003', '606008', '140004', '644005', '644006', '141009', '089136-0002', '147001', '158285-0001', '656000', '148001', '629005', '346563-0005', '146013', '309258-0003', '131965-0001', '558000', '618001', '254908-0002', '129001', '140008', '147013', '148015', '650001', '035993-0003', '056408-0001', '190000', '193004', '232278-0001', '145005', '617000', '132010', '642002', '148005', '346563-0001', '145002', '144003', '131965-0002', '129000', '139014', '149013', '046500-0002', '114008', '190006', '652017', '646001', '616006', '229442-0003', '193001', '060396-0001', '042085-0004', '048201-0002', '388121-0001', '605002', '351950-0001', '225861-0004', '605008', '193257-0001', '363428-0001', '126134-0001', '631001', '646009', '206303-0005', '374344-0005', '124010', '131012', '607008', '129004', '169610-0002', '022273-0002', '490002', '148009', '166983-0001', '125013', '189008', '086914-0001', '314024-0001', '126011', '189009', '283903-0002', '034995-0002', '630004', '148013', '128000', '536001', '186003', '227515-0001', '133006', '137008', '145645-0003', '489008', '025894-0005', '191001', '485005', '135005', '652003', '133011', '486005', '304759-0002', '141003', '538011', '631000', '129002', '206303-0002', '558023', '656003', '137002', '146012', '643000', '617002', '537001', '604006', '605009', '343813-0006', '652006', '351950-0002', '034995-0001', '141002', '146007', '490018', '163250-0001', '648007', '186007', '536010', '266955-0002', '643011', '255757-0001', '605004', '545008', '618020', '122564-0001', '149008', '184290-0002', '646003', '558001', '214912-0004', '131001', '187002', '153921-0002', '140006', '128006', '488012', '163250-0003', '392826-0001', '487003', '139005', '632001', '128002', '034858-0001', '241108-0002', '187004', '630008', '115008', '124001', '341750-0005', '618009', '650000', '045972-0002', '346563-0006', '648011', '138010', '491009', '186001', '604004', '184290-0001', '645015', '048201-0003', '143000', '343336-0002', '607003', '607000', '136008', '618014', '048644-0003', '607016', '229100-0001', '616012', '192009', '059655-0002', '225861-0001', '490015', '124009', '335490-0005', '629001', '185006', '194004', '146003', '325741-0004', '607014', '618019', '363482-0002', '148003', '286172-0003', '137004', '490012', '303728-0001', '490009', '256677-0002', '139013', '137003', '141004', '131006', '002288-0001', '314711-0001', '206303-0001', '485004', '131009', '618022', '357217-0002', '132001', '193257-0003', '538016', '353891-0002', '647010', '191012', '132002', '645011', '080814-0003', '488004', '536011', '124012', '001325-0001', '647001', '188003', '283903-0003', '185004', '487013', '129005', '654008', '210875-0002', '374344-0003', '245928-0004', '369608-0003', '647016', '200566-0002', '487005', '538007', '138005', '141005', '647008', '200566-0001', '642005', '536002', '191002', '629000', '131005', '489001', '138249-0002', '341750-0001', '124492-0002', '251755-0003', '491000', '646002', '558011', '604011', '188005', '605000', '329807-0002', '140005', '389298-0002', '058009-0001', '648006', '646006', '334928-0001', '252791-0002', '135006', '128808-0004', '645001', '357217-0001', '186002', '101864-0001', '219984-0001', '395640-0001', '193007', '487000', '118679-0001', '341750-0002', '130647-0001', '132011', '490017', '294978-0002', '135002', '643004', '652012', '655004', '130216-0001', '653002', '028996-0001', '186006', '131010', '139010', '210875-0003', '642012', '142005', '146006', '014764-0001', '118668-0002', '147009', '334808-0001', '335490-0004', '651010', '191006', '139004', '644001', '002317-0003', '607006', '341750-0004', '374344-0007', '488005', '115007', '148017', '116012', '606002', '489014', '217747-0001', '654009', '048644-0002', '133010', '649009', '131002', '054269-0002', '649003', '605005', '329807-0001', '165032-0001', '647007', '307170-0001', '286172-0001', '207348-0001', '212369-0003', '607005', '126086-0001', '148007', '629010', '025516-0003', '256677-0003', '642008', '235190-0004', '045972-0001', '138009', '630001', '287360-0007', '558004', '163250-0002', '139011', '607007', '644010', '343813-0005', '643009', '185002', '650004', '214912-0002', '558015', '125002', '644009', '617011', '645009', '132006', '030430-0001', '138007', '005760-0001', '644002', '116004', '302465-0002', '604008', '189010', '189001', '538000', '642000', '607013', '124011', '313126-0002', '140003', '395640-0002', '174824-0001', '558018', '537000', '034320-0003', '263909-0004', '489011', '114005', '485009', '061079-0001', '275595-0001', '223040-0001', '126010', '103519-0003', '086914-0002', '263909-0003', '389298-0003', '545004', '189011', '618006', '127008', '138011', '616002', '131004', '145003', '135010', '489004', '295935-0001', '648009', '142010', '129003', '188382-0003', '143005', '150001', '650007', '087368-0004', '353891-0003', '545006', '022273-0001', '648003', '491004', '545009', '129008', '192008', '486002', '148018', '144000', '061721-0004', '143002', '649012', '136010', '606000', '012047-0003', '644000', '153921-0003', '024306-0003', '141000', '191014', '645012', '089136-0003', '363428-0002', '103878-0002', '042530-0003', '042530-0001', '229100-0007', '329807-0004', '087368-0003', '103878-0001', '558009', '485001', '395218-0001', '652016', '139006', '185001', '490006', '618002', '374344-0001', '396046-0002', '136005', '178726-0002', '132003', '191005', '189012', '485006', '142009', '558021', '149004', '630002', '648014', '256677-0005', '629004', '264993-0004', '122564-0003', '486003', '024306-0001', '617008', '178726-0008', '250878-0001', '124013', '646008', '642004', '490010', '489013', '104703-0002', '147007', '314880-0002', '139152-0003', '127001', '107608-0004', '491008', '487009', '296357-0001', '226715-0001', '217747-0003', '643010', '642011', '325741-0002', '241108-0003', '030395-0003', '389298-0004', '143012', '124008', '618008', '558020', '487002', '147008', '487007', '193005', '652005', '126012', '171877-0002', '185010', '128012', '118679-0002', '129013', '191010', '538014', '083563-0001', '185013', '146001', '143004', '012047-0001', '341750-0006', '136001', '061721-0002', '025894-0001', '149002', '038523-0002', '083563-0003', '357217-0005', '490001', '389298-0001', '343336-0001', '126002', '144001', '187008', '336285-0002', '645006', '128004', '126000', '241108-0004', '135007', '101864-0002', '332068-0001', '607004', '558003', '649001', '225861-0003', '654003', '618017', '001325-0002', '346563-0004', '085009-0001', '139002', '537011', '142011', '149010', '211933-0003', '199045-0001', '192003', '178726-0007', '012047-0002', '122564-0004', '558008', '115001', '115006', '104703-0003', '145001', '655005', '287360-0001', '606009', '648001', '655003', '536004', '254908-0003', '604009', '604001', '194002', '133008', '138012', '655002', '618010', '538003', '114006', '369608-0001', '649004', '140000', '129010', '191000', '127005', '138110-0002', '655001', '129009', '654004', '149007', '648015', '629003', '251755-0002', '191009', '144006', '190005', '632006', '648005', '654011', '216281-0005', '115009', '334928-0002', '617009', '142004', '143006', '116008', '654006', '631004', '491010', '630009', '114003', '488009', '251755-0004', '302465-0004', '139152-0004', '131013', '002317-0002', '146002', '200668-0001', '226715-0002', '126001', '116001', '325741-0001', '186235-0002', '042530-0004', '116011', '011806-0001', '224117-0001', '124002', '216281-0008', '489002', '353891-0001', '145645-0001', '649005', '491003', '048644-0005', '647012', '649011', '642007', '374344-0008', '030395-0001', '143010', '487001', '643005', '651004', '191004', '128003', '058878-0003', '199045-0002', '545000', '632005', '266955-0001', '647013', '142000', '536005', '652004', '192399-0001', '138249-0003', '604000', '299169-0002', '287360-0005', '290238-0003', '001325-0004', '486011', '489000', '632007', '165032-0002', '147014', '025894-0004', '537008', '229442-0002', '629009', '616011', '302465-0001', '178726-0003', '325330-0002', '200668-0002', '150002', '618025', '126005', '189002', '537010', '185009', '618024', '034320-0002', '148004', '616010', '191008', '632002', '651006', '229442-0001', '127004', '188000', '536009', '025516-0002', '537012', '142012', '005760-0002', '136007', '116013', '192399-0003', '083563-0002', '325330-0001', '115000', '646010', '145006', '120724-0001', '645004', '061721-0003', '363428-0004', '618015', '185005', '604010', '653007', '133012', '133007', '346074-0002', '216281-0003', '145000', '139003', '140007', '190003', '392826-0002', '139008', '174824-0002', '190004', '132004', '604002', '245928-0003', '214912-0001', '488002', '642003', '146009', '135004', '146011', '648004', '488000', '125018', '137010', '558012', '191007', '148014', '241108-0001', '654005', '229100-0005', '648016', '116000', '536012', '155050-0002', '630006', '647005', '289763-0001', '128009', '191011', '145007', '538013', '491011', '129006', '558007', '181696-0002', '149000', '085009-0002', '139009', '042085-0001', '116009', '537013', '143003', '097548-0001', '133005', '651007', '128001', '048201-0004', '185000', '147005', '126009', '116007', '042530-0002', '188382-0002', '648000', '178726-0001', '116010', '604003', '088954-0001', '147000', '137012', '648010', '245928-0002', '185008', '617007', '314880-0001', '558017', '490019', '647009', '101864-0004', '191003', '142013', '189004', '354474-0001', '491012', '647017', '187007', '142014', '655008', '178726-0004', '034858-0002', '653008', '491001', '629008', '229100-0004', '128008', '384229-0001', '140011', '643008', '632003', '645014', '545007', '193008', '251755-0005', '137009', '632000', '187005', '171877-0004', '124006', '545003', '037179-0001', '606011', '138002', '103519-0002', '299169-0001', '655006', '125011', '211933-0001', '125006', '488007', '369608-0002', '489010', '001325-0003', '490022', '652011', '045972-0003', '034320-0001', '490004', '604005', '107608-0002', '652010', '133000', '618000', '212369-0002', '538009', '307170-0002', '275595-0004', '490013', '485000', '607010', '645002', '651000', '081116-0001', '125008', '132009', '235190-0002', '200566-0003', '128005', '147015', '538008', '485002', '126008', '649008', '122514-0001', '612012', '080814-0001', '227515-0002', '128007', '186004', '114001', '490023', '487006', '047891-0002', '187006', '643007', '227515-0003', '149011', '217747-0004', '290238-0001', '354555-0001', '042085-0003', '126004', '558016', '150003', '327867-0001', '056408-0002', '617005', '186235-0001', '545010', '133003', '139012', '140013', '538010', '138006', '216281-0004', '135001', '115002', '025516-0001', '144004', '126134-0002', '302465-0003', '128010', '149001', '245928-0001', '486007', '631005', '607009', '384229-0002', '490000', '652001', '125003', '125007', '150005', '647004', '125005', '616005', '618012', '630003', '139001', '104703-0001', '650005', '114000', '138000', '309258-0001', '488010', '605006', '618007', '216281-0007', '558022', '030395-0002', '642006', '645005', '058878-0002', '353891-0004', '304759-0001', '616008', '655000', '187003', '392826-0004', '188004', '141008', '490020', '654010', '254908-0001', '192399-0004', '652002', '210153-0002', '645013', '251755-0001', '192005', '048201-0001', '489006', '629002', '145004', '656007', '630010', '144002', '491002', '194001', '135008', '486006', '486001', '132007', '632004', '103519-0001', '287360-0004', '332068-0002', '256677-0004', '656004', '537005', '146820-0002', '605003', '190002', '489003', '643014', '490011', '141007', '642010', '115003', '346563-0007', '143008', '268952-0003', '048644-0004', '629007', '061721-0005', '138003', '039173-0001', '189000', '011806-0002', '131011', '143013', '357217-0004', '647018', '030430-0003', '127000', '536003', '490016', '488011', '146000', '229100-0003', '618005', '185007'}\n"
     ]
    }
   ],
   "source": [
    "print (key)\n",
    "print (len(set(framework2cid2parse['ucca'].keys())-set(framework2id2mrp_jsons['ucca'].keys())))\n",
    "print (set(framework2cid2parse['ucca'].keys())-set(framework2id2mrp_jsons['ucca'].keys()))"
   ]
  },
  {
   "cell_type": "code",
   "execution_count": 21,
   "metadata": {
    "scrolled": true
   },
   "outputs": [
    {
     "data": {
      "text/plain": [
       "[['1', '5', '5', 'NUM', 'CD', '_', '2', 'nummod', '_', 'TokenRange=0:1'],\n",
       " ['2',\n",
       "  'star',\n",
       "  'star',\n",
       "  'NOUN',\n",
       "  'NN',\n",
       "  '_',\n",
       "  '4',\n",
       "  'compound',\n",
       "  '_',\n",
       "  'TokenRange=2:6'],\n",
       " ['3',\n",
       "  'detail',\n",
       "  'detail',\n",
       "  'NOUN',\n",
       "  'NN',\n",
       "  '_',\n",
       "  '4',\n",
       "  'compound',\n",
       "  '_',\n",
       "  'TokenRange=7:13'],\n",
       " ['4', 'job', 'job', 'NOUN', 'NN', '_', '0', 'root', '_', 'TokenRange=14:17']]"
      ]
     },
     "execution_count": 21,
     "metadata": {},
     "output_type": "execute_result"
    }
   ],
   "source": [
    "framework2cid2parse['ucca']['140302-0001']"
   ]
  },
  {
   "cell_type": "code",
   "execution_count": 22,
   "metadata": {},
   "outputs": [
    {
     "data": {
      "text/plain": [
       "{'id': 'reviews-140302-0001',\n",
       " 'flavor': 1,\n",
       " 'framework': 'ucca',\n",
       " 'version': 0.9,\n",
       " 'time': '2019-04-11 (22:03)',\n",
       " 'input': '5 star detail job',\n",
       " 'tops': [5],\n",
       " 'nodes': [{'id': 0, 'anchors': [{'from': 0, 'to': 1}], 'label': '5'},\n",
       "  {'id': 1, 'anchors': [{'from': 2, 'to': 6}], 'label': 'star'},\n",
       "  {'id': 2, 'anchors': [{'from': 7, 'to': 13}], 'label': 'detail'},\n",
       "  {'id': 3, 'anchors': [{'from': 14, 'to': 17}], 'label': 'job'},\n",
       "  {'id': 4},\n",
       "  {'id': 5},\n",
       "  {'id': 6}],\n",
       " 'edges': [{'source': 6, 'target': 2, 'label': 'D'},\n",
       "  {'source': 5, 'target': 6, 'label': 'H'},\n",
       "  {'source': 4, 'target': 0, 'label': 'Q'},\n",
       "  {'source': 6, 'target': 3, 'label': 'P'},\n",
       "  {'source': 4, 'target': 1, 'label': 'C'},\n",
       "  {'source': 6, 'target': 4, 'label': 'D'}]}"
      ]
     },
     "execution_count": 22,
     "metadata": {},
     "output_type": "execute_result"
    }
   ],
   "source": [
    "framework2id2mrp_jsons['ucca'][\"140302-0001\"]\n"
   ]
  },
  {
   "cell_type": "code",
   "execution_count": 23,
   "metadata": {},
   "outputs": [],
   "source": [
    "for key in framework2id2mrp_jsons['ucca']:\n",
    "    if \"Hepburn\" in framework2id2mrp_jsons['ucca'][key]['input']:\n",
    "        print (framework2id2mrp_jsons['ucca'][key]['input'])\n",
    "        print (\"found!\")\n",
    "        break"
   ]
  },
  {
   "cell_type": "code",
   "execution_count": 24,
   "metadata": {},
   "outputs": [
    {
     "name": "stdout",
     "output_type": "stream",
     "text": [
      "amr\n",
      "87\n",
      "{'20009002', '20003030', '20010002', '20005003', '20004001', '20005002', '20009001', '20010007', '20007002', '20003023', '20008001', '20003027', '20008002', '20004002', '20003001', '20010015', '20004015', '20003010', '20012002', '20003019', '20003017', '20008004', '20004010', '20008003', '20010011', '20010012', '20004011', '20003009', '20004005', '20004004', '20012005', '20003002', '20007003', '20010016', '20004006', '20003012', '20011004', '20003020', '20009003', '20003011', '20004017', '20003005', '20003007', '20008006', '20011005', '20003003', '20004016', '20003016', '20003025', '20011002', '20010020', '20010017', '20010006', '20003014', '20010003', '20003026', '20009004', '20011007', '20003021', '20010001', '20011006', '20011001', '20005001', '20001001', '20004007', '20003015', '20003018', '20010010', '20010018', '20004009', '20003013', '20003022', '20010008', '20003029', '20007004', '20010013', '20004014', '20003028', '20011008', '20004008', '20003024', '20003008', '20012004', '20004012', '20008005', '20001002', '20010019'}\n",
      "eds\n",
      "0\n",
      "set()\n",
      "psd\n",
      "0\n",
      "set()\n",
      "ucca\n",
      "0\n",
      "set()\n",
      "dm\n",
      "0\n",
      "set()\n"
     ]
    }
   ],
   "source": [
    "for key in framework2id2mrp_jsons:\n",
    "    print (key)\n",
    "    print (len(set(framework2id2mrp_jsons[key].keys())-set(framework2cid2parse[key].keys())))\n",
    "    print (set(framework2id2mrp_jsons[key].keys())-set(framework2cid2parse[key].keys()))"
   ]
  },
  {
   "cell_type": "markdown",
   "metadata": {},
   "source": [
    "### Visualization"
   ]
  },
  {
   "cell_type": "code",
   "execution_count": 25,
   "metadata": {},
   "outputs": [],
   "source": [
    "HIDE_FIELD_SET = set(['anchors', 'source', 'target', 'label'])"
   ]
  },
  {
   "cell_type": "code",
   "execution_count": 26,
   "metadata": {},
   "outputs": [],
   "source": [
    "def add_nodes_to_directed_graph(nodes, dg):\n",
    "    for node in nodes:\n",
    "        node_id = node.get('id', -1)\n",
    "        dg.add_node(node_id)\n",
    "        info_texts = [node.get('label', '')] + [str((key[:3], value)) for key, value in node.items() if key not in HIDE_FIELD_SET]\n",
    "        dg.nodes[node_id]['label'] = '\\n'.join(info_texts)\n",
    "#         for key, value in node.items():\n",
    "#             dg.nodes[node_id][key] = value"
   ]
  },
  {
   "cell_type": "code",
   "execution_count": 27,
   "metadata": {},
   "outputs": [],
   "source": [
    "def add_edges_to_directed_graph(edges, dg):\n",
    "    for edge in edges:\n",
    "        edge_source = edge.get('source', -1)\n",
    "        edge_target = edge.get('target', -1)\n",
    "        dg.add_edge(edge_source, edge_target)\n",
    "        info_texts = [edge.get('label', '')] + [str((key[:3], value)) for key, value in edge.items() if key not in HIDE_FIELD_SET]\n",
    "        dg[edge_source][edge_target]['label'] = '\\n'.join(info_texts)\n",
    "#         for key, value in edge.items():\n",
    "#             dg[edge_source][edge_target][key] = value"
   ]
  },
  {
   "cell_type": "code",
   "execution_count": 28,
   "metadata": {},
   "outputs": [],
   "source": [
    "def mrp_json_to_directed_graph(mrp_json):\n",
    "    dg = nx.DiGraph()\n",
    "    nodes = mrp_json.get('nodes', [])\n",
    "    edges = mrp_json.get('edges', [])\n",
    "    add_nodes_to_directed_graph(nodes, dg)\n",
    "    add_edges_to_directed_graph(edges, dg)\n",
    "    return dg"
   ]
  },
  {
   "cell_type": "code",
   "execution_count": 29,
   "metadata": {},
   "outputs": [
    {
     "data": {
      "text/plain": [
       "<Figure size 2000x2000 with 0 Axes>"
      ]
     },
     "execution_count": 29,
     "metadata": {},
     "output_type": "execute_result"
    },
    {
     "data": {
      "text/plain": [
       "<Figure size 2000x2000 with 0 Axes>"
      ]
     },
     "metadata": {},
     "output_type": "display_data"
    }
   ],
   "source": [
    "figure(num=None, figsize=(4, 4), dpi=500, facecolor='w', edgecolor='k')"
   ]
  },
  {
   "cell_type": "code",
   "execution_count": 30,
   "metadata": {},
   "outputs": [],
   "source": [
    "def draw_graphviz(mrp_json, dataset_dir):\n",
    "    mrp_id = mrp_json.get('id', UNKWOWN)\n",
    "    dg = mrp_json_to_directed_graph(mrp_json)\n",
    "    save_name = os.path.join(dataset_dir, mrp_id)\n",
    "    dg2graphviz_image(dg, save_name)"
   ]
  },
  {
   "cell_type": "code",
   "execution_count": 31,
   "metadata": {},
   "outputs": [],
   "source": [
    "def dg2graphviz_image(dg, save_name, layout='dot', verbose=0):\n",
    "    ag = to_agraph(dg)\n",
    "    ag.layout(layout)\n",
    "    image_name = '{}.png'.format(save_name)\n",
    "    ag.draw(image_name)\n",
    "    if verbose and USING_IPYTHON:\n",
    "        pil_im = Image.open(image_name, 'r')\n",
    "        plt.imshow(pil_im)"
   ]
  },
  {
   "cell_type": "code",
   "execution_count": 32,
   "metadata": {},
   "outputs": [],
   "source": [
    "# draw_graphviz(mrp_json, './')"
   ]
  },
  {
   "cell_type": "code",
   "execution_count": 33,
   "metadata": {
    "scrolled": true
   },
   "outputs": [],
   "source": [
    "# for framework in tqdm(frameworks, desc='frameworks'):\n",
    "#     framework_dir = os.path.join(train_dir, framework)\n",
    "#     dataset_names = os.listdir(framework_dir)\n",
    "#     graphviz_framework_dir = os.path.join(args.graphviz_dir, framework)\n",
    "#     os.makedirs(graphviz_framework_dir, exist_ok=True)\n",
    "    \n",
    "#     dataset2mrp_jsons = framework2dataset2mrp_jsons[framework]\n",
    "#     for dataset, mrp_jsons in tqdm(dataset2mrp_jsons.items(), desc='dataset_name'):\n",
    "#         graphviz_dataset_dir = os.path.join(graphviz_framework_dir, dataset)\n",
    "#         os.makedirs(graphviz_dataset_dir, exist_ok=True)\n",
    "#         for mrp_json in mrp_jsons:\n",
    "#             draw_graphviz(mrp_json, graphviz_dataset_dir)"
   ]
  },
  {
   "cell_type": "markdown",
   "metadata": {},
   "source": [
    "# Compare parseTree and mrpjson"
   ]
  },
  {
   "cell_type": "code",
   "execution_count": 41,
   "metadata": {
    "scrolled": true
   },
   "outputs": [
    {
     "data": {
      "text/plain": [
       "[['1',\n",
       "  'Mr.',\n",
       "  'Mr.',\n",
       "  'PROPN',\n",
       "  'NNP',\n",
       "  '_',\n",
       "  '2',\n",
       "  'compound',\n",
       "  '_',\n",
       "  'TokenRange=0:3'],\n",
       " ['2',\n",
       "  'Vinken',\n",
       "  'Vinken',\n",
       "  'PROPN',\n",
       "  'NNP',\n",
       "  '_',\n",
       "  '4',\n",
       "  'nsubj',\n",
       "  '_',\n",
       "  'TokenRange=4:10'],\n",
       " ['3', 'is', 'be', 'VERB', 'VBZ', '_', '4', 'cop', '_', 'TokenRange=11:13'],\n",
       " ['4',\n",
       "  'chairman',\n",
       "  'chairman',\n",
       "  'NOUN',\n",
       "  'NN',\n",
       "  '_',\n",
       "  '0',\n",
       "  'root',\n",
       "  '_',\n",
       "  'TokenRange=14:22'],\n",
       " ['5', 'of', 'of', 'ADP', 'IN', '_', '7', 'case', '_', 'TokenRange=23:25'],\n",
       " ['6',\n",
       "  'Elsevier',\n",
       "  'Elsevier',\n",
       "  'PROPN',\n",
       "  'NNP',\n",
       "  '_',\n",
       "  '7',\n",
       "  'compound',\n",
       "  '_',\n",
       "  'TokenRange=26:34'],\n",
       " ['7',\n",
       "  'N.V.',\n",
       "  'N.V.',\n",
       "  'PROPN',\n",
       "  'NNP',\n",
       "  '_',\n",
       "  '4',\n",
       "  'nmod',\n",
       "  '_',\n",
       "  'TokenRange=35:39'],\n",
       " ['8', ',', ',', 'PUNCT', ',', '_', '7', 'punct', '_', 'TokenRange=39:40'],\n",
       " ['9', 'the', 'the', 'DET', 'DT', '_', '12', 'det', '_', 'TokenRange=41:44'],\n",
       " ['10',\n",
       "  'Dutch',\n",
       "  'dutch',\n",
       "  'ADJ',\n",
       "  'JJ',\n",
       "  '_',\n",
       "  '12',\n",
       "  'amod',\n",
       "  '_',\n",
       "  'TokenRange=45:50'],\n",
       " ['11',\n",
       "  'publishing',\n",
       "  'publishing',\n",
       "  'NOUN',\n",
       "  'NN',\n",
       "  '_',\n",
       "  '12',\n",
       "  'compound',\n",
       "  '_',\n",
       "  'TokenRange=51:61'],\n",
       " ['12',\n",
       "  'group',\n",
       "  'group',\n",
       "  'NOUN',\n",
       "  'NN',\n",
       "  '_',\n",
       "  '7',\n",
       "  'appos',\n",
       "  '_',\n",
       "  'TokenRange=62:67'],\n",
       " ['13', '.', '.', 'PUNCT', '.', '_', '4', 'punct', '_', 'TokenRange=67:68']]"
      ]
     },
     "execution_count": 41,
     "metadata": {},
     "output_type": "execute_result"
    }
   ],
   "source": [
    "framework = 'dm'\n",
    "data_id = '20001002'\n"
   ]
  },
  {
   "cell_type": "code",
   "execution_count": 53,
   "metadata": {},
   "outputs": [],
   "source": [
    "mrp_json = framework2id2mrp_jsons[framework][data_id]\n"
   ]
  },
  {
   "cell_type": "code",
   "execution_count": 54,
   "metadata": {
    "scrolled": true
   },
   "outputs": [],
   "source": [
    "parse_tree = framework2cid2parse[framework][data_id]"
   ]
  },
  {
   "cell_type": "code",
   "execution_count": 55,
   "metadata": {},
   "outputs": [],
   "source": [
    "def plot_mrp_json(mrp_json):\n",
    "    dg = mrp_json_to_directed_graph(mrp_json)\n",
    "    ag = to_agraph(dg)\n",
    "    ag.layout('dot')\n",
    "    image_name = './tmp_mrp_json.png'\n",
    "    ag.draw(image_name)\n",
    "# if USING_IPYTHON:\n",
    "#     pil_im = Image.open(image_name, 'r')\n",
    "#     plt.figure(figsize=(50,50)) \n",
    "#     plt.imshow(pil_im)"
   ]
  },
  {
   "cell_type": "code",
   "execution_count": 56,
   "metadata": {},
   "outputs": [],
   "source": [
    "def plot_parse_tree(parse_tree):\n",
    "    \"\"\"plot parse and print png filename\"\"\"\n",
    "    parse_dg = plot_util.parse_to_directed_graph(parse_tree)\n",
    "#     dataset_dir = os.path.join(args.graphviz_dir, dataset)\n",
    "    image_path = './tmp_parse_tree.png'\n",
    "    #os.makedirs(dataset_dir, exist_ok=True)\n",
    "    directed_graph_to_graphviz_image(parse_dg, image_path)\n",
    "    #return os.path.join('http://localhost:8000/files/proj29_ds1/home/slai/mrp2019', image_path)"
   ]
  },
  {
   "cell_type": "code",
   "execution_count": 57,
   "metadata": {},
   "outputs": [],
   "source": [
    "plot_mrp_json(mrp_json)"
   ]
  },
  {
   "cell_type": "code",
   "execution_count": 58,
   "metadata": {},
   "outputs": [
    {
     "ename": "NameError",
     "evalue": "name 'plot_util' is not defined",
     "output_type": "error",
     "traceback": [
      "\u001b[0;31m---------------------------------------------------------------------------\u001b[0m",
      "\u001b[0;31mNameError\u001b[0m                                 Traceback (most recent call last)",
      "\u001b[0;32m<ipython-input-58-64f26d1e3ca1>\u001b[0m in \u001b[0;36m<module>\u001b[0;34m\u001b[0m\n\u001b[0;32m----> 1\u001b[0;31m \u001b[0mplot_parse_tree\u001b[0m\u001b[0;34m(\u001b[0m\u001b[0mparse_tree\u001b[0m\u001b[0;34m)\u001b[0m\u001b[0;34m\u001b[0m\u001b[0;34m\u001b[0m\u001b[0m\n\u001b[0m",
      "\u001b[0;32m<ipython-input-56-df13cccf5c54>\u001b[0m in \u001b[0;36mplot_parse_tree\u001b[0;34m(parse_tree)\u001b[0m\n\u001b[1;32m      1\u001b[0m \u001b[0;32mdef\u001b[0m \u001b[0mplot_parse_tree\u001b[0m\u001b[0;34m(\u001b[0m\u001b[0mparse_tree\u001b[0m\u001b[0;34m)\u001b[0m\u001b[0;34m:\u001b[0m\u001b[0;34m\u001b[0m\u001b[0;34m\u001b[0m\u001b[0m\n\u001b[1;32m      2\u001b[0m     \u001b[0;34m\"\"\"plot parse and print png filename\"\"\"\u001b[0m\u001b[0;34m\u001b[0m\u001b[0;34m\u001b[0m\u001b[0m\n\u001b[0;32m----> 3\u001b[0;31m     \u001b[0mparse_dg\u001b[0m \u001b[0;34m=\u001b[0m \u001b[0mplot_util\u001b[0m\u001b[0;34m.\u001b[0m\u001b[0mparse_to_directed_graph\u001b[0m\u001b[0;34m(\u001b[0m\u001b[0mparse_tree\u001b[0m\u001b[0;34m)\u001b[0m\u001b[0;34m\u001b[0m\u001b[0;34m\u001b[0m\u001b[0m\n\u001b[0m\u001b[1;32m      4\u001b[0m \u001b[0;31m#     dataset_dir = os.path.join(args.graphviz_dir, dataset)\u001b[0m\u001b[0;34m\u001b[0m\u001b[0;34m\u001b[0m\u001b[0;34m\u001b[0m\u001b[0m\n\u001b[1;32m      5\u001b[0m     \u001b[0mimage_path\u001b[0m \u001b[0;34m=\u001b[0m \u001b[0;34m'./tmp_parse_tree.png'\u001b[0m\u001b[0;34m\u001b[0m\u001b[0;34m\u001b[0m\u001b[0m\n",
      "\u001b[0;31mNameError\u001b[0m: name 'plot_util' is not defined"
     ]
    }
   ],
   "source": [
    "plot_parse_tree(parse_tree)"
   ]
  },
  {
   "cell_type": "markdown",
   "metadata": {},
   "source": [
    "<img src='./tmp_mrp_json.png'>"
   ]
  },
  {
   "cell_type": "markdown",
   "metadata": {},
   "source": [
    "<img src='./tmp_parse_tree.png'>"
   ]
  },
  {
   "cell_type": "code",
   "execution_count": 40,
   "metadata": {},
   "outputs": [
    {
     "name": "stdout",
     "output_type": "stream",
     "text": [
      "11 One of the most popular musicians of the 20th century , he is often referred to as the “ King of Rock and Roll ” or “ the King”. Born in Tupelo , Mississippi , Presley moved to Memphis , Tennessee , with his family at the age of 13 .\n"
     ]
    },
    {
     "ename": "AttributeError",
     "evalue": "'Namespace' object has no attribute 'graphviz_file_template'",
     "output_type": "error",
     "traceback": [
      "\u001b[0;31m---------------------------------------------------------------------------\u001b[0m",
      "\u001b[0;31mAttributeError\u001b[0m                            Traceback (most recent call last)",
      "\u001b[0;32m<ipython-input-40-e7793a274dbe>\u001b[0m in \u001b[0;36m<module>\u001b[0;34m\u001b[0m\n\u001b[1;32m     23\u001b[0m         \u001b[0;32mcontinue\u001b[0m\u001b[0;34m\u001b[0m\u001b[0;34m\u001b[0m\u001b[0m\n\u001b[1;32m     24\u001b[0m     \u001b[0;32mif\u001b[0m \u001b[0mframework2dataset2mrp_jsons\u001b[0m\u001b[0;34m[\u001b[0m\u001b[0mframework\u001b[0m\u001b[0;34m]\u001b[0m\u001b[0;34m[\u001b[0m\u001b[0mdataset\u001b[0m\u001b[0;34m]\u001b[0m\u001b[0;34m[\u001b[0m\u001b[0mmrp_index\u001b[0m\u001b[0;34m]\u001b[0m\u001b[0;34m[\u001b[0m\u001b[0;34m'id'\u001b[0m\u001b[0;34m]\u001b[0m \u001b[0;34m==\u001b[0m \u001b[0mcid\u001b[0m\u001b[0;34m:\u001b[0m\u001b[0;34m\u001b[0m\u001b[0;34m\u001b[0m\u001b[0m\n\u001b[0;32m---> 25\u001b[0;31m         \u001b[0mprint\u001b[0m\u001b[0;34m(\u001b[0m\u001b[0margs\u001b[0m\u001b[0;34m.\u001b[0m\u001b[0mgraphviz_file_template\u001b[0m\u001b[0;34m.\u001b[0m\u001b[0mformat\u001b[0m\u001b[0;34m(\u001b[0m\u001b[0mframework\u001b[0m\u001b[0;34m,\u001b[0m \u001b[0mdataset\u001b[0m\u001b[0;34m,\u001b[0m \u001b[0mcid\u001b[0m\u001b[0;34m)\u001b[0m\u001b[0;34m)\u001b[0m\u001b[0;34m\u001b[0m\u001b[0;34m\u001b[0m\u001b[0m\n\u001b[0m\u001b[1;32m     26\u001b[0m \u001b[0;34m\u001b[0m\u001b[0m\n\u001b[1;32m     27\u001b[0m \u001b[0;31m#\u001b[0m\u001b[0;34m\u001b[0m\u001b[0;34m\u001b[0m\u001b[0;34m\u001b[0m\u001b[0m\n",
      "\u001b[0;31mAttributeError\u001b[0m: 'Namespace' object has no attribute 'graphviz_file_template'"
     ]
    }
   ],
   "source": [
    "dataset = 'wiki'\n",
    "framework = 'dm'\n",
    "framework = 'eds'\n",
    "framework = 'psd'\n",
    "framework = 'ucca'\n",
    "# framework = 'amr'\n",
    "mrp_index = 10\n",
    "\n",
    "parse = None\n",
    "while not parse:\n",
    "    mrp_index += 1\n",
    "    cid = framework2dataset2mrp_jsons[framework][dataset][mrp_index]['id']\n",
    "    parse = dataset2cid2parse[dataset].get(cid)\n",
    "    \n",
    "# print sentence\n",
    "print(mrp_index, ' '.join([word_record[1] for word_record in parse]))\n",
    "\n",
    "# print corresponding mrp png link\n",
    "for framework in frameworks:\n",
    "    if dataset not in framework2dataset2mrp_jsons[framework]:\n",
    "        continue\n",
    "    if len(framework2dataset2mrp_jsons[framework][dataset]) <= mrp_index:\n",
    "        continue\n",
    "    if framework2dataset2mrp_jsons[framework][dataset][mrp_index]['id'] == cid:\n",
    "        print(args.graphviz_file_template.format(framework, dataset, cid))\n",
    "\n",
    "# \n",
    "def plot_parse(parse, args, dataset, dataset_dir, cid):\n",
    "    \"\"\"plot parse and print png filename\"\"\"\n",
    "    parse_dg = plot_util.parse_to_directed_graph(parse)\n",
    "    dataset_dir = os.path.join(args.graphviz_dir, dataset)\n",
    "    image_path = os.path.join(dataset_dir, cid + '.png')\n",
    "    os.makedirs(dataset_dir, exist_ok=True)\n",
    "    plot_util.directed_graph_to_graphviz_image(parse_dg, image_path)\n",
    "    return os.path.join('http://localhost:8000/files/proj29_ds1/home/slai/mrp2019', image_path)\n",
    "    \n",
    "parse_plot_filename = plot_parse(parse, args, dataset, dataset_dir, cid)\n",
    "\n",
    "print(parse_plot_filename)"
   ]
  },
  {
   "cell_type": "markdown",
   "metadata": {},
   "source": [
    "![title](./tmp.png)"
   ]
  },
  {
   "cell_type": "code",
   "execution_count": null,
   "metadata": {},
   "outputs": [],
   "source": [
    "\\\n"
   ]
  },
  {
   "cell_type": "markdown",
   "metadata": {},
   "source": [
    "### Interactive drawing using plotly"
   ]
  },
  {
   "cell_type": "code",
   "execution_count": null,
   "metadata": {},
   "outputs": [],
   "source": [
    "# prog list: neato, dot, twopi, circo, fdp, nop, wc, acyclic, gvpr, gvcolor, ccomps, sccmap, tred, sfdp, unflatten\n",
    "poss = nx.nx_agraph.graphviz_layout(dg, prog='dot')"
   ]
  },
  {
   "cell_type": "code",
   "execution_count": null,
   "metadata": {},
   "outputs": [],
   "source": [
    "def info_dict2plotly_text(info_dict):\n",
    "    key_value_texts = []\n",
    "    for key, value in info_dict.items():\n",
    "        key_value_texts.append('{}: {}'.format(key, value))\n",
    "    return '<br />'.join(key_value_texts)"
   ]
  },
  {
   "cell_type": "code",
   "execution_count": null,
   "metadata": {},
   "outputs": [],
   "source": [
    "# Draw Edge\n",
    "edge_trace = go.Scatter(\n",
    "    x=[],\n",
    "    y=[],\n",
    "    text=[],\n",
    "    line=dict(width=0.5,color='#888'),\n",
    "    hoverinfo='none',\n",
    "    mode='lines')\n",
    "\n",
    "for source, target in dg.edges():\n",
    "    x0, y0 = poss[source]\n",
    "    x1, y1 = poss[target]\n",
    "    edge_trace['x'] += tuple([x0, x1, None])\n",
    "    edge_trace['y'] += tuple([y0, y1, None])\n",
    "    \n",
    "# Draw Edge info node\n",
    "edge_info_node_trace = go.Scatter(\n",
    "    x=[],\n",
    "    y=[],\n",
    "    text=[],\n",
    "    hovertext=[],\n",
    "    mode='markers+text',\n",
    "    hoverinfo='text',\n",
    "    marker=dict(\n",
    "        color=[],\n",
    "        size=10,\n",
    "        opacity=0.01,\n",
    "        colorbar=dict(\n",
    "            thickness=15,\n",
    "            title='Node Connections',\n",
    "            xanchor='left',\n",
    "            titleside='right',\n",
    "        ),\n",
    "        line=dict(width=2)))\n",
    "\n",
    "for source, target in dg.edges():\n",
    "    x0, y0 = poss[source]\n",
    "    x1, y1 = poss[target]\n",
    "    edge_info_node_trace['x'] += tuple([(x0 + x1) / 2])\n",
    "    edge_info_node_trace['y'] += tuple([(y0 + y1) / 2])\n",
    "    edge_info_node_trace['text'] += tuple([dg[source][target].get('label')])\n",
    "    edge_info_node_trace['hovertext'] += tuple([info_dict2plotly_text(dg[source][target])])\n",
    "\n",
    "    \n",
    "# Draw Node\n",
    "node_trace = go.Scatter(\n",
    "    x=[],\n",
    "    y=[],\n",
    "    text=[],\n",
    "    hovertext=[],\n",
    "    mode='markers+text',\n",
    "    hoverinfo='text',\n",
    "    marker=dict(\n",
    "        showscale=True,\n",
    "        # colorscale options\n",
    "        #'Greys' | 'YlGnBu' | 'Greens' | 'YlOrRd' | 'Bluered' | 'RdBu' |\n",
    "        #'Reds' | 'Blues' | 'Picnic' | 'Rainbow' | 'Portland' | 'Jet' |\n",
    "        #'Hot' | 'Blackbody' | 'Earth' | 'Electric' | 'Viridis' |\n",
    "        colorscale='YlGnBu',\n",
    "        reversescale=True,\n",
    "        color=[],\n",
    "        size=0.5,\n",
    "        colorbar=dict(\n",
    "            thickness=15,\n",
    "            title='Node Connections',\n",
    "            xanchor='left',\n",
    "            titleside='right'\n",
    "        ),\n",
    "        line=dict(width=2)))\n",
    "\n",
    "for node in dg.nodes():\n",
    "    x, y = poss[node]\n",
    "    node_trace['x'] += tuple([x])\n",
    "    node_trace['y'] += tuple([y])\n",
    "    node_trace['text'] += tuple(['{} ({})'.format(dg.nodes[node].get('label'), dg.nodes[node].get('values', [''])[0])])\n",
    "    node_trace['hovertext'] += tuple([info_dict2plotly_text(dg.nodes[node])])\n",
    "    \n",
    "# for node, adjacencies in enumerate(dg.adjacency()):\n",
    "#     node_trace['marker']['color']+=tuple([len(adjacencies[1])])\n",
    "#     node_info = '# of connections: '+str(len(adjacencies[1]))\n",
    "#     node_trace['text']+=tuple([node_info])"
   ]
  },
  {
   "cell_type": "code",
   "execution_count": null,
   "metadata": {},
   "outputs": [],
   "source": [
    "fig = go.Figure(\n",
    "    data=[edge_trace, node_trace, edge_info_node_trace],\n",
    "    layout=go.Layout(\n",
    "    title='<br>Network graph made with Python',\n",
    "    titlefont=dict(size=16),\n",
    "    showlegend=False,\n",
    "    hovermode='closest',\n",
    "    margin=dict(b=20,l=5,r=5,t=40),\n",
    "    annotations=[ dict(\n",
    "        text=\"\"\"\n",
    "        Python code: <a href='https://plot.ly/ipython-notebooks/network-graphs/'> \n",
    "        https://plot.ly/ipython-notebooks/network-graphs/</a>\"\"\",\n",
    "        showarrow=False,\n",
    "        xref=\"paper\", yref=\"paper\",\n",
    "        x=0.005, y=-0.002 ) ],\n",
    "    xaxis=dict(showgrid=False, zeroline=False, showticklabels=False),\n",
    "    yaxis=dict(showgrid=False, zeroline=False, showticklabels=False)))\n",
    "\n",
    "iplot(fig, filename='networkx')\n",
    "print(mrp_json.get('input'))"
   ]
  },
  {
   "cell_type": "code",
   "execution_count": null,
   "metadata": {},
   "outputs": [],
   "source": []
  },
  {
   "cell_type": "code",
   "execution_count": null,
   "metadata": {},
   "outputs": [],
   "source": []
  }
 ],
 "metadata": {
  "kernelspec": {
   "display_name": "Python 3",
   "language": "python",
   "name": "python3"
  },
  "language_info": {
   "codemirror_mode": {
    "name": "ipython",
    "version": 3
   },
   "file_extension": ".py",
   "mimetype": "text/x-python",
   "name": "python",
   "nbconvert_exporter": "python",
   "pygments_lexer": "ipython3",
   "version": "3.6.8"
  }
 },
 "nbformat": 4,
 "nbformat_minor": 2
}
