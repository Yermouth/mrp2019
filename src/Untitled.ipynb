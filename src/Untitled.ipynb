{
 "cells": [
  {
   "cell_type": "markdown",
   "metadata": {},
   "source": [
    "#### ipython notebook specific imports"
   ]
  },
  {
   "cell_type": "code",
   "execution_count": 6,
   "metadata": {},
   "outputs": [
    {
     "data": {
      "text/html": [
       "<script type=\"text/javascript\">window.PlotlyConfig = {MathJaxConfig: 'local'};</script><script type=\"text/javascript\">if (window.MathJax) {MathJax.Hub.Config({SVG: {font: \"STIX-Web\"}});}</script><script>requirejs.config({paths: { 'plotly': ['https://cdn.plot.ly/plotly-latest.min']},});if(!window._Plotly) {require(['plotly'],function(plotly) {window._Plotly=plotly;});}</script>"
      ],
      "text/vnd.plotly.v1+html": [
       "<script type=\"text/javascript\">window.PlotlyConfig = {MathJaxConfig: 'local'};</script><script type=\"text/javascript\">if (window.MathJax) {MathJax.Hub.Config({SVG: {font: \"STIX-Web\"}});}</script><script>requirejs.config({paths: { 'plotly': ['https://cdn.plot.ly/plotly-latest.min']},});if(!window._Plotly) {require(['plotly'],function(plotly) {window._Plotly=plotly;});}</script>"
      ]
     },
     "metadata": {},
     "output_type": "display_data"
    }
   ],
   "source": [
    "if USING_IPYTHON:\n",
    "    # matplotlib config\n",
    "    %matplotlib inline\n",
    "    \n",
    "    # ipython notebook plotly config\n",
    "    from plotly.offline import download_plotlyjs, init_notebook_mode, plot, iplot\n",
    "    init_notebook_mode(connected=True)\n",
    "else:\n",
    "    from plotly.plotly import plot, iplot"
   ]
  },
  {
   "cell_type": "code",
   "execution_count": 7,
   "metadata": {},
   "outputs": [],
   "source": [
    "logging.basicConfig(level=logging.INFO, handlers=[logging.StreamHandler()])\n",
    "logger = logging.getLogger(__name__)  # pylint: disable=invalid-name\n",
    "logger.setLevel(logging.INFO)"
   ]
  },
  {
   "cell_type": "markdown",
   "metadata": {},
   "source": [
    "### Constants"
   ]
  },
  {
   "cell_type": "code",
   "execution_count": 8,
   "metadata": {},
   "outputs": [],
   "source": [
    "UNKWOWN = 'UNKWOWN'"
   ]
  },
  {
   "cell_type": "code",
   "execution_count": null,
   "metadata": {},
   "outputs": [],
   "source": [
    "#### ipython notebook specific imports\n",
    "\n",
    "if USING_IPYTHON:\n",
    "    # matplotlib config\n",
    "    %matplotlib inline\n",
    "    \n",
    "    # ipython notebook plotly config\n",
    "    from plotly.offline import download_plotlyjs, init_notebook_mode, plot, iplot\n",
    "    init_notebook_mode(connected=True)\n",
    "else:\n",
    "    from plotly.plotly import plot, iplot\n",
    "\n",
    "logging.basicConfig(level=logging.INFO, handlers=[logging.StreamHandler()])\n",
    "logger = logging.getLogger(__name__)  # pylint: disable=invalid-name\n",
    "logger.setLevel(logging.INFO)\n",
    "\n",
    "### Constants\n",
    "\n",
    "UNKWOWN = 'UNKWOWN'"
   ]
  },
  {
   "cell_type": "markdown",
   "metadata": {},
   "source": [
    "#### ipython notebook specific imports"
   ]
  },
  {
   "cell_type": "code",
   "execution_count": 6,
   "metadata": {},
   "outputs": [
    {
     "data": {
      "text/html": [
       "<script type=\"text/javascript\">window.PlotlyConfig = {MathJaxConfig: 'local'};</script><script type=\"text/javascript\">if (window.MathJax) {MathJax.Hub.Config({SVG: {font: \"STIX-Web\"}});}</script><script>requirejs.config({paths: { 'plotly': ['https://cdn.plot.ly/plotly-latest.min']},});if(!window._Plotly) {require(['plotly'],function(plotly) {window._Plotly=plotly;});}</script>"
      ],
      "text/vnd.plotly.v1+html": [
       "<script type=\"text/javascript\">window.PlotlyConfig = {MathJaxConfig: 'local'};</script><script type=\"text/javascript\">if (window.MathJax) {MathJax.Hub.Config({SVG: {font: \"STIX-Web\"}});}</script><script>requirejs.config({paths: { 'plotly': ['https://cdn.plot.ly/plotly-latest.min']},});if(!window._Plotly) {require(['plotly'],function(plotly) {window._Plotly=plotly;});}</script>"
      ]
     },
     "metadata": {},
     "output_type": "display_data"
    }
   ],
   "source": [
    "if USING_IPYTHON:\n",
    "    # matplotlib config\n",
    "    %matplotlib inline\n",
    "    \n",
    "    # ipython notebook plotly config\n",
    "    from plotly.offline import download_plotlyjs, init_notebook_mode, plot, iplot\n",
    "    init_notebook_mode(connected=True)\n",
    "else:\n",
    "    from plotly.plotly import plot, iplot"
   ]
  },
  {
   "cell_type": "code",
   "execution_count": 7,
   "metadata": {},
   "outputs": [],
   "source": [
    "logging.basicConfig(level=logging.INFO, handlers=[logging.StreamHandler()])\n",
    "logger = logging.getLogger(__name__)  # pylint: disable=invalid-name\n",
    "logger.setLevel(logging.INFO)"
   ]
  },
  {
   "cell_type": "markdown",
   "metadata": {},
   "source": [
    "### Constants"
   ]
  },
  {
   "cell_type": "code",
   "execution_count": 8,
   "metadata": {},
   "outputs": [],
   "source": [
    "UNKWOWN = 'UNKWOWN'"
   ]
  },
  {
   "cell_type": "code",
   "execution_count": 1,
   "metadata": {},
   "outputs": [],
   "source": [
    "try:\n",
    "    __IPYTHON__\n",
    "    USING_IPYTHON = True\n",
    "except NameError:#### ipython notebook specific imports\n",
    "\n",
    "if USING_IPYTHON:\n",
    "    # matplotlib config\n",
    "    %matplotlib inline\n",
    "    \n",
    "    # ipython notebook plotly config\n",
    "    from plotly.offline import download_plotlyjs, init_notebook_mode, plot, iplot\n",
    "    init_notebook_mode(connected=True)\n",
    "else:\n",
    "    from plotly.plotly import plot, iplot\n",
    "\n",
    "logging.basicConfig(level=logging.INFO, handlers=[logging.StreamHandler()])\n",
    "logger = logging.getLogger(__name__)  # pylint: disable=invalid-name\n",
    "logger.setLevel(logging.INFO)\n",
    "\n",
    "### Constants\n",
    "\n",
    "UNKWOWN = 'UNKWOWN'\n",
    "    USING_IPYTHON = False"
   ]
  },
  {
   "cell_type": "markdown",
   "metadata": {},
   "source": [
    "#### Argparse"
   ]
  },
  {
   "cell_type": "code",
   "execution_count": 2,
   "metadata": {},
   "outputs": [],
   "source": [
    "import argparse\n",
    "ap = argparse.ArgumentParser()\n",
    "ap.add_argument('mrp_data_dir', help='')\n",
    "ap.add_argument('--train-sub-dir', default='training', help='')\n",
    "ap.add_argument('--graphviz-dir', default='graphviz', help='')\n",
    "arg_string = \"\"\"\n",
    "    ./data/\n",
    "\"\"\"\n",
    "arguments = [arg for arg_line in arg_string.split(r'\\\\n') for arg in arg_line.split()]"
   ]
  },
  {
   "cell_type": "code",
   "execution_count": 3,
   "metadata": {},
   "outputs": [],
   "source": [
    "if USING_IPYTHON:\n",
    "    args = ap.parse_args(arguments)\n",
    "else:\n",
    "    args = ap.parse_args()"
   ]
  },
  {
   "cell_type": "code",
   "execution_count": 4,
   "metadata": {},
   "outputs": [
    {
     "data": {
      "text/plain": [
       "Namespace(graphviz_dir='graphviz', mrp_data_dir='./data/', train_sub_dir='training')"
      ]
     },
     "execution_count": 4,
     "metadata": {},
     "output_type": "execute_result"
    }
   ],
   "source": [
    "args"
   ]
  },
  {
   "cell_type": "code",
   "execution_count": null,
   "metadata": {},
   "outputs": [],
   "source": [
    "try:\n",
    "    __IPYTHON__\n",
    "    USING_IPYTHON = True\n",
    "except NameError:\n",
    "    USING_IPYTHON = False\n",
    "\n",
    "#### Argparse\n",
    "\n",
    "import argparse\n",
    "ap = argparse.ArgumentParser()\n",
    "ap.add_argument('mrp_data_dir', help='')\n",
    "ap.add_argument('--train-sub-dir', default='training', help='')\n",
    "ap.add_argument('--graphviz-dir', default='graphviz', help='')\n",
    "arg_string = \"\"\"\n",
    "    ./data/\n",
    "\"\"\"\n",
    "arguments = [arg for arg_line in arg_string.split(r'\\\\n') for arg in arg_line.split()]\n",
    "\n",
    "if USING_IPYTHON:\n",
    "    args = ap.parse_args(arguments)\n",
    "else:\n",
    "    args = ap.parse_args()\n",
    "\n",
    "args"
   ]
  },
  {
   "cell_type": "markdown",
   "metadata": {},
   "source": [
    "#### ipython notebook specific imports"
   ]
  },
  {
   "cell_type": "code",
   "execution_count": 6,
   "metadata": {},
   "outputs": [
    {
     "data": {
      "text/html": [
       "<script type=\"text/javascript\">window.PlotlyConfig = {MathJaxConfig: 'local'};</script><script type=\"text/javascript\">if (window.MathJax) {MathJax.Hub.Config({SVG: {font: \"STIX-Web\"}});}</script><script>requirejs.config({paths: { 'plotly': ['https://cdn.plot.ly/plotly-latest.min']},});if(!window._Plotly) {require(['plotly'],function(plotly) {window._Plotly=plotly;});}</script>"
      ],
      "text/vnd.plotly.v1+html": [
       "<script type=\"text/javascript\">window.PlotlyConfig = {MathJaxConfig: 'local'};</script><script type=\"text/javascript\">if (window.MathJax) {MathJax.Hub.Config({SVG: {font: \"STIX-Web\"}});}</script><script>requirejs.config({paths: { 'plotly': ['https://cdn.plot.ly/plotly-latest.min']},});if(!window._Plotly) {require(['plotly'],function(plotly) {window._Plotly=plotly;});}</script>"
      ]
     },
     "metadata": {},
     "output_type": "display_data"
    }
   ],
   "source": [
    "if USING_IPYTHON:\n",
    "    # matplotlib config\n",
    "    %matplotlib inline\n",
    "    \n",
    "    # ipython notebook plotly config\n",
    "    from plotly.offline import download_plotlyjs, init_notebook_mode, plot, iplot\n",
    "    init_notebook_mode(connected=True)\n",
    "else:\n",
    "    from plotly.plotly import plot, iplot"
   ]
  },
  {
   "cell_type": "code",
   "execution_count": 7,
   "metadata": {},
   "outputs": [],
   "source": [
    "logging.basicConfig(level=logging.INFO, handlers=[logging.StreamHandler()])\n",
    "logger = logging.getLogger(__name__)  # pylint: disable=invalid-name\n",
    "logger.setLevel(logging.INFO)"
   ]
  },
  {
   "cell_type": "markdown",
   "metadata": {},
   "source": [
    "### Constants"
   ]
  },
  {
   "cell_type": "code",
   "execution_count": 8,
   "metadata": {},
   "outputs": [],
   "source": [
    "UNKWOWN = 'UNKWOWN'"
   ]
  },
  {
   "cell_type": "code",
   "execution_count": null,
   "metadata": {},
   "outputs": [],
   "source": []
  },
  {
   "cell_type": "code",
   "execution_count": null,
   "metadata": {},
   "outputs": [],
   "source": [
    "import json\n",
    "import logging\n",
    "import os\n",
    "\n",
    "from PIL import Image\n",
    "from matplotlib.pyplot import figure\n",
    "from networkx.drawing.nx_agraph import to_agraph\n",
    "from tqdm import tqdm\n",
    "import matplotlib.pyplot as plt\n",
    "import networkx as nx\n",
    "import numpy as np\n",
    "import plotly.graph_objs as go\n",
    "import pprint"
   ]
  },
  {
   "cell_type": "markdown",
   "metadata": {},
   "source": [
    "### Load data"
   ]
  },
  {
   "cell_type": "code",
   "execution_count": 9,
   "metadata": {},
   "outputs": [
    {
     "data": {
      "text/plain": [
       "['amr', 'eds', 'psd', 'ucca', 'dm']"
      ]
     },
     "execution_count": 9,
     "metadata": {},
     "output_type": "execute_result"
    }
   ],
   "source": [
    "train_dir = os.path.join(args.mrp_data_dir, args.train_sub_dir)\n",
    "frameworks = [sub_dir for sub_dir in os.listdir(train_dir) if os.path.isdir(os.path.join(train_dir, sub_dir))]\n",
    "frameworks"
   ]
  },
  {
   "cell_type": "code",
   "execution_count": 10,
   "metadata": {
    "scrolled": true
   },
   "outputs": [
    {
     "name": "stderr",
     "output_type": "stream",
     "text": [
      "frameworks:   0%|          | 0/5 [00:00<?, ?it/s]\n",
      "dataset_name:   0%|          | 0/14 [00:00<?, ?it/s]\u001b[A\n",
      "dataset_name:   7%|▋         | 1/14 [00:00<00:03,  4.33it/s]\u001b[A\n",
      "dataset_name:  43%|████▎     | 6/14 [00:00<00:01,  5.95it/s]\u001b[A\n",
      "dataset_name:  57%|█████▋    | 8/14 [00:00<00:00,  7.30it/s]\u001b[A\n",
      "dataset_name:  71%|███████▏  | 10/14 [00:00<00:00,  6.74it/s]\u001b[A\n",
      "dataset_name:  86%|████████▌ | 12/14 [00:02<00:00,  2.88it/s]\u001b[A\n",
      "frameworks:  20%|██        | 1/5 [00:02<00:09,  2.49s/it]t/s]\u001b[A\n",
      "dataset_name:   0%|          | 0/1 [00:00<?, ?it/s]\u001b[A\n",
      "dataset_name: 100%|██████████| 1/1 [00:05<00:00,  5.69s/it]\u001b[A\n",
      "frameworks:  40%|████      | 2/5 [00:08<00:10,  3.45s/it]\n",
      "dataset_name:   0%|          | 0/1 [00:00<?, ?it/s]\u001b[A\n",
      "dataset_name: 100%|██████████| 1/1 [00:03<00:00,  3.76s/it]\u001b[A\n",
      "frameworks:  60%|██████    | 3/5 [00:11<00:07,  3.55s/it]\n",
      "dataset_name:   0%|          | 0/2 [00:00<?, ?it/s]\u001b[A\n",
      "dataset_name:  50%|█████     | 1/2 [00:00<00:00,  5.04it/s]\u001b[A\n",
      "dataset_name: 100%|██████████| 2/2 [00:00<00:00,  5.04it/s]\u001b[A\n",
      "frameworks:  80%|████████  | 4/5 [00:12<00:02,  2.61s/it]\n",
      "dataset_name:   0%|          | 0/1 [00:00<?, ?it/s]\u001b[A\n",
      "dataset_name: 100%|██████████| 1/1 [00:05<00:00,  5.00s/it]\u001b[A\n",
      "frameworks: 100%|██████████| 5/5 [00:17<00:00,  3.33s/it]\n"
     ]
    }
   ],
   "source": [
    "framework2dataset2mrp_jsons = {}\n",
    "for framework in tqdm(frameworks, desc='frameworks'):\n",
    "    dataset2mrp_jsons = {}\n",
    "    framework_dir = os.path.join(train_dir, framework)\n",
    "    dataset_names = os.listdir(framework_dir)\n",
    "    \n",
    "    for dataset_name in tqdm(dataset_names, desc='dataset_name'):\n",
    "        mrp_jsons = []\n",
    "        with open(os.path.join(framework_dir, dataset_name)) as rf:\n",
    "            for line in rf:\n",
    "                mrp_json = json.loads(line.strip())\n",
    "                if framework == 'ucca' and 'nodes' in mrp_json and 'input' in mrp_json:\n",
    "                    input_text = mrp_json['input']\n",
    "                    nodes = mrp_json['nodes']\n",
    "                    for i, node in enumerate(nodes):\n",
    "                        if 'anchors' not in node:\n",
    "                            continue\n",
    "                        text_segments = []\n",
    "                        for anchor in node['anchors']:\n",
    "                            text_segments.append(input_text[anchor.get('from', -1): anchor.get('to', -1)])\n",
    "                        mrp_json['nodes'][i]['label'] = ''.join(text_segments)\n",
    "                        \n",
    "                mrp_jsons.append(mrp_json)\n",
    "        dataset2mrp_jsons[dataset_name] = mrp_jsons\n",
    "                \n",
    "    framework2dataset2mrp_jsons[framework] = dataset2mrp_jsons"
   ]
  },
  {
   "cell_type": "code",
   "execution_count": 11,
   "metadata": {},
   "outputs": [
    {
     "name": "stderr",
     "output_type": "stream",
     "text": [
      "INFO:__main__:amr\n",
      "INFO:__main__:['lorelei.mrp', 'bolt.mrp', 'wiki.mrp', 'mt09sdl.mrp', 'rte.mrp', 'cctv.mrp', 'xinhua.mrp', 'amr-guidelines.mrp', 'proxy.mrp', 'wsj.mrp', 'dfb.mrp', 'dfa.mrp', 'fables.mrp', 'wb.mrp']\n",
      "INFO:__main__:eds\n",
      "INFO:__main__:['wsj.mrp']\n",
      "INFO:__main__:psd\n",
      "INFO:__main__:['wsj.mrp']\n",
      "INFO:__main__:ucca\n",
      "INFO:__main__:['wiki.mrp', 'ewt.mrp']\n",
      "INFO:__main__:dm\n",
      "INFO:__main__:['wsj.mrp']\n"
     ]
    }
   ],
   "source": [
    "for framework in framework2dataset2mrp_jsons:\n",
    "    logger.info(framework)\n",
    "    logger.info(list(framework2dataset2mrp_jsons[framework].keys()))"
   ]
  },
  {
   "cell_type": "markdown",
   "metadata": {},
   "source": [
    "### Visualization"
   ]
  },
  {
   "cell_type": "code",
   "execution_count": 12,
   "metadata": {},
   "outputs": [],
   "source": [
    "HIDE_FIELD_SET = set(['anchors', 'source', 'target', 'label'])"
   ]
  },
  {
   "cell_type": "code",
   "execution_count": 13,
   "metadata": {},
   "outputs": [],
   "source": [
    "def add_nodes_to_directed_graph(nodes, dg):\n",
    "    for node in nodes:\n",
    "        node_id = node.get('id', -1)\n",
    "        dg.add_node(node_id)\n",
    "        info_texts = [node.get('label', '')] + [str((key[:3], value)) for key, value in node.items() if key not in HIDE_FIELD_SET]\n",
    "        dg.nodes[node_id]['label'] = '\\n'.join(info_texts)\n",
    "#         for key, value in node.items():\n",
    "#             dg.nodes[node_id][key] = value"
   ]
  },
  {
   "cell_type": "code",
   "execution_count": 14,
   "metadata": {},
   "outputs": [],
   "source": [
    "def add_edges_to_directed_graph(edges, dg):\n",
    "    for edge in edges:\n",
    "        edge_source = edge.get('source', -1)\n",
    "        edge_target = edge.get('target', -1)\n",
    "        dg.add_edge(edge_source, edge_target)\n",
    "        info_texts = [edge.get('label', '')] + [str((key[:3], value)) for key, value in edge.items() if key not in HIDE_FIELD_SET]\n",
    "        dg[edge_source][edge_target]['label'] = '\\n'.join(info_texts)\n",
    "#         for key, value in edge.items():\n",
    "#             dg[edge_source][edge_target][key] = value"
   ]
  },
  {
   "cell_type": "code",
   "execution_count": 15,
   "metadata": {},
   "outputs": [],
   "source": [
    "def mrp_json_to_directed_graph(mrp_json):\n",
    "    dg = nx.DiGraph()\n",
    "    nodes = mrp_json.get('nodes', [])\n",
    "    edges = mrp_json.get('edges', [])\n",
    "    add_nodes_to_directed_graph(nodes, dg)\n",
    "    add_edges_to_directed_graph(edges, dg)\n",
    "    return dg"
   ]
  },
  {
   "cell_type": "code",
   "execution_count": 17,
   "metadata": {},
   "outputs": [],
   "source": [
    "def draw_graphviz(mrp_json, dataset_dir):\n",
    "    mrp_id = mrp_json.get('id', UNKWOWN)\n",
    "    dg = mrp_json_to_directed_graph(mrp_json)\n",
    "    save_name = os.path.join(dataset_dir, mrp_id)\n",
    "    dg2graphviz_image(dg, save_name)"
   ]
  },
  {
   "cell_type": "code",
   "execution_count": 18,
   "metadata": {},
   "outputs": [],
   "source": [
    "def dg2graphviz_image(dg, save_name, layout='dot', verbose=0):\n",
    "    ag = to_agraph(dg)\n",
    "    ag.layout(layout)\n",
    "    image_name = '{}.png'.format(save_name)\n",
    "    ag.draw(image_name)\n",
    "    if verbose and USING_IPYTHON:\n",
    "        pil_im = Image.open(image_name, 'r')\n",
    "        plt.imshow(pil_im)"
   ]
  },
  {
   "cell_type": "code",
   "execution_count": null,
   "metadata": {},
   "outputs": [],
   "source": [
    "for "
   ]
  },
  {
   "cell_type": "code",
   "execution_count": 5,
   "metadata": {
    "scrolled": true
   },
   "outputs": [
    {
     "name": "stdout",
     "output_type": "stream",
     "text": [
      "{'edges': [{'label': 'P', 'source': 20, 'target': 1},\n",
      "           {'label': 'E', 'source': 25, 'target': 8},\n",
      "           {'label': 'H', 'source': 21, 'target': 24},\n",
      "           {'label': 'A', 'source': 24, 'target': 25},\n",
      "           {'label': 'E', 'source': 28, 'target': 18},\n",
      "           {'label': 'C', 'source': 22, 'target': 3},\n",
      "           {'label': 'E', 'source': 25, 'target': 26},\n",
      "           {'label': 'A',\n",
      "            'properties': ['remote'],\n",
      "            'source': 24,\n",
      "            'target': 0,\n",
      "            'values': [True]},\n",
      "           {'label': 'U', 'source': 21, 'target': 6},\n",
      "           {'label': 'U', 'source': 28, 'target': 19},\n",
      "           {'label': 'C', 'source': 23, 'target': 5},\n",
      "           {'label': 'C', 'source': 25, 'target': 9},\n",
      "           {'label': 'R', 'source': 28, 'target': 16},\n",
      "           {'label': 'C', 'source': 27, 'target': 15},\n",
      "           {'label': 'A', 'source': 20, 'target': 22},\n",
      "           {'label': 'E', 'source': 26, 'target': 28},\n",
      "           {'label': 'R', 'source': 26, 'target': 10},\n",
      "           {'label': 'H', 'source': 21, 'target': 20},\n",
      "           {'label': 'C', 'source': 26, 'target': 12},\n",
      "           {'label': 'R', 'source': 27, 'target': 13},\n",
      "           {'label': 'R', 'source': 23, 'target': 4},\n",
      "           {'label': 'E', 'source': 28, 'target': 27},\n",
      "           {'label': 'E', 'source': 26, 'target': 11},\n",
      "           {'label': 'C', 'source': 28, 'target': 17},\n",
      "           {'label': 'T', 'source': 20, 'target': 23},\n",
      "           {'label': 'A', 'source': 20, 'target': 0},\n",
      "           {'label': 'E', 'source': 27, 'target': 14},\n",
      "           {'label': 'R', 'source': 22, 'target': 2},\n",
      "           {'label': 'P', 'source': 24, 'target': 7}],\n",
      " 'flavor': 1,\n",
      " 'framework': 'ucca',\n",
      " 'id': '502000',\n",
      " 'input': 'Bowie moved to Switzerland in 1976, purchasing a chalet in the '\n",
      "          'hills to the north of Lake Geneva.',\n",
      " 'nodes': [{'anchors': [{'from': 0, 'to': 5}], 'id': 0},\n",
      "           {'anchors': [{'from': 6, 'to': 11}], 'id': 1},\n",
      "           {'anchors': [{'from': 12, 'to': 14}], 'id': 2},\n",
      "           {'anchors': [{'from': 15, 'to': 26}], 'id': 3},\n",
      "           {'anchors': [{'from': 27, 'to': 29}], 'id': 4},\n",
      "           {'anchors': [{'from': 30, 'to': 34}], 'id': 5},\n",
      "           {'anchors': [{'from': 34, 'to': 35}], 'id': 6},\n",
      "           {'anchors': [{'from': 36, 'to': 46}], 'id': 7},\n",
      "           {'anchors': [{'from': 47, 'to': 48}], 'id': 8},\n",
      "           {'anchors': [{'from': 49, 'to': 55}], 'id': 9},\n",
      "           {'anchors': [{'from': 56, 'to': 58}], 'id': 10},\n",
      "           {'anchors': [{'from': 59, 'to': 62}], 'id': 11},\n",
      "           {'anchors': [{'from': 63, 'to': 68}], 'id': 12},\n",
      "           {'anchors': [{'from': 69, 'to': 71}], 'id': 13},\n",
      "           {'anchors': [{'from': 72, 'to': 75}], 'id': 14},\n",
      "           {'anchors': [{'from': 76, 'to': 81}], 'id': 15},\n",
      "           {'anchors': [{'from': 82, 'to': 84}], 'id': 16},\n",
      "           {'anchors': [{'from': 85, 'to': 89}], 'id': 17},\n",
      "           {'anchors': [{'from': 90, 'to': 96}], 'id': 18},\n",
      "           {'anchors': [{'from': 96, 'to': 97}], 'id': 19},\n",
      "           {'id': 20},\n",
      "           {'id': 21},\n",
      "           {'id': 22},\n",
      "           {'id': 23},\n",
      "           {'id': 24},\n",
      "           {'id': 25},\n",
      "           {'id': 26},\n",
      "           {'id': 27},\n",
      "           {'id': 28}],\n",
      " 'time': '2019-04-11 (22:04)',\n",
      " 'tops': [21],\n",
      " 'version': 0.9}\n"
     ]
    }
   ],
   "source": [
    "import pickle\n",
    "import json\n",
    "from pprint import pprint\n",
    "with open(\"./data/training/ucca/wiki.mrp\",'r') as f:\n",
    "    for line in f:\n",
    "        mrp_json = json.loads(line.strip())\n",
    "        pprint (mrp_json)\n",
    "        break"
   ]
  },
  {
   "cell_type": "code",
   "execution_count": 20,
   "metadata": {
    "scrolled": true
   },
   "outputs": [
    {
     "name": "stdout",
     "output_type": "stream",
     "text": [
      "{'edges': [{'label': 'nsubj', 'source': 1, 'target': 0},\n",
      "           {'label': 'nmod', 'source': 9, 'target': 12},\n",
      "           {'label': 'obl', 'source': 1, 'target': 3},\n",
      "           {'label': 'case', 'source': 18, 'target': 16},\n",
      "           {'label': 'case', 'source': 3, 'target': 2},\n",
      "           {'label': 'nmod', 'source': 12, 'target': 15},\n",
      "           {'label': 'compound', 'source': 18, 'target': 17},\n",
      "           {'label': 'obj', 'source': 7, 'target': 9},\n",
      "           {'label': 'det', 'source': 12, 'target': 11},\n",
      "           {'label': 'det', 'source': 15, 'target': 14},\n",
      "           {'label': 'obl', 'source': 1, 'target': 5},\n",
      "           {'label': 'det', 'source': 9, 'target': 8},\n",
      "           {'label': 'case', 'source': 12, 'target': 10},\n",
      "           {'label': 'nmod', 'source': 15, 'target': 18},\n",
      "           {'label': 'punct', 'source': 1, 'target': 6},\n",
      "           {'label': 'punct', 'source': 1, 'target': 19},\n",
      "           {'label': 'case', 'source': 5, 'target': 4},\n",
      "           {'label': 'case', 'source': 15, 'target': 13},\n",
      "           {'label': 'xcomp', 'source': 1, 'target': 7}],\n",
      " 'flavor': 0,\n",
      " 'framework': 'conllu',\n",
      " 'id': '502000',\n",
      " 'input': 'Bowie moved to Switzerland in 1976, purchasing a chalet in the '\n",
      "          'hills to the north of Lake Geneva.',\n",
      " 'nodes': [{'anchors': [{'from': 0, 'to': 5}],\n",
      "            'id': 0,\n",
      "            'label': 'Bowie',\n",
      "            'properties': ['lemma', 'upos', 'xpos'],\n",
      "            'values': ['Bowie', 'PROPN', 'NNP']},\n",
      "           {'anchors': [{'from': 6, 'to': 11}],\n",
      "            'id': 1,\n",
      "            'label': 'moved',\n",
      "            'properties': ['lemma', 'upos', 'xpos'],\n",
      "            'values': ['move', 'VERB', 'VBD']},\n",
      "           {'anchors': [{'from': 12, 'to': 14}],\n",
      "            'id': 2,\n",
      "            'label': 'to',\n",
      "            'properties': ['lemma', 'upos', 'xpos'],\n",
      "            'values': ['to', 'ADP', 'TO']},\n",
      "           {'anchors': [{'from': 15, 'to': 26}],\n",
      "            'id': 3,\n",
      "            'label': 'Switzerland',\n",
      "            'properties': ['lemma', 'upos', 'xpos'],\n",
      "            'values': ['Switzerland', 'PROPN', 'NNP']},\n",
      "           {'anchors': [{'from': 27, 'to': 29}],\n",
      "            'id': 4,\n",
      "            'label': 'in',\n",
      "            'properties': ['lemma', 'upos', 'xpos'],\n",
      "            'values': ['in', 'ADP', 'IN']},\n",
      "           {'anchors': [{'from': 30, 'to': 34}],\n",
      "            'id': 5,\n",
      "            'label': '1976',\n",
      "            'properties': ['lemma', 'upos', 'xpos'],\n",
      "            'values': ['1976', 'NUM', 'CD']},\n",
      "           {'anchors': [{'from': 34, 'to': 35}],\n",
      "            'id': 6,\n",
      "            'label': ',',\n",
      "            'properties': ['lemma', 'upos', 'xpos'],\n",
      "            'values': [',', 'PUNCT', ',']},\n",
      "           {'anchors': [{'from': 36, 'to': 46}],\n",
      "            'id': 7,\n",
      "            'label': 'purchasing',\n",
      "            'properties': ['lemma', 'upos', 'xpos'],\n",
      "            'values': ['purchase', 'VERB', 'VBG']},\n",
      "           {'anchors': [{'from': 47, 'to': 48}],\n",
      "            'id': 8,\n",
      "            'label': 'a',\n",
      "            'properties': ['lemma', 'upos', 'xpos'],\n",
      "            'values': ['a', 'DET', 'DT']},\n",
      "           {'anchors': [{'from': 49, 'to': 55}],\n",
      "            'id': 9,\n",
      "            'label': 'chalet',\n",
      "            'properties': ['lemma', 'upos', 'xpos'],\n",
      "            'values': ['chalet', 'NOUN', 'NN']},\n",
      "           {'anchors': [{'from': 56, 'to': 58}],\n",
      "            'id': 10,\n",
      "            'label': 'in',\n",
      "            'properties': ['lemma', 'upos', 'xpos'],\n",
      "            'values': ['in', 'ADP', 'IN']},\n",
      "           {'anchors': [{'from': 59, 'to': 62}],\n",
      "            'id': 11,\n",
      "            'label': 'the',\n",
      "            'properties': ['lemma', 'upos', 'xpos'],\n",
      "            'values': ['the', 'DET', 'DT']},\n",
      "           {'anchors': [{'from': 63, 'to': 68}],\n",
      "            'id': 12,\n",
      "            'label': 'hills',\n",
      "            'properties': ['lemma', 'upos', 'xpos'],\n",
      "            'values': ['hill', 'NOUN', 'NNS']},\n",
      "           {'anchors': [{'from': 69, 'to': 71}],\n",
      "            'id': 13,\n",
      "            'label': 'to',\n",
      "            'properties': ['lemma', 'upos', 'xpos'],\n",
      "            'values': ['to', 'ADP', 'TO']},\n",
      "           {'anchors': [{'from': 72, 'to': 75}],\n",
      "            'id': 14,\n",
      "            'label': 'the',\n",
      "            'properties': ['lemma', 'upos', 'xpos'],\n",
      "            'values': ['the', 'DET', 'DT']},\n",
      "           {'anchors': [{'from': 76, 'to': 81}],\n",
      "            'id': 15,\n",
      "            'label': 'north',\n",
      "            'properties': ['lemma', 'upos', 'xpos'],\n",
      "            'values': ['north', 'NOUN', 'NN']},\n",
      "           {'anchors': [{'from': 82, 'to': 84}],\n",
      "            'id': 16,\n",
      "            'label': 'of',\n",
      "            'properties': ['lemma', 'upos', 'xpos'],\n",
      "            'values': ['of', 'ADP', 'IN']},\n",
      "           {'anchors': [{'from': 85, 'to': 89}],\n",
      "            'id': 17,\n",
      "            'label': 'Lake',\n",
      "            'properties': ['lemma', 'upos', 'xpos'],\n",
      "            'values': ['Lake', 'PROPN', 'NNP']},\n",
      "           {'anchors': [{'from': 90, 'to': 96}],\n",
      "            'id': 18,\n",
      "            'label': 'Geneva',\n",
      "            'properties': ['lemma', 'upos', 'xpos'],\n",
      "            'values': ['Geneva', 'PROPN', 'NNP']},\n",
      "           {'anchors': [{'from': 96, 'to': 97}],\n",
      "            'id': 19,\n",
      "            'label': '.',\n",
      "            'properties': ['lemma', 'upos', 'xpos'],\n",
      "            'values': ['.', 'PUNCT', '.']}],\n",
      " 'time': '2019-05-21 (08:36)',\n",
      " 'tops': [1],\n",
      " 'version': 0.9}\n"
     ]
    }
   ],
   "source": [
    "with open(\"./mrp-companion/2019/companion/udpipe.mrp\",'r') as f:\n",
    "    for line in f:\n",
    "        mrp_json = json.loads(line.strip())\n",
    "        if mrp_json['input']=='Bowie moved to Switzerland in 1976, purchasing a chalet in the hills to the north of Lake Geneva.':\n",
    "            pprint (mrp_json)\n",
    "            break"
   ]
  },
  {
   "cell_type": "code",
   "execution_count": null,
   "metadata": {},
   "outputs": [],
   "source": []
  }
 ],
 "metadata": {
  "kernelspec": {
   "display_name": "Python 3",
   "language": "python",
   "name": "python3"
  },
  "language_info": {
   "codemirror_mode": {
    "name": "ipython",
    "version": 3
   },
   "file_extension": ".py",
   "mimetype": "text/x-python",
   "name": "python",
   "nbconvert_exporter": "python",
   "pygments_lexer": "ipython3",
   "version": "3.6.8"
  }
 },
 "nbformat": 4,
 "nbformat_minor": 2
}
