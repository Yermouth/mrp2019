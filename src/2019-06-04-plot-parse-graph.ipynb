{
 "cells": [
  {
   "cell_type": "code",
   "execution_count": 1,
   "metadata": {},
   "outputs": [],
   "source": [
    "try:\n",
    "    __IPYTHON__\n",
    "    USING_IPYTHON = True\n",
    "except NameError:\n",
    "    USING_IPYTHON = False"
   ]
  },
  {
   "cell_type": "markdown",
   "metadata": {},
   "source": [
    "#### Argparse"
   ]
  },
  {
   "cell_type": "code",
   "execution_count": 296,
   "metadata": {},
   "outputs": [],
   "source": [
    "import argparse\n",
    "ap = argparse.ArgumentParser()\n",
    "ap.add_argument('mrp_data_dir', help='')\n",
    "ap.add_argument('--train-sub-dir', default='training', help='')\n",
    "ap.add_argument('--graphviz-dir', default='graphviz', help='')\n",
    "arg_string = \"\"\"\n",
    "    ./data/\n",
    "\"\"\"\n",
    "arguments = [arg for arg_line in arg_string.split(r'\\\\n') for arg in arg_line.split()]"
   ]
  },
  {
   "cell_type": "code",
   "execution_count": 297,
   "metadata": {},
   "outputs": [],
   "source": [
    "if USING_IPYTHON:\n",
    "    args = ap.parse_args(arguments)\n",
    "else:\n",
    "    args = ap.parse_args()"
   ]
  },
  {
   "cell_type": "code",
   "execution_count": 298,
   "metadata": {},
   "outputs": [
    {
     "data": {
      "text/plain": [
       "Namespace(graphviz_dir='graphviz', mrp_data_dir='./data/', train_sub_dir='training')"
      ]
     },
     "execution_count": 298,
     "metadata": {},
     "output_type": "execute_result"
    }
   ],
   "source": [
    "args"
   ]
  },
  {
   "cell_type": "markdown",
   "metadata": {},
   "source": [
    "#### Library imports"
   ]
  },
  {
   "cell_type": "code",
   "execution_count": 286,
   "metadata": {},
   "outputs": [],
   "source": [
    "import json\n",
    "import logging\n",
    "import os\n",
    "\n",
    "from PIL import Image\n",
    "from matplotlib.pyplot import figure\n",
    "from networkx.drawing.nx_agraph import to_agraph\n",
    "from tqdm import tqdm\n",
    "import matplotlib.pyplot as plt\n",
    "import networkx as nx\n",
    "import numpy as np\n",
    "import plotly.graph_objs as go\n",
    "import pprint"
   ]
  },
  {
   "cell_type": "markdown",
   "metadata": {},
   "source": [
    "#### ipython notebook specific imports"
   ]
  },
  {
   "cell_type": "code",
   "execution_count": 270,
   "metadata": {},
   "outputs": [
    {
     "data": {
      "text/html": [
       "        <script type=\"text/javascript\">\n",
       "        window.PlotlyConfig = {MathJaxConfig: 'local'};\n",
       "        if (window.MathJax) {MathJax.Hub.Config({SVG: {font: \"STIX-Web\"}});}\n",
       "        if (typeof require !== 'undefined') {\n",
       "        require.undef(\"plotly\");\n",
       "        requirejs.config({\n",
       "            paths: {\n",
       "                'plotly': ['https://cdn.plot.ly/plotly-latest.min']\n",
       "            }\n",
       "        });\n",
       "        require(['plotly'], function(Plotly) {\n",
       "            window._Plotly = Plotly;\n",
       "        });\n",
       "        }\n",
       "        </script>\n",
       "        "
      ]
     },
     "metadata": {},
     "output_type": "display_data"
    }
   ],
   "source": [
    "if USING_IPYTHON:\n",
    "    # matplotlib config\n",
    "    %matplotlib inline\n",
    "    \n",
    "    # ipython notebook plotly config\n",
    "    from plotly.offline import download_plotlyjs, init_notebook_mode, plot, iplot\n",
    "    init_notebook_mode(connected=True)\n",
    "else:\n",
    "    from plotly.plotly import plot, iplot"
   ]
  },
  {
   "cell_type": "code",
   "execution_count": 271,
   "metadata": {},
   "outputs": [],
   "source": [
    "logging.basicConfig(level=logging.INFO, handlers=[logging.StreamHandler()])\n",
    "logger = logging.getLogger(__name__)  # pylint: disable=invalid-name\n",
    "logger.setLevel(logging.INFO)"
   ]
  },
  {
   "cell_type": "markdown",
   "metadata": {},
   "source": [
    "### Constants"
   ]
  },
  {
   "cell_type": "code",
   "execution_count": 272,
   "metadata": {},
   "outputs": [],
   "source": [
    "UNKWOWN = 'UNKWOWN'"
   ]
  },
  {
   "cell_type": "markdown",
   "metadata": {},
   "source": [
    "### Load data"
   ]
  },
  {
   "cell_type": "code",
   "execution_count": 273,
   "metadata": {},
   "outputs": [
    {
     "data": {
      "text/plain": [
       "['ucca', 'psd', 'eds', 'dm', 'amr']"
      ]
     },
     "execution_count": 273,
     "metadata": {},
     "output_type": "execute_result"
    }
   ],
   "source": [
    "train_dir = os.path.join(args.mrp_data_dir, args.train_sub_dir)\n",
    "frameworks = [sub_dir for sub_dir in os.listdir(train_dir) if os.path.isdir(os.path.join(train_dir, sub_dir))]\n",
    "frameworks"
   ]
  },
  {
   "cell_type": "code",
   "execution_count": 344,
   "metadata": {
    "scrolled": true
   },
   "outputs": [
    {
     "name": "stderr",
     "output_type": "stream",
     "text": [
      "\n",
      "\n",
      "\n",
      "\n",
      "\n",
      "\n",
      "\n",
      "\n",
      "frameworks:   0%|          | 0/5 [00:00<?, ?it/s]\u001b[A\u001b[A\u001b[A\u001b[A\u001b[A\u001b[A\u001b[A\u001b[A\n",
      "\n",
      "\n",
      "\n",
      "\n",
      "\n",
      "\n",
      "\n",
      "\n",
      "dataset_name:   0%|          | 0/2 [00:00<?, ?it/s]\u001b[A\u001b[A\u001b[A\u001b[A\u001b[A\u001b[A\u001b[A\u001b[A\u001b[A\n",
      "\n",
      "\n",
      "\n",
      "\n",
      "\n",
      "\n",
      "\n",
      "\n",
      "dataset_name:  50%|█████     | 1/2 [00:00<00:00,  3.56it/s]\u001b[A\u001b[A\u001b[A\u001b[A\u001b[A\u001b[A\u001b[A\u001b[A\u001b[A\n",
      "\n",
      "\n",
      "\n",
      "\n",
      "\n",
      "\n",
      "\n",
      "\n",
      "dataset_name: 100%|██████████| 2/2 [00:00<00:00,  3.66it/s]\u001b[A\u001b[A\u001b[A\u001b[A\u001b[A\u001b[A\u001b[A\u001b[A\u001b[A\n",
      "\n",
      "\n",
      "\n",
      "\n",
      "\n",
      "\n",
      "\n",
      "frameworks:  20%|██        | 1/5 [00:00<00:02,  1.84it/s]\u001b[A\u001b[A\u001b[A\u001b[A\u001b[A\u001b[A\u001b[A\u001b[A\n",
      "\n",
      "\n",
      "\n",
      "\n",
      "\n",
      "\n",
      "\n",
      "\n",
      "dataset_name:   0%|          | 0/1 [00:00<?, ?it/s]\u001b[A\u001b[A\u001b[A\u001b[A\u001b[A\u001b[A\u001b[A\u001b[A\u001b[A\n",
      "\n",
      "\n",
      "\n",
      "\n",
      "\n",
      "\n",
      "\n",
      "\n",
      "dataset_name: 100%|██████████| 1/1 [00:09<00:00,  9.27s/it]\u001b[A\u001b[A\u001b[A\u001b[A\u001b[A\u001b[A\u001b[A\u001b[A\u001b[A\n",
      "\n",
      "\n",
      "\n",
      "\n",
      "\n",
      "\n",
      "\n",
      "frameworks:  40%|████      | 2/5 [00:09<00:09,  3.16s/it]\u001b[A\u001b[A\u001b[A\u001b[A\u001b[A\u001b[A\u001b[A\u001b[A\n",
      "\n",
      "\n",
      "\n",
      "\n",
      "\n",
      "\n",
      "\n",
      "\n",
      "dataset_name:   0%|          | 0/1 [00:00<?, ?it/s]\u001b[A\u001b[A\u001b[A\u001b[A\u001b[A\u001b[A\u001b[A\u001b[A\u001b[A\n",
      "\n",
      "\n",
      "\n",
      "\n",
      "\n",
      "\n",
      "\n",
      "\n",
      "dataset_name: 100%|██████████| 1/1 [00:02<00:00,  2.77s/it]\u001b[A\u001b[A\u001b[A\u001b[A\u001b[A\u001b[A\u001b[A\u001b[A\u001b[A\n",
      "\n",
      "\n",
      "\n",
      "\n",
      "\n",
      "\n",
      "\n",
      "frameworks:  60%|██████    | 3/5 [00:12<00:06,  3.05s/it]\u001b[A\u001b[A\u001b[A\u001b[A\u001b[A\u001b[A\u001b[A\u001b[A\n",
      "\n",
      "\n",
      "\n",
      "\n",
      "\n",
      "\n",
      "\n",
      "\n",
      "dataset_name:   0%|          | 0/1 [00:00<?, ?it/s]\u001b[A\u001b[A\u001b[A\u001b[A\u001b[A\u001b[A\u001b[A\u001b[A\u001b[A\n",
      "\n",
      "\n",
      "\n",
      "\n",
      "\n",
      "\n",
      "\n",
      "\n",
      "dataset_name: 100%|██████████| 1/1 [00:11<00:00, 11.06s/it]\u001b[A\u001b[A\u001b[A\u001b[A\u001b[A\u001b[A\u001b[A\u001b[A\u001b[A\n",
      "\n",
      "\n",
      "\n",
      "\n",
      "\n",
      "\n",
      "\n",
      "frameworks:  80%|████████  | 4/5 [00:23<00:05,  5.46s/it]\u001b[A\u001b[A\u001b[A\u001b[A\u001b[A\u001b[A\u001b[A\u001b[A\n",
      "\n",
      "\n",
      "\n",
      "\n",
      "\n",
      "\n",
      "\n",
      "\n",
      "dataset_name:   0%|          | 0/14 [00:00<?, ?it/s]\u001b[A\u001b[A\u001b[A\u001b[A\u001b[A\u001b[A\u001b[A\u001b[A\u001b[A\n",
      "\n",
      "\n",
      "\n",
      "\n",
      "\n",
      "\n",
      "\n",
      "\n",
      "dataset_name:  36%|███▌      | 5/14 [00:00<00:00, 47.19it/s]\u001b[A\u001b[A\u001b[A\u001b[A\u001b[A\u001b[A\u001b[A\u001b[A\u001b[A\n",
      "\n",
      "\n",
      "\n",
      "\n",
      "\n",
      "\n",
      "\n",
      "\n",
      "dataset_name:  50%|█████     | 7/14 [00:00<00:00, 20.99it/s]\u001b[A\u001b[A\u001b[A\u001b[A\u001b[A\u001b[A\u001b[A\u001b[A\u001b[A\n",
      "\n",
      "\n",
      "\n",
      "\n",
      "\n",
      "\n",
      "\n",
      "\n",
      "dataset_name:  64%|██████▍   | 9/14 [00:00<00:00, 16.55it/s]\u001b[A\u001b[A\u001b[A\u001b[A\u001b[A\u001b[A\u001b[A\u001b[A\u001b[A\n",
      "\n",
      "\n",
      "\n",
      "\n",
      "\n",
      "\n",
      "\n",
      "\n",
      "dataset_name:  79%|███████▊  | 11/14 [00:01<00:00,  5.04it/s]\u001b[A\u001b[A\u001b[A\u001b[A\u001b[A\u001b[A\u001b[A\u001b[A\u001b[A\n",
      "\n",
      "\n",
      "\n",
      "\n",
      "\n",
      "\n",
      "\n",
      "\n",
      "dataset_name: 100%|██████████| 14/14 [00:01<00:00,  8.50it/s]\u001b[A\u001b[A\u001b[A\u001b[A\u001b[A\u001b[A\u001b[A\u001b[A\u001b[A\n",
      "\n",
      "\n",
      "\n",
      "\n",
      "\n",
      "\n",
      "\n",
      "frameworks: 100%|██████████| 5/5 [00:25<00:00,  4.32s/it]\u001b[A\u001b[A\u001b[A\u001b[A\u001b[A\u001b[A\u001b[A\u001b[A"
     ]
    }
   ],
   "source": [
    "framework2dataset2mrp_jsons = {}\n",
    "for framework in tqdm(frameworks, desc='frameworks'):\n",
    "    dataset2mrp_jsons = {}\n",
    "    framework_dir = os.path.join(train_dir, framework)\n",
    "    dataset_names = os.listdir(framework_dir)\n",
    "    \n",
    "    for dataset_name in tqdm(dataset_names, desc='dataset_name'):\n",
    "        mrp_jsons = []\n",
    "        with open(os.path.join(framework_dir, dataset_name)) as rf:\n",
    "            for line in rf:\n",
    "                mrp_json = json.loads(line.strip())\n",
    "                if framework == 'ucca' and 'nodes' in mrp_json and 'input' in mrp_json:\n",
    "                    input_text = mrp_json['input']\n",
    "                    nodes = mrp_json['nodes']\n",
    "                    for i, node in enumerate(nodes):\n",
    "                        if 'anchors' not in node:\n",
    "                            continue\n",
    "                        text_segments = []\n",
    "                        for anchor in node['anchors']:\n",
    "                            text_segments.append(input_text[anchor.get('from', -1): anchor.get('to', -1)])\n",
    "                        mrp_json['nodes'][i]['label'] = ''.join(text_segments)\n",
    "                        \n",
    "                mrp_jsons.append(mrp_json)\n",
    "        dataset2mrp_jsons[dataset_name] = mrp_jsons\n",
    "                \n",
    "    framework2dataset2mrp_jsons[framework] = dataset2mrp_jsons"
   ]
  },
  {
   "cell_type": "code",
   "execution_count": 318,
   "metadata": {},
   "outputs": [
    {
     "name": "stderr",
     "output_type": "stream",
     "text": [
      "INFO:__main__:ucca\n",
      "INFO:__main__:['wiki.mrp', 'ewt.mrp']\n",
      "INFO:__main__:psd\n",
      "INFO:__main__:['wsj.mrp']\n",
      "INFO:__main__:eds\n",
      "INFO:__main__:['wsj.mrp']\n",
      "INFO:__main__:dm\n",
      "INFO:__main__:['wsj.mrp']\n",
      "INFO:__main__:amr\n",
      "INFO:__main__:['xinhua.mrp', 'wsj.mrp', 'wiki.mrp', 'wb.mrp', 'rte.mrp', 'proxy.mrp', 'mt09sdl.mrp', 'lorelei.mrp', 'fables.mrp', 'dfb.mrp', 'dfa.mrp', 'cctv.mrp', 'bolt.mrp', 'amr-guidelines.mrp']\n"
     ]
    }
   ],
   "source": [
    "for framework in framework2dataset2mrp_jsons:\n",
    "    logger.info(framework)\n",
    "    logger.info(list(framework2dataset2mrp_jsons[framework].keys()))"
   ]
  },
  {
   "cell_type": "markdown",
   "metadata": {},
   "source": [
    "### Visualization"
   ]
  },
  {
   "cell_type": "code",
   "execution_count": 497,
   "metadata": {},
   "outputs": [],
   "source": [
    "HIDE_FIELD_SET = set(['anchors', 'source', 'target', 'label'])"
   ]
  },
  {
   "cell_type": "code",
   "execution_count": 498,
   "metadata": {},
   "outputs": [],
   "source": [
    "def add_nodes_to_directed_graph(nodes, dg):\n",
    "    for node in nodes:\n",
    "        node_id = node.get('id', -1)\n",
    "        dg.add_node(node_id)\n",
    "        info_texts = [node.get('label', '')] + [str((key[:3], value)) for key, value in node.items() if key not in HIDE_FIELD_SET]\n",
    "        dg.nodes[node_id]['label'] = '\\n'.join(info_texts)\n",
    "#         for key, value in node.items():\n",
    "#             dg.nodes[node_id][key] = value"
   ]
  },
  {
   "cell_type": "code",
   "execution_count": 499,
   "metadata": {},
   "outputs": [],
   "source": [
    "def add_edges_to_directed_graph(edges, dg):\n",
    "    for edge in edges:\n",
    "        edge_source = edge.get('source', -1)\n",
    "        edge_target = edge.get('target', -1)\n",
    "        dg.add_edge(edge_source, edge_target)\n",
    "        info_texts = [edge.get('label', '')] + [str((key[:3], value)) for key, value in edge.items() if key not in HIDE_FIELD_SET]\n",
    "        dg[edge_source][edge_target]['label'] = '\\n'.join(info_texts)\n",
    "#         for key, value in edge.items():\n",
    "#             dg[edge_source][edge_target][key] = value"
   ]
  },
  {
   "cell_type": "code",
   "execution_count": 500,
   "metadata": {},
   "outputs": [],
   "source": [
    "def mrp_json_to_directed_graph(mrp_json):\n",
    "    dg = nx.DiGraph()\n",
    "    nodes = mrp_json.get('nodes', [])\n",
    "    edges = mrp_json.get('edges', [])\n",
    "    add_nodes_to_directed_graph(nodes, dg)\n",
    "    add_edges_to_directed_graph(edges, dg)\n",
    "    return dg"
   ]
  },
  {
   "cell_type": "code",
   "execution_count": 501,
   "metadata": {},
   "outputs": [
    {
     "data": {
      "text/plain": [
       "<Figure size 2000x2000 with 0 Axes>"
      ]
     },
     "execution_count": 501,
     "metadata": {},
     "output_type": "execute_result"
    },
    {
     "data": {
      "text/plain": [
       "<Figure size 2000x2000 with 0 Axes>"
      ]
     },
     "metadata": {},
     "output_type": "display_data"
    }
   ],
   "source": [
    "figure(num=None, figsize=(4, 4), dpi=500, facecolor='w', edgecolor='k')"
   ]
  },
  {
   "cell_type": "code",
   "execution_count": 502,
   "metadata": {},
   "outputs": [],
   "source": [
    "def draw_graphviz(mrp_json, dataset_dir):\n",
    "    mrp_id = mrp_json.get('id', UNKWOWN)\n",
    "    dg = mrp_json_to_directed_graph(mrp_json)\n",
    "    save_name = os.path.join(dataset_dir, mrp_id)\n",
    "    dg2graphviz_image(dg, save_name)"
   ]
  },
  {
   "cell_type": "code",
   "execution_count": 503,
   "metadata": {},
   "outputs": [],
   "source": [
    "def dg2graphviz_image(dg, save_name, layout='dot', verbose=0):\n",
    "    ag = to_agraph(dg)\n",
    "    ag.layout(layout)\n",
    "    image_name = '{}.png'.format(save_name)\n",
    "    ag.draw(image_name)\n",
    "    if verbose and USING_IPYTHON:\n",
    "        pil_im = Image.open(image_name, 'r')\n",
    "        plt.imshow(pil_im)"
   ]
  },
  {
   "cell_type": "code",
   "execution_count": 505,
   "metadata": {},
   "outputs": [],
   "source": [
    "# draw_graphviz(mrp_json, './')"
   ]
  },
  {
   "cell_type": "code",
   "execution_count": null,
   "metadata": {
    "scrolled": true
   },
   "outputs": [
    {
     "name": "stderr",
     "output_type": "stream",
     "text": [
      "\n",
      "\n",
      "\n",
      "\n",
      "\n",
      "\n",
      "\n",
      "\n",
      "\n",
      "\n",
      "\n",
      "\n",
      "\n",
      "\n",
      "\n",
      "\n",
      "\n",
      "\n",
      "\n",
      "frameworks:   0%|          | 0/5 [00:00<?, ?it/s]\u001b[A\u001b[A\u001b[A\u001b[A\u001b[A\u001b[A\u001b[A\u001b[A\u001b[A\u001b[A\u001b[A\u001b[A\u001b[A\u001b[A\u001b[A\u001b[A\u001b[A\u001b[A\u001b[A\n",
      "\n",
      "\n",
      "\n",
      "\n",
      "\n",
      "\n",
      "\n",
      "\n",
      "\n",
      "\n",
      "\n",
      "\n",
      "\n",
      "\n",
      "\n",
      "\n",
      "\n",
      "\n",
      "\n",
      "dataset_name:   0%|          | 0/2 [00:00<?, ?it/s]\u001b[A\u001b[A\u001b[A\u001b[A\u001b[A\u001b[A\u001b[A\u001b[A\u001b[A\u001b[A\u001b[A\u001b[A\u001b[A\u001b[A\u001b[A\u001b[A\u001b[A\u001b[A\u001b[A\u001b[A"
     ]
    }
   ],
   "source": [
    "for framework in tqdm(frameworks, desc='frameworks'):\n",
    "    framework_dir = os.path.join(train_dir, framework)\n",
    "    dataset_names = os.listdir(framework_dir)\n",
    "    graphviz_framework_dir = os.path.join(args.graphviz_dir, framework)\n",
    "    os.makedirs(graphviz_framework_dir, exist_ok=True)\n",
    "    \n",
    "    dataset2mrp_jsons = framework2dataset2mrp_jsons[framework]\n",
    "    for dataset, mrp_jsons in tqdm(dataset2mrp_jsons.items(), desc='dataset_name'):\n",
    "        graphviz_dataset_dir = os.path.join(graphviz_framework_dir, dataset)\n",
    "        os.makedirs(graphviz_dataset_dir, exist_ok=True)\n",
    "        for mrp_json in mrp_jsons:\n",
    "            draw_graphviz(mrp_json, graphviz_dataset_dir)"
   ]
  },
  {
   "cell_type": "code",
   "execution_count": 350,
   "metadata": {
    "scrolled": true
   },
   "outputs": [
    {
     "data": {
      "text/plain": [
       "dict_keys(['ucca', 'psd', 'eds', 'dm', 'amr'])"
      ]
     },
     "execution_count": 350,
     "metadata": {},
     "output_type": "execute_result"
    }
   ],
   "source": [
    "framework2dataset2mrp_jsons.keys()"
   ]
  },
  {
   "cell_type": "code",
   "execution_count": 351,
   "metadata": {},
   "outputs": [],
   "source": [
    "mrp_json = framework2dataset2mrp_jsons['ucca']['wiki.mrp'][1]"
   ]
  },
  {
   "cell_type": "code",
   "execution_count": null,
   "metadata": {},
   "outputs": [],
   "source": []
  },
  {
   "cell_type": "markdown",
   "metadata": {},
   "source": [
    "### Interactive drawing using plotly"
   ]
  },
  {
   "cell_type": "code",
   "execution_count": 253,
   "metadata": {},
   "outputs": [],
   "source": [
    "# prog list: neato, dot, twopi, circo, fdp, nop, wc, acyclic, gvpr, gvcolor, ccomps, sccmap, tred, sfdp, unflatten\n",
    "poss = nx.nx_agraph.graphviz_layout(dg, prog='dot')"
   ]
  },
  {
   "cell_type": "code",
   "execution_count": 254,
   "metadata": {},
   "outputs": [],
   "source": [
    "def info_dict2plotly_text(info_dict):\n",
    "    key_value_texts = []\n",
    "    for key, value in info_dict.items():\n",
    "        key_value_texts.append('{}: {}'.format(key, value))\n",
    "    return '<br />'.join(key_value_texts)"
   ]
  },
  {
   "cell_type": "code",
   "execution_count": 255,
   "metadata": {},
   "outputs": [],
   "source": [
    "# Draw Edge\n",
    "edge_trace = go.Scatter(\n",
    "    x=[],\n",
    "    y=[],\n",
    "    text=[],\n",
    "    line=dict(width=0.5,color='#888'),\n",
    "    hoverinfo='none',\n",
    "    mode='lines')\n",
    "\n",
    "for source, target in dg.edges():\n",
    "    x0, y0 = poss[source]\n",
    "    x1, y1 = poss[target]\n",
    "    edge_trace['x'] += tuple([x0, x1, None])\n",
    "    edge_trace['y'] += tuple([y0, y1, None])\n",
    "    \n",
    "# Draw Edge info node\n",
    "edge_info_node_trace = go.Scatter(\n",
    "    x=[],\n",
    "    y=[],\n",
    "    text=[],\n",
    "    hovertext=[],\n",
    "    mode='markers+text',\n",
    "    hoverinfo='text',\n",
    "    marker=dict(\n",
    "        color=[],\n",
    "        size=10,\n",
    "        opacity=0.01,\n",
    "        colorbar=dict(\n",
    "            thickness=15,\n",
    "            title='Node Connections',\n",
    "            xanchor='left',\n",
    "            titleside='right',\n",
    "        ),\n",
    "        line=dict(width=2)))\n",
    "\n",
    "for source, target in dg.edges():\n",
    "    x0, y0 = poss[source]\n",
    "    x1, y1 = poss[target]\n",
    "    edge_info_node_trace['x'] += tuple([(x0 + x1) / 2])\n",
    "    edge_info_node_trace['y'] += tuple([(y0 + y1) / 2])\n",
    "    edge_info_node_trace['text'] += tuple([dg[source][target].get('label')])\n",
    "    edge_info_node_trace['hovertext'] += tuple([info_dict2plotly_text(dg[source][target])])\n",
    "\n",
    "    \n",
    "# Draw Node\n",
    "node_trace = go.Scatter(\n",
    "    x=[],\n",
    "    y=[],\n",
    "    text=[],\n",
    "    hovertext=[],\n",
    "    mode='markers+text',\n",
    "    hoverinfo='text',\n",
    "    marker=dict(\n",
    "        showscale=True,\n",
    "        # colorscale options\n",
    "        #'Greys' | 'YlGnBu' | 'Greens' | 'YlOrRd' | 'Bluered' | 'RdBu' |\n",
    "        #'Reds' | 'Blues' | 'Picnic' | 'Rainbow' | 'Portland' | 'Jet' |\n",
    "        #'Hot' | 'Blackbody' | 'Earth' | 'Electric' | 'Viridis' |\n",
    "        colorscale='YlGnBu',\n",
    "        reversescale=True,\n",
    "        color=[],\n",
    "        size=0.5,\n",
    "        colorbar=dict(\n",
    "            thickness=15,\n",
    "            title='Node Connections',\n",
    "            xanchor='left',\n",
    "            titleside='right'\n",
    "        ),\n",
    "        line=dict(width=2)))\n",
    "\n",
    "for node in dg.nodes():\n",
    "    x, y = poss[node]\n",
    "    node_trace['x'] += tuple([x])\n",
    "    node_trace['y'] += tuple([y])\n",
    "    node_trace['text'] += tuple(['{} ({})'.format(dg.nodes[node].get('label'), dg.nodes[node].get('values', [''])[0])])\n",
    "    node_trace['hovertext'] += tuple([info_dict2plotly_text(dg.nodes[node])])\n",
    "    \n",
    "# for node, adjacencies in enumerate(dg.adjacency()):\n",
    "#     node_trace['marker']['color']+=tuple([len(adjacencies[1])])\n",
    "#     node_info = '# of connections: '+str(len(adjacencies[1]))\n",
    "#     node_trace['text']+=tuple([node_info])"
   ]
  },
  {
   "cell_type": "code",
   "execution_count": null,
   "metadata": {},
   "outputs": [],
   "source": []
  },
  {
   "cell_type": "code",
   "execution_count": 256,
   "metadata": {},
   "outputs": [
    {
     "data": {
      "application/vnd.plotly.v1+json": {
       "config": {
        "linkText": "Export to plot.ly",
        "plotlyServerURL": "https://plot.ly",
        "showLink": false
       },
       "data": [
        {
         "hoverinfo": "none",
         "line": {
          "color": "#888",
          "width": 0.5
         },
         "mode": "lines",
         "text": [],
         "type": "scatter",
         "uid": "14ae4e84-be2b-4345-9376-2471fca501fb",
         "x": [
          106.25,
          155.25,
          null,
          106.25,
          55.245,
          null,
          55.245,
          211.25,
          null,
          211.25,
          286.25,
          null,
          286.25,
          297.25,
          null,
          297.25,
          297.25,
          null,
          297.25,
          394.25,
          null,
          155.25,
          198.25,
          null,
          155.25,
          211.25,
          null,
          155.25,
          261.25,
          null,
          198.25,
          211.25,
          null,
          261.25,
          211.25,
          null,
          261.25,
          335.25,
          null,
          335.25,
          410.25,
          null,
          335.25,
          336.25,
          null,
          410.25,
          394.25,
          null,
          336.25,
          211.25,
          null
         ],
         "y": [
          777,
          690,
          null,
          777,
          636,
          null,
          636,
          279,
          null,
          279,
          192,
          null,
          192,
          105,
          null,
          105,
          18,
          null,
          105,
          18,
          null,
          690,
          528,
          null,
          690,
          279,
          null,
          690,
          582,
          null,
          528,
          279,
          null,
          582,
          279,
          null,
          582,
          474,
          null,
          474,
          333,
          null,
          474,
          387,
          null,
          333,
          18,
          null,
          387,
          279,
          null
         ]
        },
        {
         "hoverinfo": "text",
         "hovertext": [
          "id: 0<br />label: and",
          "id: 1<br />label: carnivore",
          "id: 2<br />label: plant",
          "id: 3<br />label: resemble-01",
          "id: 4<br />label: plant",
          "id: 5<br />label: all",
          "id: 6<br />label: use-01",
          "id: 7<br />label: nectar",
          "id: 8<br />label: attract-01",
          "id: 9<br />label: insect",
          "id: 10<br />label: drown-02",
          "id: 11<br />label: pitcher",
          "id: 12<br />label: digest-01"
         ],
         "marker": {
          "color": [],
          "colorbar": {
           "thickness": 15,
           "title": {
            "side": "right",
            "text": "Node Connections"
           },
           "xanchor": "left"
          },
          "colorscale": "YlGnBu",
          "line": {
           "width": 2
          },
          "reversescale": true,
          "showscale": true,
          "size": 0.5
         },
         "mode": "markers+text",
         "text": [
          "and ()",
          "carnivore ()",
          "plant ()",
          "resemble-01 ()",
          "plant ()",
          "all ()",
          "use-01 ()",
          "nectar ()",
          "attract-01 ()",
          "insect ()",
          "drown-02 ()",
          "pitcher ()",
          "digest-01 ()"
         ],
         "type": "scatter",
         "uid": "9ba9e2e7-ba9f-469f-bf99-719b0c5be231",
         "x": [
          106.25,
          55.245,
          211.25,
          286.25,
          297.25,
          297.25,
          155.25,
          198.25,
          261.25,
          335.25,
          410.25,
          394.25,
          336.25
         ],
         "y": [
          777,
          636,
          279,
          192,
          105,
          18,
          690,
          528,
          582,
          474,
          333,
          18,
          387
         ]
        },
        {
         "hoverinfo": "text",
         "hovertext": [
          "source: 0<br />target: 6<br />label: op2",
          "source: 0<br />target: 1<br />label: op1",
          "source: 1<br />target: 2<br />label: domain",
          "source: 2<br />target: 3<br />label: ARG1-of<br />normal: ARG1",
          "source: 3<br />target: 4<br />label: ARG2",
          "source: 4<br />target: 5<br />label: mod<br />normal: domain",
          "source: 4<br />target: 11<br />label: mod<br />normal: domain",
          "source: 6<br />target: 7<br />label: ARG1",
          "source: 6<br />target: 2<br />label: ARG0",
          "source: 6<br />target: 8<br />label: ARG2",
          "source: 7<br />target: 2<br />label: poss",
          "source: 8<br />target: 2<br />label: ARG0",
          "source: 8<br />target: 9<br />label: ARG1",
          "source: 9<br />target: 10<br />label: ARG1-of<br />normal: ARG1",
          "source: 9<br />target: 12<br />label: ARG1-of<br />normal: ARG1",
          "source: 10<br />target: 11<br />label: location",
          "source: 12<br />target: 2<br />label: ARG0"
         ],
         "marker": {
          "color": [],
          "colorbar": {
           "thickness": 15,
           "title": {
            "side": "right",
            "text": "Node Connections"
           },
           "xanchor": "left"
          },
          "line": {
           "width": 2
          },
          "opacity": 0.01,
          "size": 10
         },
         "mode": "markers+text",
         "text": [
          "op2",
          "op1",
          "domain",
          "ARG1-of",
          "ARG2",
          "mod",
          "mod",
          "ARG1",
          "ARG0",
          "ARG2",
          "poss",
          "ARG0",
          "ARG1",
          "ARG1-of",
          "ARG1-of",
          "location",
          "ARG0"
         ],
         "type": "scatter",
         "uid": "0752f6d2-2626-4324-9a1b-a808bbcb3397",
         "x": [
          130.75,
          80.7475,
          133.2475,
          248.75,
          291.75,
          297.25,
          345.75,
          176.75,
          183.25,
          208.25,
          204.75,
          236.25,
          298.25,
          372.75,
          335.75,
          402.25,
          273.75
         ],
         "y": [
          733.5,
          706.5,
          457.5,
          235.5,
          148.5,
          61.5,
          61.5,
          609,
          484.5,
          636,
          403.5,
          430.5,
          528,
          403.5,
          430.5,
          175.5,
          333
         ]
        }
       ],
       "layout": {
        "annotations": [
         {
          "showarrow": false,
          "text": "\n        Python code: <a href='https://plot.ly/ipython-notebooks/network-graphs/'> \n        https://plot.ly/ipython-notebooks/network-graphs/</a>",
          "x": 0.005,
          "xref": "paper",
          "y": -0.002,
          "yref": "paper"
         }
        ],
        "hovermode": "closest",
        "margin": {
         "b": 20,
         "l": 5,
         "r": 5,
         "t": 40
        },
        "showlegend": false,
        "title": {
         "font": {
          "size": 16
         },
         "text": "<br>Network graph made with Python"
        },
        "xaxis": {
         "showgrid": false,
         "showticklabels": false,
         "zeroline": false
        },
        "yaxis": {
         "showgrid": false,
         "showticklabels": false,
         "zeroline": false
        }
       }
      },
      "text/html": [
       "<div>\n",
       "        \n",
       "        \n",
       "            <div id=\"a9bdd8c6-6e18-425f-ac98-574ab9211d0a\" class=\"plotly-graph-div\" style=\"height:525px; width:100%;\"></div>\n",
       "            <script type=\"text/javascript\">\n",
       "                require([\"plotly\"], function(Plotly) {\n",
       "                    window.PLOTLYENV=window.PLOTLYENV || {};\n",
       "                    window.PLOTLYENV.BASE_URL='https://plot.ly';\n",
       "                    \n",
       "                if (document.getElementById(\"a9bdd8c6-6e18-425f-ac98-574ab9211d0a\")) {\n",
       "                    Plotly.newPlot(\n",
       "                        'a9bdd8c6-6e18-425f-ac98-574ab9211d0a',\n",
       "                        [{\"hoverinfo\": \"none\", \"line\": {\"color\": \"#888\", \"width\": 0.5}, \"mode\": \"lines\", \"text\": [], \"type\": \"scatter\", \"uid\": \"14ae4e84-be2b-4345-9376-2471fca501fb\", \"x\": [106.25, 155.25, null, 106.25, 55.245, null, 55.245, 211.25, null, 211.25, 286.25, null, 286.25, 297.25, null, 297.25, 297.25, null, 297.25, 394.25, null, 155.25, 198.25, null, 155.25, 211.25, null, 155.25, 261.25, null, 198.25, 211.25, null, 261.25, 211.25, null, 261.25, 335.25, null, 335.25, 410.25, null, 335.25, 336.25, null, 410.25, 394.25, null, 336.25, 211.25, null], \"y\": [777.0, 690.0, null, 777.0, 636.0, null, 636.0, 279.0, null, 279.0, 192.0, null, 192.0, 105.0, null, 105.0, 18.0, null, 105.0, 18.0, null, 690.0, 528.0, null, 690.0, 279.0, null, 690.0, 582.0, null, 528.0, 279.0, null, 582.0, 279.0, null, 582.0, 474.0, null, 474.0, 333.0, null, 474.0, 387.0, null, 333.0, 18.0, null, 387.0, 279.0, null]}, {\"hoverinfo\": \"text\", \"hovertext\": [\"id: 0<br />label: and\", \"id: 1<br />label: carnivore\", \"id: 2<br />label: plant\", \"id: 3<br />label: resemble-01\", \"id: 4<br />label: plant\", \"id: 5<br />label: all\", \"id: 6<br />label: use-01\", \"id: 7<br />label: nectar\", \"id: 8<br />label: attract-01\", \"id: 9<br />label: insect\", \"id: 10<br />label: drown-02\", \"id: 11<br />label: pitcher\", \"id: 12<br />label: digest-01\"], \"marker\": {\"color\": [], \"colorbar\": {\"thickness\": 15, \"title\": {\"side\": \"right\", \"text\": \"Node Connections\"}, \"xanchor\": \"left\"}, \"colorscale\": \"YlGnBu\", \"line\": {\"width\": 2}, \"reversescale\": true, \"showscale\": true, \"size\": 0.5}, \"mode\": \"markers+text\", \"text\": [\"and ()\", \"carnivore ()\", \"plant ()\", \"resemble-01 ()\", \"plant ()\", \"all ()\", \"use-01 ()\", \"nectar ()\", \"attract-01 ()\", \"insect ()\", \"drown-02 ()\", \"pitcher ()\", \"digest-01 ()\"], \"type\": \"scatter\", \"uid\": \"9ba9e2e7-ba9f-469f-bf99-719b0c5be231\", \"x\": [106.25, 55.245, 211.25, 286.25, 297.25, 297.25, 155.25, 198.25, 261.25, 335.25, 410.25, 394.25, 336.25], \"y\": [777.0, 636.0, 279.0, 192.0, 105.0, 18.0, 690.0, 528.0, 582.0, 474.0, 333.0, 18.0, 387.0]}, {\"hoverinfo\": \"text\", \"hovertext\": [\"source: 0<br />target: 6<br />label: op2\", \"source: 0<br />target: 1<br />label: op1\", \"source: 1<br />target: 2<br />label: domain\", \"source: 2<br />target: 3<br />label: ARG1-of<br />normal: ARG1\", \"source: 3<br />target: 4<br />label: ARG2\", \"source: 4<br />target: 5<br />label: mod<br />normal: domain\", \"source: 4<br />target: 11<br />label: mod<br />normal: domain\", \"source: 6<br />target: 7<br />label: ARG1\", \"source: 6<br />target: 2<br />label: ARG0\", \"source: 6<br />target: 8<br />label: ARG2\", \"source: 7<br />target: 2<br />label: poss\", \"source: 8<br />target: 2<br />label: ARG0\", \"source: 8<br />target: 9<br />label: ARG1\", \"source: 9<br />target: 10<br />label: ARG1-of<br />normal: ARG1\", \"source: 9<br />target: 12<br />label: ARG1-of<br />normal: ARG1\", \"source: 10<br />target: 11<br />label: location\", \"source: 12<br />target: 2<br />label: ARG0\"], \"marker\": {\"color\": [], \"colorbar\": {\"thickness\": 15, \"title\": {\"side\": \"right\", \"text\": \"Node Connections\"}, \"xanchor\": \"left\"}, \"line\": {\"width\": 2}, \"opacity\": 0.01, \"size\": 10}, \"mode\": \"markers+text\", \"text\": [\"op2\", \"op1\", \"domain\", \"ARG1-of\", \"ARG2\", \"mod\", \"mod\", \"ARG1\", \"ARG0\", \"ARG2\", \"poss\", \"ARG0\", \"ARG1\", \"ARG1-of\", \"ARG1-of\", \"location\", \"ARG0\"], \"type\": \"scatter\", \"uid\": \"0752f6d2-2626-4324-9a1b-a808bbcb3397\", \"x\": [130.75, 80.7475, 133.2475, 248.75, 291.75, 297.25, 345.75, 176.75, 183.25, 208.25, 204.75, 236.25, 298.25, 372.75, 335.75, 402.25, 273.75], \"y\": [733.5, 706.5, 457.5, 235.5, 148.5, 61.5, 61.5, 609.0, 484.5, 636.0, 403.5, 430.5, 528.0, 403.5, 430.5, 175.5, 333.0]}],\n",
       "                        {\"annotations\": [{\"showarrow\": false, \"text\": \"\\n        Python code: <a href='https://plot.ly/ipython-notebooks/network-graphs/'> \\n        https://plot.ly/ipython-notebooks/network-graphs/</a>\", \"x\": 0.005, \"xref\": \"paper\", \"y\": -0.002, \"yref\": \"paper\"}], \"hovermode\": \"closest\", \"margin\": {\"b\": 20, \"l\": 5, \"r\": 5, \"t\": 40}, \"showlegend\": false, \"title\": {\"font\": {\"size\": 16}, \"text\": \"<br>Network graph made with Python\"}, \"xaxis\": {\"showgrid\": false, \"showticklabels\": false, \"zeroline\": false}, \"yaxis\": {\"showgrid\": false, \"showticklabels\": false, \"zeroline\": false}},\n",
       "                        {\"showLink\": false, \"linkText\": \"Export to plot.ly\", \"plotlyServerURL\": \"https://plot.ly\", \"responsive\": true}\n",
       "                    ).then(function(){\n",
       "                            \n",
       "var gd = document.getElementById('a9bdd8c6-6e18-425f-ac98-574ab9211d0a');\n",
       "var x = new MutationObserver(function (mutations, observer) {{\n",
       "        var display = window.getComputedStyle(gd).display;\n",
       "        if (!display || display === 'none') {{\n",
       "            console.log([gd, 'removed!']);\n",
       "            Plotly.purge(gd);\n",
       "            observer.disconnect();\n",
       "        }}\n",
       "}});\n",
       "\n",
       "// Listen for the removal of the full notebook cells\n",
       "var notebookContainer = gd.closest('#notebook-container');\n",
       "if (notebookContainer) {{\n",
       "    x.observe(notebookContainer, {childList: true});\n",
       "}}\n",
       "\n",
       "// Listen for the clearing of the current output cell\n",
       "var outputEl = gd.closest('.output');\n",
       "if (outputEl) {{\n",
       "    x.observe(outputEl, {childList: true});\n",
       "}}\n",
       "\n",
       "                        })\n",
       "                };\n",
       "                });\n",
       "            </script>\n",
       "        </div>"
      ]
     },
     "metadata": {},
     "output_type": "display_data"
    },
    {
     "name": "stdout",
     "output_type": "stream",
     "text": [
      "Like all pitcher plants, it is carnivorous and uses its nectar to attract insects that drown in the pitcher and are digested by the plant.\n"
     ]
    }
   ],
   "source": [
    "fig = go.Figure(\n",
    "    data=[edge_trace, node_trace, edge_info_node_trace],\n",
    "    layout=go.Layout(\n",
    "    title='<br>Network graph made with Python',\n",
    "    titlefont=dict(size=16),\n",
    "    showlegend=False,\n",
    "    hovermode='closest',\n",
    "    margin=dict(b=20,l=5,r=5,t=40),\n",
    "    annotations=[ dict(\n",
    "        text=\"\"\"\n",
    "        Python code: <a href='https://plot.ly/ipython-notebooks/network-graphs/'> \n",
    "        https://plot.ly/ipython-notebooks/network-graphs/</a>\"\"\",\n",
    "        showarrow=False,\n",
    "        xref=\"paper\", yref=\"paper\",\n",
    "        x=0.005, y=-0.002 ) ],\n",
    "    xaxis=dict(showgrid=False, zeroline=False, showticklabels=False),\n",
    "    yaxis=dict(showgrid=False, zeroline=False, showticklabels=False)))\n",
    "\n",
    "iplot(fig, filename='networkx')\n",
    "print(mrp_json.get('input'))"
   ]
  },
  {
   "cell_type": "code",
   "execution_count": null,
   "metadata": {},
   "outputs": [],
   "source": []
  },
  {
   "cell_type": "code",
   "execution_count": null,
   "metadata": {},
   "outputs": [],
   "source": []
  }
 ],
 "metadata": {
  "kernelspec": {
   "display_name": "Python 3",
   "language": "python",
   "name": "python3"
  },
  "language_info": {
   "codemirror_mode": {
    "name": "ipython",
    "version": 3
   },
   "file_extension": ".py",
   "mimetype": "text/x-python",
   "name": "python",
   "nbconvert_exporter": "python",
   "pygments_lexer": "ipython3",
   "version": "3.6.8"
  }
 },
 "nbformat": 4,
 "nbformat_minor": 2
}
